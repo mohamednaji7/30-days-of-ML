{
 "cells": [
  {
   "cell_type": "markdown",
   "id": "446bb650",
   "metadata": {
    "papermill": {
     "duration": 0.020129,
     "end_time": "2021-08-25T22:36:25.333116",
     "exception": false,
     "start_time": "2021-08-25T22:36:25.312987",
     "status": "completed"
    },
    "tags": []
   },
   "source": [
    "# XGB(one of the GLM family with Gradient Imp.): "
   ]
  },
  {
   "cell_type": "markdown",
   "id": "f30c8fb1",
   "metadata": {
    "papermill": {
     "duration": 0.018692,
     "end_time": "2021-08-25T22:36:25.371664",
     "exception": false,
     "start_time": "2021-08-25T22:36:25.352972",
     "status": "completed"
    },
    "tags": []
   },
   "source": [
    "# Prepare the environment "
   ]
  },
  {
   "cell_type": "code",
   "execution_count": 1,
   "id": "7647b9a8",
   "metadata": {
    "_cell_guid": "b1076dfc-b9ad-4769-8c92-a6c4dae69d19",
    "_uuid": "8f2839f25d086af736a60e9eeb907d3b93b6e0e5",
    "execution": {
     "iopub.execute_input": "2021-08-25T22:36:25.418573Z",
     "iopub.status.busy": "2021-08-25T22:36:25.417941Z",
     "iopub.status.idle": "2021-08-25T22:36:27.456961Z",
     "shell.execute_reply": "2021-08-25T22:36:27.457467Z",
     "shell.execute_reply.started": "2021-08-25T22:10:59.910703Z"
    },
    "papermill": {
     "duration": 2.066971,
     "end_time": "2021-08-25T22:36:27.457789",
     "exception": false,
     "start_time": "2021-08-25T22:36:25.390818",
     "status": "completed"
    },
    "tags": []
   },
   "outputs": [
    {
     "name": "stdout",
     "output_type": "stream",
     "text": [
      "/kaggle/input/30-days-of-ml/sample_submission.csv\n",
      "/kaggle/input/30-days-of-ml/train.csv\n",
      "/kaggle/input/30-days-of-ml/test.csv\n"
     ]
    }
   ],
   "source": [
    "import numpy as np # linear algebra\n",
    "import pandas as pd # data processing, CSV file I/O (e.g. pd.read_csv)\n",
    "\n",
    "from sklearn.metrics import mean_squared_error\n",
    "from sklearn.model_selection import train_test_split\n",
    "from sklearn.preprocessing import OrdinalEncoder\n",
    "from sklearn.preprocessing import OneHotEncoder\n",
    "from xgboost import XGBRegressor\n",
    "import optuna\n",
    "from sklearn import preprocessing\n",
    "from sklearn.model_selection import cross_val_score\n",
    "from sklearn.model_selection import StratifiedKFold\n",
    "\n",
    "\n",
    "\n",
    "\n",
    "# Input data files are available in the read-only \"../input/\" directory\n",
    "# For example, running this (by clicking run or pressing Shift+Enter) will list all files under the input directory\n",
    "\n",
    "import os\n",
    "for dirname, _, filenames in os.walk('/kaggle/input'):\n",
    "    for filename in filenames:\n",
    "        print(os.path.join(dirname, filename))\n",
    "\n",
    "# You can write up to 20GB to the current directory (/kaggle/working/) that gets preserved as output when you create a version using \"Save & Run All\" \n",
    "# You can also write temporary files to /kaggle/temp/, but they won't be saved outside of the current session"
   ]
  },
  {
   "cell_type": "markdown",
   "id": "d72eb5d4",
   "metadata": {
    "papermill": {
     "duration": 0.019176,
     "end_time": "2021-08-25T22:36:27.496804",
     "exception": false,
     "start_time": "2021-08-25T22:36:27.477628",
     "status": "completed"
    },
    "tags": []
   },
   "source": [
    "# Prepare the data\n",
    "data as X_train, X_valid, y_train, y_valid, **X, y, X_test**"
   ]
  },
  {
   "cell_type": "code",
   "execution_count": 2,
   "id": "833ddb14",
   "metadata": {
    "execution": {
     "iopub.execute_input": "2021-08-25T22:36:27.541419Z",
     "iopub.status.busy": "2021-08-25T22:36:27.540732Z",
     "iopub.status.idle": "2021-08-25T22:36:31.726439Z",
     "shell.execute_reply": "2021-08-25T22:36:31.725914Z",
     "shell.execute_reply.started": "2021-08-25T22:10:59.922432Z"
    },
    "papermill": {
     "duration": 4.210418,
     "end_time": "2021-08-25T22:36:31.726610",
     "exception": false,
     "start_time": "2021-08-25T22:36:27.516192",
     "status": "completed"
    },
    "tags": []
   },
   "outputs": [
    {
     "data": {
      "text/html": [
       "<div>\n",
       "<style scoped>\n",
       "    .dataframe tbody tr th:only-of-type {\n",
       "        vertical-align: middle;\n",
       "    }\n",
       "\n",
       "    .dataframe tbody tr th {\n",
       "        vertical-align: top;\n",
       "    }\n",
       "\n",
       "    .dataframe thead th {\n",
       "        text-align: right;\n",
       "    }\n",
       "</style>\n",
       "<table border=\"1\" class=\"dataframe\">\n",
       "  <thead>\n",
       "    <tr style=\"text-align: right;\">\n",
       "      <th></th>\n",
       "      <th>cat0</th>\n",
       "      <th>cat1</th>\n",
       "      <th>cat2</th>\n",
       "      <th>cat3</th>\n",
       "      <th>cat4</th>\n",
       "      <th>cat5</th>\n",
       "      <th>cat6</th>\n",
       "      <th>cat7</th>\n",
       "      <th>cat8</th>\n",
       "      <th>cat9</th>\n",
       "      <th>...</th>\n",
       "      <th>cont5</th>\n",
       "      <th>cont6</th>\n",
       "      <th>cont7</th>\n",
       "      <th>cont8</th>\n",
       "      <th>cont9</th>\n",
       "      <th>cont10</th>\n",
       "      <th>cont11</th>\n",
       "      <th>cont12</th>\n",
       "      <th>cont13</th>\n",
       "      <th>target</th>\n",
       "    </tr>\n",
       "    <tr>\n",
       "      <th>id</th>\n",
       "      <th></th>\n",
       "      <th></th>\n",
       "      <th></th>\n",
       "      <th></th>\n",
       "      <th></th>\n",
       "      <th></th>\n",
       "      <th></th>\n",
       "      <th></th>\n",
       "      <th></th>\n",
       "      <th></th>\n",
       "      <th></th>\n",
       "      <th></th>\n",
       "      <th></th>\n",
       "      <th></th>\n",
       "      <th></th>\n",
       "      <th></th>\n",
       "      <th></th>\n",
       "      <th></th>\n",
       "      <th></th>\n",
       "      <th></th>\n",
       "      <th></th>\n",
       "    </tr>\n",
       "  </thead>\n",
       "  <tbody>\n",
       "    <tr>\n",
       "      <th>1</th>\n",
       "      <td>B</td>\n",
       "      <td>B</td>\n",
       "      <td>B</td>\n",
       "      <td>C</td>\n",
       "      <td>B</td>\n",
       "      <td>B</td>\n",
       "      <td>A</td>\n",
       "      <td>E</td>\n",
       "      <td>C</td>\n",
       "      <td>N</td>\n",
       "      <td>...</td>\n",
       "      <td>0.400361</td>\n",
       "      <td>0.160266</td>\n",
       "      <td>0.310921</td>\n",
       "      <td>0.389470</td>\n",
       "      <td>0.267559</td>\n",
       "      <td>0.237281</td>\n",
       "      <td>0.377873</td>\n",
       "      <td>0.322401</td>\n",
       "      <td>0.869850</td>\n",
       "      <td>8.113634</td>\n",
       "    </tr>\n",
       "    <tr>\n",
       "      <th>2</th>\n",
       "      <td>B</td>\n",
       "      <td>B</td>\n",
       "      <td>A</td>\n",
       "      <td>A</td>\n",
       "      <td>B</td>\n",
       "      <td>D</td>\n",
       "      <td>A</td>\n",
       "      <td>F</td>\n",
       "      <td>A</td>\n",
       "      <td>O</td>\n",
       "      <td>...</td>\n",
       "      <td>0.533087</td>\n",
       "      <td>0.558922</td>\n",
       "      <td>0.516294</td>\n",
       "      <td>0.594928</td>\n",
       "      <td>0.341439</td>\n",
       "      <td>0.906013</td>\n",
       "      <td>0.921701</td>\n",
       "      <td>0.261975</td>\n",
       "      <td>0.465083</td>\n",
       "      <td>8.481233</td>\n",
       "    </tr>\n",
       "    <tr>\n",
       "      <th>3</th>\n",
       "      <td>A</td>\n",
       "      <td>A</td>\n",
       "      <td>A</td>\n",
       "      <td>C</td>\n",
       "      <td>B</td>\n",
       "      <td>D</td>\n",
       "      <td>A</td>\n",
       "      <td>D</td>\n",
       "      <td>A</td>\n",
       "      <td>F</td>\n",
       "      <td>...</td>\n",
       "      <td>0.650609</td>\n",
       "      <td>0.375348</td>\n",
       "      <td>0.902567</td>\n",
       "      <td>0.555205</td>\n",
       "      <td>0.843531</td>\n",
       "      <td>0.748809</td>\n",
       "      <td>0.620126</td>\n",
       "      <td>0.541474</td>\n",
       "      <td>0.763846</td>\n",
       "      <td>8.364351</td>\n",
       "    </tr>\n",
       "    <tr>\n",
       "      <th>4</th>\n",
       "      <td>B</td>\n",
       "      <td>B</td>\n",
       "      <td>A</td>\n",
       "      <td>C</td>\n",
       "      <td>B</td>\n",
       "      <td>D</td>\n",
       "      <td>A</td>\n",
       "      <td>E</td>\n",
       "      <td>C</td>\n",
       "      <td>K</td>\n",
       "      <td>...</td>\n",
       "      <td>0.668980</td>\n",
       "      <td>0.239061</td>\n",
       "      <td>0.732948</td>\n",
       "      <td>0.679618</td>\n",
       "      <td>0.574844</td>\n",
       "      <td>0.346010</td>\n",
       "      <td>0.714610</td>\n",
       "      <td>0.540150</td>\n",
       "      <td>0.280682</td>\n",
       "      <td>8.049253</td>\n",
       "    </tr>\n",
       "    <tr>\n",
       "      <th>6</th>\n",
       "      <td>A</td>\n",
       "      <td>A</td>\n",
       "      <td>A</td>\n",
       "      <td>C</td>\n",
       "      <td>B</td>\n",
       "      <td>D</td>\n",
       "      <td>A</td>\n",
       "      <td>E</td>\n",
       "      <td>A</td>\n",
       "      <td>N</td>\n",
       "      <td>...</td>\n",
       "      <td>0.686964</td>\n",
       "      <td>0.420667</td>\n",
       "      <td>0.648182</td>\n",
       "      <td>0.684501</td>\n",
       "      <td>0.956692</td>\n",
       "      <td>1.000773</td>\n",
       "      <td>0.776742</td>\n",
       "      <td>0.625849</td>\n",
       "      <td>0.250823</td>\n",
       "      <td>7.972260</td>\n",
       "    </tr>\n",
       "  </tbody>\n",
       "</table>\n",
       "<p>5 rows × 25 columns</p>\n",
       "</div>"
      ],
      "text/plain": [
       "   cat0 cat1 cat2 cat3 cat4 cat5 cat6 cat7 cat8 cat9  ...     cont5     cont6  \\\n",
       "id                                                    ...                       \n",
       "1     B    B    B    C    B    B    A    E    C    N  ...  0.400361  0.160266   \n",
       "2     B    B    A    A    B    D    A    F    A    O  ...  0.533087  0.558922   \n",
       "3     A    A    A    C    B    D    A    D    A    F  ...  0.650609  0.375348   \n",
       "4     B    B    A    C    B    D    A    E    C    K  ...  0.668980  0.239061   \n",
       "6     A    A    A    C    B    D    A    E    A    N  ...  0.686964  0.420667   \n",
       "\n",
       "       cont7     cont8     cont9    cont10    cont11    cont12    cont13  \\\n",
       "id                                                                         \n",
       "1   0.310921  0.389470  0.267559  0.237281  0.377873  0.322401  0.869850   \n",
       "2   0.516294  0.594928  0.341439  0.906013  0.921701  0.261975  0.465083   \n",
       "3   0.902567  0.555205  0.843531  0.748809  0.620126  0.541474  0.763846   \n",
       "4   0.732948  0.679618  0.574844  0.346010  0.714610  0.540150  0.280682   \n",
       "6   0.648182  0.684501  0.956692  1.000773  0.776742  0.625849  0.250823   \n",
       "\n",
       "      target  \n",
       "id            \n",
       "1   8.113634  \n",
       "2   8.481233  \n",
       "3   8.364351  \n",
       "4   8.049253  \n",
       "6   7.972260  \n",
       "\n",
       "[5 rows x 25 columns]"
      ]
     },
     "execution_count": 2,
     "metadata": {},
     "output_type": "execute_result"
    }
   ],
   "source": [
    "train = pd.read_csv(\"../input/30-days-of-ml/train.csv\", index_col=0)\n",
    "test = pd.read_csv(\"../input/30-days-of-ml/test.csv\", index_col=0)\n",
    "\n",
    "train.head()"
   ]
  },
  {
   "cell_type": "code",
   "execution_count": 3,
   "id": "236961d6",
   "metadata": {
    "execution": {
     "iopub.execute_input": "2021-08-25T22:36:31.771596Z",
     "iopub.status.busy": "2021-08-25T22:36:31.770920Z",
     "iopub.status.idle": "2021-08-25T22:36:31.892913Z",
     "shell.execute_reply": "2021-08-25T22:36:31.892244Z",
     "shell.execute_reply.started": "2021-08-25T22:11:01.71437Z"
    },
    "papermill": {
     "duration": 0.146153,
     "end_time": "2021-08-25T22:36:31.893055",
     "exception": false,
     "start_time": "2021-08-25T22:36:31.746902",
     "status": "completed"
    },
    "tags": []
   },
   "outputs": [],
   "source": [
    "X_test = test.copy()\n",
    "y = train['target']\n",
    "X =  train.drop(['target'], axis=1).copy()"
   ]
  },
  {
   "cell_type": "markdown",
   "id": "03ad7576",
   "metadata": {
    "papermill": {
     "duration": 0.020277,
     "end_time": "2021-08-25T22:36:31.933687",
     "exception": false,
     "start_time": "2021-08-25T22:36:31.913410",
     "status": "completed"
    },
    "tags": []
   },
   "source": [
    "**Continuos Features Normlization**"
   ]
  },
  {
   "cell_type": "code",
   "execution_count": 4,
   "id": "35db2699",
   "metadata": {
    "execution": {
     "iopub.execute_input": "2021-08-25T22:36:31.980977Z",
     "iopub.status.busy": "2021-08-25T22:36:31.979812Z",
     "iopub.status.idle": "2021-08-25T22:36:31.982015Z",
     "shell.execute_reply": "2021-08-25T22:36:31.982495Z",
     "shell.execute_reply.started": "2021-08-25T22:11:01.787439Z"
    },
    "papermill": {
     "duration": 0.027546,
     "end_time": "2021-08-25T22:36:31.982702",
     "exception": false,
     "start_time": "2021-08-25T22:36:31.955156",
     "status": "completed"
    },
    "tags": []
   },
   "outputs": [],
   "source": [
    "def feature_norm_count(X):\n",
    "    # mormlize the count X_data feature to learn faster\n",
    "    pass"
   ]
  },
  {
   "cell_type": "code",
   "execution_count": 5,
   "id": "5df46e56",
   "metadata": {
    "execution": {
     "iopub.execute_input": "2021-08-25T22:36:32.027451Z",
     "iopub.status.busy": "2021-08-25T22:36:32.026820Z",
     "iopub.status.idle": "2021-08-25T22:36:32.030323Z",
     "shell.execute_reply": "2021-08-25T22:36:32.029835Z",
     "shell.execute_reply.started": "2021-08-25T22:11:01.794005Z"
    },
    "papermill": {
     "duration": 0.02768,
     "end_time": "2021-08-25T22:36:32.030489",
     "exception": false,
     "start_time": "2021-08-25T22:36:32.002809",
     "status": "completed"
    },
    "tags": []
   },
   "outputs": [],
   "source": [
    "# feature_norm_count(X)"
   ]
  },
  {
   "cell_type": "markdown",
   "id": "938443d0",
   "metadata": {
    "papermill": {
     "duration": 0.019665,
     "end_time": "2021-08-25T22:36:32.070361",
     "exception": false,
     "start_time": "2021-08-25T22:36:32.050696",
     "status": "completed"
    },
    "tags": []
   },
   "source": [
    "**1 - droping the bad labels data**"
   ]
  },
  {
   "cell_type": "code",
   "execution_count": 6,
   "id": "d3c02214",
   "metadata": {
    "execution": {
     "iopub.execute_input": "2021-08-25T22:36:32.253373Z",
     "iopub.status.busy": "2021-08-25T22:36:32.230885Z",
     "iopub.status.idle": "2021-08-25T22:36:32.771915Z",
     "shell.execute_reply": "2021-08-25T22:36:32.772396Z",
     "shell.execute_reply.started": "2021-08-25T22:11:01.802661Z"
    },
    "papermill": {
     "duration": 0.681698,
     "end_time": "2021-08-25T22:36:32.772608",
     "exception": false,
     "start_time": "2021-08-25T22:36:32.090910",
     "status": "completed"
    },
    "tags": []
   },
   "outputs": [],
   "source": [
    "\n",
    "cat_cols = [col for col in X.columns if X[col].dtype == 'object']\n",
    "    \n",
    "good_cat_cols = [col for col in cat_cols if set(X_test[col]).issubset(set(X[col]))]\n",
    "bad_cat_cols = list( set(cat_cols) - set(good_cat_cols) )\n",
    "\n",
    "X = X.drop(bad_cat_cols, axis=1)\n",
    "X_test = X_test.drop(bad_cat_cols, axis=1)"
   ]
  },
  {
   "cell_type": "markdown",
   "id": "6f951c02",
   "metadata": {
    "papermill": {
     "duration": 0.020468,
     "end_time": "2021-08-25T22:36:32.813288",
     "exception": false,
     "start_time": "2021-08-25T22:36:32.792820",
     "status": "completed"
    },
    "tags": []
   },
   "source": [
    "**2 - 1-hot encoding for the low cardinality data**"
   ]
  },
  {
   "cell_type": "code",
   "execution_count": 7,
   "id": "1c6f9a80",
   "metadata": {
    "execution": {
     "iopub.execute_input": "2021-08-25T22:36:32.891371Z",
     "iopub.status.busy": "2021-08-25T22:36:32.890080Z",
     "iopub.status.idle": "2021-08-25T22:36:33.379018Z",
     "shell.execute_reply": "2021-08-25T22:36:33.378030Z",
     "shell.execute_reply.started": "2021-08-25T22:11:02.360297Z"
    },
    "papermill": {
     "duration": 0.544983,
     "end_time": "2021-08-25T22:36:33.379242",
     "exception": false,
     "start_time": "2021-08-25T22:36:32.834259",
     "status": "completed"
    },
    "tags": []
   },
   "outputs": [
    {
     "name": "stdout",
     "output_type": "stream",
     "text": [
      "(300000, 24)\n"
     ]
    },
    {
     "data": {
      "text/plain": [
       "[('cat0', 2),\n",
       " ('cat1', 2),\n",
       " ('cat2', 2),\n",
       " ('cat3', 4),\n",
       " ('cat4', 4),\n",
       " ('cat5', 4),\n",
       " ('cat8', 7),\n",
       " ('cat6', 8),\n",
       " ('cat7', 8),\n",
       " ('cat9', 15)]"
      ]
     },
     "execution_count": 7,
     "metadata": {},
     "output_type": "execute_result"
    }
   ],
   "source": [
    "#Investing the training data\n",
    "# Get number of unique entries in each column with categorical data\n",
    "object_nunique = list(map(lambda col: X[col].nunique(), cat_cols))\n",
    "d = dict(zip(cat_cols, object_nunique))\n",
    "# print X shape\n",
    "print(X.shape)\n",
    "# Print number of unique entries by column, in ascending order\n",
    "sorted(d.items(), key=lambda x: x[1])\n"
   ]
  },
  {
   "cell_type": "code",
   "execution_count": 8,
   "id": "eb5ca437",
   "metadata": {
    "execution": {
     "iopub.execute_input": "2021-08-25T22:36:33.427906Z",
     "iopub.status.busy": "2021-08-25T22:36:33.427252Z",
     "iopub.status.idle": "2021-08-25T22:36:33.430073Z",
     "shell.execute_reply": "2021-08-25T22:36:33.430672Z",
     "shell.execute_reply.started": "2021-08-25T22:11:02.891665Z"
    },
    "papermill": {
     "duration": 0.029686,
     "end_time": "2021-08-25T22:36:33.430831",
     "exception": false,
     "start_time": "2021-08-25T22:36:33.401145",
     "status": "completed"
    },
    "tags": []
   },
   "outputs": [
    {
     "name": "stdout",
     "output_type": "stream",
     "text": [
      "new entries to add: 9.9 M\n"
     ]
    }
   ],
   "source": [
    "d.pop('cat9')\n",
    "d.pop('cat8')\n",
    "un = sum([item[1] for item in d.items() ])\n",
    "new = (un-1)*X.shape[0]  / 1000000\n",
    "print(\"new entries to add:\",new,\"M\")"
   ]
  },
  {
   "cell_type": "markdown",
   "id": "8c217496",
   "metadata": {
    "papermill": {
     "duration": 0.020709,
     "end_time": "2021-08-25T22:36:33.472630",
     "exception": false,
     "start_time": "2021-08-25T22:36:33.451921",
     "status": "completed"
    },
    "tags": []
   },
   "source": [
    "1-hot"
   ]
  },
  {
   "cell_type": "code",
   "execution_count": 9,
   "id": "4c8be236",
   "metadata": {
    "execution": {
     "iopub.execute_input": "2021-08-25T22:36:33.518697Z",
     "iopub.status.busy": "2021-08-25T22:36:33.518053Z",
     "iopub.status.idle": "2021-08-25T22:36:35.934120Z",
     "shell.execute_reply": "2021-08-25T22:36:35.933508Z",
     "shell.execute_reply.started": "2021-08-25T22:11:02.901628Z"
    },
    "papermill": {
     "duration": 2.44055,
     "end_time": "2021-08-25T22:36:35.934255",
     "exception": false,
     "start_time": "2021-08-25T22:36:33.493705",
     "status": "completed"
    },
    "tags": []
   },
   "outputs": [],
   "source": [
    "cat_cols = [col for col in X.columns if X[col].dtype == 'object']\n",
    "low_cardinality_cols = [col for col in cat_cols if X[col].nunique() < 8]\n",
    "OH_encoder = OneHotEncoder(handle_unknown='ignore', sparse=False)\n",
    "\n",
    "OH_cols_X = pd.DataFrame(OH_encoder.fit_transform(X[low_cardinality_cols]))\n",
    "OH_cols_X_test = pd.DataFrame(OH_encoder.fit_transform(X_test[low_cardinality_cols]))\n",
    "\n",
    "# One-hot encoding removed index; put it back\n",
    "OH_cols_X.index = X.index\n",
    "OH_cols_X_test.index = X_test.index\n",
    "\n",
    "# Remove categorical columns (will replace with one-hot encoding)\n",
    "num_X = X.drop(low_cardinality_cols, axis=1)\n",
    "num_X_test = X_test.drop(low_cardinality_cols, axis=1)\n",
    "\n",
    "# Add one-hot encoded columns to numerical features\n",
    "X = pd.concat([num_X, OH_cols_X], axis=1)\n",
    "X_test = pd.concat([num_X_test, OH_cols_X_test], axis=1)"
   ]
  },
  {
   "cell_type": "markdown",
   "id": "6fce1e2e",
   "metadata": {
    "papermill": {
     "duration": 0.02113,
     "end_time": "2021-08-25T22:36:35.976977",
     "exception": false,
     "start_time": "2021-08-25T22:36:35.955847",
     "status": "completed"
    },
    "tags": []
   },
   "source": [
    "**2 - oridnal encoding for the high cardinality data**"
   ]
  },
  {
   "cell_type": "code",
   "execution_count": 10,
   "id": "73f3b30d",
   "metadata": {
    "execution": {
     "iopub.execute_input": "2021-08-25T22:36:36.027862Z",
     "iopub.status.busy": "2021-08-25T22:36:36.027188Z",
     "iopub.status.idle": "2021-08-25T22:36:37.204709Z",
     "shell.execute_reply": "2021-08-25T22:36:37.204164Z",
     "shell.execute_reply.started": "2021-08-25T22:11:05.035793Z"
    },
    "papermill": {
     "duration": 1.206913,
     "end_time": "2021-08-25T22:36:37.204853",
     "exception": false,
     "start_time": "2021-08-25T22:36:35.997940",
     "status": "completed"
    },
    "tags": []
   },
   "outputs": [],
   "source": [
    "cat_cols = [col for col in X.columns if X[col].dtype == 'object']\n",
    "ord_encoder = OrdinalEncoder()\n",
    "X[cat_cols] = ord_encoder.fit_transform(X[cat_cols])\n",
    "X_test[cat_cols] = ord_encoder.fit_transform(X_test[cat_cols])"
   ]
  },
  {
   "cell_type": "markdown",
   "id": "22a4b2d3",
   "metadata": {
    "papermill": {
     "duration": 0.021251,
     "end_time": "2021-08-25T22:36:37.247950",
     "exception": false,
     "start_time": "2021-08-25T22:36:37.226699",
     "status": "completed"
    },
    "tags": []
   },
   "source": [
    "**splitting the data**\n",
    "data as X_train, X_valid, y_train, y_valid, **X, y, X_test**"
   ]
  },
  {
   "cell_type": "code",
   "execution_count": 11,
   "id": "6a4bac88",
   "metadata": {
    "execution": {
     "iopub.execute_input": "2021-08-25T22:36:37.295282Z",
     "iopub.status.busy": "2021-08-25T22:36:37.294640Z",
     "iopub.status.idle": "2021-08-25T22:36:37.492245Z",
     "shell.execute_reply": "2021-08-25T22:36:37.493271Z",
     "shell.execute_reply.started": "2021-08-25T22:11:06.043044Z"
    },
    "papermill": {
     "duration": 0.224631,
     "end_time": "2021-08-25T22:36:37.493461",
     "exception": false,
     "start_time": "2021-08-25T22:36:37.268830",
     "status": "completed"
    },
    "tags": []
   },
   "outputs": [],
   "source": [
    "# splitting the data\n",
    "X_train, X_valid, y_train, y_valid = train_test_split(X, y, random_state=1) "
   ]
  },
  {
   "cell_type": "markdown",
   "id": "659a77cc",
   "metadata": {
    "papermill": {
     "duration": 0.021028,
     "end_time": "2021-08-25T22:36:37.535479",
     "exception": false,
     "start_time": "2021-08-25T22:36:37.514451",
     "status": "completed"
    },
    "tags": []
   },
   "source": [
    "# Features Eng."
   ]
  },
  {
   "cell_type": "markdown",
   "id": "0dc9b200",
   "metadata": {
    "papermill": {
     "duration": 0.020624,
     "end_time": "2021-08-25T22:36:37.577378",
     "exception": false,
     "start_time": "2021-08-25T22:36:37.556754",
     "status": "completed"
    },
    "tags": []
   },
   "source": [
    "# Tuninig"
   ]
  },
  {
   "cell_type": "code",
   "execution_count": 12,
   "id": "f3bfe0e1",
   "metadata": {
    "execution": {
     "iopub.execute_input": "2021-08-25T22:36:37.624591Z",
     "iopub.status.busy": "2021-08-25T22:36:37.623863Z",
     "iopub.status.idle": "2021-08-25T22:36:37.626633Z",
     "shell.execute_reply": "2021-08-25T22:36:37.626162Z",
     "shell.execute_reply.started": "2021-08-25T22:11:06.228827Z"
    },
    "papermill": {
     "duration": 0.028596,
     "end_time": "2021-08-25T22:36:37.626783",
     "exception": false,
     "start_time": "2021-08-25T22:36:37.598187",
     "status": "completed"
    },
    "tags": []
   },
   "outputs": [],
   "source": [
    "best_para = {'learning_rate': 0.09739156815144875, 'reg_lambda': 1.9383336479859923e-05,\n",
    "             'reg_alpha': 24.134445292436887, 'subsample': 0.9936134241222736,\n",
    "             'colsample_bytree': 0.16484879725660215, 'max_depth': 5}"
   ]
  },
  {
   "cell_type": "markdown",
   "id": "0afed0e3",
   "metadata": {
    "papermill": {
     "duration": 0.021036,
     "end_time": "2021-08-25T22:36:37.668764",
     "exception": false,
     "start_time": "2021-08-25T22:36:37.647728",
     "status": "completed"
    },
    "tags": []
   },
   "source": [
    "# Train"
   ]
  },
  {
   "cell_type": "code",
   "execution_count": 13,
   "id": "3a2d7429",
   "metadata": {
    "execution": {
     "iopub.execute_input": "2021-08-25T22:36:37.718741Z",
     "iopub.status.busy": "2021-08-25T22:36:37.718117Z",
     "iopub.status.idle": "2021-08-25T22:39:15.182213Z",
     "shell.execute_reply": "2021-08-25T22:39:15.182735Z",
     "shell.execute_reply.started": "2021-08-25T22:11:06.235376Z"
    },
    "papermill": {
     "duration": 157.492955,
     "end_time": "2021-08-25T22:39:15.182913",
     "exception": false,
     "start_time": "2021-08-25T22:36:37.689958",
     "status": "completed"
    },
    "tags": []
   },
   "outputs": [
    {
     "data": {
      "text/plain": [
       "XGBRegressor(base_score=0.5, booster='gbtree', colsample_bylevel=1,\n",
       "             colsample_bynode=1, colsample_bytree=0.16484879725660215, gamma=0,\n",
       "             gpu_id=-1, importance_type='gain', interaction_constraints='',\n",
       "             learning_rate=0.09739156815144875, max_delta_step=0, max_depth=5,\n",
       "             min_child_weight=1, missing=nan, monotone_constraints='()',\n",
       "             n_estimators=1000, n_jobs=4, num_parallel_tree=1, random_state=0,\n",
       "             reg_alpha=24.134445292436887, reg_lambda=1.9383336479859923e-05,\n",
       "             scale_pos_weight=1, subsample=0.9936134241222736,\n",
       "             tree_method='exact', validate_parameters=1, verbosity=None)"
      ]
     },
     "execution_count": 13,
     "metadata": {},
     "output_type": "execute_result"
    }
   ],
   "source": [
    "# Define the model\n",
    "model = XGBRegressor(random_state = 0, n_estimators = 1000, n_jobs =4, **best_para)\n",
    "\n",
    "# Fit the model\n",
    "model.fit(X, y, early_stopping_rounds = 5, eval_set=[(X_valid, y_valid)], verbose = False)\n"
   ]
  },
  {
   "cell_type": "markdown",
   "id": "252707f6",
   "metadata": {
    "papermill": {
     "duration": 0.021649,
     "end_time": "2021-08-25T22:39:15.225999",
     "exception": false,
     "start_time": "2021-08-25T22:39:15.204350",
     "status": "completed"
    },
    "tags": []
   },
   "source": [
    "# predictions "
   ]
  },
  {
   "cell_type": "code",
   "execution_count": 14,
   "id": "b31f58b3",
   "metadata": {
    "execution": {
     "iopub.execute_input": "2021-08-25T22:39:15.272086Z",
     "iopub.status.busy": "2021-08-25T22:39:15.271455Z",
     "iopub.status.idle": "2021-08-25T22:39:16.840919Z",
     "shell.execute_reply": "2021-08-25T22:39:16.842387Z",
     "shell.execute_reply.started": "2021-08-25T22:11:35.543294Z"
    },
    "papermill": {
     "duration": 1.595012,
     "end_time": "2021-08-25T22:39:16.842661",
     "exception": false,
     "start_time": "2021-08-25T22:39:15.247649",
     "status": "completed"
    },
    "tags": []
   },
   "outputs": [],
   "source": [
    "predictions = model.predict(X_test)"
   ]
  },
  {
   "cell_type": "markdown",
   "id": "16af0a9b",
   "metadata": {
    "papermill": {
     "duration": 0.02106,
     "end_time": "2021-08-25T22:39:16.886252",
     "exception": false,
     "start_time": "2021-08-25T22:39:16.865192",
     "status": "completed"
    },
    "tags": []
   },
   "source": [
    "# Submit"
   ]
  },
  {
   "cell_type": "code",
   "execution_count": 15,
   "id": "37aa2d78",
   "metadata": {
    "execution": {
     "iopub.execute_input": "2021-08-25T22:39:16.935785Z",
     "iopub.status.busy": "2021-08-25T22:39:16.935114Z",
     "iopub.status.idle": "2021-08-25T22:39:17.510222Z",
     "shell.execute_reply": "2021-08-25T22:39:17.509581Z",
     "shell.execute_reply.started": "2021-08-25T22:11:36.065223Z"
    },
    "papermill": {
     "duration": 0.602751,
     "end_time": "2021-08-25T22:39:17.510364",
     "exception": false,
     "start_time": "2021-08-25T22:39:16.907613",
     "status": "completed"
    },
    "tags": []
   },
   "outputs": [],
   "source": [
    "# Save the predictions to a CSV file\n",
    "output = pd.DataFrame({'Id': X_test.index,\n",
    "                       'target': predictions})\n",
    "output.to_csv('submission.csv', index=False)"
   ]
  }
 ],
 "metadata": {
  "kernelspec": {
   "display_name": "Python 3",
   "language": "python",
   "name": "python3"
  },
  "language_info": {
   "codemirror_mode": {
    "name": "ipython",
    "version": 3
   },
   "file_extension": ".py",
   "mimetype": "text/x-python",
   "name": "python",
   "nbconvert_exporter": "python",
   "pygments_lexer": "ipython3",
   "version": "3.7.10"
  },
  "papermill": {
   "default_parameters": {},
   "duration": 181.81609,
   "end_time": "2021-08-25T22:39:19.227639",
   "environment_variables": {},
   "exception": null,
   "input_path": "__notebook__.ipynb",
   "output_path": "__notebook__.ipynb",
   "parameters": {},
   "start_time": "2021-08-25T22:36:17.411549",
   "version": "2.3.3"
  }
 },
 "nbformat": 4,
 "nbformat_minor": 5
}

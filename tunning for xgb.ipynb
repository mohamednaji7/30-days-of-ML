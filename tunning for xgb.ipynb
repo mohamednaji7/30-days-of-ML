{
 "cells": [
  {
   "cell_type": "markdown",
   "id": "05abdd87",
   "metadata": {
    "papermill": {
     "duration": 0.022914,
     "end_time": "2021-08-25T20:11:07.976661",
     "exception": false,
     "start_time": "2021-08-25T20:11:07.953747",
     "status": "completed"
    },
    "tags": []
   },
   "source": [
    "# XGB(one of the GLM family with Gradient Imp.): "
   ]
  },
  {
   "cell_type": "markdown",
   "id": "f80a779f",
   "metadata": {
    "papermill": {
     "duration": 0.019011,
     "end_time": "2021-08-25T20:11:08.015217",
     "exception": false,
     "start_time": "2021-08-25T20:11:07.996206",
     "status": "completed"
    },
    "tags": []
   },
   "source": [
    "# Prepare the environment "
   ]
  },
  {
   "cell_type": "code",
   "execution_count": 1,
   "id": "da1ec4a1",
   "metadata": {
    "_cell_guid": "b1076dfc-b9ad-4769-8c92-a6c4dae69d19",
    "_uuid": "8f2839f25d086af736a60e9eeb907d3b93b6e0e5",
    "execution": {
     "iopub.execute_input": "2021-08-25T20:11:08.059478Z",
     "iopub.status.busy": "2021-08-25T20:11:08.057958Z",
     "iopub.status.idle": "2021-08-25T20:11:09.901329Z",
     "shell.execute_reply": "2021-08-25T20:11:09.900716Z",
     "shell.execute_reply.started": "2021-08-25T20:08:50.155636Z"
    },
    "papermill": {
     "duration": 1.866872,
     "end_time": "2021-08-25T20:11:09.901474",
     "exception": false,
     "start_time": "2021-08-25T20:11:08.034602",
     "status": "completed"
    },
    "tags": []
   },
   "outputs": [
    {
     "name": "stdout",
     "output_type": "stream",
     "text": [
      "/kaggle/input/30-days-of-ml/sample_submission.csv\n",
      "/kaggle/input/30-days-of-ml/train.csv\n",
      "/kaggle/input/30-days-of-ml/test.csv\n"
     ]
    }
   ],
   "source": [
    "import numpy as np # linear algebra\n",
    "import pandas as pd # data processing, CSV file I/O (e.g. pd.read_csv)\n",
    "\n",
    "from sklearn.metrics import mean_squared_error\n",
    "from sklearn.model_selection import train_test_split\n",
    "from sklearn.preprocessing import OrdinalEncoder\n",
    "from sklearn.preprocessing import OneHotEncoder\n",
    "from xgboost import XGBRegressor\n",
    "import optuna\n",
    "from sklearn import preprocessing\n",
    "from sklearn.model_selection import cross_val_score\n",
    "from sklearn.model_selection import StratifiedKFold\n",
    "\n",
    "\n",
    "\n",
    "\n",
    "# Input data files are available in the read-only \"../input/\" directory\n",
    "# For example, running this (by clicking run or pressing Shift+Enter) will list all files under the input directory\n",
    "\n",
    "import os\n",
    "for dirname, _, filenames in os.walk('/kaggle/input'):\n",
    "    for filename in filenames:\n",
    "        print(os.path.join(dirname, filename))\n",
    "\n",
    "# You can write up to 20GB to the current directory (/kaggle/working/) that gets preserved as output when you create a version using \"Save & Run All\" \n",
    "# You can also write temporary files to /kaggle/temp/, but they won't be saved outside of the current session"
   ]
  },
  {
   "cell_type": "markdown",
   "id": "ae29ec43",
   "metadata": {
    "papermill": {
     "duration": 0.018857,
     "end_time": "2021-08-25T20:11:09.939807",
     "exception": false,
     "start_time": "2021-08-25T20:11:09.920950",
     "status": "completed"
    },
    "tags": []
   },
   "source": [
    "# Prepare the data\n",
    "data as X_train, X_valid, y_train, y_valid, **X, y, X_test**"
   ]
  },
  {
   "cell_type": "code",
   "execution_count": 2,
   "id": "50a6986d",
   "metadata": {
    "execution": {
     "iopub.execute_input": "2021-08-25T20:11:09.982481Z",
     "iopub.status.busy": "2021-08-25T20:11:09.981768Z",
     "iopub.status.idle": "2021-08-25T20:11:13.548969Z",
     "shell.execute_reply": "2021-08-25T20:11:13.548487Z",
     "shell.execute_reply.started": "2021-08-25T20:08:50.170804Z"
    },
    "papermill": {
     "duration": 3.590107,
     "end_time": "2021-08-25T20:11:13.549118",
     "exception": false,
     "start_time": "2021-08-25T20:11:09.959011",
     "status": "completed"
    },
    "tags": []
   },
   "outputs": [
    {
     "data": {
      "text/html": [
       "<div>\n",
       "<style scoped>\n",
       "    .dataframe tbody tr th:only-of-type {\n",
       "        vertical-align: middle;\n",
       "    }\n",
       "\n",
       "    .dataframe tbody tr th {\n",
       "        vertical-align: top;\n",
       "    }\n",
       "\n",
       "    .dataframe thead th {\n",
       "        text-align: right;\n",
       "    }\n",
       "</style>\n",
       "<table border=\"1\" class=\"dataframe\">\n",
       "  <thead>\n",
       "    <tr style=\"text-align: right;\">\n",
       "      <th></th>\n",
       "      <th>cat0</th>\n",
       "      <th>cat1</th>\n",
       "      <th>cat2</th>\n",
       "      <th>cat3</th>\n",
       "      <th>cat4</th>\n",
       "      <th>cat5</th>\n",
       "      <th>cat6</th>\n",
       "      <th>cat7</th>\n",
       "      <th>cat8</th>\n",
       "      <th>cat9</th>\n",
       "      <th>...</th>\n",
       "      <th>cont5</th>\n",
       "      <th>cont6</th>\n",
       "      <th>cont7</th>\n",
       "      <th>cont8</th>\n",
       "      <th>cont9</th>\n",
       "      <th>cont10</th>\n",
       "      <th>cont11</th>\n",
       "      <th>cont12</th>\n",
       "      <th>cont13</th>\n",
       "      <th>target</th>\n",
       "    </tr>\n",
       "    <tr>\n",
       "      <th>id</th>\n",
       "      <th></th>\n",
       "      <th></th>\n",
       "      <th></th>\n",
       "      <th></th>\n",
       "      <th></th>\n",
       "      <th></th>\n",
       "      <th></th>\n",
       "      <th></th>\n",
       "      <th></th>\n",
       "      <th></th>\n",
       "      <th></th>\n",
       "      <th></th>\n",
       "      <th></th>\n",
       "      <th></th>\n",
       "      <th></th>\n",
       "      <th></th>\n",
       "      <th></th>\n",
       "      <th></th>\n",
       "      <th></th>\n",
       "      <th></th>\n",
       "      <th></th>\n",
       "    </tr>\n",
       "  </thead>\n",
       "  <tbody>\n",
       "    <tr>\n",
       "      <th>1</th>\n",
       "      <td>B</td>\n",
       "      <td>B</td>\n",
       "      <td>B</td>\n",
       "      <td>C</td>\n",
       "      <td>B</td>\n",
       "      <td>B</td>\n",
       "      <td>A</td>\n",
       "      <td>E</td>\n",
       "      <td>C</td>\n",
       "      <td>N</td>\n",
       "      <td>...</td>\n",
       "      <td>0.400361</td>\n",
       "      <td>0.160266</td>\n",
       "      <td>0.310921</td>\n",
       "      <td>0.389470</td>\n",
       "      <td>0.267559</td>\n",
       "      <td>0.237281</td>\n",
       "      <td>0.377873</td>\n",
       "      <td>0.322401</td>\n",
       "      <td>0.869850</td>\n",
       "      <td>8.113634</td>\n",
       "    </tr>\n",
       "    <tr>\n",
       "      <th>2</th>\n",
       "      <td>B</td>\n",
       "      <td>B</td>\n",
       "      <td>A</td>\n",
       "      <td>A</td>\n",
       "      <td>B</td>\n",
       "      <td>D</td>\n",
       "      <td>A</td>\n",
       "      <td>F</td>\n",
       "      <td>A</td>\n",
       "      <td>O</td>\n",
       "      <td>...</td>\n",
       "      <td>0.533087</td>\n",
       "      <td>0.558922</td>\n",
       "      <td>0.516294</td>\n",
       "      <td>0.594928</td>\n",
       "      <td>0.341439</td>\n",
       "      <td>0.906013</td>\n",
       "      <td>0.921701</td>\n",
       "      <td>0.261975</td>\n",
       "      <td>0.465083</td>\n",
       "      <td>8.481233</td>\n",
       "    </tr>\n",
       "    <tr>\n",
       "      <th>3</th>\n",
       "      <td>A</td>\n",
       "      <td>A</td>\n",
       "      <td>A</td>\n",
       "      <td>C</td>\n",
       "      <td>B</td>\n",
       "      <td>D</td>\n",
       "      <td>A</td>\n",
       "      <td>D</td>\n",
       "      <td>A</td>\n",
       "      <td>F</td>\n",
       "      <td>...</td>\n",
       "      <td>0.650609</td>\n",
       "      <td>0.375348</td>\n",
       "      <td>0.902567</td>\n",
       "      <td>0.555205</td>\n",
       "      <td>0.843531</td>\n",
       "      <td>0.748809</td>\n",
       "      <td>0.620126</td>\n",
       "      <td>0.541474</td>\n",
       "      <td>0.763846</td>\n",
       "      <td>8.364351</td>\n",
       "    </tr>\n",
       "    <tr>\n",
       "      <th>4</th>\n",
       "      <td>B</td>\n",
       "      <td>B</td>\n",
       "      <td>A</td>\n",
       "      <td>C</td>\n",
       "      <td>B</td>\n",
       "      <td>D</td>\n",
       "      <td>A</td>\n",
       "      <td>E</td>\n",
       "      <td>C</td>\n",
       "      <td>K</td>\n",
       "      <td>...</td>\n",
       "      <td>0.668980</td>\n",
       "      <td>0.239061</td>\n",
       "      <td>0.732948</td>\n",
       "      <td>0.679618</td>\n",
       "      <td>0.574844</td>\n",
       "      <td>0.346010</td>\n",
       "      <td>0.714610</td>\n",
       "      <td>0.540150</td>\n",
       "      <td>0.280682</td>\n",
       "      <td>8.049253</td>\n",
       "    </tr>\n",
       "    <tr>\n",
       "      <th>6</th>\n",
       "      <td>A</td>\n",
       "      <td>A</td>\n",
       "      <td>A</td>\n",
       "      <td>C</td>\n",
       "      <td>B</td>\n",
       "      <td>D</td>\n",
       "      <td>A</td>\n",
       "      <td>E</td>\n",
       "      <td>A</td>\n",
       "      <td>N</td>\n",
       "      <td>...</td>\n",
       "      <td>0.686964</td>\n",
       "      <td>0.420667</td>\n",
       "      <td>0.648182</td>\n",
       "      <td>0.684501</td>\n",
       "      <td>0.956692</td>\n",
       "      <td>1.000773</td>\n",
       "      <td>0.776742</td>\n",
       "      <td>0.625849</td>\n",
       "      <td>0.250823</td>\n",
       "      <td>7.972260</td>\n",
       "    </tr>\n",
       "  </tbody>\n",
       "</table>\n",
       "<p>5 rows × 25 columns</p>\n",
       "</div>"
      ],
      "text/plain": [
       "   cat0 cat1 cat2 cat3 cat4 cat5 cat6 cat7 cat8 cat9  ...     cont5     cont6  \\\n",
       "id                                                    ...                       \n",
       "1     B    B    B    C    B    B    A    E    C    N  ...  0.400361  0.160266   \n",
       "2     B    B    A    A    B    D    A    F    A    O  ...  0.533087  0.558922   \n",
       "3     A    A    A    C    B    D    A    D    A    F  ...  0.650609  0.375348   \n",
       "4     B    B    A    C    B    D    A    E    C    K  ...  0.668980  0.239061   \n",
       "6     A    A    A    C    B    D    A    E    A    N  ...  0.686964  0.420667   \n",
       "\n",
       "       cont7     cont8     cont9    cont10    cont11    cont12    cont13  \\\n",
       "id                                                                         \n",
       "1   0.310921  0.389470  0.267559  0.237281  0.377873  0.322401  0.869850   \n",
       "2   0.516294  0.594928  0.341439  0.906013  0.921701  0.261975  0.465083   \n",
       "3   0.902567  0.555205  0.843531  0.748809  0.620126  0.541474  0.763846   \n",
       "4   0.732948  0.679618  0.574844  0.346010  0.714610  0.540150  0.280682   \n",
       "6   0.648182  0.684501  0.956692  1.000773  0.776742  0.625849  0.250823   \n",
       "\n",
       "      target  \n",
       "id            \n",
       "1   8.113634  \n",
       "2   8.481233  \n",
       "3   8.364351  \n",
       "4   8.049253  \n",
       "6   7.972260  \n",
       "\n",
       "[5 rows x 25 columns]"
      ]
     },
     "execution_count": 2,
     "metadata": {},
     "output_type": "execute_result"
    }
   ],
   "source": [
    "train = pd.read_csv(\"../input/30-days-of-ml/train.csv\", index_col=0)\n",
    "test = pd.read_csv(\"../input/30-days-of-ml/test.csv\", index_col=0)\n",
    "\n",
    "train.head()"
   ]
  },
  {
   "cell_type": "code",
   "execution_count": 3,
   "id": "e5f04143",
   "metadata": {
    "execution": {
     "iopub.execute_input": "2021-08-25T20:11:13.595858Z",
     "iopub.status.busy": "2021-08-25T20:11:13.594228Z",
     "iopub.status.idle": "2021-08-25T20:11:13.702469Z",
     "shell.execute_reply": "2021-08-25T20:11:13.701991Z",
     "shell.execute_reply.started": "2021-08-25T20:08:52.295117Z"
    },
    "papermill": {
     "duration": 0.132849,
     "end_time": "2021-08-25T20:11:13.702590",
     "exception": false,
     "start_time": "2021-08-25T20:11:13.569741",
     "status": "completed"
    },
    "tags": []
   },
   "outputs": [],
   "source": [
    "X_test = test.copy()\n",
    "y = train['target']\n",
    "X =  train.drop(['target'], axis=1).copy()"
   ]
  },
  {
   "cell_type": "markdown",
   "id": "5135c9ca",
   "metadata": {
    "papermill": {
     "duration": 0.019725,
     "end_time": "2021-08-25T20:11:13.742227",
     "exception": false,
     "start_time": "2021-08-25T20:11:13.722502",
     "status": "completed"
    },
    "tags": []
   },
   "source": [
    "**Continuos Features Normlization**"
   ]
  },
  {
   "cell_type": "code",
   "execution_count": 4,
   "id": "01ccbfac",
   "metadata": {
    "execution": {
     "iopub.execute_input": "2021-08-25T20:11:13.786661Z",
     "iopub.status.busy": "2021-08-25T20:11:13.786109Z",
     "iopub.status.idle": "2021-08-25T20:11:13.789667Z",
     "shell.execute_reply": "2021-08-25T20:11:13.790046Z",
     "shell.execute_reply.started": "2021-08-25T20:08:52.385131Z"
    },
    "papermill": {
     "duration": 0.028099,
     "end_time": "2021-08-25T20:11:13.790199",
     "exception": false,
     "start_time": "2021-08-25T20:11:13.762100",
     "status": "completed"
    },
    "tags": []
   },
   "outputs": [],
   "source": [
    "def feature_norm_count(X):\n",
    "    # mormlize the count X_data feature to learn faster\n",
    "    pass"
   ]
  },
  {
   "cell_type": "code",
   "execution_count": 5,
   "id": "94164438",
   "metadata": {
    "execution": {
     "iopub.execute_input": "2021-08-25T20:11:13.834034Z",
     "iopub.status.busy": "2021-08-25T20:11:13.832793Z",
     "iopub.status.idle": "2021-08-25T20:11:13.835143Z",
     "shell.execute_reply": "2021-08-25T20:11:13.835573Z",
     "shell.execute_reply.started": "2021-08-25T20:08:52.390568Z"
    },
    "papermill": {
     "duration": 0.025789,
     "end_time": "2021-08-25T20:11:13.835701",
     "exception": false,
     "start_time": "2021-08-25T20:11:13.809912",
     "status": "completed"
    },
    "tags": []
   },
   "outputs": [],
   "source": [
    "# feature_norm_count(X)"
   ]
  },
  {
   "cell_type": "markdown",
   "id": "eec1b611",
   "metadata": {
    "papermill": {
     "duration": 0.019456,
     "end_time": "2021-08-25T20:11:13.874731",
     "exception": false,
     "start_time": "2021-08-25T20:11:13.855275",
     "status": "completed"
    },
    "tags": []
   },
   "source": [
    "**1 - droping the bad labels data**"
   ]
  },
  {
   "cell_type": "code",
   "execution_count": 6,
   "id": "456ec5ac",
   "metadata": {
    "execution": {
     "iopub.execute_input": "2021-08-25T20:11:14.015376Z",
     "iopub.status.busy": "2021-08-25T20:11:13.967713Z",
     "iopub.status.idle": "2021-08-25T20:11:14.476228Z",
     "shell.execute_reply": "2021-08-25T20:11:14.475749Z",
     "shell.execute_reply.started": "2021-08-25T20:08:52.399751Z"
    },
    "papermill": {
     "duration": 0.582128,
     "end_time": "2021-08-25T20:11:14.476358",
     "exception": false,
     "start_time": "2021-08-25T20:11:13.894230",
     "status": "completed"
    },
    "tags": []
   },
   "outputs": [],
   "source": [
    "\n",
    "cat_cols = [col for col in X.columns if X[col].dtype == 'object']\n",
    "    \n",
    "good_cat_cols = [col for col in cat_cols if set(X_test[col]).issubset(set(X[col]))]\n",
    "bad_cat_cols = list( set(cat_cols) - set(good_cat_cols) )\n",
    "\n",
    "X = X.drop(bad_cat_cols, axis=1)\n",
    "X_test = X_test.drop(bad_cat_cols, axis=1)"
   ]
  },
  {
   "cell_type": "markdown",
   "id": "2a350d1d",
   "metadata": {
    "papermill": {
     "duration": 0.019584,
     "end_time": "2021-08-25T20:11:14.515805",
     "exception": false,
     "start_time": "2021-08-25T20:11:14.496221",
     "status": "completed"
    },
    "tags": []
   },
   "source": [
    "**2 - 1-hot encoding for the low cardinality data**"
   ]
  },
  {
   "cell_type": "code",
   "execution_count": 7,
   "id": "931634f2",
   "metadata": {
    "execution": {
     "iopub.execute_input": "2021-08-25T20:11:14.586627Z",
     "iopub.status.busy": "2021-08-25T20:11:14.585540Z",
     "iopub.status.idle": "2021-08-25T20:11:14.994249Z",
     "shell.execute_reply": "2021-08-25T20:11:14.994651Z",
     "shell.execute_reply.started": "2021-08-25T20:08:52.953025Z"
    },
    "papermill": {
     "duration": 0.459073,
     "end_time": "2021-08-25T20:11:14.994796",
     "exception": false,
     "start_time": "2021-08-25T20:11:14.535723",
     "status": "completed"
    },
    "tags": []
   },
   "outputs": [
    {
     "name": "stdout",
     "output_type": "stream",
     "text": [
      "(300000, 24)\n"
     ]
    },
    {
     "data": {
      "text/plain": [
       "[('cat0', 2),\n",
       " ('cat1', 2),\n",
       " ('cat2', 2),\n",
       " ('cat3', 4),\n",
       " ('cat4', 4),\n",
       " ('cat5', 4),\n",
       " ('cat8', 7),\n",
       " ('cat6', 8),\n",
       " ('cat7', 8),\n",
       " ('cat9', 15)]"
      ]
     },
     "execution_count": 7,
     "metadata": {},
     "output_type": "execute_result"
    }
   ],
   "source": [
    "#Investing the training data\n",
    "# Get number of unique entries in each column with categorical data\n",
    "object_nunique = list(map(lambda col: X[col].nunique(), cat_cols))\n",
    "d = dict(zip(cat_cols, object_nunique))\n",
    "# print X shape\n",
    "print(X.shape)\n",
    "# Print number of unique entries by column, in ascending order\n",
    "sorted(d.items(), key=lambda x: x[1])\n"
   ]
  },
  {
   "cell_type": "code",
   "execution_count": 8,
   "id": "2a06e634",
   "metadata": {
    "execution": {
     "iopub.execute_input": "2021-08-25T20:11:15.041746Z",
     "iopub.status.busy": "2021-08-25T20:11:15.041184Z",
     "iopub.status.idle": "2021-08-25T20:11:15.045590Z",
     "shell.execute_reply": "2021-08-25T20:11:15.045180Z",
     "shell.execute_reply.started": "2021-08-25T20:08:53.400869Z"
    },
    "papermill": {
     "duration": 0.03042,
     "end_time": "2021-08-25T20:11:15.045710",
     "exception": false,
     "start_time": "2021-08-25T20:11:15.015290",
     "status": "completed"
    },
    "tags": []
   },
   "outputs": [
    {
     "name": "stdout",
     "output_type": "stream",
     "text": [
      "new entries to add: 9.9 M\n"
     ]
    }
   ],
   "source": [
    "d.pop('cat9')\n",
    "d.pop('cat8')\n",
    "un = sum([item[1] for item in d.items() ])\n",
    "new = (un-1)*X.shape[0]  / 1000000\n",
    "print(\"new entries to add:\",new,\"M\")"
   ]
  },
  {
   "cell_type": "markdown",
   "id": "a7b59145",
   "metadata": {
    "papermill": {
     "duration": 0.021548,
     "end_time": "2021-08-25T20:11:15.088103",
     "exception": false,
     "start_time": "2021-08-25T20:11:15.066555",
     "status": "completed"
    },
    "tags": []
   },
   "source": [
    "1-hot"
   ]
  },
  {
   "cell_type": "code",
   "execution_count": 9,
   "id": "1d47cbc3",
   "metadata": {
    "execution": {
     "iopub.execute_input": "2021-08-25T20:11:15.164750Z",
     "iopub.status.busy": "2021-08-25T20:11:15.163596Z",
     "iopub.status.idle": "2021-08-25T20:11:17.132647Z",
     "shell.execute_reply": "2021-08-25T20:11:17.132185Z",
     "shell.execute_reply.started": "2021-08-25T20:08:53.409093Z"
    },
    "papermill": {
     "duration": 2.023608,
     "end_time": "2021-08-25T20:11:17.132783",
     "exception": false,
     "start_time": "2021-08-25T20:11:15.109175",
     "status": "completed"
    },
    "tags": []
   },
   "outputs": [],
   "source": [
    "cat_cols = [col for col in X.columns if X[col].dtype == 'object']\n",
    "low_cardinality_cols = [col for col in cat_cols if X[col].nunique() < 8]\n",
    "OH_encoder = OneHotEncoder(handle_unknown='ignore', sparse=False)\n",
    "\n",
    "OH_cols_X = pd.DataFrame(OH_encoder.fit_transform(X[low_cardinality_cols]))\n",
    "OH_cols_X_test = pd.DataFrame(OH_encoder.fit_transform(X_test[low_cardinality_cols]))\n",
    "\n",
    "# One-hot encoding removed index; put it back\n",
    "OH_cols_X.index = X.index\n",
    "OH_cols_X_test.index = X_test.index\n",
    "\n",
    "# Remove categorical columns (will replace with one-hot encoding)\n",
    "num_X = X.drop(low_cardinality_cols, axis=1)\n",
    "num_X_test = X_test.drop(low_cardinality_cols, axis=1)\n",
    "\n",
    "# Add one-hot encoded columns to numerical features\n",
    "X = pd.concat([num_X, OH_cols_X], axis=1)\n",
    "X_test = pd.concat([num_X_test, OH_cols_X_test], axis=1)"
   ]
  },
  {
   "cell_type": "markdown",
   "id": "8db7625f",
   "metadata": {
    "papermill": {
     "duration": 0.020153,
     "end_time": "2021-08-25T20:11:17.173856",
     "exception": false,
     "start_time": "2021-08-25T20:11:17.153703",
     "status": "completed"
    },
    "tags": []
   },
   "source": [
    "**2 - oridnal encoding for the high cardinality data**"
   ]
  },
  {
   "cell_type": "code",
   "execution_count": 10,
   "id": "00b17e2d",
   "metadata": {
    "execution": {
     "iopub.execute_input": "2021-08-25T20:11:17.222114Z",
     "iopub.status.busy": "2021-08-25T20:11:17.221100Z",
     "iopub.status.idle": "2021-08-25T20:11:18.222327Z",
     "shell.execute_reply": "2021-08-25T20:11:18.221454Z",
     "shell.execute_reply.started": "2021-08-25T20:08:55.421660Z"
    },
    "papermill": {
     "duration": 1.028164,
     "end_time": "2021-08-25T20:11:18.222465",
     "exception": false,
     "start_time": "2021-08-25T20:11:17.194301",
     "status": "completed"
    },
    "tags": []
   },
   "outputs": [],
   "source": [
    "cat_cols = [col for col in X.columns if X[col].dtype == 'object']\n",
    "ord_encoder = OrdinalEncoder()\n",
    "X[cat_cols] = ord_encoder.fit_transform(X[cat_cols])\n",
    "X_test[cat_cols] = ord_encoder.fit_transform(X_test[cat_cols])"
   ]
  },
  {
   "cell_type": "markdown",
   "id": "592f956e",
   "metadata": {
    "papermill": {
     "duration": 0.020526,
     "end_time": "2021-08-25T20:11:18.263799",
     "exception": false,
     "start_time": "2021-08-25T20:11:18.243273",
     "status": "completed"
    },
    "tags": []
   },
   "source": [
    "**splitting the data**\n",
    "data as X_train, X_valid, y_train, y_valid, **X, y, X_test**"
   ]
  },
  {
   "cell_type": "code",
   "execution_count": 11,
   "id": "37f7710c",
   "metadata": {
    "execution": {
     "iopub.execute_input": "2021-08-25T20:11:18.319291Z",
     "iopub.status.busy": "2021-08-25T20:11:18.318587Z",
     "iopub.status.idle": "2021-08-25T20:11:18.503211Z",
     "shell.execute_reply": "2021-08-25T20:11:18.503609Z",
     "shell.execute_reply.started": "2021-08-25T20:08:56.413286Z"
    },
    "papermill": {
     "duration": 0.210251,
     "end_time": "2021-08-25T20:11:18.503768",
     "exception": false,
     "start_time": "2021-08-25T20:11:18.293517",
     "status": "completed"
    },
    "tags": []
   },
   "outputs": [],
   "source": [
    "# splitting the data\n",
    "X_train, X_valid, y_train, y_valid = train_test_split(X, y, random_state=1) "
   ]
  },
  {
   "cell_type": "markdown",
   "id": "bbc4e9d7",
   "metadata": {
    "papermill": {
     "duration": 0.020459,
     "end_time": "2021-08-25T20:11:18.544856",
     "exception": false,
     "start_time": "2021-08-25T20:11:18.524397",
     "status": "completed"
    },
    "tags": []
   },
   "source": [
    "# Features Eng."
   ]
  },
  {
   "cell_type": "markdown",
   "id": "45a21a65",
   "metadata": {
    "papermill": {
     "duration": 0.020289,
     "end_time": "2021-08-25T20:11:18.587492",
     "exception": false,
     "start_time": "2021-08-25T20:11:18.567203",
     "status": "completed"
    },
    "tags": []
   },
   "source": [
    "# Tuninig"
   ]
  },
  {
   "cell_type": "code",
   "execution_count": 12,
   "id": "9a6aa7d6",
   "metadata": {
    "execution": {
     "iopub.execute_input": "2021-08-25T20:11:18.637343Z",
     "iopub.status.busy": "2021-08-25T20:11:18.636515Z",
     "iopub.status.idle": "2021-08-25T20:11:18.639088Z",
     "shell.execute_reply": "2021-08-25T20:11:18.638670Z",
     "shell.execute_reply.started": "2021-08-25T20:09:29.682875Z"
    },
    "papermill": {
     "duration": 0.030198,
     "end_time": "2021-08-25T20:11:18.639200",
     "exception": false,
     "start_time": "2021-08-25T20:11:18.609002",
     "status": "completed"
    },
    "tags": []
   },
   "outputs": [],
   "source": [
    "\n",
    "def tune(trial):\n",
    "    learning_rate = trial.suggest_float(\"learning_rate\", 1e-2, 0.25, log=True)\n",
    "    reg_lambda = trial.suggest_loguniform(\"reg_lambda\", 1e-8, 100.0)\n",
    "    reg_alpha = trial.suggest_loguniform(\"reg_alpha\", 1e-8, 100.0)\n",
    "    subsample = trial.suggest_float(\"subsample\", 0.1, 1.0)\n",
    "    colsample_bytree = trial.suggest_float(\"colsample_bytree\", 0.1, 1.0)\n",
    "    max_depth = trial.suggest_int(\"max_depth\", 1, 7)\n",
    "\n",
    "    model = XGBRegressor(random_state=10,tree_method=\"gpu_hist\",gpu_id=0,\n",
    "                         predictor=\"gpu_predictor\",n_estimators=5000,\n",
    "                         learning_rate=learning_rate,reg_lambda=reg_lambda,\n",
    "                         reg_alpha=reg_alpha,subsample=subsample,\n",
    "                         colsample_bytree=colsample_bytree,max_depth=max_depth)\n",
    "    \n",
    "    model.fit(X_train, y_train, early_stopping_rounds=5, eval_set=[(X_valid, y_valid)], verbose=1000)\n",
    "    y_pred = model.predict(X_valid)\n",
    "    rmse = mean_squared_error(y_pred, y_valid)\n",
    "    return rmse"
   ]
  },
  {
   "cell_type": "code",
   "execution_count": 13,
   "id": "83c8c04d",
   "metadata": {
    "execution": {
     "iopub.execute_input": "2021-08-25T20:11:18.684847Z",
     "iopub.status.busy": "2021-08-25T20:11:18.684033Z",
     "iopub.status.idle": "2021-08-25T20:56:11.745239Z",
     "shell.execute_reply": "2021-08-25T20:56:11.745797Z",
     "shell.execute_reply.started": "2021-08-25T20:09:31.466600Z"
    },
    "papermill": {
     "duration": 2693.086477,
     "end_time": "2021-08-25T20:56:11.746024",
     "exception": false,
     "start_time": "2021-08-25T20:11:18.659547",
     "status": "completed"
    },
    "tags": []
   },
   "outputs": [
    {
     "name": "stderr",
     "output_type": "stream",
     "text": [
      "\u001b[32m[I 2021-08-25 20:11:18,682]\u001b[0m A new study created in memory with name: no-name-3a423acd-d399-4f24-9876-f4713349fec0\u001b[0m\n"
     ]
    },
    {
     "name": "stdout",
     "output_type": "stream",
     "text": [
      "[0]\tvalidation_0-rmse:7.66777\n",
      "[1000]\tvalidation_0-rmse:0.73427\n",
      "[2000]\tvalidation_0-rmse:0.73111\n",
      "[3000]\tvalidation_0-rmse:0.72931\n",
      "[4000]\tvalidation_0-rmse:0.72822\n",
      "[4517]\tvalidation_0-rmse:0.72778\n"
     ]
    },
    {
     "name": "stderr",
     "output_type": "stream",
     "text": [
      "\u001b[32m[I 2021-08-25 20:11:28,957]\u001b[0m Trial 0 finished with value: 0.5296583440306096 and parameters: {'learning_rate': 0.01412593216555015, 'reg_lambda': 1.9421985552511267, 'reg_alpha': 3.1033476887925904e-07, 'subsample': 0.37775644433800404, 'colsample_bytree': 0.9794495365507857, 'max_depth': 1}. Best is trial 0 with value: 0.5296583440306096.\u001b[0m\n"
     ]
    },
    {
     "name": "stdout",
     "output_type": "stream",
     "text": [
      "[0]\tvalidation_0-rmse:7.54164\n",
      "[1000]\tvalidation_0-rmse:0.72139\n",
      "[1479]\tvalidation_0-rmse:0.71955\n"
     ]
    },
    {
     "name": "stderr",
     "output_type": "stream",
     "text": [
      "\u001b[32m[I 2021-08-25 20:11:33,384]\u001b[0m Trial 1 finished with value: 0.5177465280371999 and parameters: {'learning_rate': 0.030498812721195052, 'reg_lambda': 2.129275447791715e-06, 'reg_alpha': 0.00026114627207218485, 'subsample': 0.29948588742744714, 'colsample_bytree': 0.26038057138004533, 'max_depth': 3}. Best is trial 1 with value: 0.5177465280371999.\u001b[0m\n"
     ]
    },
    {
     "name": "stdout",
     "output_type": "stream",
     "text": [
      "[0]\tvalidation_0-rmse:7.67235\n",
      "[1000]\tvalidation_0-rmse:0.72003\n",
      "[1544]\tvalidation_0-rmse:0.71817\n"
     ]
    },
    {
     "name": "stderr",
     "output_type": "stream",
     "text": [
      "\u001b[32m[I 2021-08-25 20:11:47,595]\u001b[0m Trial 2 finished with value: 0.5157644409550262 and parameters: {'learning_rate': 0.013531306831928106, 'reg_lambda': 3.831202415706389e-07, 'reg_alpha': 5.393002587706564, 'subsample': 0.434239215602648, 'colsample_bytree': 0.33512377802304905, 'max_depth': 7}. Best is trial 2 with value: 0.5157644409550262.\u001b[0m\n"
     ]
    },
    {
     "name": "stdout",
     "output_type": "stream",
     "text": [
      "[0]\tvalidation_0-rmse:7.27109\n",
      "[1000]\tvalidation_0-rmse:0.72134\n",
      "[1277]\tvalidation_0-rmse:0.72011\n"
     ]
    },
    {
     "name": "stderr",
     "output_type": "stream",
     "text": [
      "\u001b[32m[I 2021-08-25 20:11:50,969]\u001b[0m Trial 3 finished with value: 0.518551263639241 and parameters: {'learning_rate': 0.0656344972125171, 'reg_lambda': 9.874153229246654e-07, 'reg_alpha': 1.1109440741062493e-05, 'subsample': 0.4800305542380393, 'colsample_bytree': 0.3709413914177281, 'max_depth': 2}. Best is trial 2 with value: 0.5157644409550262.\u001b[0m\n"
     ]
    },
    {
     "name": "stdout",
     "output_type": "stream",
     "text": [
      "[0]\tvalidation_0-rmse:7.37209\n",
      "[258]\tvalidation_0-rmse:0.72273\n"
     ]
    },
    {
     "name": "stderr",
     "output_type": "stream",
     "text": [
      "\u001b[32m[I 2021-08-25 20:11:53,563]\u001b[0m Trial 4 finished with value: 0.5223127843641941 and parameters: {'learning_rate': 0.05251484399480158, 'reg_lambda': 7.774805683861763e-07, 'reg_alpha': 1.7442392039002068e-05, 'subsample': 0.185908750587161, 'colsample_bytree': 0.1588894956896991, 'max_depth': 7}. Best is trial 2 with value: 0.5157644409550262.\u001b[0m\n"
     ]
    },
    {
     "name": "stdout",
     "output_type": "stream",
     "text": [
      "[0]\tvalidation_0-rmse:7.61477\n",
      "[1000]\tvalidation_0-rmse:0.72134\n",
      "[1856]\tvalidation_0-rmse:0.71825\n"
     ]
    },
    {
     "name": "stderr",
     "output_type": "stream",
     "text": [
      "\u001b[32m[I 2021-08-25 20:12:00,588]\u001b[0m Trial 5 finished with value: 0.5158870583447984 and parameters: {'learning_rate': 0.021004255649660238, 'reg_lambda': 7.402966076537457e-08, 'reg_alpha': 1.8568251983012433e-06, 'subsample': 0.6003036876798055, 'colsample_bytree': 0.22183028905101598, 'max_depth': 4}. Best is trial 2 with value: 0.5157644409550262.\u001b[0m\n"
     ]
    },
    {
     "name": "stdout",
     "output_type": "stream",
     "text": [
      "[0]\tvalidation_0-rmse:7.06629\n",
      "[271]\tvalidation_0-rmse:0.72096\n"
     ]
    },
    {
     "name": "stderr",
     "output_type": "stream",
     "text": [
      "\u001b[32m[I 2021-08-25 20:12:02,084]\u001b[0m Trial 6 finished with value: 0.5197473109757993 and parameters: {'learning_rate': 0.09226325917317815, 'reg_lambda': 8.452058558617638, 'reg_alpha': 1.569513115456438e-08, 'subsample': 0.2923859008729309, 'colsample_bytree': 0.8090496196543095, 'max_depth': 5}. Best is trial 2 with value: 0.5157644409550262.\u001b[0m\n"
     ]
    },
    {
     "name": "stdout",
     "output_type": "stream",
     "text": [
      "[0]\tvalidation_0-rmse:7.25440\n",
      "[275]\tvalidation_0-rmse:0.72102\n"
     ]
    },
    {
     "name": "stderr",
     "output_type": "stream",
     "text": [
      "\u001b[32m[I 2021-08-25 20:12:04,323]\u001b[0m Trial 7 finished with value: 0.519841255796304 and parameters: {'learning_rate': 0.0677880328441594, 'reg_lambda': 3.797967694271765e-06, 'reg_alpha': 0.7581057378122865, 'subsample': 0.6372808787786282, 'colsample_bytree': 0.9687709474892584, 'max_depth': 6}. Best is trial 2 with value: 0.5157644409550262.\u001b[0m\n"
     ]
    },
    {
     "name": "stdout",
     "output_type": "stream",
     "text": [
      "[0]\tvalidation_0-rmse:7.25775\n",
      "[375]\tvalidation_0-rmse:0.72182\n"
     ]
    },
    {
     "name": "stderr",
     "output_type": "stream",
     "text": [
      "\u001b[32m[I 2021-08-25 20:12:05,942]\u001b[0m Trial 8 finished with value: 0.5210135035712432 and parameters: {'learning_rate': 0.06735285044200094, 'reg_lambda': 0.0021070159067860814, 'reg_alpha': 5.040310022564985e-08, 'subsample': 0.21645384765758036, 'colsample_bytree': 0.9360024069424476, 'max_depth': 4}. Best is trial 2 with value: 0.5157644409550262.\u001b[0m\n"
     ]
    },
    {
     "name": "stdout",
     "output_type": "stream",
     "text": [
      "[0]\tvalidation_0-rmse:7.02758\n",
      "[161]\tvalidation_0-rmse:0.72139\n"
     ]
    },
    {
     "name": "stderr",
     "output_type": "stream",
     "text": [
      "\u001b[32m[I 2021-08-25 20:12:08,026]\u001b[0m Trial 9 finished with value: 0.520350631142825 and parameters: {'learning_rate': 0.09722085570198925, 'reg_lambda': 2.6121567659397925e-07, 'reg_alpha': 1.8430304023746507, 'subsample': 0.7966563362212571, 'colsample_bytree': 0.8854773910333439, 'max_depth': 7}. Best is trial 2 with value: 0.5157644409550262.\u001b[0m\n"
     ]
    },
    {
     "name": "stdout",
     "output_type": "stream",
     "text": [
      "[0]\tvalidation_0-rmse:6.29106\n",
      "[277]\tvalidation_0-rmse:0.71837\n"
     ]
    },
    {
     "name": "stderr",
     "output_type": "stream",
     "text": [
      "\u001b[32m[I 2021-08-25 20:12:10,203]\u001b[0m Trial 10 finished with value: 0.5160185676273152 and parameters: {'learning_rate': 0.19297151638368265, 'reg_lambda': 0.0007627885764725467, 'reg_alpha': 87.7724167002087, 'subsample': 0.9408787095153535, 'colsample_bytree': 0.5814200273167898, 'max_depth': 6}. Best is trial 2 with value: 0.5157644409550262.\u001b[0m\n"
     ]
    },
    {
     "name": "stdout",
     "output_type": "stream",
     "text": [
      "[0]\tvalidation_0-rmse:7.69493\n",
      "[1000]\tvalidation_0-rmse:0.72550\n",
      "[2000]\tvalidation_0-rmse:0.72133\n",
      "[2991]\tvalidation_0-rmse:0.71934\n"
     ]
    },
    {
     "name": "stderr",
     "output_type": "stream",
     "text": [
      "\u001b[32m[I 2021-08-25 20:12:21,500]\u001b[0m Trial 11 finished with value: 0.5174492434283531 and parameters: {'learning_rate': 0.01059772373507637, 'reg_lambda': 1.889755615693067e-08, 'reg_alpha': 0.023332735987685017, 'subsample': 0.6338933797979834, 'colsample_bytree': 0.4509766980435878, 'max_depth': 4}. Best is trial 2 with value: 0.5157644409550262.\u001b[0m\n"
     ]
    },
    {
     "name": "stdout",
     "output_type": "stream",
     "text": [
      "[0]\tvalidation_0-rmse:7.61471\n",
      "[1000]\tvalidation_0-rmse:0.72014\n",
      "[1561]\tvalidation_0-rmse:0.71775\n"
     ]
    },
    {
     "name": "stderr",
     "output_type": "stream",
     "text": [
      "\u001b[32m[I 2021-08-25 20:12:28,865]\u001b[0m Trial 12 finished with value: 0.515161095574812 and parameters: {'learning_rate': 0.02101114406825468, 'reg_lambda': 0.0001994745672094164, 'reg_alpha': 0.010677023586768331, 'subsample': 0.5214918354046422, 'colsample_bytree': 0.1032570077141508, 'max_depth': 5}. Best is trial 12 with value: 0.515161095574812.\u001b[0m\n"
     ]
    },
    {
     "name": "stdout",
     "output_type": "stream",
     "text": [
      "[0]\tvalidation_0-rmse:7.57285\n",
      "[1000]\tvalidation_0-rmse:0.71990\n",
      "[1310]\tvalidation_0-rmse:0.71906\n"
     ]
    },
    {
     "name": "stderr",
     "output_type": "stream",
     "text": [
      "\u001b[32m[I 2021-08-25 20:12:36,407]\u001b[0m Trial 13 finished with value: 0.5170503997842025 and parameters: {'learning_rate': 0.026450464788043464, 'reg_lambda': 0.00057152733030459, 'reg_alpha': 60.563935112540264, 'subsample': 0.4949157334833531, 'colsample_bytree': 0.6059667444229693, 'max_depth': 6}. Best is trial 12 with value: 0.515161095574812.\u001b[0m\n"
     ]
    },
    {
     "name": "stdout",
     "output_type": "stream",
     "text": [
      "[0]\tvalidation_0-rmse:7.65528\n",
      "[1000]\tvalidation_0-rmse:0.72217\n",
      "[1852]\tvalidation_0-rmse:0.71825\n"
     ]
    },
    {
     "name": "stderr",
     "output_type": "stream",
     "text": [
      "\u001b[32m[I 2021-08-25 20:12:46,090]\u001b[0m Trial 14 finished with value: 0.5158778631537816 and parameters: {'learning_rate': 0.0157390899411669, 'reg_lambda': 4.8184055302088367e-05, 'reg_alpha': 0.012340418373664338, 'subsample': 0.8205261483209383, 'colsample_bytree': 0.10631883168543127, 'max_depth': 5}. Best is trial 12 with value: 0.515161095574812.\u001b[0m\n"
     ]
    },
    {
     "name": "stdout",
     "output_type": "stream",
     "text": [
      "[0]\tvalidation_0-rmse:7.52063\n",
      "[559]\tvalidation_0-rmse:0.71904\n"
     ]
    },
    {
     "name": "stderr",
     "output_type": "stream",
     "text": [
      "\u001b[32m[I 2021-08-25 20:12:51,707]\u001b[0m Trial 15 finished with value: 0.5170057367656017 and parameters: {'learning_rate': 0.03323173411504588, 'reg_lambda': 0.013326253225794216, 'reg_alpha': 1.016398737389326, 'subsample': 0.4178946568539755, 'colsample_bytree': 0.35482567669269927, 'max_depth': 7}. Best is trial 12 with value: 0.515161095574812.\u001b[0m\n"
     ]
    },
    {
     "name": "stdout",
     "output_type": "stream",
     "text": [
      "[0]\tvalidation_0-rmse:7.68881\n",
      "[1000]\tvalidation_0-rmse:0.72254\n",
      "[2000]\tvalidation_0-rmse:0.71905\n",
      "[2212]\tvalidation_0-rmse:0.71866\n"
     ]
    },
    {
     "name": "stderr",
     "output_type": "stream",
     "text": [
      "\u001b[32m[I 2021-08-25 20:13:02,768]\u001b[0m Trial 16 finished with value: 0.5164698295339627 and parameters: {'learning_rate': 0.011389085760707266, 'reg_lambda': 0.22292494770639606, 'reg_alpha': 0.018421629807466994, 'subsample': 0.7232739915499791, 'colsample_bytree': 0.292605317736884, 'max_depth': 5}. Best is trial 12 with value: 0.515161095574812.\u001b[0m\n"
     ]
    },
    {
     "name": "stdout",
     "output_type": "stream",
     "text": [
      "[0]\tvalidation_0-rmse:7.63007\n",
      "[1000]\tvalidation_0-rmse:0.72596\n",
      "[1372]\tvalidation_0-rmse:0.72399\n"
     ]
    },
    {
     "name": "stderr",
     "output_type": "stream",
     "text": [
      "\u001b[32m[I 2021-08-25 20:13:06,684]\u001b[0m Trial 17 finished with value: 0.5241528131412845 and parameters: {'learning_rate': 0.019010994586994283, 'reg_lambda': 7.451100422283038e-05, 'reg_alpha': 0.0005678982974924208, 'subsample': 0.10699514179867176, 'colsample_bytree': 0.1033143138280892, 'max_depth': 3}. Best is trial 12 with value: 0.515161095574812.\u001b[0m\n"
     ]
    },
    {
     "name": "stdout",
     "output_type": "stream",
     "text": [
      "[0]\tvalidation_0-rmse:7.69787\n",
      "[1000]\tvalidation_0-rmse:0.72336\n",
      "[2000]\tvalidation_0-rmse:0.71918\n",
      "[2570]\tvalidation_0-rmse:0.71819\n"
     ]
    },
    {
     "name": "stderr",
     "output_type": "stream",
     "text": [
      "\u001b[32m[I 2021-08-25 20:13:23,176]\u001b[0m Trial 18 finished with value: 0.515799358523818 and parameters: {'learning_rate': 0.010216038242396495, 'reg_lambda': 2.2175939218539897e-05, 'reg_alpha': 10.20295229983732, 'subsample': 0.5315276533829321, 'colsample_bytree': 0.49285286707951925, 'max_depth': 6}. Best is trial 12 with value: 0.515161095574812.\u001b[0m\n"
     ]
    },
    {
     "name": "stdout",
     "output_type": "stream",
     "text": [
      "[0]\tvalidation_0-rmse:7.47713\n",
      "[349]\tvalidation_0-rmse:0.72188\n"
     ]
    },
    {
     "name": "stderr",
     "output_type": "stream",
     "text": [
      "\u001b[32m[I 2021-08-25 20:13:26,890]\u001b[0m Trial 19 finished with value: 0.5210969820155046 and parameters: {'learning_rate': 0.03887738532674645, 'reg_lambda': 1.1131228293051632e-08, 'reg_alpha': 0.12545190573376783, 'subsample': 0.35623620924205845, 'colsample_bytree': 0.6849427167184539, 'max_depth': 7}. Best is trial 12 with value: 0.515161095574812.\u001b[0m\n"
     ]
    },
    {
     "name": "stdout",
     "output_type": "stream",
     "text": [
      "[0]\tvalidation_0-rmse:7.60644\n",
      "[1000]\tvalidation_0-rmse:0.71913\n",
      "[1300]\tvalidation_0-rmse:0.71805\n"
     ]
    },
    {
     "name": "stderr",
     "output_type": "stream",
     "text": [
      "\u001b[32m[I 2021-08-25 20:13:32,993]\u001b[0m Trial 20 finished with value: 0.5155985829384118 and parameters: {'learning_rate': 0.0220893630287108, 'reg_lambda': 0.0706863758839965, 'reg_alpha': 0.005276876884868059, 'subsample': 0.44996897460776203, 'colsample_bytree': 0.18339677794918774, 'max_depth': 5}. Best is trial 12 with value: 0.515161095574812.\u001b[0m\n"
     ]
    },
    {
     "name": "stdout",
     "output_type": "stream",
     "text": [
      "[0]\tvalidation_0-rmse:7.60301\n",
      "[969]\tvalidation_0-rmse:0.71906\n"
     ]
    },
    {
     "name": "stderr",
     "output_type": "stream",
     "text": [
      "\u001b[32m[I 2021-08-25 20:13:37,749]\u001b[0m Trial 21 finished with value: 0.5170450119441823 and parameters: {'learning_rate': 0.02253218741492223, 'reg_lambda': 0.041999870806599025, 'reg_alpha': 0.004520390593174144, 'subsample': 0.46862052887727756, 'colsample_bytree': 0.19599532615801568, 'max_depth': 5}. Best is trial 12 with value: 0.515161095574812.\u001b[0m\n"
     ]
    },
    {
     "name": "stdout",
     "output_type": "stream",
     "text": [
      "[0]\tvalidation_0-rmse:7.65968\n",
      "[1000]\tvalidation_0-rmse:0.72761\n",
      "[2000]\tvalidation_0-rmse:0.72266\n",
      "[2421]\tvalidation_0-rmse:0.72143\n"
     ]
    },
    {
     "name": "stderr",
     "output_type": "stream",
     "text": [
      "\u001b[32m[I 2021-08-25 20:13:45,204]\u001b[0m Trial 22 finished with value: 0.5204640243812998 and parameters: {'learning_rate': 0.015174297937433594, 'reg_lambda': 0.4022416909288331, 'reg_alpha': 7.815889841175571e-05, 'subsample': 0.5517777382892557, 'colsample_bytree': 0.10055329995151017, 'max_depth': 3}. Best is trial 12 with value: 0.515161095574812.\u001b[0m\n"
     ]
    },
    {
     "name": "stdout",
     "output_type": "stream",
     "text": [
      "[0]\tvalidation_0-rmse:7.46088\n",
      "[620]\tvalidation_0-rmse:0.71921\n"
     ]
    },
    {
     "name": "stderr",
     "output_type": "stream",
     "text": [
      "\u001b[32m[I 2021-08-25 20:13:48,570]\u001b[0m Trial 23 finished with value: 0.5172452320884557 and parameters: {'learning_rate': 0.04099041006766736, 'reg_lambda': 0.006211886718397761, 'reg_alpha': 0.0024753789182497938, 'subsample': 0.4357238579288709, 'colsample_bytree': 0.3271926651207031, 'max_depth': 5}. Best is trial 12 with value: 0.515161095574812.\u001b[0m\n"
     ]
    },
    {
     "name": "stdout",
     "output_type": "stream",
     "text": [
      "[0]\tvalidation_0-rmse:7.67314\n",
      "[1000]\tvalidation_0-rmse:0.72055\n",
      "[1741]\tvalidation_0-rmse:0.71844\n"
     ]
    },
    {
     "name": "stderr",
     "output_type": "stream",
     "text": [
      "\u001b[32m[I 2021-08-25 20:14:00,695]\u001b[0m Trial 24 finished with value: 0.5161372299638533 and parameters: {'learning_rate': 0.013423671317989721, 'reg_lambda': 0.05400873470035354, 'reg_alpha': 0.12222435560053604, 'subsample': 0.700190866321212, 'colsample_bytree': 0.43224133599066106, 'max_depth': 6}. Best is trial 12 with value: 0.515161095574812.\u001b[0m\n"
     ]
    },
    {
     "name": "stdout",
     "output_type": "stream",
     "text": [
      "[0]\tvalidation_0-rmse:7.61835\n",
      "[1000]\tvalidation_0-rmse:0.72257\n",
      "[2000]\tvalidation_0-rmse:0.71853\n",
      "[2093]\tvalidation_0-rmse:0.71832\n"
     ]
    },
    {
     "name": "stderr",
     "output_type": "stream",
     "text": [
      "\u001b[32m[I 2021-08-25 20:14:07,897]\u001b[0m Trial 25 finished with value: 0.5159836084924532 and parameters: {'learning_rate': 0.02055446970096567, 'reg_lambda': 50.12541392852232, 'reg_alpha': 12.955004760868787, 'subsample': 0.3281676202618012, 'colsample_bytree': 0.1778307745063541, 'max_depth': 4}. Best is trial 12 with value: 0.515161095574812.\u001b[0m\n"
     ]
    },
    {
     "name": "stdout",
     "output_type": "stream",
     "text": [
      "[0]\tvalidation_0-rmse:7.57515\n",
      "[1000]\tvalidation_0-rmse:0.71852\n",
      "[1022]\tvalidation_0-rmse:0.71844\n"
     ]
    },
    {
     "name": "stderr",
     "output_type": "stream",
     "text": [
      "\u001b[32m[I 2021-08-25 20:14:12,933]\u001b[0m Trial 26 finished with value: 0.5161535149767117 and parameters: {'learning_rate': 0.026148445392084788, 'reg_lambda': 0.00016452932821250336, 'reg_alpha': 0.2336350201650702, 'subsample': 0.5724152107711642, 'colsample_bytree': 0.26145449956635397, 'max_depth': 5}. Best is trial 12 with value: 0.515161095574812.\u001b[0m\n"
     ]
    },
    {
     "name": "stdout",
     "output_type": "stream",
     "text": [
      "[0]\tvalidation_0-rmse:7.64722\n",
      "[1000]\tvalidation_0-rmse:0.72015\n",
      "[1375]\tvalidation_0-rmse:0.71868\n"
     ]
    },
    {
     "name": "stderr",
     "output_type": "stream",
     "text": [
      "\u001b[32m[I 2021-08-25 20:14:21,425]\u001b[0m Trial 27 finished with value: 0.5165070294176162 and parameters: {'learning_rate': 0.01679209640302477, 'reg_lambda': 1.3320277027511561e-05, 'reg_alpha': 0.0001488580764342412, 'subsample': 0.22585629329767015, 'colsample_bytree': 0.14218540297634497, 'max_depth': 6}. Best is trial 12 with value: 0.515161095574812.\u001b[0m\n"
     ]
    },
    {
     "name": "stdout",
     "output_type": "stream",
     "text": [
      "[0]\tvalidation_0-rmse:7.68534\n",
      "[1000]\tvalidation_0-rmse:0.73061\n",
      "[2000]\tvalidation_0-rmse:0.72684\n",
      "[3000]\tvalidation_0-rmse:0.72450\n",
      "[3218]\tvalidation_0-rmse:0.72413\n"
     ]
    },
    {
     "name": "stderr",
     "output_type": "stream",
     "text": [
      "\u001b[32m[I 2021-08-25 20:14:29,726]\u001b[0m Trial 28 finished with value: 0.5243632511917672 and parameters: {'learning_rate': 0.011844693199055609, 'reg_lambda': 0.593292985199128, 'reg_alpha': 0.0013358261736355426, 'subsample': 0.4065197846533086, 'colsample_bytree': 0.41248757023171984, 'max_depth': 2}. Best is trial 12 with value: 0.515161095574812.\u001b[0m\n"
     ]
    },
    {
     "name": "stdout",
     "output_type": "stream",
     "text": [
      "[0]\tvalidation_0-rmse:7.66963\n",
      "[1000]\tvalidation_0-rmse:0.73488\n",
      "[2000]\tvalidation_0-rmse:0.73173\n",
      "[3000]\tvalidation_0-rmse:0.72999\n",
      "[4000]\tvalidation_0-rmse:0.72887\n",
      "[4922]\tvalidation_0-rmse:0.72808\n"
     ]
    },
    {
     "name": "stderr",
     "output_type": "stream",
     "text": [
      "\u001b[32m[I 2021-08-25 20:14:40,053]\u001b[0m Trial 29 finished with value: 0.530107700189952 and parameters: {'learning_rate': 0.013884948102127044, 'reg_lambda': 3.173976229600251, 'reg_alpha': 4.353503975281722, 'subsample': 0.37084267686688843, 'colsample_bytree': 0.22341955390486637, 'max_depth': 1}. Best is trial 12 with value: 0.515161095574812.\u001b[0m\n"
     ]
    },
    {
     "name": "stdout",
     "output_type": "stream",
     "text": [
      "[0]\tvalidation_0-rmse:7.58951\n",
      "[566]\tvalidation_0-rmse:0.72041\n"
     ]
    },
    {
     "name": "stderr",
     "output_type": "stream",
     "text": [
      "\u001b[32m[I 2021-08-25 20:14:46,030]\u001b[0m Trial 30 finished with value: 0.5189831563407024 and parameters: {'learning_rate': 0.0242789178260547, 'reg_lambda': 0.0034506807757594027, 'reg_alpha': 0.05146782849201894, 'subsample': 0.518878952026729, 'colsample_bytree': 0.5152101459516504, 'max_depth': 7}. Best is trial 12 with value: 0.515161095574812.\u001b[0m\n"
     ]
    },
    {
     "name": "stdout",
     "output_type": "stream",
     "text": [
      "[0]\tvalidation_0-rmse:7.69574\n",
      "[1000]\tvalidation_0-rmse:0.72520\n",
      "[2000]\tvalidation_0-rmse:0.72044\n",
      "[2612]\tvalidation_0-rmse:0.71932\n"
     ]
    },
    {
     "name": "stderr",
     "output_type": "stream",
     "text": [
      "\u001b[32m[I 2021-08-25 20:15:01,476]\u001b[0m Trial 31 finished with value: 0.5174237095891477 and parameters: {'learning_rate': 0.010492883237293676, 'reg_lambda': 1.4615012128974343e-05, 'reg_alpha': 47.243303028829885, 'subsample': 0.5276551157111644, 'colsample_bytree': 0.6749036024630397, 'max_depth': 6}. Best is trial 12 with value: 0.515161095574812.\u001b[0m\n"
     ]
    },
    {
     "name": "stdout",
     "output_type": "stream",
     "text": [
      "[0]\tvalidation_0-rmse:7.69852\n",
      "[1000]\tvalidation_0-rmse:0.72362\n",
      "[2000]\tvalidation_0-rmse:0.71932\n",
      "[2607]\tvalidation_0-rmse:0.71834\n"
     ]
    },
    {
     "name": "stderr",
     "output_type": "stream",
     "text": [
      "\u001b[32m[I 2021-08-25 20:15:17,585]\u001b[0m Trial 32 finished with value: 0.5160168522225401 and parameters: {'learning_rate': 0.01013405214578688, 'reg_lambda': 0.0002008984533956177, 'reg_alpha': 11.100988645533418, 'subsample': 0.4440137792296827, 'colsample_bytree': 0.4815808707345781, 'max_depth': 6}. Best is trial 12 with value: 0.515161095574812.\u001b[0m\n"
     ]
    },
    {
     "name": "stdout",
     "output_type": "stream",
     "text": [
      "[0]\tvalidation_0-rmse:7.64251\n",
      "[1000]\tvalidation_0-rmse:0.72138\n",
      "[1781]\tvalidation_0-rmse:0.71849\n"
     ]
    },
    {
     "name": "stderr",
     "output_type": "stream",
     "text": [
      "\u001b[32m[I 2021-08-25 20:15:25,399]\u001b[0m Trial 33 finished with value: 0.5162267907157116 and parameters: {'learning_rate': 0.01740608200571566, 'reg_lambda': 5.239980832651859e-06, 'reg_alpha': 12.158753952156037, 'subsample': 0.2854171660984315, 'colsample_bytree': 0.2925368677822585, 'max_depth': 5}. Best is trial 12 with value: 0.515161095574812.\u001b[0m\n"
     ]
    },
    {
     "name": "stdout",
     "output_type": "stream",
     "text": [
      "[0]\tvalidation_0-rmse:7.51419\n",
      "[777]\tvalidation_0-rmse:0.71805\n"
     ]
    },
    {
     "name": "stderr",
     "output_type": "stream",
     "text": [
      "\u001b[32m[I 2021-08-25 20:15:30,988]\u001b[0m Trial 34 finished with value: 0.5155876436665736 and parameters: {'learning_rate': 0.03405727253480435, 'reg_lambda': 1.6683637127013294e-07, 'reg_alpha': 0.4720437630139366, 'subsample': 0.6629554037052263, 'colsample_bytree': 0.3618696686502044, 'max_depth': 6}. Best is trial 12 with value: 0.515161095574812.\u001b[0m\n"
     ]
    },
    {
     "name": "stdout",
     "output_type": "stream",
     "text": [
      "[0]\tvalidation_0-rmse:7.54348\n",
      "[644]\tvalidation_0-rmse:0.71912\n"
     ]
    },
    {
     "name": "stderr",
     "output_type": "stream",
     "text": [
      "\u001b[32m[I 2021-08-25 20:15:37,948]\u001b[0m Trial 35 finished with value: 0.5171246287161535 and parameters: {'learning_rate': 0.030252335634850473, 'reg_lambda': 1.948565555472664e-07, 'reg_alpha': 0.005385191460606554, 'subsample': 0.6917521546366382, 'colsample_bytree': 0.3860992519277674, 'max_depth': 7}. Best is trial 12 with value: 0.515161095574812.\u001b[0m\n"
     ]
    },
    {
     "name": "stdout",
     "output_type": "stream",
     "text": [
      "[0]\tvalidation_0-rmse:7.41922\n",
      "[735]\tvalidation_0-rmse:0.71813\n"
     ]
    },
    {
     "name": "stderr",
     "output_type": "stream",
     "text": [
      "\u001b[32m[I 2021-08-25 20:15:41,672]\u001b[0m Trial 36 finished with value: 0.5156977643754374 and parameters: {'learning_rate': 0.04639138776102066, 'reg_lambda': 8.305148728754117e-07, 'reg_alpha': 0.24821783470651254, 'subsample': 0.6197335624590526, 'colsample_bytree': 0.3251926736241534, 'max_depth': 5}. Best is trial 12 with value: 0.515161095574812.\u001b[0m\n"
     ]
    },
    {
     "name": "stdout",
     "output_type": "stream",
     "text": [
      "[0]\tvalidation_0-rmse:7.40464\n",
      "[912]\tvalidation_0-rmse:0.71813\n"
     ]
    },
    {
     "name": "stderr",
     "output_type": "stream",
     "text": [
      "\u001b[32m[I 2021-08-25 20:15:45,433]\u001b[0m Trial 37 finished with value: 0.5157027891681799 and parameters: {'learning_rate': 0.048269587057642845, 'reg_lambda': 4.965507846935597e-08, 'reg_alpha': 0.46863583203700515, 'subsample': 0.7738510224953647, 'colsample_bytree': 0.3005251246561105, 'max_depth': 4}. Best is trial 12 with value: 0.515161095574812.\u001b[0m\n"
     ]
    },
    {
     "name": "stdout",
     "output_type": "stream",
     "text": [
      "[0]\tvalidation_0-rmse:7.51098\n",
      "[809]\tvalidation_0-rmse:0.71826\n"
     ]
    },
    {
     "name": "stderr",
     "output_type": "stream",
     "text": [
      "\u001b[32m[I 2021-08-25 20:15:49,975]\u001b[0m Trial 38 finished with value: 0.5158899922551641 and parameters: {'learning_rate': 0.03446506741854835, 'reg_lambda': 9.620357220152443e-07, 'reg_alpha': 0.041028725608332414, 'subsample': 0.8887832912955118, 'colsample_bytree': 0.23498862587243902, 'max_depth': 5}. Best is trial 12 with value: 0.515161095574812.\u001b[0m\n"
     ]
    },
    {
     "name": "stdout",
     "output_type": "stream",
     "text": [
      "[0]\tvalidation_0-rmse:7.37489\n",
      "[553]\tvalidation_0-rmse:0.71812\n"
     ]
    },
    {
     "name": "stderr",
     "output_type": "stream",
     "text": [
      "\u001b[32m[I 2021-08-25 20:15:52,867]\u001b[0m Trial 39 finished with value: 0.5156964035519523 and parameters: {'learning_rate': 0.05214811858145059, 'reg_lambda': 5.355481541551242e-08, 'reg_alpha': 0.0005584438339689676, 'subsample': 0.6106033119967618, 'colsample_bytree': 0.1595463018130975, 'max_depth': 5}. Best is trial 12 with value: 0.515161095574812.\u001b[0m\n"
     ]
    },
    {
     "name": "stdout",
     "output_type": "stream",
     "text": [
      "[0]\tvalidation_0-rmse:7.07167\n",
      "[554]\tvalidation_0-rmse:0.71771\n"
     ]
    },
    {
     "name": "stderr",
     "output_type": "stream",
     "text": [
      "\u001b[32m[I 2021-08-25 20:15:55,117]\u001b[0m Trial 40 finished with value: 0.5150986550045968 and parameters: {'learning_rate': 0.09153505279070977, 'reg_lambda': 3.382908655166799e-08, 'reg_alpha': 1.5809743260115412e-05, 'subsample': 0.5799816085646938, 'colsample_bytree': 0.15011419423791456, 'max_depth': 4}. Best is trial 40 with value: 0.5150986550045968.\u001b[0m\n"
     ]
    },
    {
     "name": "stdout",
     "output_type": "stream",
     "text": [
      "[0]\tvalidation_0-rmse:6.89416\n",
      "[360]\tvalidation_0-rmse:0.71864\n"
     ]
    },
    {
     "name": "stderr",
     "output_type": "stream",
     "text": [
      "\u001b[32m[I 2021-08-25 20:15:56,853]\u001b[0m Trial 41 finished with value: 0.5164122882691656 and parameters: {'learning_rate': 0.11458771665966912, 'reg_lambda': 6.912134891057238e-08, 'reg_alpha': 5.655896610616661e-06, 'subsample': 0.6657071905859779, 'colsample_bytree': 0.15471779822522952, 'max_depth': 4}. Best is trial 40 with value: 0.5150986550045968.\u001b[0m\n"
     ]
    },
    {
     "name": "stdout",
     "output_type": "stream",
     "text": [
      "[0]\tvalidation_0-rmse:6.50949\n",
      "[412]\tvalidation_0-rmse:0.71833\n"
     ]
    },
    {
     "name": "stderr",
     "output_type": "stream",
     "text": [
      "\u001b[32m[I 2021-08-25 20:15:58,387]\u001b[0m Trial 42 finished with value: 0.5159847431622965 and parameters: {'learning_rate': 0.16460764237426118, 'reg_lambda': 5.0964587408926607e-08, 'reg_alpha': 3.7215512930557134e-05, 'subsample': 0.5868537639792764, 'colsample_bytree': 0.1260059909072035, 'max_depth': 3}. Best is trial 40 with value: 0.5150986550045968.\u001b[0m\n"
     ]
    },
    {
     "name": "stdout",
     "output_type": "stream",
     "text": [
      "[0]\tvalidation_0-rmse:7.35665\n",
      "[723]\tvalidation_0-rmse:0.71816\n"
     ]
    },
    {
     "name": "stderr",
     "output_type": "stream",
     "text": [
      "\u001b[32m[I 2021-08-25 20:16:01,542]\u001b[0m Trial 43 finished with value: 0.5157537442884889 and parameters: {'learning_rate': 0.054503022236203104, 'reg_lambda': 1.2895465635676422e-08, 'reg_alpha': 9.720515886804808e-07, 'subsample': 0.7485665435189062, 'colsample_bytree': 0.18966951578822627, 'max_depth': 4}. Best is trial 40 with value: 0.5150986550045968.\u001b[0m\n"
     ]
    },
    {
     "name": "stdout",
     "output_type": "stream",
     "text": [
      "[0]\tvalidation_0-rmse:7.17595\n",
      "[513]\tvalidation_0-rmse:0.71798\n"
     ]
    },
    {
     "name": "stderr",
     "output_type": "stream",
     "text": [
      "\u001b[32m[I 2021-08-25 20:16:04,235]\u001b[0m Trial 44 finished with value: 0.5154662558920452 and parameters: {'learning_rate': 0.0779818820615188, 'reg_lambda': 2.2056097444168482e-07, 'reg_alpha': 0.0004350470889309573, 'subsample': 0.6422425709664351, 'colsample_bytree': 0.2468317748238169, 'max_depth': 5}. Best is trial 40 with value: 0.5150986550045968.\u001b[0m\n"
     ]
    },
    {
     "name": "stdout",
     "output_type": "stream",
     "text": [
      "[0]\tvalidation_0-rmse:7.18163\n",
      "[371]\tvalidation_0-rmse:0.72034\n"
     ]
    },
    {
     "name": "stderr",
     "output_type": "stream",
     "text": [
      "\u001b[32m[I 2021-08-25 20:16:05,827]\u001b[0m Trial 45 finished with value: 0.5188709541745957 and parameters: {'learning_rate': 0.07726025763716853, 'reg_lambda': 2.433074029661155e-07, 'reg_alpha': 0.00021791847601917823, 'subsample': 0.48384725965988984, 'colsample_bytree': 0.2593195074891075, 'max_depth': 4}. Best is trial 40 with value: 0.5150986550045968.\u001b[0m\n"
     ]
    },
    {
     "name": "stdout",
     "output_type": "stream",
     "text": [
      "[0]\tvalidation_0-rmse:6.99317\n",
      "[251]\tvalidation_0-rmse:0.71946\n"
     ]
    },
    {
     "name": "stderr",
     "output_type": "stream",
     "text": [
      "\u001b[32m[I 2021-08-25 20:16:07,337]\u001b[0m Trial 46 finished with value: 0.5176152277039805 and parameters: {'learning_rate': 0.10172450519952354, 'reg_lambda': 1.747504569860736e-06, 'reg_alpha': 3.539732192472971e-05, 'subsample': 0.6451862458629938, 'colsample_bytree': 0.2153021961428363, 'max_depth': 5}. Best is trial 40 with value: 0.5150986550045968.\u001b[0m\n"
     ]
    },
    {
     "name": "stdout",
     "output_type": "stream",
     "text": [
      "[0]\tvalidation_0-rmse:6.78817\n",
      "[243]\tvalidation_0-rmse:0.71839\n"
     ]
    },
    {
     "name": "stderr",
     "output_type": "stream",
     "text": [
      "\u001b[32m[I 2021-08-25 20:16:09,479]\u001b[0m Trial 47 finished with value: 0.5160342657082587 and parameters: {'learning_rate': 0.1283512832350734, 'reg_lambda': 25.874070830977075, 'reg_alpha': 3.9483882445122973e-07, 'subsample': 0.8561982348671882, 'colsample_bytree': 0.2576015663503894, 'max_depth': 6}. Best is trial 40 with value: 0.5150986550045968.\u001b[0m\n"
     ]
    },
    {
     "name": "stdout",
     "output_type": "stream",
     "text": [
      "[0]\tvalidation_0-rmse:7.20435\n",
      "[362]\tvalidation_0-rmse:0.71865\n"
     ]
    },
    {
     "name": "stderr",
     "output_type": "stream",
     "text": [
      "\u001b[32m[I 2021-08-25 20:16:11,497]\u001b[0m Trial 48 finished with value: 0.5164377725950529 and parameters: {'learning_rate': 0.0742974255424473, 'reg_lambda': 3.37334386679972e-06, 'reg_alpha': 5.797813172707074e-06, 'subsample': 0.5881376440392249, 'colsample_bytree': 0.13128867865059993, 'max_depth': 5}. Best is trial 40 with value: 0.5150986550045968.\u001b[0m\n"
     ]
    },
    {
     "name": "stdout",
     "output_type": "stream",
     "text": [
      "[0]\tvalidation_0-rmse:7.29929\n",
      "[587]\tvalidation_0-rmse:0.71894\n"
     ]
    },
    {
     "name": "stderr",
     "output_type": "stream",
     "text": [
      "\u001b[32m[I 2021-08-25 20:16:13,937]\u001b[0m Trial 49 finished with value: 0.5168724706813872 and parameters: {'learning_rate': 0.06195916373845429, 'reg_lambda': 4.2106688637538047e-07, 'reg_alpha': 0.0019418414594759785, 'subsample': 0.6634930644558644, 'colsample_bytree': 0.3622599825126214, 'max_depth': 4}. Best is trial 40 with value: 0.5150986550045968.\u001b[0m\n"
     ]
    },
    {
     "name": "stdout",
     "output_type": "stream",
     "text": [
      "[0]\tvalidation_0-rmse:7.10646\n",
      "[255]\tvalidation_0-rmse:0.71906\n"
     ]
    },
    {
     "name": "stderr",
     "output_type": "stream",
     "text": [
      "\u001b[32m[I 2021-08-25 20:16:15,891]\u001b[0m Trial 50 finished with value: 0.5170197016043964 and parameters: {'learning_rate': 0.08702050151129244, 'reg_lambda': 0.053654284123447214, 'reg_alpha': 0.008494890849169124, 'subsample': 0.559844906462279, 'colsample_bytree': 0.17988637057004842, 'max_depth': 6}. Best is trial 40 with value: 0.5150986550045968.\u001b[0m\n"
     ]
    },
    {
     "name": "stdout",
     "output_type": "stream",
     "text": [
      "[0]\tvalidation_0-rmse:7.46683\n",
      "[768]\tvalidation_0-rmse:0.71791\n"
     ]
    },
    {
     "name": "stderr",
     "output_type": "stream",
     "text": [
      "\u001b[32m[I 2021-08-25 20:16:19,848]\u001b[0m Trial 51 finished with value: 0.5153892342289358 and parameters: {'learning_rate': 0.040211006504421935, 'reg_lambda': 2.5894687695396415e-08, 'reg_alpha': 0.0006827429865261161, 'subsample': 0.6149071393516241, 'colsample_bytree': 0.15634262346795208, 'max_depth': 5}. Best is trial 40 with value: 0.5150986550045968.\u001b[0m\n"
     ]
    },
    {
     "name": "stdout",
     "output_type": "stream",
     "text": [
      "[0]\tvalidation_0-rmse:7.55387\n",
      "[1000]\tvalidation_0-rmse:0.71837\n",
      "[1523]\tvalidation_0-rmse:0.71675\n"
     ]
    },
    {
     "name": "stderr",
     "output_type": "stream",
     "text": [
      "\u001b[32m[I 2021-08-25 20:16:27,329]\u001b[0m Trial 52 finished with value: 0.513732439095347 and parameters: {'learning_rate': 0.028904871264927565, 'reg_lambda': 1.8648375086733325e-08, 'reg_alpha': 0.0006378708314835014, 'subsample': 0.7314570723600744, 'colsample_bytree': 0.10045670988646277, 'max_depth': 5}. Best is trial 52 with value: 0.513732439095347.\u001b[0m\n"
     ]
    },
    {
     "name": "stdout",
     "output_type": "stream",
     "text": [
      "[0]\tvalidation_0-rmse:7.54317\n",
      "[1000]\tvalidation_0-rmse:0.71820\n",
      "[1442]\tvalidation_0-rmse:0.71683\n"
     ]
    },
    {
     "name": "stderr",
     "output_type": "stream",
     "text": [
      "\u001b[32m[I 2021-08-25 20:16:34,637]\u001b[0m Trial 53 finished with value: 0.5138426301347221 and parameters: {'learning_rate': 0.03029406919779316, 'reg_lambda': 2.0847268294992278e-08, 'reg_alpha': 0.000574426580614129, 'subsample': 0.7321817786222587, 'colsample_bytree': 0.10745941405441745, 'max_depth': 5}. Best is trial 52 with value: 0.513732439095347.\u001b[0m\n"
     ]
    },
    {
     "name": "stdout",
     "output_type": "stream",
     "text": [
      "[0]\tvalidation_0-rmse:7.55781\n",
      "[1000]\tvalidation_0-rmse:0.72039\n",
      "[1561]\tvalidation_0-rmse:0.71805\n"
     ]
    },
    {
     "name": "stderr",
     "output_type": "stream",
     "text": [
      "\u001b[32m[I 2021-08-25 20:16:40,910]\u001b[0m Trial 54 finished with value: 0.5155873752528883 and parameters: {'learning_rate': 0.02839140481938117, 'reg_lambda': 2.2320822637591387e-08, 'reg_alpha': 0.0007435742646780042, 'subsample': 0.7425655099193614, 'colsample_bytree': 0.1127281350863229, 'max_depth': 4}. Best is trial 52 with value: 0.513732439095347.\u001b[0m\n"
     ]
    },
    {
     "name": "stdout",
     "output_type": "stream",
     "text": [
      "[0]\tvalidation_0-rmse:7.43580\n",
      "[807]\tvalidation_0-rmse:0.71760\n"
     ]
    },
    {
     "name": "stderr",
     "output_type": "stream",
     "text": [
      "\u001b[32m[I 2021-08-25 20:16:45,163]\u001b[0m Trial 55 finished with value: 0.5149435014881149 and parameters: {'learning_rate': 0.04422309410057541, 'reg_lambda': 2.1609721529832787e-08, 'reg_alpha': 0.0003393063955853017, 'subsample': 0.8336037743605955, 'colsample_bytree': 0.11506379221574571, 'max_depth': 5}. Best is trial 52 with value: 0.513732439095347.\u001b[0m\n"
     ]
    },
    {
     "name": "stdout",
     "output_type": "stream",
     "text": [
      "[0]\tvalidation_0-rmse:7.48144\n",
      "[1000]\tvalidation_0-rmse:0.71711\n",
      "[1090]\tvalidation_0-rmse:0.71688\n"
     ]
    },
    {
     "name": "stderr",
     "output_type": "stream",
     "text": [
      "\u001b[32m[I 2021-08-25 20:16:51,020]\u001b[0m Trial 56 finished with value: 0.5139047404636162 and parameters: {'learning_rate': 0.038299546435972234, 'reg_lambda': 1.8259050587936055e-08, 'reg_alpha': 0.0001191009195350206, 'subsample': 0.9781120683646611, 'colsample_bytree': 0.1099193870742836, 'max_depth': 5}. Best is trial 52 with value: 0.513732439095347.\u001b[0m\n"
     ]
    },
    {
     "name": "stdout",
     "output_type": "stream",
     "text": [
      "[0]\tvalidation_0-rmse:7.31175\n",
      "[755]\tvalidation_0-rmse:0.71814\n"
     ]
    },
    {
     "name": "stderr",
     "output_type": "stream",
     "text": [
      "\u001b[32m[I 2021-08-25 20:16:54,433]\u001b[0m Trial 57 finished with value: 0.5157205497896553 and parameters: {'learning_rate': 0.060329026013345444, 'reg_lambda': 1.7458569130964025e-08, 'reg_alpha': 7.921557069908646e-05, 'subsample': 0.9987632146220906, 'colsample_bytree': 0.10185258950331727, 'max_depth': 4}. Best is trial 52 with value: 0.513732439095347.\u001b[0m\n"
     ]
    },
    {
     "name": "stdout",
     "output_type": "stream",
     "text": [
      "[0]\tvalidation_0-rmse:7.48837\n",
      "[1000]\tvalidation_0-rmse:0.71729\n",
      "[1174]\tvalidation_0-rmse:0.71688\n"
     ]
    },
    {
     "name": "stderr",
     "output_type": "stream",
     "text": [
      "\u001b[32m[I 2021-08-25 20:17:00,734]\u001b[0m Trial 58 finished with value: 0.5139041267854976 and parameters: {'learning_rate': 0.03740075808441301, 'reg_lambda': 1.237435803326663e-07, 'reg_alpha': 1.4757066227702658e-05, 'subsample': 0.9939971971555525, 'colsample_bytree': 0.10373216666657512, 'max_depth': 5}. Best is trial 52 with value: 0.513732439095347.\u001b[0m\n"
     ]
    },
    {
     "name": "stdout",
     "output_type": "stream",
     "text": [
      "[0]\tvalidation_0-rmse:7.43392\n",
      "[1000]\tvalidation_0-rmse:0.71682\n",
      "[1064]\tvalidation_0-rmse:0.71671\n"
     ]
    },
    {
     "name": "stderr",
     "output_type": "stream",
     "text": [
      "\u001b[32m[I 2021-08-25 20:17:06,488]\u001b[0m Trial 59 finished with value: 0.5136655135294447 and parameters: {'learning_rate': 0.04446771153983017, 'reg_lambda': 1.1151422363473431e-07, 'reg_alpha': 1.0776986798599878e-05, 'subsample': 0.9792457299666593, 'colsample_bytree': 0.10594269510018421, 'max_depth': 5}. Best is trial 59 with value: 0.5136655135294447.\u001b[0m\n"
     ]
    },
    {
     "name": "stdout",
     "output_type": "stream",
     "text": [
      "[0]\tvalidation_0-rmse:7.44068\n",
      "[640]\tvalidation_0-rmse:0.71962\n"
     ]
    },
    {
     "name": "stderr",
     "output_type": "stream",
     "text": [
      "\u001b[32m[I 2021-08-25 20:17:10,281]\u001b[0m Trial 60 finished with value: 0.5178339931243978 and parameters: {'learning_rate': 0.04358319867375287, 'reg_lambda': 1.2129716091834516e-07, 'reg_alpha': 2.223577718118571e-06, 'subsample': 0.9605280984111878, 'colsample_bytree': 0.8218263637838084, 'max_depth': 5}. Best is trial 59 with value: 0.5136655135294447.\u001b[0m\n"
     ]
    },
    {
     "name": "stdout",
     "output_type": "stream",
     "text": [
      "[0]\tvalidation_0-rmse:7.50918\n",
      "[1000]\tvalidation_0-rmse:0.71754\n",
      "[1088]\tvalidation_0-rmse:0.71726\n"
     ]
    },
    {
     "name": "stderr",
     "output_type": "stream",
     "text": [
      "\u001b[32m[I 2021-08-25 20:17:16,122]\u001b[0m Trial 61 finished with value: 0.5144653197302634 and parameters: {'learning_rate': 0.034700651481437826, 'reg_lambda': 3.800152392499985e-08, 'reg_alpha': 1.6938867504838553e-05, 'subsample': 0.9389756619336708, 'colsample_bytree': 0.10154352382707443, 'max_depth': 5}. Best is trial 59 with value: 0.5136655135294447.\u001b[0m\n"
     ]
    },
    {
     "name": "stdout",
     "output_type": "stream",
     "text": [
      "[0]\tvalidation_0-rmse:7.48192\n",
      "[1000]\tvalidation_0-rmse:0.71717\n",
      "[1040]\tvalidation_0-rmse:0.71705\n"
     ]
    },
    {
     "name": "stderr",
     "output_type": "stream",
     "text": [
      "\u001b[32m[I 2021-08-25 20:17:21,650]\u001b[0m Trial 62 finished with value: 0.5141570486679816 and parameters: {'learning_rate': 0.03823856590182823, 'reg_lambda': 5.077552376630058e-07, 'reg_alpha': 3.856291594951299e-05, 'subsample': 0.9221326943959856, 'colsample_bytree': 0.10201332977347233, 'max_depth': 5}. Best is trial 59 with value: 0.5136655135294447.\u001b[0m\n"
     ]
    },
    {
     "name": "stdout",
     "output_type": "stream",
     "text": [
      "[0]\tvalidation_0-rmse:7.49417\n",
      "[1000]\tvalidation_0-rmse:0.71725\n",
      "[1062]\tvalidation_0-rmse:0.71706\n"
     ]
    },
    {
     "name": "stderr",
     "output_type": "stream",
     "text": [
      "\u001b[32m[I 2021-08-25 20:17:27,350]\u001b[0m Trial 63 finished with value: 0.5141760951558131 and parameters: {'learning_rate': 0.03664905444049974, 'reg_lambda': 3.597996258229682e-07, 'reg_alpha': 7.470353006681799e-06, 'subsample': 0.9347684323144506, 'colsample_bytree': 0.104477473393837, 'max_depth': 5}. Best is trial 59 with value: 0.5136655135294447.\u001b[0m\n"
     ]
    },
    {
     "name": "stdout",
     "output_type": "stream",
     "text": [
      "[0]\tvalidation_0-rmse:7.53717\n",
      "[738]\tvalidation_0-rmse:0.71793\n"
     ]
    },
    {
     "name": "stderr",
     "output_type": "stream",
     "text": [
      "\u001b[32m[I 2021-08-25 20:17:32,845]\u001b[0m Trial 64 finished with value: 0.5154294271587734 and parameters: {'learning_rate': 0.03106491847830436, 'reg_lambda': 6.271797821479586e-07, 'reg_alpha': 5.407312693669135e-06, 'subsample': 0.8952395104685968, 'colsample_bytree': 0.2062914619051432, 'max_depth': 6}. Best is trial 59 with value: 0.5136655135294447.\u001b[0m\n"
     ]
    },
    {
     "name": "stdout",
     "output_type": "stream",
     "text": [
      "[0]\tvalidation_0-rmse:7.49420\n",
      "[1000]\tvalidation_0-rmse:0.71748\n",
      "[1317]\tvalidation_0-rmse:0.71676\n"
     ]
    },
    {
     "name": "stderr",
     "output_type": "stream",
     "text": [
      "\u001b[32m[I 2021-08-25 20:17:39,901]\u001b[0m Trial 65 finished with value: 0.5137365290811927 and parameters: {'learning_rate': 0.0366439113890441, 'reg_lambda': 1.0101940563835499e-08, 'reg_alpha': 4.1892154769953047e-08, 'subsample': 0.9948999748698955, 'colsample_bytree': 0.10032401217654696, 'max_depth': 5}. Best is trial 59 with value: 0.5136655135294447.\u001b[0m\n"
     ]
    },
    {
     "name": "stdout",
     "output_type": "stream",
     "text": [
      "[0]\tvalidation_0-rmse:7.57112\n",
      "[1000]\tvalidation_0-rmse:0.71739\n",
      "[1185]\tvalidation_0-rmse:0.71695\n"
     ]
    },
    {
     "name": "stderr",
     "output_type": "stream",
     "text": [
      "\u001b[32m[I 2021-08-25 20:17:48,762]\u001b[0m Trial 66 finished with value: 0.5140150945505724 and parameters: {'learning_rate': 0.026660304093987588, 'reg_lambda': 1.1122818455298888e-08, 'reg_alpha': 1.7651988455450117e-07, 'subsample': 0.9890953769340284, 'colsample_bytree': 0.12635232069637903, 'max_depth': 6}. Best is trial 59 with value: 0.5136655135294447.\u001b[0m\n"
     ]
    },
    {
     "name": "stdout",
     "output_type": "stream",
     "text": [
      "[0]\tvalidation_0-rmse:7.57805\n",
      "[1000]\tvalidation_0-rmse:0.71751\n",
      "[1131]\tvalidation_0-rmse:0.71714\n"
     ]
    },
    {
     "name": "stderr",
     "output_type": "stream",
     "text": [
      "\u001b[32m[I 2021-08-25 20:17:57,059]\u001b[0m Trial 67 finished with value: 0.5142912539873024 and parameters: {'learning_rate': 0.025760356548749627, 'reg_lambda': 9.175220361425573e-08, 'reg_alpha': 2.4547325289016286e-08, 'subsample': 0.9758333683626981, 'colsample_bytree': 0.13402368116173274, 'max_depth': 6}. Best is trial 59 with value: 0.5136655135294447.\u001b[0m\n"
     ]
    },
    {
     "name": "stdout",
     "output_type": "stream",
     "text": [
      "[0]\tvalidation_0-rmse:7.56260\n",
      "[1000]\tvalidation_0-rmse:0.71733\n",
      "[1020]\tvalidation_0-rmse:0.71730\n"
     ]
    },
    {
     "name": "stderr",
     "output_type": "stream",
     "text": [
      "\u001b[32m[I 2021-08-25 20:18:04,697]\u001b[0m Trial 68 finished with value: 0.5145150238714782 and parameters: {'learning_rate': 0.027764893703962623, 'reg_lambda': 1.1629449142927913e-08, 'reg_alpha': 8.773211898916807e-08, 'subsample': 0.9851076417376773, 'colsample_bytree': 0.1734209149909941, 'max_depth': 6}. Best is trial 59 with value: 0.5136655135294447.\u001b[0m\n"
     ]
    },
    {
     "name": "stdout",
     "output_type": "stream",
     "text": [
      "[0]\tvalidation_0-rmse:7.58806\n",
      "[1000]\tvalidation_0-rmse:0.71781\n",
      "[1359]\tvalidation_0-rmse:0.71685\n"
     ]
    },
    {
     "name": "stderr",
     "output_type": "stream",
     "text": [
      "\u001b[32m[I 2021-08-25 20:18:14,740]\u001b[0m Trial 69 finished with value: 0.5138689802541833 and parameters: {'learning_rate': 0.024460972404951237, 'reg_lambda': 1.1231632563909954e-08, 'reg_alpha': 1.2340964348415884e-07, 'subsample': 0.9018664056079543, 'colsample_bytree': 0.13357615025695885, 'max_depth': 6}. Best is trial 59 with value: 0.5136655135294447.\u001b[0m\n"
     ]
    },
    {
     "name": "stdout",
     "output_type": "stream",
     "text": [
      "[0]\tvalidation_0-rmse:7.54500\n",
      "[1000]\tvalidation_0-rmse:0.71803\n",
      "[1252]\tvalidation_0-rmse:0.71731\n"
     ]
    },
    {
     "name": "stderr",
     "output_type": "stream",
     "text": [
      "\u001b[32m[I 2021-08-25 20:18:21,372]\u001b[0m Trial 70 finished with value: 0.5145329748557487 and parameters: {'learning_rate': 0.030049888947429278, 'reg_lambda': 1.0086778957212867e-07, 'reg_alpha': 0.00012658789975137678, 'subsample': 0.886280413868814, 'colsample_bytree': 0.2043822647932102, 'max_depth': 5}. Best is trial 59 with value: 0.5136655135294447.\u001b[0m\n"
     ]
    },
    {
     "name": "stdout",
     "output_type": "stream",
     "text": [
      "[0]\tvalidation_0-rmse:7.58953\n",
      "[1000]\tvalidation_0-rmse:0.71769\n",
      "[1265]\tvalidation_0-rmse:0.71696\n"
     ]
    },
    {
     "name": "stderr",
     "output_type": "stream",
     "text": [
      "\u001b[32m[I 2021-08-25 20:18:30,834]\u001b[0m Trial 71 finished with value: 0.5140277208596788 and parameters: {'learning_rate': 0.024269811033277716, 'reg_lambda': 1.0733881237548207e-08, 'reg_alpha': 1.0608064627807753e-08, 'subsample': 0.9662437935446292, 'colsample_bytree': 0.13468459524761475, 'max_depth': 6}. Best is trial 59 with value: 0.5136655135294447.\u001b[0m\n"
     ]
    },
    {
     "name": "stdout",
     "output_type": "stream",
     "text": [
      "[0]\tvalidation_0-rmse:7.53144\n",
      "[915]\tvalidation_0-rmse:0.71721\n"
     ]
    },
    {
     "name": "stderr",
     "output_type": "stream",
     "text": [
      "\u001b[32m[I 2021-08-25 20:18:37,689]\u001b[0m Trial 72 finished with value: 0.5143802631109989 and parameters: {'learning_rate': 0.0318099150262073, 'reg_lambda': 1.6723580406347933e-08, 'reg_alpha': 2.9314418109989205e-08, 'subsample': 0.9975773595108334, 'colsample_bytree': 0.16544826162953183, 'max_depth': 6}. Best is trial 59 with value: 0.5136655135294447.\u001b[0m\n"
     ]
    },
    {
     "name": "stdout",
     "output_type": "stream",
     "text": [
      "[0]\tvalidation_0-rmse:7.62240\n",
      "[1000]\tvalidation_0-rmse:0.71980\n",
      "[1560]\tvalidation_0-rmse:0.71764\n"
     ]
    },
    {
     "name": "stderr",
     "output_type": "stream",
     "text": [
      "\u001b[32m[I 2021-08-25 20:18:46,017]\u001b[0m Trial 73 finished with value: 0.5149993815075149 and parameters: {'learning_rate': 0.02000432067330925, 'reg_lambda': 1.1238651018614057e-08, 'reg_alpha': 1.076996740411932e-07, 'subsample': 0.9115066292695472, 'colsample_bytree': 0.13089428633897665, 'max_depth': 5}. Best is trial 59 with value: 0.5136655135294447.\u001b[0m\n"
     ]
    },
    {
     "name": "stdout",
     "output_type": "stream",
     "text": [
      "[0]\tvalidation_0-rmse:7.59633\n",
      "[1000]\tvalidation_0-rmse:0.71830\n",
      "[1228]\tvalidation_0-rmse:0.71744\n"
     ]
    },
    {
     "name": "stderr",
     "output_type": "stream",
     "text": [
      "\u001b[32m[I 2021-08-25 20:18:54,552]\u001b[0m Trial 74 finished with value: 0.5147219611087798 and parameters: {'learning_rate': 0.023390335826450746, 'reg_lambda': 9.994455957325489e-08, 'reg_alpha': 2.0548090747535486e-07, 'subsample': 0.8029100675444018, 'colsample_bytree': 0.10003785662036532, 'max_depth': 6}. Best is trial 59 with value: 0.5136655135294447.\u001b[0m\n"
     ]
    },
    {
     "name": "stdout",
     "output_type": "stream",
     "text": [
      "[0]\tvalidation_0-rmse:7.45844\n",
      "[548]\tvalidation_0-rmse:0.71768\n"
     ]
    },
    {
     "name": "stderr",
     "output_type": "stream",
     "text": [
      "\u001b[32m[I 2021-08-25 20:19:00,599]\u001b[0m Trial 75 finished with value: 0.5150667936584791 and parameters: {'learning_rate': 0.04128398860332548, 'reg_lambda': 3.2711303768535984e-08, 'reg_alpha': 6.578221117214638e-07, 'subsample': 0.8564129393749846, 'colsample_bytree': 0.17572540545155194, 'max_depth': 7}. Best is trial 59 with value: 0.5136655135294447.\u001b[0m\n"
     ]
    },
    {
     "name": "stdout",
     "output_type": "stream",
     "text": [
      "[0]\tvalidation_0-rmse:7.49838\n",
      "[1000]\tvalidation_0-rmse:0.71767\n",
      "[1077]\tvalidation_0-rmse:0.71748\n"
     ]
    },
    {
     "name": "stderr",
     "output_type": "stream",
     "text": [
      "\u001b[32m[I 2021-08-25 20:19:06,371]\u001b[0m Trial 76 finished with value: 0.514775669619958 and parameters: {'learning_rate': 0.03610054849502425, 'reg_lambda': 1.1759532207536435e-08, 'reg_alpha': 2.002619291150958e-06, 'subsample': 0.9605928215462, 'colsample_bytree': 0.22370407465102, 'max_depth': 5}. Best is trial 59 with value: 0.5136655135294447.\u001b[0m\n"
     ]
    },
    {
     "name": "stdout",
     "output_type": "stream",
     "text": [
      "[0]\tvalidation_0-rmse:7.55746\n",
      "[1000]\tvalidation_0-rmse:0.71727\n",
      "[1028]\tvalidation_0-rmse:0.71722\n"
     ]
    },
    {
     "name": "stderr",
     "output_type": "stream",
     "text": [
      "\u001b[32m[I 2021-08-25 20:19:13,787]\u001b[0m Trial 77 finished with value: 0.5143946467694841 and parameters: {'learning_rate': 0.02843109192796371, 'reg_lambda': 1.0170053990570699e-08, 'reg_alpha': 1.887166107316366e-07, 'subsample': 0.8682016758778879, 'colsample_bytree': 0.1419193074103146, 'max_depth': 6}. Best is trial 59 with value: 0.5136655135294447.\u001b[0m\n"
     ]
    },
    {
     "name": "stdout",
     "output_type": "stream",
     "text": [
      "[0]\tvalidation_0-rmse:7.35710\n",
      "[706]\tvalidation_0-rmse:0.71756\n"
     ]
    },
    {
     "name": "stderr",
     "output_type": "stream",
     "text": [
      "\u001b[32m[I 2021-08-25 20:19:17,729]\u001b[0m Trial 78 finished with value: 0.5148731793189038 and parameters: {'learning_rate': 0.0544393022664733, 'reg_lambda': 6.857535842220376e-08, 'reg_alpha': 7.143250545869917e-08, 'subsample': 0.9947689593474673, 'colsample_bytree': 0.19352991633046654, 'max_depth': 5}. Best is trial 59 with value: 0.5136655135294447.\u001b[0m\n"
     ]
    },
    {
     "name": "stdout",
     "output_type": "stream",
     "text": [
      "[0]\tvalidation_0-rmse:7.63772\n",
      "[1000]\tvalidation_0-rmse:0.71912\n",
      "[1560]\tvalidation_0-rmse:0.71716\n"
     ]
    },
    {
     "name": "stderr",
     "output_type": "stream",
     "text": [
      "\u001b[32m[I 2021-08-25 20:19:29,085]\u001b[0m Trial 79 finished with value: 0.5143109365100511 and parameters: {'learning_rate': 0.018016645775840136, 'reg_lambda': 3.14047141342844e-08, 'reg_alpha': 4.085331800196677e-08, 'subsample': 0.9175940528405576, 'colsample_bytree': 0.12617991837858333, 'max_depth': 6}. Best is trial 59 with value: 0.5136655135294447.\u001b[0m\n"
     ]
    },
    {
     "name": "stdout",
     "output_type": "stream",
     "text": [
      "[0]\tvalidation_0-rmse:7.52165\n",
      "[1000]\tvalidation_0-rmse:0.71737\n",
      "[1216]\tvalidation_0-rmse:0.71689\n"
     ]
    },
    {
     "name": "stderr",
     "output_type": "stream",
     "text": [
      "\u001b[32m[I 2021-08-25 20:19:35,547]\u001b[0m Trial 80 finished with value: 0.5139312498460008 and parameters: {'learning_rate': 0.033079226382366274, 'reg_lambda': 1.4873298129641664e-07, 'reg_alpha': 0.0012995580525488896, 'subsample': 0.9520152148665324, 'colsample_bytree': 0.15212439135206124, 'max_depth': 5}. Best is trial 59 with value: 0.5136655135294447.\u001b[0m\n"
     ]
    },
    {
     "name": "stdout",
     "output_type": "stream",
     "text": [
      "[0]\tvalidation_0-rmse:7.57605\n",
      "[1000]\tvalidation_0-rmse:0.71824\n",
      "[1219]\tvalidation_0-rmse:0.71754\n"
     ]
    },
    {
     "name": "stderr",
     "output_type": "stream",
     "text": [
      "\u001b[32m[I 2021-08-25 20:19:42,176]\u001b[0m Trial 81 finished with value: 0.5148594307690353 and parameters: {'learning_rate': 0.026018926376836553, 'reg_lambda': 1.335821793908413e-07, 'reg_alpha': 0.0029506222414204925, 'subsample': 0.958000806627372, 'colsample_bytree': 0.15738962049362845, 'max_depth': 5}. Best is trial 59 with value: 0.5136655135294447.\u001b[0m\n"
     ]
    },
    {
     "name": "stdout",
     "output_type": "stream",
     "text": [
      "[0]\tvalidation_0-rmse:7.53170\n",
      "[1000]\tvalidation_0-rmse:0.71795\n",
      "[1041]\tvalidation_0-rmse:0.71782\n"
     ]
    },
    {
     "name": "stderr",
     "output_type": "stream",
     "text": [
      "\u001b[32m[I 2021-08-25 20:19:47,824]\u001b[0m Trial 82 finished with value: 0.5152682574428853 and parameters: {'learning_rate': 0.031776354222554905, 'reg_lambda': 5.1847877136943925e-08, 'reg_alpha': 0.0010689768435239, 'subsample': 0.8303568686721434, 'colsample_bytree': 0.1175182733446836, 'max_depth': 5}. Best is trial 59 with value: 0.5136655135294447.\u001b[0m\n"
     ]
    },
    {
     "name": "stdout",
     "output_type": "stream",
     "text": [
      "[0]\tvalidation_0-rmse:7.61118\n",
      "[1000]\tvalidation_0-rmse:0.71911\n",
      "[1539]\tvalidation_0-rmse:0.71748\n"
     ]
    },
    {
     "name": "stderr",
     "output_type": "stream",
     "text": [
      "\u001b[32m[I 2021-08-25 20:19:56,101]\u001b[0m Trial 83 finished with value: 0.5147796310314673 and parameters: {'learning_rate': 0.021461414974382687, 'reg_lambda': 2.623867131020351e-07, 'reg_alpha': 0.0002362071626824615, 'subsample': 0.9448300943332659, 'colsample_bytree': 0.1489324529713522, 'max_depth': 5}. Best is trial 59 with value: 0.5136655135294447.\u001b[0m\n"
     ]
    },
    {
     "name": "stdout",
     "output_type": "stream",
     "text": [
      "[0]\tvalidation_0-rmse:7.40128\n",
      "[1000]\tvalidation_0-rmse:0.71765\n",
      "[1118]\tvalidation_0-rmse:0.71733\n"
     ]
    },
    {
     "name": "stderr",
     "output_type": "stream",
     "text": [
      "\u001b[32m[I 2021-08-25 20:20:00,875]\u001b[0m Trial 84 finished with value: 0.5145525961148093 and parameters: {'learning_rate': 0.048704018317072655, 'reg_lambda': 2.6273249584733842e-08, 'reg_alpha': 6.883717723384262e-05, 'subsample': 0.981370167559216, 'colsample_bytree': 0.18867042582570256, 'max_depth': 4}. Best is trial 59 with value: 0.5136655135294447.\u001b[0m\n"
     ]
    },
    {
     "name": "stdout",
     "output_type": "stream",
     "text": [
      "[0]\tvalidation_0-rmse:7.51775\n",
      "[1000]\tvalidation_0-rmse:0.71772\n",
      "[1039]\tvalidation_0-rmse:0.71759\n"
     ]
    },
    {
     "name": "stderr",
     "output_type": "stream",
     "text": [
      "\u001b[32m[I 2021-08-25 20:20:06,388]\u001b[0m Trial 85 finished with value: 0.5149343468117327 and parameters: {'learning_rate': 0.03358716190720306, 'reg_lambda': 1.0185529256104645e-08, 'reg_alpha': 1.2680033768246938e-08, 'subsample': 0.9063666391763489, 'colsample_bytree': 0.10343613985130193, 'max_depth': 5}. Best is trial 59 with value: 0.5136655135294447.\u001b[0m\n"
     ]
    },
    {
     "name": "stdout",
     "output_type": "stream",
     "text": [
      "[0]\tvalidation_0-rmse:7.48486\n",
      "[606]\tvalidation_0-rmse:0.71935\n"
     ]
    },
    {
     "name": "stderr",
     "output_type": "stream",
     "text": [
      "\u001b[32m[I 2021-08-25 20:20:10,924]\u001b[0m Trial 86 finished with value: 0.5174642936953028 and parameters: {'learning_rate': 0.03785184651964826, 'reg_lambda': 1.1140232691094302e-06, 'reg_alpha': 9.356222468091636e-07, 'subsample': 0.7831829891696431, 'colsample_bytree': 0.6413868181669329, 'max_depth': 6}. Best is trial 59 with value: 0.5136655135294447.\u001b[0m\n"
     ]
    },
    {
     "name": "stdout",
     "output_type": "stream",
     "text": [
      "[0]\tvalidation_0-rmse:7.42908\n",
      "[702]\tvalidation_0-rmse:0.71818\n"
     ]
    },
    {
     "name": "stderr",
     "output_type": "stream",
     "text": [
      "\u001b[32m[I 2021-08-25 20:20:14,693]\u001b[0m Trial 87 finished with value: 0.5157811110784165 and parameters: {'learning_rate': 0.045090671884150786, 'reg_lambda': 6.128379907016692e-08, 'reg_alpha': 0.00013055529085894804, 'subsample': 0.878958707323271, 'colsample_bytree': 0.2784111009978901, 'max_depth': 5}. Best is trial 59 with value: 0.5136655135294447.\u001b[0m\n"
     ]
    },
    {
     "name": "stdout",
     "output_type": "stream",
     "text": [
      "[0]\tvalidation_0-rmse:7.55695\n",
      "[1000]\tvalidation_0-rmse:0.71785\n",
      "[1217]\tvalidation_0-rmse:0.71727\n"
     ]
    },
    {
     "name": "stderr",
     "output_type": "stream",
     "text": [
      "\u001b[32m[I 2021-08-25 20:20:21,265]\u001b[0m Trial 88 finished with value: 0.5144654313254488 and parameters: {'learning_rate': 0.028500077276109613, 'reg_lambda': 1.9081900703128997e-08, 'reg_alpha': 0.002068518256926155, 'subsample': 0.9380028444796025, 'colsample_bytree': 0.16486218821842535, 'max_depth': 5}. Best is trial 59 with value: 0.5136655135294447.\u001b[0m\n"
     ]
    },
    {
     "name": "stdout",
     "output_type": "stream",
     "text": [
      "[0]\tvalidation_0-rmse:7.45421\n",
      "[1000]\tvalidation_0-rmse:0.71842\n",
      "[1211]\tvalidation_0-rmse:0.71784\n"
     ]
    },
    {
     "name": "stderr",
     "output_type": "stream",
     "text": [
      "\u001b[32m[I 2021-08-25 20:20:26,442]\u001b[0m Trial 89 finished with value: 0.5152797662780919 and parameters: {'learning_rate': 0.04183470825972132, 'reg_lambda': 1.30295552834848e-07, 'reg_alpha': 3.53523977870941e-07, 'subsample': 0.9865198408490821, 'colsample_bytree': 0.21764333964803256, 'max_depth': 4}. Best is trial 59 with value: 0.5136655135294447.\u001b[0m\n"
     ]
    },
    {
     "name": "stdout",
     "output_type": "stream",
     "text": [
      "[0]\tvalidation_0-rmse:7.58485\n",
      "[996]\tvalidation_0-rmse:0.71723\n"
     ]
    },
    {
     "name": "stderr",
     "output_type": "stream",
     "text": [
      "\u001b[32m[I 2021-08-25 20:20:37,188]\u001b[0m Trial 90 finished with value: 0.5144230757806584 and parameters: {'learning_rate': 0.024879625848712547, 'reg_lambda': 4.236209099461395e-08, 'reg_alpha': 2.6050687247939946e-05, 'subsample': 0.9969060699406992, 'colsample_bytree': 0.11959954751005433, 'max_depth': 7}. Best is trial 59 with value: 0.5136655135294447.\u001b[0m\n"
     ]
    },
    {
     "name": "stdout",
     "output_type": "stream",
     "text": [
      "[0]\tvalidation_0-rmse:7.59894\n",
      "[1000]\tvalidation_0-rmse:0.71772\n",
      "[1210]\tvalidation_0-rmse:0.71719\n"
     ]
    },
    {
     "name": "stderr",
     "output_type": "stream",
     "text": [
      "\u001b[32m[I 2021-08-25 20:20:46,169]\u001b[0m Trial 91 finished with value: 0.5143556817768595 and parameters: {'learning_rate': 0.02304791575262378, 'reg_lambda': 1.1238573145586647e-08, 'reg_alpha': 3.248895350743756e-06, 'subsample': 0.9702246474037716, 'colsample_bytree': 0.14290700421137117, 'max_depth': 6}. Best is trial 59 with value: 0.5136655135294447.\u001b[0m\n"
     ]
    },
    {
     "name": "stdout",
     "output_type": "stream",
     "text": [
      "[0]\tvalidation_0-rmse:7.52744\n",
      "[945]\tvalidation_0-rmse:0.71708\n"
     ]
    },
    {
     "name": "stderr",
     "output_type": "stream",
     "text": [
      "\u001b[32m[I 2021-08-25 20:20:53,179]\u001b[0m Trial 92 finished with value: 0.514189735550458 and parameters: {'learning_rate': 0.03232665157860201, 'reg_lambda': 1.9296397167009652e-08, 'reg_alpha': 1.03177116964514e-08, 'subsample': 0.9538418331748755, 'colsample_bytree': 0.13014905181338837, 'max_depth': 6}. Best is trial 59 with value: 0.5136655135294447.\u001b[0m\n"
     ]
    },
    {
     "name": "stdout",
     "output_type": "stream",
     "text": [
      "[0]\tvalidation_0-rmse:7.62760\n",
      "[1000]\tvalidation_0-rmse:0.71931\n",
      "[1561]\tvalidation_0-rmse:0.71714\n"
     ]
    },
    {
     "name": "stderr",
     "output_type": "stream",
     "text": [
      "\u001b[32m[I 2021-08-25 20:21:03,757]\u001b[0m Trial 93 finished with value: 0.5142842004418426 and parameters: {'learning_rate': 0.019334189909746058, 'reg_lambda': 8.301312669907618e-08, 'reg_alpha': 2.0572862923742796e-08, 'subsample': 0.7105625892841511, 'colsample_bytree': 0.10162372493308833, 'max_depth': 6}. Best is trial 59 with value: 0.5136655135294447.\u001b[0m\n"
     ]
    },
    {
     "name": "stdout",
     "output_type": "stream",
     "text": [
      "[0]\tvalidation_0-rmse:7.59217\n",
      "[1000]\tvalidation_0-rmse:0.71874\n",
      "[1599]\tvalidation_0-rmse:0.71736\n"
     ]
    },
    {
     "name": "stderr",
     "output_type": "stream",
     "text": [
      "\u001b[32m[I 2021-08-25 20:21:12,150]\u001b[0m Trial 94 finished with value: 0.5146036605607103 and parameters: {'learning_rate': 0.02392893053395154, 'reg_lambda': 3.402268654052328e-08, 'reg_alpha': 1.7341675790017917e-07, 'subsample': 0.9258040617334088, 'colsample_bytree': 0.23389663183952855, 'max_depth': 5}. Best is trial 59 with value: 0.5136655135294447.\u001b[0m\n"
     ]
    },
    {
     "name": "stdout",
     "output_type": "stream",
     "text": [
      "[0]\tvalidation_0-rmse:7.56639\n",
      "[839]\tvalidation_0-rmse:0.71733\n"
     ]
    },
    {
     "name": "stderr",
     "output_type": "stream",
     "text": [
      "\u001b[32m[I 2021-08-25 20:21:21,449]\u001b[0m Trial 95 finished with value: 0.5145581934662254 and parameters: {'learning_rate': 0.02727251943809754, 'reg_lambda': 1.6934858319258918e-07, 'reg_alpha': 5.007041422916476e-08, 'subsample': 0.9690253013788293, 'colsample_bytree': 0.15043558802954632, 'max_depth': 7}. Best is trial 59 with value: 0.5136655135294447.\u001b[0m\n"
     ]
    },
    {
     "name": "stdout",
     "output_type": "stream",
     "text": [
      "[0]\tvalidation_0-rmse:7.54920\n",
      "[769]\tvalidation_0-rmse:0.71778\n"
     ]
    },
    {
     "name": "stderr",
     "output_type": "stream",
     "text": [
      "\u001b[32m[I 2021-08-25 20:21:27,259]\u001b[0m Trial 96 finished with value: 0.5152035419149298 and parameters: {'learning_rate': 0.02950388704604629, 'reg_lambda': 3.405465515596631e-07, 'reg_alpha': 0.0015498783449912406, 'subsample': 0.8441069217617727, 'colsample_bytree': 0.1797129205276121, 'max_depth': 6}. Best is trial 59 with value: 0.5136655135294447.\u001b[0m\n"
     ]
    },
    {
     "name": "stdout",
     "output_type": "stream",
     "text": [
      "[0]\tvalidation_0-rmse:7.50164\n",
      "[1000]\tvalidation_0-rmse:0.71738\n",
      "[1007]\tvalidation_0-rmse:0.71737\n"
     ]
    },
    {
     "name": "stderr",
     "output_type": "stream",
     "text": [
      "\u001b[32m[I 2021-08-25 20:21:32,629]\u001b[0m Trial 97 finished with value: 0.5146171783602524 and parameters: {'learning_rate': 0.035680126165147236, 'reg_lambda': 1.6648348424128835e-08, 'reg_alpha': 0.00033824610062270575, 'subsample': 0.813449289113997, 'colsample_bytree': 0.12279675226571027, 'max_depth': 5}. Best is trial 59 with value: 0.5136655135294447.\u001b[0m\n"
     ]
    },
    {
     "name": "stdout",
     "output_type": "stream",
     "text": [
      "[0]\tvalidation_0-rmse:7.47781\n",
      "[776]\tvalidation_0-rmse:0.71882\n"
     ]
    },
    {
     "name": "stderr",
     "output_type": "stream",
     "text": [
      "\u001b[32m[I 2021-08-25 20:21:36,813]\u001b[0m Trial 98 finished with value: 0.5166944554132383 and parameters: {'learning_rate': 0.038767332117036354, 'reg_lambda': 1.884108267014742e-06, 'reg_alpha': 0.017222751936626715, 'subsample': 0.9041337580075888, 'colsample_bytree': 0.5591842873979141, 'max_depth': 5}. Best is trial 59 with value: 0.5136655135294447.\u001b[0m\n"
     ]
    },
    {
     "name": "stdout",
     "output_type": "stream",
     "text": [
      "[0]\tvalidation_0-rmse:7.61504\n",
      "[1000]\tvalidation_0-rmse:0.71827\n",
      "[1476]\tvalidation_0-rmse:0.71686\n"
     ]
    },
    {
     "name": "stderr",
     "output_type": "stream",
     "text": [
      "\u001b[32m[I 2021-08-25 20:21:47,515]\u001b[0m Trial 99 finished with value: 0.5138802576257282 and parameters: {'learning_rate': 0.02096053027479472, 'reg_lambda': 1.053623972408064e-08, 'reg_alpha': 0.00020765954027337417, 'subsample': 0.9447508902558389, 'colsample_bytree': 0.1389927825573592, 'max_depth': 6}. Best is trial 59 with value: 0.5136655135294447.\u001b[0m\n"
     ]
    },
    {
     "name": "stdout",
     "output_type": "stream",
     "text": [
      "[0]\tvalidation_0-rmse:7.61231\n",
      "[1000]\tvalidation_0-rmse:0.71913\n",
      "[1499]\tvalidation_0-rmse:0.71755\n"
     ]
    },
    {
     "name": "stderr",
     "output_type": "stream",
     "text": [
      "\u001b[32m[I 2021-08-25 20:21:55,111]\u001b[0m Trial 100 finished with value: 0.5148741666450831 and parameters: {'learning_rate': 0.021316861675155927, 'reg_lambda': 5.2993935700170226e-08, 'reg_alpha': 8.177471935408581e-05, 'subsample': 0.7463993390202981, 'colsample_bytree': 0.20507316010814203, 'max_depth': 5}. Best is trial 59 with value: 0.5136655135294447.\u001b[0m\n"
     ]
    },
    {
     "name": "stdout",
     "output_type": "stream",
     "text": [
      "[0]\tvalidation_0-rmse:7.58300\n",
      "[1000]\tvalidation_0-rmse:0.71765\n",
      "[1342]\tvalidation_0-rmse:0.71688\n"
     ]
    },
    {
     "name": "stderr",
     "output_type": "stream",
     "text": [
      "\u001b[32m[I 2021-08-25 20:22:05,118]\u001b[0m Trial 101 finished with value: 0.5139085901998633 and parameters: {'learning_rate': 0.025117922775225177, 'reg_lambda': 2.5154999788826983e-08, 'reg_alpha': 0.00368317064682241, 'subsample': 0.9470595344614274, 'colsample_bytree': 0.13618496065734323, 'max_depth': 6}. Best is trial 59 with value: 0.5136655135294447.\u001b[0m\n"
     ]
    },
    {
     "name": "stdout",
     "output_type": "stream",
     "text": [
      "[0]\tvalidation_0-rmse:7.57358\n",
      "[1000]\tvalidation_0-rmse:0.71778\n",
      "[1285]\tvalidation_0-rmse:0.71696\n"
     ]
    },
    {
     "name": "stderr",
     "output_type": "stream",
     "text": [
      "\u001b[32m[I 2021-08-25 20:22:14,410]\u001b[0m Trial 102 finished with value: 0.5140261046396848 and parameters: {'learning_rate': 0.02634152022241024, 'reg_lambda': 2.7230052016659798e-08, 'reg_alpha': 1.0710078640608361e-05, 'subsample': 0.9995695089316792, 'colsample_bytree': 0.1008720562237788, 'max_depth': 6}. Best is trial 59 with value: 0.5136655135294447.\u001b[0m\n"
     ]
    },
    {
     "name": "stdout",
     "output_type": "stream",
     "text": [
      "[0]\tvalidation_0-rmse:7.63658\n",
      "[1000]\tvalidation_0-rmse:0.71868\n",
      "[1323]\tvalidation_0-rmse:0.71753\n"
     ]
    },
    {
     "name": "stderr",
     "output_type": "stream",
     "text": [
      "\u001b[32m[I 2021-08-25 20:22:24,251]\u001b[0m Trial 103 finished with value: 0.5148555830997836 and parameters: {'learning_rate': 0.01816409703888061, 'reg_lambda': 1.8417951229461873e-07, 'reg_alpha': 0.0009043665649454823, 'subsample': 0.9451071069319548, 'colsample_bytree': 0.15650173014182445, 'max_depth': 6}. Best is trial 59 with value: 0.5136655135294447.\u001b[0m\n"
     ]
    },
    {
     "name": "stdout",
     "output_type": "stream",
     "text": [
      "[0]\tvalidation_0-rmse:7.65564\n",
      "[1000]\tvalidation_0-rmse:0.72070\n",
      "[1560]\tvalidation_0-rmse:0.71792\n"
     ]
    },
    {
     "name": "stderr",
     "output_type": "stream",
     "text": [
      "\u001b[32m[I 2021-08-25 20:22:35,759]\u001b[0m Trial 104 finished with value: 0.5153994979771204 and parameters: {'learning_rate': 0.015692136136767565, 'reg_lambda': 7.695326760833048e-08, 'reg_alpha': 0.004198638983983704, 'subsample': 0.9272167650983608, 'colsample_bytree': 0.11696386402653894, 'max_depth': 6}. Best is trial 59 with value: 0.5136655135294447.\u001b[0m\n"
     ]
    },
    {
     "name": "stdout",
     "output_type": "stream",
     "text": [
      "[0]\tvalidation_0-rmse:7.51558\n",
      "[1000]\tvalidation_0-rmse:0.71740\n",
      "[1143]\tvalidation_0-rmse:0.71707\n"
     ]
    },
    {
     "name": "stderr",
     "output_type": "stream",
     "text": [
      "\u001b[32m[I 2021-08-25 20:22:41,735]\u001b[0m Trial 105 finished with value: 0.5141873913365852 and parameters: {'learning_rate': 0.033867685183882404, 'reg_lambda': 1.7950740238806652e-08, 'reg_alpha': 0.0004801145193551133, 'subsample': 0.8673732698752116, 'colsample_bytree': 0.16917145820349683, 'max_depth': 5}. Best is trial 59 with value: 0.5136655135294447.\u001b[0m\n"
     ]
    },
    {
     "name": "stdout",
     "output_type": "stream",
     "text": [
      "[0]\tvalidation_0-rmse:7.53829\n",
      "[702]\tvalidation_0-rmse:0.71998\n"
     ]
    },
    {
     "name": "stderr",
     "output_type": "stream",
     "text": [
      "\u001b[32m[I 2021-08-25 20:22:47,349]\u001b[0m Trial 106 finished with value: 0.5183629563593399 and parameters: {'learning_rate': 0.030917265026079586, 'reg_lambda': 4.313957043837599e-08, 'reg_alpha': 0.007452135906636929, 'subsample': 0.898657548850368, 'colsample_bytree': 0.9834881368149697, 'max_depth': 6}. Best is trial 59 with value: 0.5136655135294447.\u001b[0m\n"
     ]
    },
    {
     "name": "stdout",
     "output_type": "stream",
     "text": [
      "[0]\tvalidation_0-rmse:7.60325\n",
      "[1000]\tvalidation_0-rmse:0.71969\n",
      "[1117]\tvalidation_0-rmse:0.71942\n"
     ]
    },
    {
     "name": "stderr",
     "output_type": "stream",
     "text": [
      "\u001b[32m[I 2021-08-25 20:22:56,159]\u001b[0m Trial 107 finished with value: 0.517564290542411 and parameters: {'learning_rate': 0.02248826162357115, 'reg_lambda': 2.7058349616165156e-08, 'reg_alpha': 0.00014206782505518257, 'subsample': 0.9812537081046301, 'colsample_bytree': 0.7403857680065551, 'max_depth': 6}. Best is trial 59 with value: 0.5136655135294447.\u001b[0m\n"
     ]
    },
    {
     "name": "stdout",
     "output_type": "stream",
     "text": [
      "[0]\tvalidation_0-rmse:7.45245\n",
      "[997]\tvalidation_0-rmse:0.71694\n"
     ]
    },
    {
     "name": "stderr",
     "output_type": "stream",
     "text": [
      "\u001b[32m[I 2021-08-25 20:23:01,527]\u001b[0m Trial 108 finished with value: 0.5140006521454743 and parameters: {'learning_rate': 0.042060944748197306, 'reg_lambda': 1.5628352678900496e-08, 'reg_alpha': 0.00018378050773076735, 'subsample': 0.9488767370856773, 'colsample_bytree': 0.13672238389039906, 'max_depth': 5}. Best is trial 59 with value: 0.5136655135294447.\u001b[0m\n"
     ]
    },
    {
     "name": "stdout",
     "output_type": "stream",
     "text": [
      "[0]\tvalidation_0-rmse:7.44990\n",
      "[903]\tvalidation_0-rmse:0.71846\n"
     ]
    },
    {
     "name": "stderr",
     "output_type": "stream",
     "text": [
      "\u001b[32m[I 2021-08-25 20:23:05,510]\u001b[0m Trial 109 finished with value: 0.5161881196137658 and parameters: {'learning_rate': 0.04239422949430606, 'reg_lambda': 3.1512881780897686e-07, 'reg_alpha': 0.0002610398476596599, 'subsample': 0.9188259322957768, 'colsample_bytree': 0.1898714366568002, 'max_depth': 4}. Best is trial 59 with value: 0.5136655135294447.\u001b[0m\n"
     ]
    },
    {
     "name": "stdout",
     "output_type": "stream",
     "text": [
      "[0]\tvalidation_0-rmse:7.37600\n",
      "[838]\tvalidation_0-rmse:0.71683\n"
     ]
    },
    {
     "name": "stderr",
     "output_type": "stream",
     "text": [
      "\u001b[32m[I 2021-08-25 20:23:10,243]\u001b[0m Trial 110 finished with value: 0.5138521110583382 and parameters: {'learning_rate': 0.051983885122037166, 'reg_lambda': 1.1684128548292316e-07, 'reg_alpha': 0.0013078703638568865, 'subsample': 0.8830781200364204, 'colsample_bytree': 0.14213626163063614, 'max_depth': 5}. Best is trial 59 with value: 0.5136655135294447.\u001b[0m\n"
     ]
    },
    {
     "name": "stdout",
     "output_type": "stream",
     "text": [
      "[0]\tvalidation_0-rmse:7.41392\n",
      "[769]\tvalidation_0-rmse:0.71741\n"
     ]
    },
    {
     "name": "stderr",
     "output_type": "stream",
     "text": [
      "\u001b[32m[I 2021-08-25 20:23:14,470]\u001b[0m Trial 111 finished with value: 0.5146759598366883 and parameters: {'learning_rate': 0.04706177674302298, 'reg_lambda': 1.3305767036520412e-07, 'reg_alpha': 0.0031809697504948764, 'subsample': 0.9546451046187352, 'colsample_bytree': 0.14245550386863873, 'max_depth': 5}. Best is trial 59 with value: 0.5136655135294447.\u001b[0m\n"
     ]
    },
    {
     "name": "stdout",
     "output_type": "stream",
     "text": [
      "[0]\tvalidation_0-rmse:7.46813\n",
      "[1000]\tvalidation_0-rmse:0.71707\n",
      "[1089]\tvalidation_0-rmse:0.71689\n"
     ]
    },
    {
     "name": "stderr",
     "output_type": "stream",
     "text": [
      "\u001b[32m[I 2021-08-25 20:23:20,310]\u001b[0m Trial 112 finished with value: 0.5139343153489829 and parameters: {'learning_rate': 0.04002916558387495, 'reg_lambda': 8.963565237457366e-08, 'reg_alpha': 0.0011423191972361462, 'subsample': 0.9378720763305648, 'colsample_bytree': 0.1128936252934615, 'max_depth': 5}. Best is trial 59 with value: 0.5136655135294447.\u001b[0m\n"
     ]
    },
    {
     "name": "stdout",
     "output_type": "stream",
     "text": [
      "[0]\tvalidation_0-rmse:7.38335\n",
      "[723]\tvalidation_0-rmse:0.71751\n"
     ]
    },
    {
     "name": "stderr",
     "output_type": "stream",
     "text": [
      "\u001b[32m[I 2021-08-25 20:23:24,200]\u001b[0m Trial 113 finished with value: 0.5148173163848573 and parameters: {'learning_rate': 0.05103038515290456, 'reg_lambda': 8.349855560585862e-08, 'reg_alpha': 0.0013774055737679188, 'subsample': 0.8694263116405059, 'colsample_bytree': 0.10092432921113452, 'max_depth': 5}. Best is trial 59 with value: 0.5136655135294447.\u001b[0m\n"
     ]
    },
    {
     "name": "stdout",
     "output_type": "stream",
     "text": [
      "[0]\tvalidation_0-rmse:7.33695\n",
      "[683]\tvalidation_0-rmse:0.71737\n"
     ]
    },
    {
     "name": "stderr",
     "output_type": "stream",
     "text": [
      "\u001b[32m[I 2021-08-25 20:23:27,973]\u001b[0m Trial 114 finished with value: 0.5146200185214411 and parameters: {'learning_rate': 0.05705602504813564, 'reg_lambda': 7.353340313845839e-07, 'reg_alpha': 0.0004888467653171809, 'subsample': 0.8982919137567611, 'colsample_bytree': 0.11594117520875422, 'max_depth': 5}. Best is trial 59 with value: 0.5136655135294447.\u001b[0m\n"
     ]
    },
    {
     "name": "stdout",
     "output_type": "stream",
     "text": [
      "[0]\tvalidation_0-rmse:7.49426\n",
      "[1000]\tvalidation_0-rmse:0.71730\n",
      "[1003]\tvalidation_0-rmse:0.71729\n"
     ]
    },
    {
     "name": "stderr",
     "output_type": "stream",
     "text": [
      "\u001b[32m[I 2021-08-25 20:23:33,263]\u001b[0m Trial 115 finished with value: 0.514507741891235 and parameters: {'learning_rate': 0.03663528959912805, 'reg_lambda': 4.846229092042113e-07, 'reg_alpha': 0.0008837445774295287, 'subsample': 0.8838451317224165, 'colsample_bytree': 0.16807538210484285, 'max_depth': 5}. Best is trial 59 with value: 0.5136655135294447.\u001b[0m\n"
     ]
    },
    {
     "name": "stdout",
     "output_type": "stream",
     "text": [
      "[0]\tvalidation_0-rmse:7.28505\n",
      "[684]\tvalidation_0-rmse:0.71696\n"
     ]
    },
    {
     "name": "stderr",
     "output_type": "stream",
     "text": [
      "\u001b[32m[I 2021-08-25 20:23:37,110]\u001b[0m Trial 116 finished with value: 0.5140261850280902 and parameters: {'learning_rate': 0.06379258966046839, 'reg_lambda': 1.9260468846490436e-07, 'reg_alpha': 0.005757019875705223, 'subsample': 0.9372744901030448, 'colsample_bytree': 0.14077811799417306, 'max_depth': 5}. Best is trial 59 with value: 0.5136655135294447.\u001b[0m\n"
     ]
    },
    {
     "name": "stdout",
     "output_type": "stream",
     "text": [
      "[0]\tvalidation_0-rmse:7.52048\n",
      "[1000]\tvalidation_0-rmse:0.71781\n",
      "[1289]\tvalidation_0-rmse:0.71694\n"
     ]
    },
    {
     "name": "stderr",
     "output_type": "stream",
     "text": [
      "\u001b[32m[I 2021-08-25 20:23:43,780]\u001b[0m Trial 117 finished with value: 0.5139951953215569 and parameters: {'learning_rate': 0.03323533589182686, 'reg_lambda': 4.522252354677156e-08, 'reg_alpha': 0.010815817889114286, 'subsample': 0.7669339717640825, 'colsample_bytree': 0.10177488872707538, 'max_depth': 5}. Best is trial 59 with value: 0.5136655135294447.\u001b[0m\n"
     ]
    },
    {
     "name": "stdout",
     "output_type": "stream",
     "text": [
      "[0]\tvalidation_0-rmse:7.47862\n",
      "[1000]\tvalidation_0-rmse:0.72043\n",
      "[1539]\tvalidation_0-rmse:0.71844\n"
     ]
    },
    {
     "name": "stderr",
     "output_type": "stream",
     "text": [
      "\u001b[32m[I 2021-08-25 20:23:48,926]\u001b[0m Trial 118 finished with value: 0.5161611788444563 and parameters: {'learning_rate': 0.038664786407906604, 'reg_lambda': 5.2293777426437885e-06, 'reg_alpha': 5.776753401103719e-05, 'subsample': 0.8550645245209255, 'colsample_bytree': 0.18550718815376688, 'max_depth': 3}. Best is trial 59 with value: 0.5136655135294447.\u001b[0m\n"
     ]
    },
    {
     "name": "stdout",
     "output_type": "stream",
     "text": [
      "[0]\tvalidation_0-rmse:7.39689\n",
      "[1000]\tvalidation_0-rmse:0.71779\n",
      "[1182]\tvalidation_0-rmse:0.71733\n"
     ]
    },
    {
     "name": "stderr",
     "output_type": "stream",
     "text": [
      "\u001b[32m[I 2021-08-25 20:23:53,902]\u001b[0m Trial 119 finished with value: 0.514556992207246 and parameters: {'learning_rate': 0.04927226484599323, 'reg_lambda': 7.354187655869625e-08, 'reg_alpha': 0.002050391344413342, 'subsample': 0.970456511382956, 'colsample_bytree': 0.20402516384500224, 'max_depth': 4}. Best is trial 59 with value: 0.5136655135294447.\u001b[0m\n"
     ]
    },
    {
     "name": "stdout",
     "output_type": "stream",
     "text": [
      "[0]\tvalidation_0-rmse:7.33422\n",
      "[720]\tvalidation_0-rmse:0.71709\n"
     ]
    },
    {
     "name": "stderr",
     "output_type": "stream",
     "text": [
      "\u001b[32m[I 2021-08-25 20:23:57,803]\u001b[0m Trial 120 finished with value: 0.5142079732835234 and parameters: {'learning_rate': 0.0574086545387237, 'reg_lambda': 1.256572912040157e-07, 'reg_alpha': 0.0003289302552261103, 'subsample': 0.9152458749953474, 'colsample_bytree': 0.15839971589949753, 'max_depth': 5}. Best is trial 59 with value: 0.5136655135294447.\u001b[0m\n"
     ]
    },
    {
     "name": "stdout",
     "output_type": "stream",
     "text": [
      "[0]\tvalidation_0-rmse:7.52041\n",
      "[1000]\tvalidation_0-rmse:0.71771\n",
      "[1203]\tvalidation_0-rmse:0.71706\n"
     ]
    },
    {
     "name": "stderr",
     "output_type": "stream",
     "text": [
      "\u001b[32m[I 2021-08-25 20:24:03,779]\u001b[0m Trial 121 finished with value: 0.5141796504199188 and parameters: {'learning_rate': 0.033249785214158785, 'reg_lambda': 4.2944991141271145e-08, 'reg_alpha': 0.03804469712370521, 'subsample': 0.6716880783458162, 'colsample_bytree': 0.1146026013745276, 'max_depth': 5}. Best is trial 59 with value: 0.5136655135294447.\u001b[0m\n"
     ]
    },
    {
     "name": "stdout",
     "output_type": "stream",
     "text": [
      "[0]\tvalidation_0-rmse:7.47185\n",
      "[1000]\tvalidation_0-rmse:0.71726\n",
      "[1061]\tvalidation_0-rmse:0.71709\n"
     ]
    },
    {
     "name": "stderr",
     "output_type": "stream",
     "text": [
      "\u001b[32m[I 2021-08-25 20:24:09,056]\u001b[0m Trial 122 finished with value: 0.5142173590001675 and parameters: {'learning_rate': 0.039554178217229695, 'reg_lambda': 2.6193578889762547e-08, 'reg_alpha': 0.017754353095565594, 'subsample': 0.6806400152136647, 'colsample_bytree': 0.10021074860926214, 'max_depth': 5}. Best is trial 59 with value: 0.5136655135294447.\u001b[0m\n"
     ]
    },
    {
     "name": "stdout",
     "output_type": "stream",
     "text": [
      "[0]\tvalidation_0-rmse:7.54773\n",
      "[938]\tvalidation_0-rmse:0.71836\n"
     ]
    },
    {
     "name": "stderr",
     "output_type": "stream",
     "text": [
      "\u001b[32m[I 2021-08-25 20:24:14,250]\u001b[0m Trial 123 finished with value: 0.5160332128883512 and parameters: {'learning_rate': 0.02969725637764098, 'reg_lambda': 4.18033996168182e-08, 'reg_alpha': 0.01235278206267979, 'subsample': 0.7975311063541124, 'colsample_bytree': 0.12303169127968921, 'max_depth': 5}. Best is trial 59 with value: 0.5136655135294447.\u001b[0m\n"
     ]
    },
    {
     "name": "stdout",
     "output_type": "stream",
     "text": [
      "[0]\tvalidation_0-rmse:7.50193\n",
      "[938]\tvalidation_0-rmse:0.71785\n"
     ]
    },
    {
     "name": "stderr",
     "output_type": "stream",
     "text": [
      "\u001b[32m[I 2021-08-25 20:24:19,303]\u001b[0m Trial 124 finished with value: 0.5153005173597089 and parameters: {'learning_rate': 0.03564266351119319, 'reg_lambda': 2.3011291345794116e-07, 'reg_alpha': 0.0033155187911052073, 'subsample': 0.7851217678301963, 'colsample_bytree': 0.10089234690783891, 'max_depth': 5}. Best is trial 59 with value: 0.5136655135294447.\u001b[0m\n"
     ]
    },
    {
     "name": "stdout",
     "output_type": "stream",
     "text": [
      "[0]\tvalidation_0-rmse:7.43075\n",
      "[791]\tvalidation_0-rmse:0.71750\n"
     ]
    },
    {
     "name": "stderr",
     "output_type": "stream",
     "text": [
      "\u001b[32m[I 2021-08-25 20:24:23,440]\u001b[0m Trial 125 finished with value: 0.5148033474979666 and parameters: {'learning_rate': 0.04488807030163746, 'reg_lambda': 1.0621903312069827e-08, 'reg_alpha': 0.001327175165987877, 'subsample': 0.7131178663263369, 'colsample_bytree': 0.14542502497195134, 'max_depth': 5}. Best is trial 59 with value: 0.5136655135294447.\u001b[0m\n"
     ]
    },
    {
     "name": "stdout",
     "output_type": "stream",
     "text": [
      "[0]\tvalidation_0-rmse:7.53073\n",
      "[800]\tvalidation_0-rmse:0.71976\n"
     ]
    },
    {
     "name": "stderr",
     "output_type": "stream",
     "text": [
      "\u001b[32m[I 2021-08-25 20:24:27,795]\u001b[0m Trial 126 finished with value: 0.5180512123388313 and parameters: {'learning_rate': 0.031903754273076075, 'reg_lambda': 1.110248787820058e-06, 'reg_alpha': 0.0006623727595785651, 'subsample': 0.7352051893211987, 'colsample_bytree': 0.9415498674098977, 'max_depth': 5}. Best is trial 59 with value: 0.5136655135294447.\u001b[0m\n"
     ]
    },
    {
     "name": "stdout",
     "output_type": "stream",
     "text": [
      "[0]\tvalidation_0-rmse:7.58051\n",
      "[1000]\tvalidation_0-rmse:0.71846\n",
      "[1535]\tvalidation_0-rmse:0.71696\n"
     ]
    },
    {
     "name": "stderr",
     "output_type": "stream",
     "text": [
      "\u001b[32m[I 2021-08-25 20:24:35,583]\u001b[0m Trial 127 finished with value: 0.5140349449490271 and parameters: {'learning_rate': 0.025443617933726466, 'reg_lambda': 0.0013273576629445935, 'reg_alpha': 0.010311399257755717, 'subsample': 0.7669682495148945, 'colsample_bytree': 0.16625415099036542, 'max_depth': 5}. Best is trial 59 with value: 0.5136655135294447.\u001b[0m\n"
     ]
    },
    {
     "name": "stdout",
     "output_type": "stream",
     "text": [
      "[0]\tvalidation_0-rmse:7.55657\n",
      "[1000]\tvalidation_0-rmse:0.72039\n",
      "[1560]\tvalidation_0-rmse:0.71808\n"
     ]
    },
    {
     "name": "stderr",
     "output_type": "stream",
     "text": [
      "\u001b[32m[I 2021-08-25 20:24:41,776]\u001b[0m Trial 128 finished with value: 0.5156301181119871 and parameters: {'learning_rate': 0.028550044340807018, 'reg_lambda': 6.004187247402272e-08, 'reg_alpha': 0.002196961940303351, 'subsample': 0.7652377748199116, 'colsample_bytree': 0.10094300002223096, 'max_depth': 4}. Best is trial 59 with value: 0.5136655135294447.\u001b[0m\n"
     ]
    },
    {
     "name": "stdout",
     "output_type": "stream",
     "text": [
      "[0]\tvalidation_0-rmse:7.50676\n",
      "[770]\tvalidation_0-rmse:0.71842\n"
     ]
    },
    {
     "name": "stderr",
     "output_type": "stream",
     "text": [
      "\u001b[32m[I 2021-08-25 20:24:46,202]\u001b[0m Trial 129 finished with value: 0.516126281121869 and parameters: {'learning_rate': 0.035014477882919795, 'reg_lambda': 1.0701165433610481e-07, 'reg_alpha': 0.00010612763942746811, 'subsample': 0.9985118605935839, 'colsample_bytree': 0.13424110906734552, 'max_depth': 5}. Best is trial 59 with value: 0.5136655135294447.\u001b[0m\n"
     ]
    },
    {
     "name": "stdout",
     "output_type": "stream",
     "text": [
      "[0]\tvalidation_0-rmse:7.46797\n",
      "[1000]\tvalidation_0-rmse:0.71718\n",
      "[1006]\tvalidation_0-rmse:0.71718\n"
     ]
    },
    {
     "name": "stderr",
     "output_type": "stream",
     "text": [
      "\u001b[32m[I 2021-08-25 20:24:51,522]\u001b[0m Trial 130 finished with value: 0.5143391763008829 and parameters: {'learning_rate': 0.04004868954576037, 'reg_lambda': 2.274675465647611e-08, 'reg_alpha': 0.00489113175547958, 'subsample': 0.8212074514822427, 'colsample_bytree': 0.11672734801068053, 'max_depth': 5}. Best is trial 59 with value: 0.5136655135294447.\u001b[0m\n"
     ]
    },
    {
     "name": "stdout",
     "output_type": "stream",
     "text": [
      "[0]\tvalidation_0-rmse:7.45317\n",
      "[839]\tvalidation_0-rmse:0.71737\n"
     ]
    },
    {
     "name": "stderr",
     "output_type": "stream",
     "text": [
      "\u001b[32m[I 2021-08-25 20:24:56,222]\u001b[0m Trial 131 finished with value: 0.5146144150695766 and parameters: {'learning_rate': 0.04196688213317037, 'reg_lambda': 1.450957362034756e-08, 'reg_alpha': 0.0001719565583413777, 'subsample': 0.9552722463179555, 'colsample_bytree': 0.1363316637019624, 'max_depth': 5}. Best is trial 59 with value: 0.5136655135294447.\u001b[0m\n"
     ]
    },
    {
     "name": "stdout",
     "output_type": "stream",
     "text": [
      "[0]\tvalidation_0-rmse:7.43211\n",
      "[719]\tvalidation_0-rmse:0.71767\n"
     ]
    },
    {
     "name": "stderr",
     "output_type": "stream",
     "text": [
      "\u001b[32m[I 2021-08-25 20:25:00,239]\u001b[0m Trial 132 finished with value: 0.5150432394061797 and parameters: {'learning_rate': 0.04470119132430774, 'reg_lambda': 1.4036253464519996e-08, 'reg_alpha': 2.5195117038657664e-05, 'subsample': 0.9292296644895268, 'colsample_bytree': 0.14734680795818736, 'max_depth': 5}. Best is trial 59 with value: 0.5136655135294447.\u001b[0m\n"
     ]
    },
    {
     "name": "stdout",
     "output_type": "stream",
     "text": [
      "[0]\tvalidation_0-rmse:7.37241\n",
      "[466]\tvalidation_0-rmse:0.72153\n"
     ]
    },
    {
     "name": "stderr",
     "output_type": "stream",
     "text": [
      "\u001b[32m[I 2021-08-25 20:25:02,455]\u001b[0m Trial 133 finished with value: 0.520587466927574 and parameters: {'learning_rate': 0.05245017888800807, 'reg_lambda': 3.149194103522247e-08, 'reg_alpha': 0.00024765187137510536, 'subsample': 0.10378602081159721, 'colsample_bytree': 0.10014248121492131, 'max_depth': 5}. Best is trial 59 with value: 0.5136655135294447.\u001b[0m\n"
     ]
    },
    {
     "name": "stdout",
     "output_type": "stream",
     "text": [
      "[0]\tvalidation_0-rmse:7.48444\n",
      "[1000]\tvalidation_0-rmse:0.71726\n",
      "[1138]\tvalidation_0-rmse:0.71702\n"
     ]
    },
    {
     "name": "stderr",
     "output_type": "stream",
     "text": [
      "\u001b[32m[I 2021-08-25 20:25:08,555]\u001b[0m Trial 134 finished with value: 0.5141140891071247 and parameters: {'learning_rate': 0.037909283403465346, 'reg_lambda': 1.683345451794485e-08, 'reg_alpha': 0.0008723025147862467, 'subsample': 0.9450696498110703, 'colsample_bytree': 0.1751845138932975, 'max_depth': 5}. Best is trial 59 with value: 0.5136655135294447.\u001b[0m\n"
     ]
    },
    {
     "name": "stdout",
     "output_type": "stream",
     "text": [
      "[0]\tvalidation_0-rmse:7.52129\n",
      "[1000]\tvalidation_0-rmse:0.71759\n",
      "[1177]\tvalidation_0-rmse:0.71712\n"
     ]
    },
    {
     "name": "stderr",
     "output_type": "stream",
     "text": [
      "\u001b[32m[I 2021-08-25 20:25:14,941]\u001b[0m Trial 135 finished with value: 0.5142556319425494 and parameters: {'learning_rate': 0.03312692148018424, 'reg_lambda': 6.178055761529208e-08, 'reg_alpha': 0.00044530828165356755, 'subsample': 0.979185263558507, 'colsample_bytree': 0.12552869227776894, 'max_depth': 5}. Best is trial 59 with value: 0.5136655135294447.\u001b[0m\n"
     ]
    },
    {
     "name": "stdout",
     "output_type": "stream",
     "text": [
      "[0]\tvalidation_0-rmse:7.40379\n",
      "[631]\tvalidation_0-rmse:0.71790\n"
     ]
    },
    {
     "name": "stderr",
     "output_type": "stream",
     "text": [
      "\u001b[32m[I 2021-08-25 20:25:18,582]\u001b[0m Trial 136 finished with value: 0.5153807974469972 and parameters: {'learning_rate': 0.04837683806006582, 'reg_lambda': 3.662065804951688e-08, 'reg_alpha': 0.00020132681300616135, 'subsample': 0.9680109682376359, 'colsample_bytree': 0.1493762950916247, 'max_depth': 5}. Best is trial 59 with value: 0.5136655135294447.\u001b[0m\n"
     ]
    },
    {
     "name": "stdout",
     "output_type": "stream",
     "text": [
      "[0]\tvalidation_0-rmse:7.53891\n",
      "[1000]\tvalidation_0-rmse:0.71803\n",
      "[1318]\tvalidation_0-rmse:0.71699\n"
     ]
    },
    {
     "name": "stderr",
     "output_type": "stream",
     "text": [
      "\u001b[32m[I 2021-08-25 20:25:25,631]\u001b[0m Trial 137 finished with value: 0.5140794931721974 and parameters: {'learning_rate': 0.030841008167020127, 'reg_lambda': 1.0179112640696906e-08, 'reg_alpha': 4.921552667084551e-05, 'subsample': 0.8895547441529299, 'colsample_bytree': 0.11888677287464883, 'max_depth': 5}. Best is trial 59 with value: 0.5136655135294447.\u001b[0m\n"
     ]
    },
    {
     "name": "stdout",
     "output_type": "stream",
     "text": [
      "[0]\tvalidation_0-rmse:7.45473\n",
      "[784]\tvalidation_0-rmse:0.71725\n"
     ]
    },
    {
     "name": "stderr",
     "output_type": "stream",
     "text": [
      "\u001b[32m[I 2021-08-25 20:25:31,538]\u001b[0m Trial 138 finished with value: 0.5144459171338897 and parameters: {'learning_rate': 0.04176680156819754, 'reg_lambda': 2.1558231732825938e-08, 'reg_alpha': 0.0006831388660363091, 'subsample': 0.9970471280321772, 'colsample_bytree': 0.1876308010853742, 'max_depth': 6}. Best is trial 59 with value: 0.5136655135294447.\u001b[0m\n"
     ]
    },
    {
     "name": "stdout",
     "output_type": "stream",
     "text": [
      "[0]\tvalidation_0-rmse:7.48525\n",
      "[1000]\tvalidation_0-rmse:0.71733\n",
      "[1040]\tvalidation_0-rmse:0.71722\n"
     ]
    },
    {
     "name": "stderr",
     "output_type": "stream",
     "text": [
      "\u001b[32m[I 2021-08-25 20:25:37,034]\u001b[0m Trial 139 finished with value: 0.5143954450749841 and parameters: {'learning_rate': 0.037805328765529424, 'reg_lambda': 9.533101484093802e-08, 'reg_alpha': 0.031180200291445855, 'subsample': 0.906627384497742, 'colsample_bytree': 0.1013065492312487, 'max_depth': 5}. Best is trial 59 with value: 0.5136655135294447.\u001b[0m\n"
     ]
    },
    {
     "name": "stdout",
     "output_type": "stream",
     "text": [
      "[0]\tvalidation_0-rmse:7.24045\n",
      "[365]\tvalidation_0-rmse:0.71803\n"
     ]
    },
    {
     "name": "stderr",
     "output_type": "stream",
     "text": [
      "\u001b[32m[I 2021-08-25 20:25:40,015]\u001b[0m Trial 140 finished with value: 0.515545747108468 and parameters: {'learning_rate': 0.06958324844491577, 'reg_lambda': 1.0263261568296003e-08, 'reg_alpha': 0.0014213569311513866, 'subsample': 0.9324000203587184, 'colsample_bytree': 0.13339840879081066, 'max_depth': 6}. Best is trial 59 with value: 0.5136655135294447.\u001b[0m\n"
     ]
    },
    {
     "name": "stdout",
     "output_type": "stream",
     "text": [
      "[0]\tvalidation_0-rmse:7.57377\n",
      "[1000]\tvalidation_0-rmse:0.71735\n",
      "[1096]\tvalidation_0-rmse:0.71715\n"
     ]
    },
    {
     "name": "stderr",
     "output_type": "stream",
     "text": [
      "\u001b[32m[I 2021-08-25 20:25:48,171]\u001b[0m Trial 141 finished with value: 0.5142938883653757 and parameters: {'learning_rate': 0.026315170871532116, 'reg_lambda': 1.68412641299568e-08, 'reg_alpha': 0.0003588261855707295, 'subsample': 0.9799767946980562, 'colsample_bytree': 0.16205250173778898, 'max_depth': 6}. Best is trial 59 with value: 0.5136655135294447.\u001b[0m\n"
     ]
    },
    {
     "name": "stdout",
     "output_type": "stream",
     "text": [
      "[0]\tvalidation_0-rmse:7.61852\n",
      "[1000]\tvalidation_0-rmse:0.71842\n",
      "[1474]\tvalidation_0-rmse:0.71697\n"
     ]
    },
    {
     "name": "stderr",
     "output_type": "stream",
     "text": [
      "\u001b[32m[I 2021-08-25 20:25:59,041]\u001b[0m Trial 142 finished with value: 0.5140447618807238 and parameters: {'learning_rate': 0.020508108856884057, 'reg_lambda': 1.0028585770654122e-08, 'reg_alpha': 6.138456790273568e-07, 'subsample': 0.9508198098285942, 'colsample_bytree': 0.11988970609832784, 'max_depth': 6}. Best is trial 59 with value: 0.5136655135294447.\u001b[0m\n"
     ]
    },
    {
     "name": "stdout",
     "output_type": "stream",
     "text": [
      "[0]\tvalidation_0-rmse:7.59571\n",
      "[1000]\tvalidation_0-rmse:0.71827\n",
      "[1040]\tvalidation_0-rmse:0.71813\n"
     ]
    },
    {
     "name": "stderr",
     "output_type": "stream",
     "text": [
      "\u001b[32m[I 2021-08-25 20:26:06,633]\u001b[0m Trial 143 finished with value: 0.5157008812570973 and parameters: {'learning_rate': 0.02346959680803137, 'reg_lambda': 5.271294429860942e-08, 'reg_alpha': 0.08208881948181067, 'subsample': 0.9961571545419113, 'colsample_bytree': 0.10047593038351399, 'max_depth': 6}. Best is trial 59 with value: 0.5136655135294447.\u001b[0m\n"
     ]
    },
    {
     "name": "stdout",
     "output_type": "stream",
     "text": [
      "[0]\tvalidation_0-rmse:7.55219\n",
      "[910]\tvalidation_0-rmse:0.71749\n"
     ]
    },
    {
     "name": "stderr",
     "output_type": "stream",
     "text": [
      "\u001b[32m[I 2021-08-25 20:26:13,447]\u001b[0m Trial 144 finished with value: 0.5147826282828928 and parameters: {'learning_rate': 0.029115204061373752, 'reg_lambda': 2.9725090034554384e-08, 'reg_alpha': 1.1760811681600984e-07, 'subsample': 0.9586376330068259, 'colsample_bytree': 0.13394496490333235, 'max_depth': 6}. Best is trial 59 with value: 0.5136655135294447.\u001b[0m\n"
     ]
    },
    {
     "name": "stdout",
     "output_type": "stream",
     "text": [
      "[0]\tvalidation_0-rmse:7.56485\n",
      "[1000]\tvalidation_0-rmse:0.71809\n",
      "[1234]\tvalidation_0-rmse:0.71734\n"
     ]
    },
    {
     "name": "stderr",
     "output_type": "stream",
     "text": [
      "\u001b[32m[I 2021-08-25 20:26:20,046]\u001b[0m Trial 145 finished with value: 0.5145818270257625 and parameters: {'learning_rate': 0.027473976156237683, 'reg_lambda': 1.0036380224382366e-08, 'reg_alpha': 3.433062581426511e-06, 'subsample': 0.9168341085867965, 'colsample_bytree': 0.1545021770942169, 'max_depth': 5}. Best is trial 59 with value: 0.5136655135294447.\u001b[0m\n"
     ]
    },
    {
     "name": "stdout",
     "output_type": "stream",
     "text": [
      "[0]\tvalidation_0-rmse:7.58699\n",
      "[1000]\tvalidation_0-rmse:0.71922\n",
      "[1561]\tvalidation_0-rmse:0.71709\n"
     ]
    },
    {
     "name": "stderr",
     "output_type": "stream",
     "text": [
      "\u001b[32m[I 2021-08-25 20:26:28,171]\u001b[0m Trial 146 finished with value: 0.5142138338243097 and parameters: {'learning_rate': 0.02460641428017263, 'reg_lambda': 1.8066060802902098e-07, 'reg_alpha': 6.1460750632127e-08, 'subsample': 0.6969934737299478, 'colsample_bytree': 0.10107216673919334, 'max_depth': 5}. Best is trial 59 with value: 0.5136655135294447.\u001b[0m\n"
     ]
    },
    {
     "name": "stdout",
     "output_type": "stream",
     "text": [
      "[0]\tvalidation_0-rmse:7.60591\n",
      "[968]\tvalidation_0-rmse:0.71749\n"
     ]
    },
    {
     "name": "stderr",
     "output_type": "stream",
     "text": [
      "\u001b[32m[I 2021-08-25 20:26:39,029]\u001b[0m Trial 147 finished with value: 0.514769454137693 and parameters: {'learning_rate': 0.022144068713327573, 'reg_lambda': 3.826354277656095e-08, 'reg_alpha': 1.030725559269294e-05, 'subsample': 0.9807734761772549, 'colsample_bytree': 0.17373680020496723, 'max_depth': 7}. Best is trial 59 with value: 0.5136655135294447.\u001b[0m\n"
     ]
    },
    {
     "name": "stdout",
     "output_type": "stream",
     "text": [
      "[0]\tvalidation_0-rmse:7.50116\n",
      "[748]\tvalidation_0-rmse:0.71747\n"
     ]
    },
    {
     "name": "stderr",
     "output_type": "stream",
     "text": [
      "\u001b[32m[I 2021-08-25 20:26:44,696]\u001b[0m Trial 148 finished with value: 0.5147611376906054 and parameters: {'learning_rate': 0.03573985450108337, 'reg_lambda': 3.0748712076603737e-07, 'reg_alpha': 0.001159624209375263, 'subsample': 0.9995358347912933, 'colsample_bytree': 0.130634509502907, 'max_depth': 6}. Best is trial 59 with value: 0.5136655135294447.\u001b[0m\n"
     ]
    },
    {
     "name": "stdout",
     "output_type": "stream",
     "text": [
      "[0]\tvalidation_0-rmse:7.52100\n",
      "[1000]\tvalidation_0-rmse:0.71745\n",
      "[1089]\tvalidation_0-rmse:0.71723\n"
     ]
    },
    {
     "name": "stderr",
     "output_type": "stream",
     "text": [
      "\u001b[32m[I 2021-08-25 20:26:50,696]\u001b[0m Trial 149 finished with value: 0.5144206861810521 and parameters: {'learning_rate': 0.03316559435443856, 'reg_lambda': 8.003564284085816e-08, 'reg_alpha': 3.902523734366392e-08, 'subsample': 0.9416201647724929, 'colsample_bytree': 0.11943959745598494, 'max_depth': 5}. Best is trial 59 with value: 0.5136655135294447.\u001b[0m\n"
     ]
    },
    {
     "name": "stdout",
     "output_type": "stream",
     "text": [
      "[0]\tvalidation_0-rmse:7.42271\n",
      "[658]\tvalidation_0-rmse:0.71814\n"
     ]
    },
    {
     "name": "stderr",
     "output_type": "stream",
     "text": [
      "\u001b[32m[I 2021-08-25 20:26:54,372]\u001b[0m Trial 150 finished with value: 0.5157268181345873 and parameters: {'learning_rate': 0.0459212462072463, 'reg_lambda': 2.04801368571911e-08, 'reg_alpha': 0.0025417604208710777, 'subsample': 0.9647502707174704, 'colsample_bytree': 0.196506983508427, 'max_depth': 5}. Best is trial 59 with value: 0.5136655135294447.\u001b[0m\n"
     ]
    },
    {
     "name": "stdout",
     "output_type": "stream",
     "text": [
      "[0]\tvalidation_0-rmse:7.53778\n",
      "[938]\tvalidation_0-rmse:0.71744\n"
     ]
    },
    {
     "name": "stderr",
     "output_type": "stream",
     "text": [
      "\u001b[32m[I 2021-08-25 20:27:01,496]\u001b[0m Trial 151 finished with value: 0.5147078894922313 and parameters: {'learning_rate': 0.030988584887288232, 'reg_lambda': 3.011941238270303e-08, 'reg_alpha': 1.0816788116244854e-05, 'subsample': 0.9998633289825312, 'colsample_bytree': 0.1129850360424965, 'max_depth': 6}. Best is trial 59 with value: 0.5136655135294447.\u001b[0m\n"
     ]
    },
    {
     "name": "stdout",
     "output_type": "stream",
     "text": [
      "[0]\tvalidation_0-rmse:7.56599\n",
      "[1000]\tvalidation_0-rmse:0.72816\n",
      "[2000]\tvalidation_0-rmse:0.72413\n",
      "[2703]\tvalidation_0-rmse:0.72256\n"
     ]
    },
    {
     "name": "stderr",
     "output_type": "stream",
     "text": [
      "\u001b[32m[I 2021-08-25 20:27:09,556]\u001b[0m Trial 152 finished with value: 0.5220977317398723 and parameters: {'learning_rate': 0.027328058236849306, 'reg_lambda': 1.4762051253444047e-08, 'reg_alpha': 2.5199379868720562e-05, 'subsample': 0.9869273914116592, 'colsample_bytree': 0.10093674018347788, 'max_depth': 2}. Best is trial 59 with value: 0.5136655135294447.\u001b[0m\n"
     ]
    },
    {
     "name": "stdout",
     "output_type": "stream",
     "text": [
      "[0]\tvalidation_0-rmse:7.57202\n",
      "[889]\tvalidation_0-rmse:0.71764\n"
     ]
    },
    {
     "name": "stderr",
     "output_type": "stream",
     "text": [
      "\u001b[32m[I 2021-08-25 20:27:16,175]\u001b[0m Trial 153 finished with value: 0.5149993763983095 and parameters: {'learning_rate': 0.026542957269497673, 'reg_lambda': 5.1255665946501523e-08, 'reg_alpha': 0.00011150185445500416, 'subsample': 0.9276246437712616, 'colsample_bytree': 0.14747723694995402, 'max_depth': 6}. Best is trial 59 with value: 0.5136655135294447.\u001b[0m\n"
     ]
    },
    {
     "name": "stdout",
     "output_type": "stream",
     "text": [
      "[0]\tvalidation_0-rmse:7.58365\n",
      "[1000]\tvalidation_0-rmse:0.71764\n",
      "[1042]\tvalidation_0-rmse:0.71755\n"
     ]
    },
    {
     "name": "stderr",
     "output_type": "stream",
     "text": [
      "\u001b[32m[I 2021-08-25 20:27:23,901]\u001b[0m Trial 154 finished with value: 0.5148704048483704 and parameters: {'learning_rate': 0.025032656254974476, 'reg_lambda': 1.4305283665713297e-07, 'reg_alpha': 0.0006233268380455128, 'subsample': 0.9490153266415206, 'colsample_bytree': 0.13656423845555785, 'max_depth': 6}. Best is trial 59 with value: 0.5136655135294447.\u001b[0m\n"
     ]
    },
    {
     "name": "stdout",
     "output_type": "stream",
     "text": [
      "[0]\tvalidation_0-rmse:7.44388\n",
      "[724]\tvalidation_0-rmse:0.71733\n"
     ]
    },
    {
     "name": "stderr",
     "output_type": "stream",
     "text": [
      "\u001b[32m[I 2021-08-25 20:27:28,878]\u001b[0m Trial 155 finished with value: 0.5145583358045511 and parameters: {'learning_rate': 0.043183083007920425, 'reg_lambda': 2.3478312973007433e-08, 'reg_alpha': 1.6104840307752557e-05, 'subsample': 0.7330171128487688, 'colsample_bytree': 0.10044225015605208, 'max_depth': 6}. Best is trial 59 with value: 0.5136655135294447.\u001b[0m\n"
     ]
    },
    {
     "name": "stdout",
     "output_type": "stream",
     "text": [
      "[0]\tvalidation_0-rmse:7.54540\n",
      "[1000]\tvalidation_0-rmse:0.71726\n",
      "[1066]\tvalidation_0-rmse:0.71706\n"
     ]
    },
    {
     "name": "stderr",
     "output_type": "stream",
     "text": [
      "\u001b[32m[I 2021-08-25 20:27:37,052]\u001b[0m Trial 156 finished with value: 0.5141722811516388 and parameters: {'learning_rate': 0.029998603587823535, 'reg_lambda': 0.0003591451732406485, 'reg_alpha': 1.6104243538194546e-06, 'subsample': 0.9733752572122534, 'colsample_bytree': 0.11688148681745944, 'max_depth': 6}. Best is trial 59 with value: 0.5136655135294447.\u001b[0m\n"
     ]
    },
    {
     "name": "stdout",
     "output_type": "stream",
     "text": [
      "[0]\tvalidation_0-rmse:7.46794\n",
      "[770]\tvalidation_0-rmse:0.71767\n"
     ]
    },
    {
     "name": "stderr",
     "output_type": "stream",
     "text": [
      "\u001b[32m[I 2021-08-25 20:27:41,294]\u001b[0m Trial 157 finished with value: 0.5150563308697228 and parameters: {'learning_rate': 0.04004911000516705, 'reg_lambda': 6.944402080277536e-08, 'reg_alpha': 0.006890994063068957, 'subsample': 0.8783328435011779, 'colsample_bytree': 0.15483041463656635, 'max_depth': 5}. Best is trial 59 with value: 0.5136655135294447.\u001b[0m\n"
     ]
    },
    {
     "name": "stdout",
     "output_type": "stream",
     "text": [
      "[0]\tvalidation_0-rmse:7.51193\n",
      "[1000]\tvalidation_0-rmse:0.71763\n",
      "[1316]\tvalidation_0-rmse:0.71674\n"
     ]
    },
    {
     "name": "stderr",
     "output_type": "stream",
     "text": [
      "\u001b[32m[I 2021-08-25 20:27:48,157]\u001b[0m Trial 158 finished with value: 0.5137125366208263 and parameters: {'learning_rate': 0.03434219478633094, 'reg_lambda': 3.096949832629864e-08, 'reg_alpha': 4.922501828123035e-06, 'subsample': 0.9070481474148478, 'colsample_bytree': 0.1008138415006173, 'max_depth': 5}. Best is trial 59 with value: 0.5136655135294447.\u001b[0m\n"
     ]
    },
    {
     "name": "stdout",
     "output_type": "stream",
     "text": [
      "[0]\tvalidation_0-rmse:7.50769\n",
      "[870]\tvalidation_0-rmse:0.71776\n"
     ]
    },
    {
     "name": "stderr",
     "output_type": "stream",
     "text": [
      "\u001b[32m[I 2021-08-25 20:27:52,958]\u001b[0m Trial 159 finished with value: 0.515178221861078 and parameters: {'learning_rate': 0.03489273269639924, 'reg_lambda': 0.025432877230565264, 'reg_alpha': 3.850106817725452e-06, 'subsample': 0.904646678855032, 'colsample_bytree': 0.16919477499316182, 'max_depth': 5}. Best is trial 59 with value: 0.5136655135294447.\u001b[0m\n"
     ]
    },
    {
     "name": "stdout",
     "output_type": "stream",
     "text": [
      "[0]\tvalidation_0-rmse:7.52102\n",
      "[1000]\tvalidation_0-rmse:0.71751\n",
      "[1267]\tvalidation_0-rmse:0.71683\n"
     ]
    },
    {
     "name": "stderr",
     "output_type": "stream",
     "text": [
      "\u001b[32m[I 2021-08-25 20:27:59,607]\u001b[0m Trial 160 finished with value: 0.5138419582824748 and parameters: {'learning_rate': 0.03316199884060706, 'reg_lambda': 1.0038416180789181e-08, 'reg_alpha': 0.00018274897981534566, 'subsample': 0.8899741743411798, 'colsample_bytree': 0.1338783626290473, 'max_depth': 5}. Best is trial 59 with value: 0.5136655135294447.\u001b[0m\n"
     ]
    },
    {
     "name": "stdout",
     "output_type": "stream",
     "text": [
      "[0]\tvalidation_0-rmse:7.49576\n",
      "[938]\tvalidation_0-rmse:0.71740\n"
     ]
    },
    {
     "name": "stderr",
     "output_type": "stream",
     "text": [
      "\u001b[32m[I 2021-08-25 20:28:05,060]\u001b[0m Trial 161 finished with value: 0.5146453149765521 and parameters: {'learning_rate': 0.03643908469642253, 'reg_lambda': 1.3777143496592776e-08, 'reg_alpha': 2.9330688647951647e-07, 'subsample': 0.8636424488502954, 'colsample_bytree': 0.13383573158415327, 'max_depth': 5}. Best is trial 59 with value: 0.5136655135294447.\u001b[0m\n"
     ]
    },
    {
     "name": "stdout",
     "output_type": "stream",
     "text": [
      "[0]\tvalidation_0-rmse:7.52169\n",
      "[1000]\tvalidation_0-rmse:0.71761\n",
      "[1087]\tvalidation_0-rmse:0.71737\n"
     ]
    },
    {
     "name": "stderr",
     "output_type": "stream",
     "text": [
      "\u001b[32m[I 2021-08-25 20:28:10,756]\u001b[0m Trial 162 finished with value: 0.5146215638092455 and parameters: {'learning_rate': 0.03307402289368963, 'reg_lambda': 3.89137242746235e-08, 'reg_alpha': 0.00018751775864937116, 'subsample': 0.843631587169025, 'colsample_bytree': 0.12196736231602948, 'max_depth': 5}. Best is trial 59 with value: 0.5136655135294447.\u001b[0m\n"
     ]
    },
    {
     "name": "stdout",
     "output_type": "stream",
     "text": [
      "[0]\tvalidation_0-rmse:7.48719\n",
      "[1000]\tvalidation_0-rmse:0.71729\n",
      "[1070]\tvalidation_0-rmse:0.71710\n"
     ]
    },
    {
     "name": "stderr",
     "output_type": "stream",
     "text": [
      "\u001b[32m[I 2021-08-25 20:28:16,468]\u001b[0m Trial 163 finished with value: 0.5142281359814818 and parameters: {'learning_rate': 0.03755555655476024, 'reg_lambda': 1.7890160796923065e-08, 'reg_alpha': 4.323000547150987e-05, 'subsample': 0.9173524086285166, 'colsample_bytree': 0.10104834219648155, 'max_depth': 5}. Best is trial 59 with value: 0.5136655135294447.\u001b[0m\n"
     ]
    },
    {
     "name": "stdout",
     "output_type": "stream",
     "text": [
      "[0]\tvalidation_0-rmse:7.52917\n",
      "[1000]\tvalidation_0-rmse:0.71759\n",
      "[1178]\tvalidation_0-rmse:0.71712\n"
     ]
    },
    {
     "name": "stderr",
     "output_type": "stream",
     "text": [
      "\u001b[32m[I 2021-08-25 20:28:22,706]\u001b[0m Trial 164 finished with value: 0.5142581878421479 and parameters: {'learning_rate': 0.032102873957176196, 'reg_lambda': 1.0909714908091525e-08, 'reg_alpha': 7.819391145330574e-05, 'subsample': 0.8940030380401092, 'colsample_bytree': 0.14834266306243216, 'max_depth': 5}. Best is trial 59 with value: 0.5136655135294447.\u001b[0m\n"
     ]
    },
    {
     "name": "stdout",
     "output_type": "stream",
     "text": [
      "[0]\tvalidation_0-rmse:7.55220\n",
      "[1000]\tvalidation_0-rmse:0.71795\n",
      "[1417]\tvalidation_0-rmse:0.71686\n"
     ]
    },
    {
     "name": "stderr",
     "output_type": "stream",
     "text": [
      "\u001b[32m[I 2021-08-25 20:28:30,368]\u001b[0m Trial 165 finished with value: 0.5138928518362226 and parameters: {'learning_rate': 0.029116428499409555, 'reg_lambda': 1.0256263861313271e-08, 'reg_alpha': 0.0003691189108522381, 'subsample': 0.9386904784334557, 'colsample_bytree': 0.1338566281210868, 'max_depth': 5}. Best is trial 59 with value: 0.5136655135294447.\u001b[0m\n"
     ]
    },
    {
     "name": "stdout",
     "output_type": "stream",
     "text": [
      "[0]\tvalidation_0-rmse:7.46745\n",
      "[721]\tvalidation_0-rmse:0.71792\n"
     ]
    },
    {
     "name": "stderr",
     "output_type": "stream",
     "text": [
      "\u001b[32m[I 2021-08-25 20:28:34,392]\u001b[0m Trial 166 finished with value: 0.5154006670170773 and parameters: {'learning_rate': 0.04011572271480798, 'reg_lambda': 9.656248295868997e-08, 'reg_alpha': 0.0003787656440722642, 'subsample': 0.9397508882895246, 'colsample_bytree': 0.16637131972857266, 'max_depth': 5}. Best is trial 59 with value: 0.5136655135294447.\u001b[0m\n"
     ]
    },
    {
     "name": "stdout",
     "output_type": "stream",
     "text": [
      "[0]\tvalidation_0-rmse:7.55001\n",
      "[1000]\tvalidation_0-rmse:0.71827\n",
      "[1547]\tvalidation_0-rmse:0.71669\n"
     ]
    },
    {
     "name": "stderr",
     "output_type": "stream",
     "text": [
      "\u001b[32m[I 2021-08-25 20:28:42,789]\u001b[0m Trial 167 finished with value: 0.513644666909616 and parameters: {'learning_rate': 0.02940015591114683, 'reg_lambda': 2.4722388329956095e-08, 'reg_alpha': 0.00019915476339083478, 'subsample': 0.8878236121338272, 'colsample_bytree': 0.10001069302692445, 'max_depth': 5}. Best is trial 167 with value: 0.513644666909616.\u001b[0m\n"
     ]
    },
    {
     "name": "stdout",
     "output_type": "stream",
     "text": [
      "[0]\tvalidation_0-rmse:7.55297\n",
      "[1000]\tvalidation_0-rmse:0.71840\n",
      "[1040]\tvalidation_0-rmse:0.71824\n"
     ]
    },
    {
     "name": "stderr",
     "output_type": "stream",
     "text": [
      "\u001b[32m[I 2021-08-25 20:28:48,328]\u001b[0m Trial 168 finished with value: 0.5158695985243401 and parameters: {'learning_rate': 0.02901675191400803, 'reg_lambda': 5.097353954134819e-08, 'reg_alpha': 0.0010133749156572077, 'subsample': 0.8422940837736825, 'colsample_bytree': 0.11303730303852527, 'max_depth': 5}. Best is trial 167 with value: 0.513644666909616.\u001b[0m\n"
     ]
    },
    {
     "name": "stdout",
     "output_type": "stream",
     "text": [
      "[0]\tvalidation_0-rmse:7.54186\n",
      "[1000]\tvalidation_0-rmse:0.71809\n",
      "[1206]\tvalidation_0-rmse:0.71726\n"
     ]
    },
    {
     "name": "stderr",
     "output_type": "stream",
     "text": [
      "\u001b[32m[I 2021-08-25 20:28:54,603]\u001b[0m Trial 169 finished with value: 0.5144664914242134 and parameters: {'learning_rate': 0.030457479275838327, 'reg_lambda': 6.089249831335643e-05, 'reg_alpha': 0.00048405387421686754, 'subsample': 0.8653860540574101, 'colsample_bytree': 0.11493913319619953, 'max_depth': 5}. Best is trial 167 with value: 0.513644666909616.\u001b[0m\n"
     ]
    },
    {
     "name": "stdout",
     "output_type": "stream",
     "text": [
      "[0]\tvalidation_0-rmse:7.51046\n",
      "[1000]\tvalidation_0-rmse:0.71753\n",
      "[1267]\tvalidation_0-rmse:0.71681\n"
     ]
    },
    {
     "name": "stderr",
     "output_type": "stream",
     "text": [
      "\u001b[32m[I 2021-08-25 20:29:01,353]\u001b[0m Trial 170 finished with value: 0.5138099971666489 and parameters: {'learning_rate': 0.03453328116029122, 'reg_lambda': 2.5697938436011182e-08, 'reg_alpha': 0.0018201808903533666, 'subsample': 0.8863228254302353, 'colsample_bytree': 0.1022506957086492, 'max_depth': 5}. Best is trial 167 with value: 0.513644666909616.\u001b[0m\n"
     ]
    },
    {
     "name": "stdout",
     "output_type": "stream",
     "text": [
      "[0]\tvalidation_0-rmse:7.50660\n",
      "[1000]\tvalidation_0-rmse:0.71757\n",
      "[1070]\tvalidation_0-rmse:0.71736\n"
     ]
    },
    {
     "name": "stderr",
     "output_type": "stream",
     "text": [
      "\u001b[32m[I 2021-08-25 20:29:07,016]\u001b[0m Trial 171 finished with value: 0.5146053693333549 and parameters: {'learning_rate': 0.03503374008718378, 'reg_lambda': 2.727925076729062e-08, 'reg_alpha': 0.0017763139735773406, 'subsample': 0.885670210698138, 'colsample_bytree': 0.10198145338228404, 'max_depth': 5}. Best is trial 167 with value: 0.513644666909616.\u001b[0m\n"
     ]
    },
    {
     "name": "stdout",
     "output_type": "stream",
     "text": [
      "[0]\tvalidation_0-rmse:7.52756\n",
      "[1000]\tvalidation_0-rmse:0.71788\n",
      "[1159]\tvalidation_0-rmse:0.71731\n"
     ]
    },
    {
     "name": "stderr",
     "output_type": "stream",
     "text": [
      "\u001b[32m[I 2021-08-25 20:29:13,582]\u001b[0m Trial 172 finished with value: 0.5145286327104921 and parameters: {'learning_rate': 0.03231423478352674, 'reg_lambda': 1.0137622775367167e-08, 'reg_alpha': 0.0037129464622418363, 'subsample': 0.9004057160119742, 'colsample_bytree': 0.10041692020607304, 'max_depth': 5}. Best is trial 167 with value: 0.513644666909616.\u001b[0m\n"
     ]
    },
    {
     "name": "stdout",
     "output_type": "stream",
     "text": [
      "[0]\tvalidation_0-rmse:7.55655\n",
      "[1000]\tvalidation_0-rmse:0.71804\n",
      "[1362]\tvalidation_0-rmse:0.71704\n"
     ]
    },
    {
     "name": "stderr",
     "output_type": "stream",
     "text": [
      "\u001b[32m[I 2021-08-25 20:29:20,729]\u001b[0m Trial 173 finished with value: 0.5141418084846228 and parameters: {'learning_rate': 0.028549414640251083, 'reg_lambda': 2.2817379047374804e-08, 'reg_alpha': 0.0008284556645453666, 'subsample': 0.8792493598819523, 'colsample_bytree': 0.137337718962788, 'max_depth': 5}. Best is trial 167 with value: 0.513644666909616.\u001b[0m\n"
     ]
    },
    {
     "name": "stdout",
     "output_type": "stream",
     "text": [
      "[0]\tvalidation_0-rmse:7.51184\n",
      "[1000]\tvalidation_0-rmse:0.71739\n",
      "[1211]\tvalidation_0-rmse:0.71679\n"
     ]
    },
    {
     "name": "stderr",
     "output_type": "stream",
     "text": [
      "\u001b[32m[I 2021-08-25 20:29:27,123]\u001b[0m Trial 174 finished with value: 0.5137804200751762 and parameters: {'learning_rate': 0.03435329031245589, 'reg_lambda': 3.6714836660892715e-08, 'reg_alpha': 0.00026538160124725394, 'subsample': 0.9232998601016773, 'colsample_bytree': 0.12582669654319223, 'max_depth': 5}. Best is trial 167 with value: 0.513644666909616.\u001b[0m\n"
     ]
    },
    {
     "name": "stdout",
     "output_type": "stream",
     "text": [
      "[0]\tvalidation_0-rmse:7.49029\n",
      "[1000]\tvalidation_0-rmse:0.71721\n",
      "[1168]\tvalidation_0-rmse:0.71685\n"
     ]
    },
    {
     "name": "stderr",
     "output_type": "stream",
     "text": [
      "\u001b[32m[I 2021-08-25 20:29:33,368]\u001b[0m Trial 175 finished with value: 0.5138598445529631 and parameters: {'learning_rate': 0.03715103838416696, 'reg_lambda': 1.210014120326209e-07, 'reg_alpha': 0.00024796219912421756, 'subsample': 0.922295689937171, 'colsample_bytree': 0.1521906321867156, 'max_depth': 5}. Best is trial 167 with value: 0.513644666909616.\u001b[0m\n"
     ]
    },
    {
     "name": "stdout",
     "output_type": "stream",
     "text": [
      "[0]\tvalidation_0-rmse:5.86655\n",
      "[131]\tvalidation_0-rmse:0.71895\n"
     ]
    },
    {
     "name": "stderr",
     "output_type": "stream",
     "text": [
      "\u001b[32m[I 2021-08-25 20:29:34,349]\u001b[0m Trial 176 finished with value: 0.5168753250181043 and parameters: {'learning_rate': 0.24819429643096477, 'reg_lambda': 1.26444806973982e-07, 'reg_alpha': 0.0002950582140050215, 'subsample': 0.917814917299442, 'colsample_bytree': 0.18174953982326303, 'max_depth': 5}. Best is trial 167 with value: 0.513644666909616.\u001b[0m\n"
     ]
    },
    {
     "name": "stdout",
     "output_type": "stream",
     "text": [
      "[0]\tvalidation_0-rmse:7.50156\n",
      "[1000]\tvalidation_0-rmse:0.71729\n",
      "[1120]\tvalidation_0-rmse:0.71702\n"
     ]
    },
    {
     "name": "stderr",
     "output_type": "stream",
     "text": [
      "\u001b[32m[I 2021-08-25 20:29:40,271]\u001b[0m Trial 177 finished with value: 0.5141219209802804 and parameters: {'learning_rate': 0.03568657505130696, 'reg_lambda': 2.5733384090393826e-07, 'reg_alpha': 0.00013117432961324782, 'subsample': 0.9068765761862586, 'colsample_bytree': 0.1500178269695165, 'max_depth': 5}. Best is trial 167 with value: 0.513644666909616.\u001b[0m\n"
     ]
    },
    {
     "name": "stdout",
     "output_type": "stream",
     "text": [
      "[0]\tvalidation_0-rmse:7.53400\n",
      "[1000]\tvalidation_0-rmse:0.73180\n",
      "[2000]\tvalidation_0-rmse:0.72916\n",
      "[3000]\tvalidation_0-rmse:0.72788\n",
      "[3763]\tvalidation_0-rmse:0.72716\n"
     ]
    },
    {
     "name": "stderr",
     "output_type": "stream",
     "text": [
      "\u001b[32m[I 2021-08-25 20:29:49,777]\u001b[0m Trial 178 finished with value: 0.52876053584481 and parameters: {'learning_rate': 0.03147682295405154, 'reg_lambda': 2.9355804556116833e-08, 'reg_alpha': 7.609831844674551e-05, 'subsample': 0.8793503571186267, 'colsample_bytree': 0.16054818276414556, 'max_depth': 1}. Best is trial 167 with value: 0.513644666909616.\u001b[0m\n"
     ]
    },
    {
     "name": "stdout",
     "output_type": "stream",
     "text": [
      "[0]\tvalidation_0-rmse:7.48946\n",
      "[901]\tvalidation_0-rmse:0.71762\n"
     ]
    },
    {
     "name": "stderr",
     "output_type": "stream",
     "text": [
      "\u001b[32m[I 2021-08-25 20:29:54,630]\u001b[0m Trial 179 finished with value: 0.5149677454970134 and parameters: {'learning_rate': 0.03725928161065689, 'reg_lambda': 1.0021749731498227e-08, 'reg_alpha': 0.0002440368856565012, 'subsample': 0.8562066241257572, 'colsample_bytree': 0.21452775303725, 'max_depth': 5}. Best is trial 167 with value: 0.513644666909616.\u001b[0m\n"
     ]
    },
    {
     "name": "stdout",
     "output_type": "stream",
     "text": [
      "[0]\tvalidation_0-rmse:7.54651\n",
      "[1000]\tvalidation_0-rmse:0.71789\n",
      "[1234]\tvalidation_0-rmse:0.71717\n"
     ]
    },
    {
     "name": "stderr",
     "output_type": "stream",
     "text": [
      "\u001b[32m[I 2021-08-25 20:30:01,261]\u001b[0m Trial 180 finished with value: 0.5143292106627425 and parameters: {'learning_rate': 0.029854380135618287, 'reg_lambda': 6.371160915364149e-08, 'reg_alpha': 0.00012361806065877646, 'subsample': 0.923375888239475, 'colsample_bytree': 0.1295937226508838, 'max_depth': 5}. Best is trial 167 with value: 0.513644666909616.\u001b[0m\n"
     ]
    },
    {
     "name": "stdout",
     "output_type": "stream",
     "text": [
      "[0]\tvalidation_0-rmse:7.47362\n",
      "[1000]\tvalidation_0-rmse:0.71705\n",
      "[1085]\tvalidation_0-rmse:0.71683\n"
     ]
    },
    {
     "name": "stderr",
     "output_type": "stream",
     "text": [
      "\u001b[32m[I 2021-08-25 20:30:07,126]\u001b[0m Trial 181 finished with value: 0.5138501726340085 and parameters: {'learning_rate': 0.03931435467106318, 'reg_lambda': 4.83402071336722e-07, 'reg_alpha': 0.0005029675752368649, 'subsample': 0.9280520773172433, 'colsample_bytree': 0.12227943634971948, 'max_depth': 5}. Best is trial 167 with value: 0.513644666909616.\u001b[0m\n"
     ]
    },
    {
     "name": "stdout",
     "output_type": "stream",
     "text": [
      "[0]\tvalidation_0-rmse:7.51684\n",
      "[995]\tvalidation_0-rmse:0.71751\n"
     ]
    },
    {
     "name": "stderr",
     "output_type": "stream",
     "text": [
      "\u001b[32m[I 2021-08-25 20:30:12,473]\u001b[0m Trial 182 finished with value: 0.5148104690618659 and parameters: {'learning_rate': 0.0337034386321244, 'reg_lambda': 1.6828176713982166e-07, 'reg_alpha': 0.0005105955236722525, 'subsample': 0.895839667103391, 'colsample_bytree': 0.14029971257322024, 'max_depth': 5}. Best is trial 167 with value: 0.513644666909616.\u001b[0m\n"
     ]
    },
    {
     "name": "stdout",
     "output_type": "stream",
     "text": [
      "[0]\tvalidation_0-rmse:7.47541\n",
      "[1000]\tvalidation_0-rmse:0.71706\n",
      "[1014]\tvalidation_0-rmse:0.71704\n"
     ]
    },
    {
     "name": "stderr",
     "output_type": "stream",
     "text": [
      "\u001b[32m[I 2021-08-25 20:30:18,402]\u001b[0m Trial 183 finished with value: 0.514147010015368 and parameters: {'learning_rate': 0.039082432452171516, 'reg_lambda': 1.7320808470914712e-08, 'reg_alpha': 0.00029330656691826045, 'subsample': 0.9282592255576707, 'colsample_bytree': 0.12379295734517914, 'max_depth': 5}. Best is trial 167 with value: 0.513644666909616.\u001b[0m\n"
     ]
    },
    {
     "name": "stdout",
     "output_type": "stream",
     "text": [
      "[0]\tvalidation_0-rmse:7.56569\n",
      "[1000]\tvalidation_0-rmse:0.71802\n",
      "[1279]\tvalidation_0-rmse:0.71729\n"
     ]
    },
    {
     "name": "stderr",
     "output_type": "stream",
     "text": [
      "\u001b[32m[I 2021-08-25 20:30:25,297]\u001b[0m Trial 184 finished with value: 0.5145085482701601 and parameters: {'learning_rate': 0.02736478440819766, 'reg_lambda': 4.104602241443415e-08, 'reg_alpha': 0.0006509609173662008, 'subsample': 0.962197277590407, 'colsample_bytree': 0.15362661772480116, 'max_depth': 5}. Best is trial 167 with value: 0.513644666909616.\u001b[0m\n"
     ]
    },
    {
     "name": "stdout",
     "output_type": "stream",
     "text": [
      "[0]\tvalidation_0-rmse:7.51380\n",
      "[996]\tvalidation_0-rmse:0.71771\n"
     ]
    },
    {
     "name": "stderr",
     "output_type": "stream",
     "text": [
      "\u001b[32m[I 2021-08-25 20:30:30,257]\u001b[0m Trial 185 finished with value: 0.5151017671006308 and parameters: {'learning_rate': 0.034113688624068605, 'reg_lambda': 5.871718119277285e-07, 'reg_alpha': 0.00019340457741878737, 'subsample': 0.5056087292685335, 'colsample_bytree': 0.12325846977560734, 'max_depth': 5}. Best is trial 167 with value: 0.513644666909616.\u001b[0m\n"
     ]
    },
    {
     "name": "stdout",
     "output_type": "stream",
     "text": [
      "[0]\tvalidation_0-rmse:7.49075\n",
      "[1000]\tvalidation_0-rmse:0.71738\n",
      "[1041]\tvalidation_0-rmse:0.71726\n"
     ]
    },
    {
     "name": "stderr",
     "output_type": "stream",
     "text": [
      "\u001b[32m[I 2021-08-25 20:30:35,774]\u001b[0m Trial 186 finished with value: 0.5144594319362266 and parameters: {'learning_rate': 0.03709149121983715, 'reg_lambda': 1.0346427654175597e-07, 'reg_alpha': 0.0003855201217061507, 'subsample': 0.9114432479516607, 'colsample_bytree': 0.1003511892492569, 'max_depth': 5}. Best is trial 167 with value: 0.513644666909616.\u001b[0m\n"
     ]
    },
    {
     "name": "stdout",
     "output_type": "stream",
     "text": [
      "[0]\tvalidation_0-rmse:7.59571\n",
      "[1000]\tvalidation_0-rmse:0.71858\n",
      "[1373]\tvalidation_0-rmse:0.71752\n"
     ]
    },
    {
     "name": "stderr",
     "output_type": "stream",
     "text": [
      "\u001b[32m[I 2021-08-25 20:30:43,170]\u001b[0m Trial 187 finished with value: 0.5148337484767799 and parameters: {'learning_rate': 0.02346911876890308, 'reg_lambda': 3.5777127633894535e-07, 'reg_alpha': 0.001680196960194589, 'subsample': 0.9375475839906271, 'colsample_bytree': 0.17737255088614085, 'max_depth': 5}. Best is trial 167 with value: 0.513644666909616.\u001b[0m\n"
     ]
    },
    {
     "name": "stdout",
     "output_type": "stream",
     "text": [
      "[0]\tvalidation_0-rmse:7.44449\n",
      "[1000]\tvalidation_0-rmse:0.71808\n",
      "[1351]\tvalidation_0-rmse:0.71713\n"
     ]
    },
    {
     "name": "stderr",
     "output_type": "stream",
     "text": [
      "\u001b[32m[I 2021-08-25 20:30:49,086]\u001b[0m Trial 188 finished with value: 0.5142652709778388 and parameters: {'learning_rate': 0.043095555168162936, 'reg_lambda': 1.0149947734338386e-08, 'reg_alpha': 7.064262486115515e-06, 'subsample': 0.8907776048580756, 'colsample_bytree': 0.13905024294015997, 'max_depth': 4}. Best is trial 167 with value: 0.513644666909616.\u001b[0m\n"
     ]
    },
    {
     "name": "stdout",
     "output_type": "stream",
     "text": [
      "[0]\tvalidation_0-rmse:7.53321\n",
      "[772]\tvalidation_0-rmse:0.71928\n"
     ]
    },
    {
     "name": "stderr",
     "output_type": "stream",
     "text": [
      "\u001b[32m[I 2021-08-25 20:30:53,357]\u001b[0m Trial 189 finished with value: 0.5173588487369557 and parameters: {'learning_rate': 0.031577298297714586, 'reg_lambda': 2.3867546421139792e-08, 'reg_alpha': 0.00071228426163488, 'subsample': 0.9578629889282549, 'colsample_bytree': 0.39209243177267433, 'max_depth': 5}. Best is trial 167 with value: 0.513644666909616.\u001b[0m\n"
     ]
    },
    {
     "name": "stdout",
     "output_type": "stream",
     "text": [
      "[0]\tvalidation_0-rmse:7.41202\n",
      "[785]\tvalidation_0-rmse:0.71833\n"
     ]
    },
    {
     "name": "stderr",
     "output_type": "stream",
     "text": [
      "\u001b[32m[I 2021-08-25 20:30:57,509]\u001b[0m Trial 190 finished with value: 0.5159865235953193 and parameters: {'learning_rate': 0.04730602974588302, 'reg_lambda': 6.035030454403601e-08, 'reg_alpha': 0.00022626280545866767, 'subsample': 0.8353691609103419, 'colsample_bytree': 0.4678059732323173, 'max_depth': 5}. Best is trial 167 with value: 0.513644666909616.\u001b[0m\n"
     ]
    },
    {
     "name": "stdout",
     "output_type": "stream",
     "text": [
      "[0]\tvalidation_0-rmse:7.46024\n",
      "[1000]\tvalidation_0-rmse:0.71705\n",
      "[1056]\tvalidation_0-rmse:0.71689\n"
     ]
    },
    {
     "name": "stderr",
     "output_type": "stream",
     "text": [
      "\u001b[32m[I 2021-08-25 20:31:03,184]\u001b[0m Trial 191 finished with value: 0.5139288207339145 and parameters: {'learning_rate': 0.04105193719912223, 'reg_lambda': 3.086016005822877e-05, 'reg_alpha': 0.000983433705274696, 'subsample': 0.9349169934935478, 'colsample_bytree': 0.1004064388179011, 'max_depth': 5}. Best is trial 167 with value: 0.513644666909616.\u001b[0m\n"
     ]
    },
    {
     "name": "stdout",
     "output_type": "stream",
     "text": [
      "[0]\tvalidation_0-rmse:7.48070\n",
      "[1000]\tvalidation_0-rmse:0.71722\n",
      "[1110]\tvalidation_0-rmse:0.71694\n"
     ]
    },
    {
     "name": "stderr",
     "output_type": "stream",
     "text": [
      "\u001b[32m[I 2021-08-25 20:31:09,064]\u001b[0m Trial 192 finished with value: 0.5140043569531154 and parameters: {'learning_rate': 0.038396954410839935, 'reg_lambda': 1.5682469954965576e-08, 'reg_alpha': 0.0023942244682727616, 'subsample': 0.9305044587575695, 'colsample_bytree': 0.116157810836789, 'max_depth': 5}. Best is trial 167 with value: 0.513644666909616.\u001b[0m\n"
     ]
    },
    {
     "name": "stdout",
     "output_type": "stream",
     "text": [
      "[0]\tvalidation_0-rmse:7.50332\n",
      "[1000]\tvalidation_0-rmse:0.71748\n",
      "[1069]\tvalidation_0-rmse:0.71727\n"
     ]
    },
    {
     "name": "stderr",
     "output_type": "stream",
     "text": [
      "\u001b[32m[I 2021-08-25 20:31:14,898]\u001b[0m Trial 193 finished with value: 0.5144794629577758 and parameters: {'learning_rate': 0.0354595103881842, 'reg_lambda': 2.3120123469679335e-07, 'reg_alpha': 0.0005099999915979254, 'subsample': 0.9500124375327507, 'colsample_bytree': 0.10063507574379468, 'max_depth': 5}. Best is trial 167 with value: 0.513644666909616.\u001b[0m\n"
     ]
    },
    {
     "name": "stdout",
     "output_type": "stream",
     "text": [
      "[0]\tvalidation_0-rmse:7.43731\n",
      "[968]\tvalidation_0-rmse:0.71695\n"
     ]
    },
    {
     "name": "stderr",
     "output_type": "stream",
     "text": [
      "\u001b[32m[I 2021-08-25 20:31:20,176]\u001b[0m Trial 194 finished with value: 0.514009820612691 and parameters: {'learning_rate': 0.0440292617903591, 'reg_lambda': 3.570128819273347e-08, 'reg_alpha': 0.0008489145627026023, 'subsample': 0.9229273923646177, 'colsample_bytree': 0.10012140213486162, 'max_depth': 5}. Best is trial 167 with value: 0.513644666909616.\u001b[0m\n"
     ]
    },
    {
     "name": "stdout",
     "output_type": "stream",
     "text": [
      "[0]\tvalidation_0-rmse:7.51141\n",
      "[995]\tvalidation_0-rmse:0.71738\n"
     ]
    },
    {
     "name": "stderr",
     "output_type": "stream",
     "text": [
      "\u001b[32m[I 2021-08-25 20:31:26,064]\u001b[0m Trial 195 finished with value: 0.5146307086359349 and parameters: {'learning_rate': 0.03440866573922398, 'reg_lambda': 0.00010246321898422332, 'reg_alpha': 0.0014408300317123052, 'subsample': 0.9046985071464266, 'colsample_bytree': 0.12588642756933527, 'max_depth': 5}. Best is trial 167 with value: 0.513644666909616.\u001b[0m\n"
     ]
    },
    {
     "name": "stdout",
     "output_type": "stream",
     "text": [
      "[0]\tvalidation_0-rmse:7.54906\n",
      "[1000]\tvalidation_0-rmse:0.71780\n",
      "[1401]\tvalidation_0-rmse:0.71688\n"
     ]
    },
    {
     "name": "stderr",
     "output_type": "stream",
     "text": [
      "\u001b[32m[I 2021-08-25 20:31:33,620]\u001b[0m Trial 196 finished with value: 0.5139095469517836 and parameters: {'learning_rate': 0.029521663006897788, 'reg_lambda': 2.8113977247494146e-06, 'reg_alpha': 0.0001550487997506315, 'subsample': 0.9690748348792326, 'colsample_bytree': 0.1489449154958809, 'max_depth': 5}. Best is trial 167 with value: 0.513644666909616.\u001b[0m\n"
     ]
    },
    {
     "name": "stdout",
     "output_type": "stream",
     "text": [
      "[0]\tvalidation_0-rmse:7.54687\n",
      "[1000]\tvalidation_0-rmse:0.71791\n",
      "[1354]\tvalidation_0-rmse:0.71700\n"
     ]
    },
    {
     "name": "stderr",
     "output_type": "stream",
     "text": [
      "\u001b[32m[I 2021-08-25 20:31:40,894]\u001b[0m Trial 197 finished with value: 0.514090513432693 and parameters: {'learning_rate': 0.02980725007224166, 'reg_lambda': 2.113519158562697e-08, 'reg_alpha': 8.830900928142266e-05, 'subsample': 0.9794164449241358, 'colsample_bytree': 0.14039634585563965, 'max_depth': 5}. Best is trial 167 with value: 0.513644666909616.\u001b[0m\n"
     ]
    },
    {
     "name": "stdout",
     "output_type": "stream",
     "text": [
      "[0]\tvalidation_0-rmse:7.57723\n",
      "[1000]\tvalidation_0-rmse:0.71893\n",
      "[1508]\tvalidation_0-rmse:0.71710\n"
     ]
    },
    {
     "name": "stderr",
     "output_type": "stream",
     "text": [
      "\u001b[32m[I 2021-08-25 20:31:49,024]\u001b[0m Trial 198 finished with value: 0.5142358612567755 and parameters: {'learning_rate': 0.0258671686013786, 'reg_lambda': 8.228397707732455e-07, 'reg_alpha': 0.00016067725288663909, 'subsample': 0.9655543390182046, 'colsample_bytree': 0.10046878855491184, 'max_depth': 5}. Best is trial 167 with value: 0.513644666909616.\u001b[0m\n"
     ]
    },
    {
     "name": "stdout",
     "output_type": "stream",
     "text": [
      "[0]\tvalidation_0-rmse:7.55944\n",
      "[1000]\tvalidation_0-rmse:0.71840\n",
      "[1561]\tvalidation_0-rmse:0.71670\n"
     ]
    },
    {
     "name": "stderr",
     "output_type": "stream",
     "text": [
      "\u001b[32m[I 2021-08-25 20:31:57,458]\u001b[0m Trial 199 finished with value: 0.5136462015213615 and parameters: {'learning_rate': 0.028175861661035768, 'reg_lambda': 1.583219003143314e-05, 'reg_alpha': 0.00035614614726777025, 'subsample': 0.8853333307023261, 'colsample_bytree': 0.1180855244904973, 'max_depth': 5}. Best is trial 167 with value: 0.513644666909616.\u001b[0m\n"
     ]
    },
    {
     "name": "stdout",
     "output_type": "stream",
     "text": [
      "[0]\tvalidation_0-rmse:7.56172\n",
      "[1000]\tvalidation_0-rmse:0.71795\n",
      "[1217]\tvalidation_0-rmse:0.71737\n"
     ]
    },
    {
     "name": "stderr",
     "output_type": "stream",
     "text": [
      "\u001b[32m[I 2021-08-25 20:32:03,853]\u001b[0m Trial 200 finished with value: 0.5146163439896654 and parameters: {'learning_rate': 0.027879781745526487, 'reg_lambda': 1.5161240153391977e-05, 'reg_alpha': 0.0003467934172215681, 'subsample': 0.8714943869831134, 'colsample_bytree': 0.16668283786824067, 'max_depth': 5}. Best is trial 167 with value: 0.513644666909616.\u001b[0m\n"
     ]
    },
    {
     "name": "stdout",
     "output_type": "stream",
     "text": [
      "[0]\tvalidation_0-rmse:7.58505\n",
      "[1000]\tvalidation_0-rmse:0.71914\n",
      "[1561]\tvalidation_0-rmse:0.71707\n"
     ]
    },
    {
     "name": "stderr",
     "output_type": "stream",
     "text": [
      "\u001b[32m[I 2021-08-25 20:32:12,021]\u001b[0m Trial 201 finished with value: 0.5141823840896487 and parameters: {'learning_rate': 0.024852738669825663, 'reg_lambda': 3.5241673028988903e-06, 'reg_alpha': 0.0002647366973936288, 'subsample': 0.8962394502419117, 'colsample_bytree': 0.11606729434650315, 'max_depth': 5}. Best is trial 167 with value: 0.513644666909616.\u001b[0m\n"
     ]
    },
    {
     "name": "stdout",
     "output_type": "stream",
     "text": [
      "[0]\tvalidation_0-rmse:7.60758\n",
      "[1000]\tvalidation_0-rmse:0.71939\n",
      "[1560]\tvalidation_0-rmse:0.71733\n"
     ]
    },
    {
     "name": "stderr",
     "output_type": "stream",
     "text": [
      "\u001b[32m[I 2021-08-25 20:32:20,212]\u001b[0m Trial 202 finished with value: 0.5145605342298234 and parameters: {'learning_rate': 0.021928093805030954, 'reg_lambda': 6.685492661807155e-06, 'reg_alpha': 5.2317315530171666e-05, 'subsample': 0.8545107689249001, 'colsample_bytree': 0.13430083630974235, 'max_depth': 5}. Best is trial 167 with value: 0.513644666909616.\u001b[0m\n"
     ]
    },
    {
     "name": "stdout",
     "output_type": "stream",
     "text": [
      "[0]\tvalidation_0-rmse:7.55406\n",
      "[1000]\tvalidation_0-rmse:0.71840\n",
      "[1040]\tvalidation_0-rmse:0.71822\n"
     ]
    },
    {
     "name": "stderr",
     "output_type": "stream",
     "text": [
      "\u001b[32m[I 2021-08-25 20:32:25,954]\u001b[0m Trial 203 finished with value: 0.5158400025047781 and parameters: {'learning_rate': 0.028874541772371403, 'reg_lambda': 7.059547294701898e-06, 'reg_alpha': 0.0001233014485325257, 'subsample': 0.9091990534569001, 'colsample_bytree': 0.11620473997809731, 'max_depth': 5}. Best is trial 167 with value: 0.513644666909616.\u001b[0m\n"
     ]
    },
    {
     "name": "stdout",
     "output_type": "stream",
     "text": [
      "[0]\tvalidation_0-rmse:7.53452\n",
      "[965]\tvalidation_0-rmse:0.71777\n"
     ]
    },
    {
     "name": "stderr",
     "output_type": "stream",
     "text": [
      "\u001b[32m[I 2021-08-25 20:32:31,562]\u001b[0m Trial 204 finished with value: 0.5151966431131477 and parameters: {'learning_rate': 0.03140883946234013, 'reg_lambda': 3.6595990854940196e-05, 'reg_alpha': 0.00039066807306769615, 'subsample': 0.8800399677932383, 'colsample_bytree': 0.15341127545975566, 'max_depth': 5}. Best is trial 167 with value: 0.513644666909616.\u001b[0m\n"
     ]
    },
    {
     "name": "stdout",
     "output_type": "stream",
     "text": [
      "[0]\tvalidation_0-rmse:7.47100\n",
      "[1000]\tvalidation_0-rmse:0.71701\n",
      "[1085]\tvalidation_0-rmse:0.71683\n"
     ]
    },
    {
     "name": "stderr",
     "output_type": "stream",
     "text": [
      "\u001b[32m[I 2021-08-25 20:32:37,369]\u001b[0m Trial 205 finished with value: 0.5138331721838749 and parameters: {'learning_rate': 0.03965424809609459, 'reg_lambda': 1.942313324923561e-06, 'reg_alpha': 0.0004898887107148041, 'subsample': 0.9308277878525628, 'colsample_bytree': 0.12938217747735614, 'max_depth': 5}. Best is trial 167 with value: 0.513644666909616.\u001b[0m\n"
     ]
    },
    {
     "name": "stdout",
     "output_type": "stream",
     "text": [
      "[0]\tvalidation_0-rmse:7.62261\n",
      "[1000]\tvalidation_0-rmse:0.71978\n",
      "[1561]\tvalidation_0-rmse:0.71759\n"
     ]
    },
    {
     "name": "stderr",
     "output_type": "stream",
     "text": [
      "\u001b[32m[I 2021-08-25 20:32:45,835]\u001b[0m Trial 206 finished with value: 0.5149282797276528 and parameters: {'learning_rate': 0.01997756623183797, 'reg_lambda': 7.032444284701335e-07, 'reg_alpha': 0.00016463835950102201, 'subsample': 0.919419671778664, 'colsample_bytree': 0.1325661217443734, 'max_depth': 5}. Best is trial 167 with value: 0.513644666909616.\u001b[0m\n"
     ]
    },
    {
     "name": "stdout",
     "output_type": "stream",
     "text": [
      "[0]\tvalidation_0-rmse:7.49118\n",
      "[839]\tvalidation_0-rmse:0.71762\n"
     ]
    },
    {
     "name": "stderr",
     "output_type": "stream",
     "text": [
      "\u001b[32m[I 2021-08-25 20:32:50,635]\u001b[0m Trial 207 finished with value: 0.5149711843481516 and parameters: {'learning_rate': 0.03703366647548961, 'reg_lambda': 1.4861622199191518e-06, 'reg_alpha': 2.7684949058345734e-05, 'subsample': 0.9472676886635024, 'colsample_bytree': 0.14854627679852134, 'max_depth': 5}. Best is trial 167 with value: 0.513644666909616.\u001b[0m\n"
     ]
    },
    {
     "name": "stdout",
     "output_type": "stream",
     "text": [
      "[0]\tvalidation_0-rmse:7.56641\n",
      "[939]\tvalidation_0-rmse:0.71907\n"
     ]
    },
    {
     "name": "stderr",
     "output_type": "stream",
     "text": [
      "\u001b[32m[I 2021-08-25 20:32:55,585]\u001b[0m Trial 208 finished with value: 0.5170589696946472 and parameters: {'learning_rate': 0.027273143888584456, 'reg_lambda': 1.8465895635588103e-06, 'reg_alpha': 0.0005265565837555022, 'subsample': 0.8158514232368523, 'colsample_bytree': 0.1182763353565304, 'max_depth': 5}. Best is trial 167 with value: 0.513644666909616.\u001b[0m\n"
     ]
    },
    {
     "name": "stdout",
     "output_type": "stream",
     "text": [
      "[0]\tvalidation_0-rmse:7.38281\n",
      "[830]\tvalidation_0-rmse:0.71701\n"
     ]
    },
    {
     "name": "stderr",
     "output_type": "stream",
     "text": [
      "\u001b[32m[I 2021-08-25 20:33:00,340]\u001b[0m Trial 209 finished with value: 0.5140929913195472 and parameters: {'learning_rate': 0.05110108398994598, 'reg_lambda': 1.3106537558152549e-06, 'reg_alpha': 1.728670423859895e-08, 'subsample': 0.9717143826111592, 'colsample_bytree': 0.10032169016835311, 'max_depth': 5}. Best is trial 167 with value: 0.513644666909616.\u001b[0m\n"
     ]
    },
    {
     "name": "stdout",
     "output_type": "stream",
     "text": [
      "[0]\tvalidation_0-rmse:7.54303\n",
      "[1000]\tvalidation_0-rmse:0.71772\n",
      "[1101]\tvalidation_0-rmse:0.71738\n"
     ]
    },
    {
     "name": "stderr",
     "output_type": "stream",
     "text": [
      "\u001b[32m[I 2021-08-25 20:33:06,262]\u001b[0m Trial 210 finished with value: 0.5146342925209879 and parameters: {'learning_rate': 0.030305288710610483, 'reg_lambda': 1.02665560810812e-08, 'reg_alpha': 0.00022842076834005015, 'subsample': 0.9164720332095668, 'colsample_bytree': 0.1617362287384272, 'max_depth': 5}. Best is trial 167 with value: 0.513644666909616.\u001b[0m\n"
     ]
    },
    {
     "name": "stdout",
     "output_type": "stream",
     "text": [
      "[0]\tvalidation_0-rmse:7.46888\n",
      "[1000]\tvalidation_0-rmse:0.71695\n",
      "[1070]\tvalidation_0-rmse:0.71679\n"
     ]
    },
    {
     "name": "stderr",
     "output_type": "stream",
     "text": [
      "\u001b[32m[I 2021-08-25 20:33:12,040]\u001b[0m Trial 211 finished with value: 0.5137906022657316 and parameters: {'learning_rate': 0.0399300076012813, 'reg_lambda': 3.651552707182953e-07, 'reg_alpha': 0.000910406653621031, 'subsample': 0.9325017855674906, 'colsample_bytree': 0.12910991830864763, 'max_depth': 5}. Best is trial 167 with value: 0.513644666909616.\u001b[0m\n"
     ]
    },
    {
     "name": "stdout",
     "output_type": "stream",
     "text": [
      "[0]\tvalidation_0-rmse:7.47343\n",
      "[927]\tvalidation_0-rmse:0.71730\n"
     ]
    },
    {
     "name": "stderr",
     "output_type": "stream",
     "text": [
      "\u001b[32m[I 2021-08-25 20:33:17,013]\u001b[0m Trial 212 finished with value: 0.5145129350374652 and parameters: {'learning_rate': 0.03933773583907929, 'reg_lambda': 3.5912177381571875e-06, 'reg_alpha': 0.0003813195442630141, 'subsample': 0.8971037340981988, 'colsample_bytree': 0.13093034082918753, 'max_depth': 5}. Best is trial 167 with value: 0.513644666909616.\u001b[0m\n"
     ]
    },
    {
     "name": "stdout",
     "output_type": "stream",
     "text": [
      "[0]\tvalidation_0-rmse:7.51018\n",
      "[1000]\tvalidation_0-rmse:0.71757\n",
      "[1342]\tvalidation_0-rmse:0.71668\n"
     ]
    },
    {
     "name": "stderr",
     "output_type": "stream",
     "text": [
      "\u001b[32m[I 2021-08-25 20:33:24,158]\u001b[0m Trial 213 finished with value: 0.5136291814608991 and parameters: {'learning_rate': 0.03457029842813285, 'reg_lambda': 3.628179346493081e-07, 'reg_alpha': 0.0005795629044913817, 'subsample': 0.9460796879038432, 'colsample_bytree': 0.1166799959337677, 'max_depth': 5}. Best is trial 213 with value: 0.5136291814608991.\u001b[0m\n"
     ]
    },
    {
     "name": "stdout",
     "output_type": "stream",
     "text": [
      "[0]\tvalidation_0-rmse:7.50370\n",
      "[1000]\tvalidation_0-rmse:0.71749\n",
      "[1235]\tvalidation_0-rmse:0.71684\n"
     ]
    },
    {
     "name": "stderr",
     "output_type": "stream",
     "text": [
      "\u001b[32m[I 2021-08-25 20:33:30,931]\u001b[0m Trial 214 finished with value: 0.513851519878797 and parameters: {'learning_rate': 0.03541009304650088, 'reg_lambda': 4.823718847859684e-07, 'reg_alpha': 0.0007411287472747477, 'subsample': 0.9290894018537633, 'colsample_bytree': 0.11690179690586024, 'max_depth': 5}. Best is trial 213 with value: 0.5136291814608991.\u001b[0m\n"
     ]
    },
    {
     "name": "stdout",
     "output_type": "stream",
     "text": [
      "[0]\tvalidation_0-rmse:7.50110\n",
      "[1000]\tvalidation_0-rmse:0.71746\n",
      "[1040]\tvalidation_0-rmse:0.71734\n"
     ]
    },
    {
     "name": "stderr",
     "output_type": "stream",
     "text": [
      "\u001b[32m[I 2021-08-25 20:33:36,584]\u001b[0m Trial 215 finished with value: 0.5145760461684333 and parameters: {'learning_rate': 0.03574742231927618, 'reg_lambda': 8.450276880986941e-07, 'reg_alpha': 0.0005624472864501287, 'subsample': 0.8826306529304602, 'colsample_bytree': 0.11402364766389962, 'max_depth': 5}. Best is trial 213 with value: 0.5136291814608991.\u001b[0m\n"
     ]
    },
    {
     "name": "stdout",
     "output_type": "stream",
     "text": [
      "[0]\tvalidation_0-rmse:7.45747\n",
      "[1000]\tvalidation_0-rmse:0.71705\n",
      "[1040]\tvalidation_0-rmse:0.71696\n"
     ]
    },
    {
     "name": "stderr",
     "output_type": "stream",
     "text": [
      "\u001b[32m[I 2021-08-25 20:33:42,110]\u001b[0m Trial 216 finished with value: 0.5140221323428957 and parameters: {'learning_rate': 0.041412043108249294, 'reg_lambda': 5.084501020341006e-07, 'reg_alpha': 0.0008250951548944825, 'subsample': 0.933334330045163, 'colsample_bytree': 0.10109457389168432, 'max_depth': 5}. Best is trial 213 with value: 0.5136291814608991.\u001b[0m\n"
     ]
    },
    {
     "name": "stdout",
     "output_type": "stream",
     "text": [
      "[0]\tvalidation_0-rmse:7.51968\n",
      "[768]\tvalidation_0-rmse:0.71857\n"
     ]
    },
    {
     "name": "stderr",
     "output_type": "stream",
     "text": [
      "\u001b[32m[I 2021-08-25 20:33:46,436]\u001b[0m Trial 217 finished with value: 0.5163491082857533 and parameters: {'learning_rate': 0.033335587256205786, 'reg_lambda': 3.701212795741962e-07, 'reg_alpha': 0.0006445251571034702, 'subsample': 0.9100409021600306, 'colsample_bytree': 0.11961010449819712, 'max_depth': 5}. Best is trial 213 with value: 0.5136291814608991.\u001b[0m\n"
     ]
    },
    {
     "name": "stdout",
     "output_type": "stream",
     "text": [
      "[0]\tvalidation_0-rmse:7.49517\n",
      "[1000]\tvalidation_0-rmse:0.71739\n",
      "[1040]\tvalidation_0-rmse:0.71728\n"
     ]
    },
    {
     "name": "stderr",
     "output_type": "stream",
     "text": [
      "\u001b[32m[I 2021-08-25 20:33:51,990]\u001b[0m Trial 218 finished with value: 0.5144796399509719 and parameters: {'learning_rate': 0.036518926122777656, 'reg_lambda': 3.278460617932259e-07, 'reg_alpha': 0.0002899978052051122, 'subsample': 0.9303036260000168, 'colsample_bytree': 0.1007181111348535, 'max_depth': 5}. Best is trial 213 with value: 0.5136291814608991.\u001b[0m\n"
     ]
    },
    {
     "name": "stdout",
     "output_type": "stream",
     "text": [
      "[0]\tvalidation_0-rmse:7.47919\n",
      "[966]\tvalidation_0-rmse:0.71721\n"
     ]
    },
    {
     "name": "stderr",
     "output_type": "stream",
     "text": [
      "\u001b[32m[I 2021-08-25 20:33:57,297]\u001b[0m Trial 219 finished with value: 0.5143872883292168 and parameters: {'learning_rate': 0.03858888951141545, 'reg_lambda': 5.062682214274788e-07, 'reg_alpha': 0.0011553239627603705, 'subsample': 0.8668166691338254, 'colsample_bytree': 0.12910454039356895, 'max_depth': 5}. Best is trial 213 with value: 0.5136291814608991.\u001b[0m\n"
     ]
    },
    {
     "name": "stdout",
     "output_type": "stream",
     "text": [
      "[0]\tvalidation_0-rmse:7.43057\n",
      "[808]\tvalidation_0-rmse:0.71756\n"
     ]
    },
    {
     "name": "stderr",
     "output_type": "stream",
     "text": [
      "\u001b[32m[I 2021-08-25 20:34:01,349]\u001b[0m Trial 220 finished with value: 0.5148846782229177 and parameters: {'learning_rate': 0.04492048022111849, 'reg_lambda': 2.2833230771085177e-07, 'reg_alpha': 0.00047463729003883705, 'subsample': 0.6315648561018306, 'colsample_bytree': 0.1145741215751699, 'max_depth': 5}. Best is trial 213 with value: 0.5136291814608991.\u001b[0m\n"
     ]
    },
    {
     "name": "stdout",
     "output_type": "stream",
     "text": [
      "[0]\tvalidation_0-rmse:7.51612\n",
      "[1000]\tvalidation_0-rmse:0.71740\n",
      "[1209]\tvalidation_0-rmse:0.71692\n"
     ]
    },
    {
     "name": "stderr",
     "output_type": "stream",
     "text": [
      "\u001b[32m[I 2021-08-25 20:34:08,025]\u001b[0m Trial 221 finished with value: 0.5139669579806464 and parameters: {'learning_rate': 0.03379770785080293, 'reg_lambda': 1.8377399403481535e-07, 'reg_alpha': 0.002030569537265111, 'subsample': 0.9446125847040727, 'colsample_bytree': 0.1386864802013392, 'max_depth': 5}. Best is trial 213 with value: 0.5136291814608991.\u001b[0m\n"
     ]
    },
    {
     "name": "stdout",
     "output_type": "stream",
     "text": [
      "[0]\tvalidation_0-rmse:7.46905\n",
      "[988]\tvalidation_0-rmse:0.71700\n"
     ]
    },
    {
     "name": "stderr",
     "output_type": "stream",
     "text": [
      "\u001b[32m[I 2021-08-25 20:34:13,338]\u001b[0m Trial 222 finished with value: 0.5140850022174029 and parameters: {'learning_rate': 0.039906366792668346, 'reg_lambda': 4.86555087502796e-07, 'reg_alpha': 0.0011543857309053896, 'subsample': 0.9560094790842857, 'colsample_bytree': 0.13270165850563997, 'max_depth': 5}. Best is trial 213 with value: 0.5136291814608991.\u001b[0m\n"
     ]
    },
    {
     "name": "stdout",
     "output_type": "stream",
     "text": [
      "[0]\tvalidation_0-rmse:7.52932\n",
      "[1000]\tvalidation_0-rmse:0.71798\n",
      "[1319]\tvalidation_0-rmse:0.71698\n"
     ]
    },
    {
     "name": "stderr",
     "output_type": "stream",
     "text": [
      "\u001b[32m[I 2021-08-25 20:34:20,247]\u001b[0m Trial 223 finished with value: 0.514058522986941 and parameters: {'learning_rate': 0.03208585717107995, 'reg_lambda': 1.2368308614761683e-07, 'reg_alpha': 0.0003220980736823499, 'subsample': 0.8954181649694208, 'colsample_bytree': 0.118317216558346, 'max_depth': 5}. Best is trial 213 with value: 0.5136291814608991.\u001b[0m\n"
     ]
    },
    {
     "name": "stdout",
     "output_type": "stream",
     "text": [
      "[0]\tvalidation_0-rmse:7.50315\n",
      "[1000]\tvalidation_0-rmse:0.71742\n",
      "[1230]\tvalidation_0-rmse:0.71680\n"
     ]
    },
    {
     "name": "stderr",
     "output_type": "stream",
     "text": [
      "\u001b[32m[I 2021-08-25 20:34:26,713]\u001b[0m Trial 224 finished with value: 0.5137997318461628 and parameters: {'learning_rate': 0.035483471528341, 'reg_lambda': 1.55687000529801e-08, 'reg_alpha': 0.0006697807866581871, 'subsample': 0.9202466914977248, 'colsample_bytree': 0.10128673265342676, 'max_depth': 5}. Best is trial 213 with value: 0.5136291814608991.\u001b[0m\n"
     ]
    },
    {
     "name": "stdout",
     "output_type": "stream",
     "text": [
      "[0]\tvalidation_0-rmse:7.50621\n",
      "[1000]\tvalidation_0-rmse:0.71750\n",
      "[1110]\tvalidation_0-rmse:0.71715\n"
     ]
    },
    {
     "name": "stderr",
     "output_type": "stream",
     "text": [
      "\u001b[32m[I 2021-08-25 20:34:32,799]\u001b[0m Trial 225 finished with value: 0.5143059361460883 and parameters: {'learning_rate': 0.035086025192602364, 'reg_lambda': 1.7252033567200997e-08, 'reg_alpha': 0.0006982583206722617, 'subsample': 0.9179071953225733, 'colsample_bytree': 0.10418437118066654, 'max_depth': 5}. Best is trial 213 with value: 0.5136291814608991.\u001b[0m\n"
     ]
    },
    {
     "name": "stdout",
     "output_type": "stream",
     "text": [
      "[0]\tvalidation_0-rmse:7.48936\n",
      "[1000]\tvalidation_0-rmse:0.71754\n",
      "[1009]\tvalidation_0-rmse:0.71753\n"
     ]
    },
    {
     "name": "stderr",
     "output_type": "stream",
     "text": [
      "\u001b[32m[I 2021-08-25 20:34:37,792]\u001b[0m Trial 226 finished with value: 0.5148385855277743 and parameters: {'learning_rate': 0.03728626441005731, 'reg_lambda': 0.004344083087333419, 'reg_alpha': 0.00044244071540561913, 'subsample': 0.5452181901519393, 'colsample_bytree': 0.10235268773542387, 'max_depth': 5}. Best is trial 213 with value: 0.5136291814608991.\u001b[0m\n"
     ]
    },
    {
     "name": "stdout",
     "output_type": "stream",
     "text": [
      "[0]\tvalidation_0-rmse:7.51281\n",
      "[1000]\tvalidation_0-rmse:0.71740\n",
      "[1183]\tvalidation_0-rmse:0.71692\n"
     ]
    },
    {
     "name": "stderr",
     "output_type": "stream",
     "text": [
      "\u001b[32m[I 2021-08-25 20:34:44,065]\u001b[0m Trial 227 finished with value: 0.5139710574845815 and parameters: {'learning_rate': 0.03422584229894003, 'reg_lambda': 2.935703884739395e-07, 'reg_alpha': 0.0002746888579106479, 'subsample': 0.8863602912791374, 'colsample_bytree': 0.12069893636980888, 'max_depth': 5}. Best is trial 213 with value: 0.5136291814608991.\u001b[0m\n"
     ]
    },
    {
     "name": "stdout",
     "output_type": "stream",
     "text": [
      "[0]\tvalidation_0-rmse:7.45342\n",
      "[421]\tvalidation_0-rmse:0.72222\n"
     ]
    },
    {
     "name": "stderr",
     "output_type": "stream",
     "text": [
      "\u001b[32m[I 2021-08-25 20:34:46,144]\u001b[0m Trial 228 finished with value: 0.5215888735150718 and parameters: {'learning_rate': 0.041946023652477744, 'reg_lambda': 1.0027415875191857e-08, 'reg_alpha': 0.0009099331821371732, 'subsample': 0.1348023523757101, 'colsample_bytree': 0.14638399071438515, 'max_depth': 5}. Best is trial 213 with value: 0.5136291814608991.\u001b[0m\n"
     ]
    },
    {
     "name": "stdout",
     "output_type": "stream",
     "text": [
      "[0]\tvalidation_0-rmse:7.48950\n",
      "[1000]\tvalidation_0-rmse:0.71731\n",
      "[1041]\tvalidation_0-rmse:0.71719\n"
     ]
    },
    {
     "name": "stderr",
     "output_type": "stream",
     "text": [
      "\u001b[32m[I 2021-08-25 20:34:51,733]\u001b[0m Trial 229 finished with value: 0.5143632209956793 and parameters: {'learning_rate': 0.03725448590812113, 'reg_lambda': 7.519223787932543e-08, 'reg_alpha': 0.00021644175640765444, 'subsample': 0.931970797998401, 'colsample_bytree': 0.11507852405657806, 'max_depth': 5}. Best is trial 213 with value: 0.5136291814608991.\u001b[0m\n"
     ]
    },
    {
     "name": "stdout",
     "output_type": "stream",
     "text": [
      "[0]\tvalidation_0-rmse:7.52759\n",
      "[1000]\tvalidation_0-rmse:0.71748\n",
      "[1065]\tvalidation_0-rmse:0.71733\n"
     ]
    },
    {
     "name": "stderr",
     "output_type": "stream",
     "text": [
      "\u001b[32m[I 2021-08-25 20:34:57,419]\u001b[0m Trial 230 finished with value: 0.5145586030162352 and parameters: {'learning_rate': 0.03230831706181868, 'reg_lambda': 3.670337073479694e-08, 'reg_alpha': 0.0005872502168865652, 'subsample': 0.9075301562066578, 'colsample_bytree': 0.16005130385216743, 'max_depth': 5}. Best is trial 213 with value: 0.5136291814608991.\u001b[0m\n"
     ]
    },
    {
     "name": "stdout",
     "output_type": "stream",
     "text": [
      "[0]\tvalidation_0-rmse:7.50372\n",
      "[1000]\tvalidation_0-rmse:0.71728\n",
      "[1120]\tvalidation_0-rmse:0.71701\n"
     ]
    },
    {
     "name": "stderr",
     "output_type": "stream",
     "text": [
      "\u001b[32m[I 2021-08-25 20:35:03,567]\u001b[0m Trial 231 finished with value: 0.514096825566959 and parameters: {'learning_rate': 0.035407748942720134, 'reg_lambda': 1.5114517493226043e-08, 'reg_alpha': 0.0029099544535732616, 'subsample': 0.9444189598025395, 'colsample_bytree': 0.13237008158515087, 'max_depth': 5}. Best is trial 213 with value: 0.5136291814608991.\u001b[0m\n"
     ]
    },
    {
     "name": "stdout",
     "output_type": "stream",
     "text": [
      "[0]\tvalidation_0-rmse:7.47145\n",
      "[1000]\tvalidation_0-rmse:0.71712\n",
      "[1036]\tvalidation_0-rmse:0.71702\n"
     ]
    },
    {
     "name": "stderr",
     "output_type": "stream",
     "text": [
      "\u001b[32m[I 2021-08-25 20:35:09,284]\u001b[0m Trial 232 finished with value: 0.5141175062791015 and parameters: {'learning_rate': 0.03959799772940271, 'reg_lambda': 2.7401267582392158e-08, 'reg_alpha': 0.0013419559917639617, 'subsample': 0.9868537948076762, 'colsample_bytree': 0.10039877242775672, 'max_depth': 5}. Best is trial 213 with value: 0.5136291814608991.\u001b[0m\n"
     ]
    },
    {
     "name": "stdout",
     "output_type": "stream",
     "text": [
      "[0]\tvalidation_0-rmse:7.52576\n",
      "[923]\tvalidation_0-rmse:0.71927\n"
     ]
    },
    {
     "name": "stderr",
     "output_type": "stream",
     "text": [
      "\u001b[32m[I 2021-08-25 20:35:14,538]\u001b[0m Trial 233 finished with value: 0.5173496731041018 and parameters: {'learning_rate': 0.03254148423678539, 'reg_lambda': 1.4796199696150022e-08, 'reg_alpha': 0.00011534414790369664, 'subsample': 0.9534631715605904, 'colsample_bytree': 0.8530124929902316, 'max_depth': 5}. Best is trial 213 with value: 0.5136291814608991.\u001b[0m\n"
     ]
    },
    {
     "name": "stdout",
     "output_type": "stream",
     "text": [
      "[0]\tvalidation_0-rmse:7.35070\n",
      "[719]\tvalidation_0-rmse:0.71709\n"
     ]
    },
    {
     "name": "stderr",
     "output_type": "stream",
     "text": [
      "\u001b[32m[I 2021-08-25 20:35:18,479]\u001b[0m Trial 234 finished with value: 0.5142080647840103 and parameters: {'learning_rate': 0.055270894007070484, 'reg_lambda': 2.483453247526868e-08, 'reg_alpha': 0.00038907981363479026, 'subsample': 0.9210018222690001, 'colsample_bytree': 0.14120325675164763, 'max_depth': 5}. Best is trial 213 with value: 0.5136291814608991.\u001b[0m\n"
     ]
    },
    {
     "name": "stdout",
     "output_type": "stream",
     "text": [
      "[0]\tvalidation_0-rmse:7.48056\n",
      "[965]\tvalidation_0-rmse:0.71717\n"
     ]
    },
    {
     "name": "stderr",
     "output_type": "stream",
     "text": [
      "\u001b[32m[I 2021-08-25 20:35:23,707]\u001b[0m Trial 235 finished with value: 0.5143289539923055 and parameters: {'learning_rate': 0.038412783613221965, 'reg_lambda': 4.462110621512812e-08, 'reg_alpha': 1.632788067260855e-05, 'subsample': 0.904186816782221, 'colsample_bytree': 0.12555815703543435, 'max_depth': 5}. Best is trial 213 with value: 0.5136291814608991.\u001b[0m\n"
     ]
    },
    {
     "name": "stdout",
     "output_type": "stream",
     "text": [
      "[0]\tvalidation_0-rmse:7.54059\n",
      "[1000]\tvalidation_0-rmse:0.71812\n",
      "[1343]\tvalidation_0-rmse:0.71700\n"
     ]
    },
    {
     "name": "stderr",
     "output_type": "stream",
     "text": [
      "\u001b[32m[I 2021-08-25 20:35:30,778]\u001b[0m Trial 236 finished with value: 0.5140882030354937 and parameters: {'learning_rate': 0.030623450795116917, 'reg_lambda': 1.0124252814189709e-08, 'reg_alpha': 0.0019259029870567867, 'subsample': 0.9380678059778758, 'colsample_bytree': 0.10124781290256284, 'max_depth': 5}. Best is trial 213 with value: 0.5136291814608991.\u001b[0m\n"
     ]
    },
    {
     "name": "stdout",
     "output_type": "stream",
     "text": [
      "[0]\tvalidation_0-rmse:7.41337\n",
      "[721]\tvalidation_0-rmse:0.71747\n"
     ]
    },
    {
     "name": "stderr",
     "output_type": "stream",
     "text": [
      "\u001b[32m[I 2021-08-25 20:35:34,888]\u001b[0m Trial 237 finished with value: 0.514757518997756 and parameters: {'learning_rate': 0.04713370891432482, 'reg_lambda': 9.772337334370038e-07, 'reg_alpha': 0.0007310124516822813, 'subsample': 0.8868461674417742, 'colsample_bytree': 0.14432698660769286, 'max_depth': 5}. Best is trial 213 with value: 0.5136291814608991.\u001b[0m\n"
     ]
    },
    {
     "name": "stdout",
     "output_type": "stream",
     "text": [
      "[0]\tvalidation_0-rmse:7.44829\n",
      "[939]\tvalidation_0-rmse:0.71722\n"
     ]
    },
    {
     "name": "stderr",
     "output_type": "stream",
     "text": [
      "\u001b[32m[I 2021-08-25 20:35:40,084]\u001b[0m Trial 238 finished with value: 0.5143934008178082 and parameters: {'learning_rate': 0.04260277810038406, 'reg_lambda': 1.3247696690244498e-07, 'reg_alpha': 0.00021477352922754178, 'subsample': 0.9680241389444636, 'colsample_bytree': 0.11854630599593681, 'max_depth': 5}. Best is trial 213 with value: 0.5136291814608991.\u001b[0m\n"
     ]
    },
    {
     "name": "stdout",
     "output_type": "stream",
     "text": [
      "[0]\tvalidation_0-rmse:7.51121\n",
      "[889]\tvalidation_0-rmse:0.71775\n"
     ]
    },
    {
     "name": "stderr",
     "output_type": "stream",
     "text": [
      "\u001b[32m[I 2021-08-25 20:35:45,023]\u001b[0m Trial 239 finished with value: 0.5151685530267553 and parameters: {'learning_rate': 0.03443630117943563, 'reg_lambda': 1.8291828075285305e-08, 'reg_alpha': 0.0010624958834103081, 'subsample': 0.9195296497330343, 'colsample_bytree': 0.1647479687746368, 'max_depth': 5}. Best is trial 213 with value: 0.5136291814608991.\u001b[0m\n"
     ]
    },
    {
     "name": "stdout",
     "output_type": "stream",
     "text": [
      "[0]\tvalidation_0-rmse:7.57217\n",
      "[1000]\tvalidation_0-rmse:0.71885\n",
      "[1287]\tvalidation_0-rmse:0.71766\n"
     ]
    },
    {
     "name": "stderr",
     "output_type": "stream",
     "text": [
      "\u001b[32m[I 2021-08-25 20:35:51,888]\u001b[0m Trial 240 finished with value: 0.5150332867006959 and parameters: {'learning_rate': 0.026524962441080057, 'reg_lambda': 6.729395220536767e-08, 'reg_alpha': 4.862826750348607e-06, 'subsample': 0.9408954916874775, 'colsample_bytree': 0.10247358881915662, 'max_depth': 5}. Best is trial 213 with value: 0.5136291814608991.\u001b[0m\n"
     ]
    },
    {
     "name": "stdout",
     "output_type": "stream",
     "text": [
      "[0]\tvalidation_0-rmse:7.55775\n",
      "[1000]\tvalidation_0-rmse:0.71813\n",
      "[1294]\tvalidation_0-rmse:0.71728\n"
     ]
    },
    {
     "name": "stderr",
     "output_type": "stream",
     "text": [
      "\u001b[32m[I 2021-08-25 20:35:58,965]\u001b[0m Trial 241 finished with value: 0.5144861489514332 and parameters: {'learning_rate': 0.028396010356882474, 'reg_lambda': 2.986387997528156e-06, 'reg_alpha': 0.00015194704491731194, 'subsample': 0.9994939262818562, 'colsample_bytree': 0.1421455209808448, 'max_depth': 5}. Best is trial 213 with value: 0.5136291814608991.\u001b[0m\n"
     ]
    },
    {
     "name": "stdout",
     "output_type": "stream",
     "text": [
      "[0]\tvalidation_0-rmse:7.55161\n",
      "[1000]\tvalidation_0-rmse:0.71798\n",
      "[1042]\tvalidation_0-rmse:0.71785\n"
     ]
    },
    {
     "name": "stderr",
     "output_type": "stream",
     "text": [
      "\u001b[32m[I 2021-08-25 20:36:04,673]\u001b[0m Trial 242 finished with value: 0.5153087389080414 and parameters: {'learning_rate': 0.02919094772553763, 'reg_lambda': 1.0073290986571686e-05, 'reg_alpha': 0.0003542604943270625, 'subsample': 0.967283767076493, 'colsample_bytree': 0.12727738465353336, 'max_depth': 5}. Best is trial 213 with value: 0.5136291814608991.\u001b[0m\n"
     ]
    },
    {
     "name": "stdout",
     "output_type": "stream",
     "text": [
      "[0]\tvalidation_0-rmse:7.53923\n",
      "[1000]\tvalidation_0-rmse:0.71765\n",
      "[1069]\tvalidation_0-rmse:0.71747\n"
     ]
    },
    {
     "name": "stderr",
     "output_type": "stream",
     "text": [
      "\u001b[32m[I 2021-08-25 20:36:10,610]\u001b[0m Trial 243 finished with value: 0.514753428912494 and parameters: {'learning_rate': 0.030798728683309445, 'reg_lambda': 1.99033207561755e-06, 'reg_alpha': 8.416972772901439e-05, 'subsample': 0.9805357790752721, 'colsample_bytree': 0.1469827839522858, 'max_depth': 5}. Best is trial 213 with value: 0.5136291814608991.\u001b[0m\n"
     ]
    },
    {
     "name": "stdout",
     "output_type": "stream",
     "text": [
      "[0]\tvalidation_0-rmse:7.49428\n",
      "[792]\tvalidation_0-rmse:0.71788\n"
     ]
    },
    {
     "name": "stderr",
     "output_type": "stream",
     "text": [
      "\u001b[32m[I 2021-08-25 20:36:15,280]\u001b[0m Trial 244 finished with value: 0.5153435998626117 and parameters: {'learning_rate': 0.03663076674841247, 'reg_lambda': 3.659819421881099e-07, 'reg_alpha': 0.00017031057173489406, 'subsample': 0.9584276998729663, 'colsample_bytree': 0.15466646603104367, 'max_depth': 5}. Best is trial 213 with value: 0.5136291814608991.\u001b[0m\n"
     ]
    },
    {
     "name": "stdout",
     "output_type": "stream",
     "text": [
      "[0]\tvalidation_0-rmse:7.52424\n",
      "[875]\tvalidation_0-rmse:0.71885\n"
     ]
    },
    {
     "name": "stderr",
     "output_type": "stream",
     "text": [
      "\u001b[32m[I 2021-08-25 20:36:20,072]\u001b[0m Trial 245 finished with value: 0.5167299485633746 and parameters: {'learning_rate': 0.03274249382480384, 'reg_lambda': 6.239468493806217e-07, 'reg_alpha': 0.0004958616087871708, 'subsample': 0.9228196104818756, 'colsample_bytree': 0.5191993510446012, 'max_depth': 5}. Best is trial 213 with value: 0.5136291814608991.\u001b[0m\n"
     ]
    },
    {
     "name": "stdout",
     "output_type": "stream",
     "text": [
      "[0]\tvalidation_0-rmse:7.58287\n",
      "[1000]\tvalidation_0-rmse:0.71905\n",
      "[1561]\tvalidation_0-rmse:0.71702\n"
     ]
    },
    {
     "name": "stderr",
     "output_type": "stream",
     "text": [
      "\u001b[32m[I 2021-08-25 20:36:28,105]\u001b[0m Trial 246 finished with value: 0.5141050712435555 and parameters: {'learning_rate': 0.025134665157043656, 'reg_lambda': 2.6643310183314257e-08, 'reg_alpha': 0.0002094034110411326, 'subsample': 0.8669009957695377, 'colsample_bytree': 0.1010539978560162, 'max_depth': 5}. Best is trial 213 with value: 0.5136291814608991.\u001b[0m\n"
     ]
    },
    {
     "name": "stdout",
     "output_type": "stream",
     "text": [
      "[0]\tvalidation_0-rmse:7.55820\n",
      "[1000]\tvalidation_0-rmse:0.71799\n",
      "[1177]\tvalidation_0-rmse:0.71749\n"
     ]
    },
    {
     "name": "stderr",
     "output_type": "stream",
     "text": [
      "\u001b[32m[I 2021-08-25 20:36:34,428]\u001b[0m Trial 247 finished with value: 0.5147878930328841 and parameters: {'learning_rate': 0.0283369958107744, 'reg_lambda': 1.0414118341399999e-08, 'reg_alpha': 0.0041964509271474335, 'subsample': 0.9022593535412823, 'colsample_bytree': 0.17619372752546225, 'max_depth': 5}. Best is trial 213 with value: 0.5136291814608991.\u001b[0m\n"
     ]
    },
    {
     "name": "stdout",
     "output_type": "stream",
     "text": [
      "[0]\tvalidation_0-rmse:7.50686\n",
      "[1000]\tvalidation_0-rmse:0.71753\n",
      "[1091]\tvalidation_0-rmse:0.71727\n"
     ]
    },
    {
     "name": "stderr",
     "output_type": "stream",
     "text": [
      "\u001b[32m[I 2021-08-25 20:36:40,464]\u001b[0m Trial 248 finished with value: 0.5144761312945054 and parameters: {'learning_rate': 0.035000550916067734, 'reg_lambda': 1.5870053435185388e-08, 'reg_alpha': 0.0007211013848475157, 'subsample': 0.9478248711613518, 'colsample_bytree': 0.10011968352308663, 'max_depth': 5}. Best is trial 213 with value: 0.5136291814608991.\u001b[0m\n"
     ]
    },
    {
     "name": "stdout",
     "output_type": "stream",
     "text": [
      "[0]\tvalidation_0-rmse:7.54404\n",
      "[1000]\tvalidation_0-rmse:0.71793\n",
      "[1294]\tvalidation_0-rmse:0.71716\n"
     ]
    },
    {
     "name": "stderr",
     "output_type": "stream",
     "text": [
      "\u001b[32m[I 2021-08-25 20:36:47,571]\u001b[0m Trial 249 finished with value: 0.5143052203133445 and parameters: {'learning_rate': 0.030176213320285368, 'reg_lambda': 2.0946983234072232e-07, 'reg_alpha': 0.00033924313398480874, 'subsample': 0.9994344853658425, 'colsample_bytree': 0.12780256008224045, 'max_depth': 5}. Best is trial 213 with value: 0.5136291814608991.\u001b[0m\n"
     ]
    },
    {
     "name": "stdout",
     "output_type": "stream",
     "text": [
      "[0]\tvalidation_0-rmse:7.47039\n",
      "[1000]\tvalidation_0-rmse:0.71710\n",
      "[1040]\tvalidation_0-rmse:0.71702\n"
     ]
    },
    {
     "name": "stderr",
     "output_type": "stream",
     "text": [
      "\u001b[32m[I 2021-08-25 20:36:53,231]\u001b[0m Trial 250 finished with value: 0.514110582904607 and parameters: {'learning_rate': 0.03973367035180427, 'reg_lambda': 2.540032126739758e-06, 'reg_alpha': 0.00010942079740105983, 'subsample': 0.9745230451393571, 'colsample_bytree': 0.11885779949136412, 'max_depth': 5}. Best is trial 213 with value: 0.5136291814608991.\u001b[0m\n"
     ]
    },
    {
     "name": "stdout",
     "output_type": "stream",
     "text": [
      "[0]\tvalidation_0-rmse:7.52936\n",
      "[889]\tvalidation_0-rmse:0.71796\n"
     ]
    },
    {
     "name": "stderr",
     "output_type": "stream",
     "text": [
      "\u001b[32m[I 2021-08-25 20:36:58,102]\u001b[0m Trial 251 finished with value: 0.5154587217136866 and parameters: {'learning_rate': 0.03208039453780104, 'reg_lambda': 1.3411743006809606e-06, 'reg_alpha': 8.830784438939019e-06, 'subsample': 0.9282109461558478, 'colsample_bytree': 0.1441134026727156, 'max_depth': 5}. Best is trial 213 with value: 0.5136291814608991.\u001b[0m\n"
     ]
    },
    {
     "name": "stdout",
     "output_type": "stream",
     "text": [
      "[0]\tvalidation_0-rmse:7.48942\n",
      "[809]\tvalidation_0-rmse:0.71835\n"
     ]
    },
    {
     "name": "stderr",
     "output_type": "stream",
     "text": [
      "\u001b[32m[I 2021-08-25 20:37:02,587]\u001b[0m Trial 252 finished with value: 0.5160224443078161 and parameters: {'learning_rate': 0.037264368269958305, 'reg_lambda': 3.7414660227168445e-08, 'reg_alpha': 6.247628859070094e-05, 'subsample': 0.8961904475486332, 'colsample_bytree': 0.1152469202164092, 'max_depth': 5}. Best is trial 213 with value: 0.5136291814608991.\u001b[0m\n"
     ]
    },
    {
     "name": "stdout",
     "output_type": "stream",
     "text": [
      "[0]\tvalidation_0-rmse:7.57008\n",
      "[1000]\tvalidation_0-rmse:0.71812\n",
      "[1538]\tvalidation_0-rmse:0.71691\n"
     ]
    },
    {
     "name": "stderr",
     "output_type": "stream",
     "text": [
      "\u001b[32m[I 2021-08-25 20:37:10,825]\u001b[0m Trial 253 finished with value: 0.5139618808042337 and parameters: {'learning_rate': 0.02679389872399194, 'reg_lambda': 2.255466307396745e-08, 'reg_alpha': 0.0015776731268241854, 'subsample': 0.9536862328621318, 'colsample_bytree': 0.15720054392596058, 'max_depth': 5}. Best is trial 213 with value: 0.5136291814608991.\u001b[0m\n"
     ]
    },
    {
     "name": "stdout",
     "output_type": "stream",
     "text": [
      "[0]\tvalidation_0-rmse:7.59226\n",
      "[1000]\tvalidation_0-rmse:0.71886\n",
      "[1560]\tvalidation_0-rmse:0.71716\n"
     ]
    },
    {
     "name": "stderr",
     "output_type": "stream",
     "text": [
      "\u001b[32m[I 2021-08-25 20:37:19,114]\u001b[0m Trial 254 finished with value: 0.5143158263166047 and parameters: {'learning_rate': 0.023915725942815075, 'reg_lambda': 9.660794229313375e-08, 'reg_alpha': 3.0411489902044826e-08, 'subsample': 0.874669264661142, 'colsample_bytree': 0.1349038132956896, 'max_depth': 5}. Best is trial 213 with value: 0.5136291814608991.\u001b[0m\n"
     ]
    },
    {
     "name": "stdout",
     "output_type": "stream",
     "text": [
      "[0]\tvalidation_0-rmse:7.51337\n",
      "[1000]\tvalidation_0-rmse:0.71702\n",
      "[1040]\tvalidation_0-rmse:0.71692\n"
     ]
    },
    {
     "name": "stderr",
     "output_type": "stream",
     "text": [
      "\u001b[32m[I 2021-08-25 20:37:26,437]\u001b[0m Trial 255 finished with value: 0.5139675433748471 and parameters: {'learning_rate': 0.03415572122018689, 'reg_lambda': 4.902648818454395e-07, 'reg_alpha': 0.0005286614807414904, 'subsample': 0.9127733799607779, 'colsample_bytree': 0.10165451545605131, 'max_depth': 6}. Best is trial 213 with value: 0.5136291814608991.\u001b[0m\n"
     ]
    },
    {
     "name": "stdout",
     "output_type": "stream",
     "text": [
      "[0]\tvalidation_0-rmse:7.45574\n",
      "[1000]\tvalidation_0-rmse:0.71695\n",
      "[1029]\tvalidation_0-rmse:0.71687\n"
     ]
    },
    {
     "name": "stderr",
     "output_type": "stream",
     "text": [
      "\u001b[32m[I 2021-08-25 20:37:31,977]\u001b[0m Trial 256 finished with value: 0.5139069402054646 and parameters: {'learning_rate': 0.041636207513487844, 'reg_lambda': 5.203391538263779e-08, 'reg_alpha': 0.0003039161518065369, 'subsample': 0.9846115621571279, 'colsample_bytree': 0.11732420951863624, 'max_depth': 5}. Best is trial 213 with value: 0.5136291814608991.\u001b[0m\n"
     ]
    },
    {
     "name": "stdout",
     "output_type": "stream",
     "text": [
      "[0]\tvalidation_0-rmse:7.43816\n",
      "[1000]\tvalidation_0-rmse:0.71816\n",
      "[1040]\tvalidation_0-rmse:0.71804\n"
     ]
    },
    {
     "name": "stderr",
     "output_type": "stream",
     "text": [
      "\u001b[32m[I 2021-08-25 20:37:36,444]\u001b[0m Trial 257 finished with value: 0.5155724185687593 and parameters: {'learning_rate': 0.043918123848445886, 'reg_lambda': 5.6146813257752526e-08, 'reg_alpha': 1.8829224144991154e-06, 'subsample': 0.9359728783382543, 'colsample_bytree': 0.11764430485175811, 'max_depth': 4}. Best is trial 213 with value: 0.5136291814608991.\u001b[0m\n"
     ]
    },
    {
     "name": "stdout",
     "output_type": "stream",
     "text": [
      "[0]\tvalidation_0-rmse:7.45765\n",
      "[1000]\tvalidation_0-rmse:0.71697\n",
      "[1030]\tvalidation_0-rmse:0.71691\n"
     ]
    },
    {
     "name": "stderr",
     "output_type": "stream",
     "text": [
      "\u001b[32m[I 2021-08-25 20:37:42,104]\u001b[0m Trial 258 finished with value: 0.5139529590367551 and parameters: {'learning_rate': 0.04138754379121027, 'reg_lambda': 3.774240111330782e-08, 'reg_alpha': 0.0002797582236103752, 'subsample': 0.9822570235130704, 'colsample_bytree': 0.1015520632228775, 'max_depth': 5}. Best is trial 213 with value: 0.5136291814608991.\u001b[0m\n"
     ]
    },
    {
     "name": "stdout",
     "output_type": "stream",
     "text": [
      "[0]\tvalidation_0-rmse:7.47752\n",
      "[887]\tvalidation_0-rmse:0.71737\n"
     ]
    },
    {
     "name": "stderr",
     "output_type": "stream",
     "text": [
      "\u001b[32m[I 2021-08-25 20:37:46,939]\u001b[0m Trial 259 finished with value: 0.5146139982650413 and parameters: {'learning_rate': 0.03880624938249089, 'reg_lambda': 8.466693217820594e-08, 'reg_alpha': 0.0007794944728188849, 'subsample': 0.8877070803610807, 'colsample_bytree': 0.12771291298383064, 'max_depth': 5}. Best is trial 213 with value: 0.5136291814608991.\u001b[0m\n"
     ]
    },
    {
     "name": "stdout",
     "output_type": "stream",
     "text": [
      "[0]\tvalidation_0-rmse:7.42779\n",
      "[806]\tvalidation_0-rmse:0.71753\n"
     ]
    },
    {
     "name": "stderr",
     "output_type": "stream",
     "text": [
      "\u001b[32m[I 2021-08-25 20:37:51,389]\u001b[0m Trial 260 finished with value: 0.5148477420850659 and parameters: {'learning_rate': 0.045264949518231144, 'reg_lambda': 4.8965096228892846e-08, 'reg_alpha': 0.00045067684602215116, 'subsample': 0.8526551151137218, 'colsample_bytree': 0.10096371879570806, 'max_depth': 5}. Best is trial 213 with value: 0.5136291814608991.\u001b[0m\n"
     ]
    },
    {
     "name": "stdout",
     "output_type": "stream",
     "text": [
      "[0]\tvalidation_0-rmse:7.39531\n",
      "[629]\tvalidation_0-rmse:0.71738\n"
     ]
    },
    {
     "name": "stderr",
     "output_type": "stream",
     "text": [
      "\u001b[32m[I 2021-08-25 20:37:55,955]\u001b[0m Trial 261 finished with value: 0.5146213996908582 and parameters: {'learning_rate': 0.04947914461223272, 'reg_lambda': 1.3153636882458793e-07, 'reg_alpha': 0.0012008503711720656, 'subsample': 0.910320208816458, 'colsample_bytree': 0.11594720684149284, 'max_depth': 6}. Best is trial 213 with value: 0.5136291814608991.\u001b[0m\n"
     ]
    },
    {
     "name": "stdout",
     "output_type": "stream",
     "text": [
      "[0]\tvalidation_0-rmse:7.49619\n",
      "[889]\tvalidation_0-rmse:0.71757\n"
     ]
    },
    {
     "name": "stderr",
     "output_type": "stream",
     "text": [
      "\u001b[32m[I 2021-08-25 20:38:00,889]\u001b[0m Trial 262 finished with value: 0.5149023186386267 and parameters: {'learning_rate': 0.036385352288959456, 'reg_lambda': 2.6268235871118418e-08, 'reg_alpha': 0.002777696666991483, 'subsample': 0.934026741846791, 'colsample_bytree': 0.1327576423301993, 'max_depth': 5}. Best is trial 213 with value: 0.5136291814608991.\u001b[0m\n"
     ]
    },
    {
     "name": "stdout",
     "output_type": "stream",
     "text": [
      "[0]\tvalidation_0-rmse:7.45884\n",
      "[810]\tvalidation_0-rmse:0.71775\n"
     ]
    },
    {
     "name": "stderr",
     "output_type": "stream",
     "text": [
      "\u001b[32m[I 2021-08-25 20:38:05,343]\u001b[0m Trial 263 finished with value: 0.5151659442543685 and parameters: {'learning_rate': 0.04123312682696124, 'reg_lambda': 1.5801364495973446e-08, 'reg_alpha': 0.00027707495327962016, 'subsample': 0.961002414990199, 'colsample_bytree': 0.10001877145624283, 'max_depth': 5}. Best is trial 213 with value: 0.5136291814608991.\u001b[0m\n"
     ]
    },
    {
     "name": "stdout",
     "output_type": "stream",
     "text": [
      "[0]\tvalidation_0-rmse:7.63694\n",
      "[1000]\tvalidation_0-rmse:0.72051\n",
      "[1809]\tvalidation_0-rmse:0.71755\n"
     ]
    },
    {
     "name": "stderr",
     "output_type": "stream",
     "text": [
      "\u001b[32m[I 2021-08-25 20:38:15,319]\u001b[0m Trial 264 finished with value: 0.5148755326739451 and parameters: {'learning_rate': 0.01811856071226509, 'reg_lambda': 1.9736320466704572e-07, 'reg_alpha': 0.0005589178661826643, 'subsample': 0.9981744425940514, 'colsample_bytree': 0.11935694591220421, 'max_depth': 5}. Best is trial 213 with value: 0.5136291814608991.\u001b[0m\n"
     ]
    },
    {
     "name": "stdout",
     "output_type": "stream",
     "text": [
      "[0]\tvalidation_0-rmse:7.48619\n",
      "[889]\tvalidation_0-rmse:0.71751\n"
     ]
    },
    {
     "name": "stderr",
     "output_type": "stream",
     "text": [
      "\u001b[32m[I 2021-08-25 20:38:20,308]\u001b[0m Trial 265 finished with value: 0.5148221429288687 and parameters: {'learning_rate': 0.03768262696090784, 'reg_lambda': 1.0077273066947885e-08, 'reg_alpha': 0.0010101190206540085, 'subsample': 0.9257144674071123, 'colsample_bytree': 0.13812804051999097, 'max_depth': 5}. Best is trial 213 with value: 0.5136291814608991.\u001b[0m\n"
     ]
    },
    {
     "name": "stdout",
     "output_type": "stream",
     "text": [
      "[0]\tvalidation_0-rmse:7.50828\n",
      "[964]\tvalidation_0-rmse:0.71760\n"
     ]
    },
    {
     "name": "stderr",
     "output_type": "stream",
     "text": [
      "\u001b[32m[I 2021-08-25 20:38:25,676]\u001b[0m Trial 266 finished with value: 0.514948489000718 and parameters: {'learning_rate': 0.034815515256576134, 'reg_lambda': 5.54216254282044e-08, 'reg_alpha': 0.0003547332673473702, 'subsample': 0.8946429219896759, 'colsample_bytree': 0.1711607081360604, 'max_depth': 5}. Best is trial 213 with value: 0.5136291814608991.\u001b[0m\n"
     ]
    },
    {
     "name": "stdout",
     "output_type": "stream",
     "text": [
      "[0]\tvalidation_0-rmse:7.47162\n",
      "[885]\tvalidation_0-rmse:0.71696\n"
     ]
    },
    {
     "name": "stderr",
     "output_type": "stream",
     "text": [
      "\u001b[32m[I 2021-08-25 20:38:32,065]\u001b[0m Trial 267 finished with value: 0.5140273959116994 and parameters: {'learning_rate': 0.03957438712533528, 'reg_lambda': 3.103262212698303e-08, 'reg_alpha': 0.00019057671412170928, 'subsample': 0.946515669202176, 'colsample_bytree': 0.10022717787379651, 'max_depth': 6}. Best is trial 213 with value: 0.5136291814608991.\u001b[0m\n"
     ]
    },
    {
     "name": "stdout",
     "output_type": "stream",
     "text": [
      "[0]\tvalidation_0-rmse:7.44852\n",
      "[566]\tvalidation_0-rmse:0.71969\n"
     ]
    },
    {
     "name": "stderr",
     "output_type": "stream",
     "text": [
      "\u001b[32m[I 2021-08-25 20:38:35,240]\u001b[0m Trial 268 finished with value: 0.5179566257762589 and parameters: {'learning_rate': 0.04256780382199502, 'reg_lambda': 1.5472273417120348e-08, 'reg_alpha': 0.0007225336537640634, 'subsample': 0.8749278107076481, 'colsample_bytree': 0.6118483945930924, 'max_depth': 5}. Best is trial 213 with value: 0.5136291814608991.\u001b[0m\n"
     ]
    },
    {
     "name": "stdout",
     "output_type": "stream",
     "text": [
      "[0]\tvalidation_0-rmse:7.52129\n",
      "[1000]\tvalidation_0-rmse:0.71908\n",
      "[1412]\tvalidation_0-rmse:0.71781\n"
     ]
    },
    {
     "name": "stderr",
     "output_type": "stream",
     "text": [
      "\u001b[32m[I 2021-08-25 20:38:41,254]\u001b[0m Trial 269 finished with value: 0.5152464950369213 and parameters: {'learning_rate': 0.03312740304628204, 'reg_lambda': 8.509271033360206e-08, 'reg_alpha': 0.00026048907379364896, 'subsample': 0.9874724288844586, 'colsample_bytree': 0.15394982013973252, 'max_depth': 4}. Best is trial 213 with value: 0.5136291814608991.\u001b[0m\n"
     ]
    },
    {
     "name": "stdout",
     "output_type": "stream",
     "text": [
      "[0]\tvalidation_0-rmse:7.49788\n",
      "[768]\tvalidation_0-rmse:0.71832\n"
     ]
    },
    {
     "name": "stderr",
     "output_type": "stream",
     "text": [
      "\u001b[32m[I 2021-08-25 20:38:45,142]\u001b[0m Trial 270 finished with value: 0.5159811161468495 and parameters: {'learning_rate': 0.03617960478116365, 'reg_lambda': 1.0133493318139702e-08, 'reg_alpha': 8.594500931068402e-08, 'subsample': 0.5998120457455678, 'colsample_bytree': 0.12037402197468519, 'max_depth': 5}. Best is trial 213 with value: 0.5136291814608991.\u001b[0m\n"
     ]
    },
    {
     "name": "stdout",
     "output_type": "stream",
     "text": [
      "[0]\tvalidation_0-rmse:7.53524\n",
      "[1000]\tvalidation_0-rmse:0.71828\n",
      "[1023]\tvalidation_0-rmse:0.71823\n"
     ]
    },
    {
     "name": "stderr",
     "output_type": "stream",
     "text": [
      "\u001b[32m[I 2021-08-25 20:38:50,697]\u001b[0m Trial 271 finished with value: 0.5158564098915305 and parameters: {'learning_rate': 0.03131414141741546, 'reg_lambda': 2.555324310471004e-07, 'reg_alpha': 0.0016352505620143916, 'subsample': 0.9111828824499535, 'colsample_bytree': 0.3404266136493612, 'max_depth': 5}. Best is trial 213 with value: 0.5136291814608991.\u001b[0m\n"
     ]
    },
    {
     "name": "stdout",
     "output_type": "stream",
     "text": [
      "[0]\tvalidation_0-rmse:7.59988\n",
      "[1000]\tvalidation_0-rmse:0.71905\n",
      "[1561]\tvalidation_0-rmse:0.71727\n"
     ]
    },
    {
     "name": "stderr",
     "output_type": "stream",
     "text": [
      "\u001b[32m[I 2021-08-25 20:38:59,191]\u001b[0m Trial 272 finished with value: 0.5144686371656003 and parameters: {'learning_rate': 0.022926704784715014, 'reg_lambda': 2.1508363185069032e-08, 'reg_alpha': 0.0004314693035277765, 'subsample': 0.9604308310169243, 'colsample_bytree': 0.1343609996799744, 'max_depth': 5}. Best is trial 213 with value: 0.5136291814608991.\u001b[0m\n"
     ]
    },
    {
     "name": "stdout",
     "output_type": "stream",
     "text": [
      "[0]\tvalidation_0-rmse:7.47748\n",
      "[716]\tvalidation_0-rmse:0.71735\n"
     ]
    },
    {
     "name": "stderr",
     "output_type": "stream",
     "text": [
      "\u001b[32m[I 2021-08-25 20:39:06,605]\u001b[0m Trial 273 finished with value: 0.5145870246877906 and parameters: {'learning_rate': 0.03881238163439421, 'reg_lambda': 1.411774159404466e-07, 'reg_alpha': 3.499227026467348e-05, 'subsample': 0.9299694925807177, 'colsample_bytree': 0.10114164847209309, 'max_depth': 7}. Best is trial 213 with value: 0.5136291814608991.\u001b[0m\n"
     ]
    },
    {
     "name": "stdout",
     "output_type": "stream",
     "text": [
      "[0]\tvalidation_0-rmse:7.51202\n",
      "[923]\tvalidation_0-rmse:0.71898\n"
     ]
    },
    {
     "name": "stderr",
     "output_type": "stream",
     "text": [
      "\u001b[32m[I 2021-08-25 20:39:11,718]\u001b[0m Trial 274 finished with value: 0.516921115887871 and parameters: {'learning_rate': 0.03432519655212017, 'reg_lambda': 3.994272929253964e-08, 'reg_alpha': 0.00011234708116542422, 'subsample': 0.9027945634605574, 'colsample_bytree': 0.7498007170976805, 'max_depth': 5}. Best is trial 213 with value: 0.5136291814608991.\u001b[0m\n"
     ]
    },
    {
     "name": "stdout",
     "output_type": "stream",
     "text": [
      "[0]\tvalidation_0-rmse:7.44080\n",
      "[808]\tvalidation_0-rmse:0.71768\n"
     ]
    },
    {
     "name": "stderr",
     "output_type": "stream",
     "text": [
      "\u001b[32m[I 2021-08-25 20:39:16,177]\u001b[0m Trial 275 finished with value: 0.515063172483876 and parameters: {'learning_rate': 0.04357407878373331, 'reg_lambda': 2.1993110916214273e-08, 'reg_alpha': 0.0008724978698707208, 'subsample': 0.8321722965969003, 'colsample_bytree': 0.11601204025655379, 'max_depth': 5}. Best is trial 213 with value: 0.5136291814608991.\u001b[0m\n"
     ]
    },
    {
     "name": "stdout",
     "output_type": "stream",
     "text": [
      "[0]\tvalidation_0-rmse:7.41667\n",
      "[542]\tvalidation_0-rmse:0.71906\n"
     ]
    },
    {
     "name": "stderr",
     "output_type": "stream",
     "text": [
      "\u001b[32m[I 2021-08-25 20:39:18,916]\u001b[0m Trial 276 finished with value: 0.5170463090434614 and parameters: {'learning_rate': 0.04673581497178054, 'reg_lambda': 1.0311192672257595e-08, 'reg_alpha': 0.0005376631635736386, 'subsample': 0.41447034778561775, 'colsample_bytree': 0.1461228883732458, 'max_depth': 5}. Best is trial 213 with value: 0.5136291814608991.\u001b[0m\n"
     ]
    },
    {
     "name": "stdout",
     "output_type": "stream",
     "text": [
      "[0]\tvalidation_0-rmse:7.57905\n",
      "[1000]\tvalidation_0-rmse:0.71858\n",
      "[1214]\tvalidation_0-rmse:0.71799\n"
     ]
    },
    {
     "name": "stderr",
     "output_type": "stream",
     "text": [
      "\u001b[32m[I 2021-08-25 20:39:25,933]\u001b[0m Trial 277 finished with value: 0.5155002023050451 and parameters: {'learning_rate': 0.025631773853461187, 'reg_lambda': 6.406004487613086e-08, 'reg_alpha': 0.00016418913565911263, 'subsample': 0.9997594922030968, 'colsample_bytree': 0.19267330851381104, 'max_depth': 5}. Best is trial 213 with value: 0.5136291814608991.\u001b[0m\n"
     ]
    },
    {
     "name": "stdout",
     "output_type": "stream",
     "text": [
      "[0]\tvalidation_0-rmse:7.55829\n",
      "[943]\tvalidation_0-rmse:0.71772\n"
     ]
    },
    {
     "name": "stderr",
     "output_type": "stream",
     "text": [
      "\u001b[32m[I 2021-08-25 20:39:32,741]\u001b[0m Trial 278 finished with value: 0.515119997308531 and parameters: {'learning_rate': 0.02832592214379355, 'reg_lambda': 3.4899822396639805e-08, 'reg_alpha': 1.4044312786513156e-05, 'subsample': 0.9432602884109023, 'colsample_bytree': 0.10042053982270024, 'max_depth': 6}. Best is trial 213 with value: 0.5136291814608991.\u001b[0m\n"
     ]
    },
    {
     "name": "stdout",
     "output_type": "stream",
     "text": [
      "[0]\tvalidation_0-rmse:7.49688\n",
      "[1000]\tvalidation_0-rmse:0.71721\n",
      "[1075]\tvalidation_0-rmse:0.71705\n"
     ]
    },
    {
     "name": "stderr",
     "output_type": "stream",
     "text": [
      "\u001b[32m[I 2021-08-25 20:39:38,609]\u001b[0m Trial 279 finished with value: 0.5141548880125385 and parameters: {'learning_rate': 0.03629414189987842, 'reg_lambda': 1.4954315851144006e-08, 'reg_alpha': 1.0084137764312801e-06, 'subsample': 0.9719743604727048, 'colsample_bytree': 0.1610907384370588, 'max_depth': 5}. Best is trial 213 with value: 0.5136291814608991.\u001b[0m\n"
     ]
    },
    {
     "name": "stdout",
     "output_type": "stream",
     "text": [
      "[0]\tvalidation_0-rmse:7.53719\n",
      "[1000]\tvalidation_0-rmse:0.71783\n",
      "[1011]\tvalidation_0-rmse:0.71781\n"
     ]
    },
    {
     "name": "stderr",
     "output_type": "stream",
     "text": [
      "\u001b[32m[I 2021-08-25 20:39:43,980]\u001b[0m Trial 280 finished with value: 0.5152523515936224 and parameters: {'learning_rate': 0.031062941010189082, 'reg_lambda': 3.480892109648652e-07, 'reg_alpha': 0.002096490922920784, 'subsample': 0.8598687373957198, 'colsample_bytree': 0.1302185091987719, 'max_depth': 5}. Best is trial 213 with value: 0.5136291814608991.\u001b[0m\n"
     ]
    },
    {
     "name": "stdout",
     "output_type": "stream",
     "text": [
      "[0]\tvalidation_0-rmse:7.61017\n",
      "[1000]\tvalidation_0-rmse:0.71999\n",
      "[1561]\tvalidation_0-rmse:0.71757\n"
     ]
    },
    {
     "name": "stderr",
     "output_type": "stream",
     "text": [
      "\u001b[32m[I 2021-08-25 20:39:52,233]\u001b[0m Trial 281 finished with value: 0.5149098074916281 and parameters: {'learning_rate': 0.02159226874240215, 'reg_lambda': 1.7417647482658603e-07, 'reg_alpha': 0.0003049507948183523, 'subsample': 0.885906453566249, 'colsample_bytree': 0.11747347182314558, 'max_depth': 5}. Best is trial 213 with value: 0.5136291814608991.\u001b[0m\n"
     ]
    },
    {
     "name": "stdout",
     "output_type": "stream",
     "text": [
      "[0]\tvalidation_0-rmse:7.47102\n",
      "[769]\tvalidation_0-rmse:0.71782\n"
     ]
    },
    {
     "name": "stderr",
     "output_type": "stream",
     "text": [
      "\u001b[32m[I 2021-08-25 20:39:56,491]\u001b[0m Trial 282 finished with value: 0.5152666962561057 and parameters: {'learning_rate': 0.03965270911209976, 'reg_lambda': 9.935730662667651e-08, 'reg_alpha': 0.001316690055675924, 'subsample': 0.9175229661898455, 'colsample_bytree': 0.13906093747279918, 'max_depth': 5}. Best is trial 213 with value: 0.5136291814608991.\u001b[0m\n"
     ]
    },
    {
     "name": "stdout",
     "output_type": "stream",
     "text": [
      "[0]\tvalidation_0-rmse:7.51934\n",
      "[1000]\tvalidation_0-rmse:0.71773\n",
      "[1286]\tvalidation_0-rmse:0.71693\n"
     ]
    },
    {
     "name": "stderr",
     "output_type": "stream",
     "text": [
      "\u001b[32m[I 2021-08-25 20:40:03,723]\u001b[0m Trial 283 finished with value: 0.5139795781701214 and parameters: {'learning_rate': 0.033381895201241185, 'reg_lambda': 7.152959264878976e-07, 'reg_alpha': 0.005697654123152029, 'subsample': 0.9422976498378083, 'colsample_bytree': 0.10023877122585766, 'max_depth': 5}. Best is trial 213 with value: 0.5136291814608991.\u001b[0m\n"
     ]
    },
    {
     "name": "stdout",
     "output_type": "stream",
     "text": [
      "[0]\tvalidation_0-rmse:7.36467\n",
      "[1000]\tvalidation_0-rmse:0.71949\n",
      "[1040]\tvalidation_0-rmse:0.71931\n"
     ]
    },
    {
     "name": "stderr",
     "output_type": "stream",
     "text": [
      "\u001b[32m[I 2021-08-25 20:40:07,437]\u001b[0m Trial 284 finished with value: 0.5174059652747977 and parameters: {'learning_rate': 0.05345650838804301, 'reg_lambda': 2.7350846134126703e-08, 'reg_alpha': 0.0006253935324753143, 'subsample': 0.955040135089563, 'colsample_bytree': 0.11464997024929414, 'max_depth': 3}. Best is trial 213 with value: 0.5136291814608991.\u001b[0m\n"
     ]
    },
    {
     "name": "stdout",
     "output_type": "stream",
     "text": [
      "[0]\tvalidation_0-rmse:7.48945\n",
      "[1000]\tvalidation_0-rmse:0.71733\n",
      "[1078]\tvalidation_0-rmse:0.71715\n"
     ]
    },
    {
     "name": "stderr",
     "output_type": "stream",
     "text": [
      "\u001b[32m[I 2021-08-25 20:40:13,257]\u001b[0m Trial 285 finished with value: 0.5143068692918763 and parameters: {'learning_rate': 0.03725876000956781, 'reg_lambda': 5.3188376829895506e-08, 'reg_alpha': 0.00022839875077522483, 'subsample': 0.9807100333208795, 'colsample_bytree': 0.17074465001580957, 'max_depth': 5}. Best is trial 213 with value: 0.5136291814608991.\u001b[0m\n"
     ]
    },
    {
     "name": "stdout",
     "output_type": "stream",
     "text": [
      "[0]\tvalidation_0-rmse:7.54882\n",
      "[1000]\tvalidation_0-rmse:0.71784\n",
      "[1169]\tvalidation_0-rmse:0.71733\n"
     ]
    },
    {
     "name": "stderr",
     "output_type": "stream",
     "text": [
      "\u001b[32m[I 2021-08-25 20:40:19,598]\u001b[0m Trial 286 finished with value: 0.5145656662260923 and parameters: {'learning_rate': 0.029554769034282807, 'reg_lambda': 1.0071586484979591e-08, 'reg_alpha': 0.0031078909712005305, 'subsample': 0.921209113152406, 'colsample_bytree': 0.1483407881068299, 'max_depth': 5}. Best is trial 213 with value: 0.5136291814608991.\u001b[0m\n"
     ]
    },
    {
     "name": "stdout",
     "output_type": "stream",
     "text": [
      "[0]\tvalidation_0-rmse:7.46345\n",
      "[722]\tvalidation_0-rmse:0.71797\n"
     ]
    },
    {
     "name": "stderr",
     "output_type": "stream",
     "text": [
      "\u001b[32m[I 2021-08-25 20:40:23,813]\u001b[0m Trial 287 finished with value: 0.5154831473356016 and parameters: {'learning_rate': 0.040631810357760305, 'reg_lambda': 1.585716875234122e-08, 'reg_alpha': 0.0003759917633416808, 'subsample': 0.8735382258679338, 'colsample_bytree': 0.1317813845936911, 'max_depth': 5}. Best is trial 213 with value: 0.5136291814608991.\u001b[0m\n"
     ]
    },
    {
     "name": "stdout",
     "output_type": "stream",
     "text": [
      "[0]\tvalidation_0-rmse:7.52475\n",
      "[1000]\tvalidation_0-rmse:0.71707\n",
      "[1040]\tvalidation_0-rmse:0.71697\n"
     ]
    },
    {
     "name": "stderr",
     "output_type": "stream",
     "text": [
      "\u001b[32m[I 2021-08-25 20:40:31,223]\u001b[0m Trial 288 finished with value: 0.5140399921309657 and parameters: {'learning_rate': 0.03267874434707895, 'reg_lambda': 0.20820473504598433, 'reg_alpha': 6.53354419391501e-06, 'subsample': 0.8968265811901298, 'colsample_bytree': 0.10113660586435437, 'max_depth': 6}. Best is trial 213 with value: 0.5136291814608991.\u001b[0m\n"
     ]
    },
    {
     "name": "stdout",
     "output_type": "stream",
     "text": [
      "[0]\tvalidation_0-rmse:7.56641\n",
      "[1000]\tvalidation_0-rmse:0.71866\n",
      "[1041]\tvalidation_0-rmse:0.71849\n"
     ]
    },
    {
     "name": "stderr",
     "output_type": "stream",
     "text": [
      "\u001b[32m[I 2021-08-25 20:40:36,899]\u001b[0m Trial 289 finished with value: 0.5162256423630982 and parameters: {'learning_rate': 0.027271474695356707, 'reg_lambda': 2.445489898751108e-08, 'reg_alpha': 0.0009937202976796073, 'subsample': 0.9667929039739065, 'colsample_bytree': 0.11669121047453027, 'max_depth': 5}. Best is trial 213 with value: 0.5136291814608991.\u001b[0m\n"
     ]
    },
    {
     "name": "stdout",
     "output_type": "stream",
     "text": [
      "[0]\tvalidation_0-rmse:7.64871\n",
      "[1000]\tvalidation_0-rmse:0.72188\n",
      "[1561]\tvalidation_0-rmse:0.71882\n"
     ]
    },
    {
     "name": "stderr",
     "output_type": "stream",
     "text": [
      "\u001b[32m[I 2021-08-25 20:40:45,236]\u001b[0m Trial 290 finished with value: 0.5167012979626084 and parameters: {'learning_rate': 0.01659196493976261, 'reg_lambda': 7.481932429853234e-08, 'reg_alpha': 9.545441501354356e-05, 'subsample': 0.908051955569891, 'colsample_bytree': 0.10010366936976987, 'max_depth': 5}. Best is trial 213 with value: 0.5136291814608991.\u001b[0m\n"
     ]
    },
    {
     "name": "stdout",
     "output_type": "stream",
     "text": [
      "[0]\tvalidation_0-rmse:7.50393\n",
      "[1000]\tvalidation_0-rmse:0.71716\n",
      "[1131]\tvalidation_0-rmse:0.71692\n"
     ]
    },
    {
     "name": "stderr",
     "output_type": "stream",
     "text": [
      "\u001b[32m[I 2021-08-25 20:40:51,309]\u001b[0m Trial 291 finished with value: 0.513975279884031 and parameters: {'learning_rate': 0.035380810264164994, 'reg_lambda': 2.394518312423017e-07, 'reg_alpha': 0.00016446140948405885, 'subsample': 0.9404381084793247, 'colsample_bytree': 0.15453359238284442, 'max_depth': 5}. Best is trial 213 with value: 0.5136291814608991.\u001b[0m\n"
     ]
    },
    {
     "name": "stdout",
     "output_type": "stream",
     "text": [
      "[0]\tvalidation_0-rmse:7.48448\n",
      "[719]\tvalidation_0-rmse:0.71915\n"
     ]
    },
    {
     "name": "stderr",
     "output_type": "stream",
     "text": [
      "\u001b[32m[I 2021-08-25 20:40:54,757]\u001b[0m Trial 292 finished with value: 0.5171732843060476 and parameters: {'learning_rate': 0.037923307195442874, 'reg_lambda': 3.5178498765772754e-08, 'reg_alpha': 0.0006197903748965892, 'subsample': 0.2668745151826687, 'colsample_bytree': 0.12797670752024223, 'max_depth': 5}. Best is trial 213 with value: 0.5136291814608991.\u001b[0m\n"
     ]
    },
    {
     "name": "stdout",
     "output_type": "stream",
     "text": [
      "[0]\tvalidation_0-rmse:7.63029\n",
      "[1000]\tvalidation_0-rmse:0.71836\n",
      "[1532]\tvalidation_0-rmse:0.71706\n"
     ]
    },
    {
     "name": "stderr",
     "output_type": "stream",
     "text": [
      "\u001b[32m[I 2021-08-25 20:41:05,987]\u001b[0m Trial 293 finished with value: 0.5141762891901227 and parameters: {'learning_rate': 0.018980841431126085, 'reg_lambda': 1.560307346157705e-08, 'reg_alpha': 1.2934150228393126e-07, 'subsample': 0.9248401632968228, 'colsample_bytree': 0.1818453931040823, 'max_depth': 6}. Best is trial 213 with value: 0.5136291814608991.\u001b[0m\n"
     ]
    },
    {
     "name": "stdout",
     "output_type": "stream",
     "text": [
      "[0]\tvalidation_0-rmse:7.58977\n",
      "[1000]\tvalidation_0-rmse:0.71884\n",
      "[1409]\tvalidation_0-rmse:0.71747\n"
     ]
    },
    {
     "name": "stderr",
     "output_type": "stream",
     "text": [
      "\u001b[32m[I 2021-08-25 20:41:13,607]\u001b[0m Trial 294 finished with value: 0.5147660539139407 and parameters: {'learning_rate': 0.02424015595004393, 'reg_lambda': 1.416199146476527e-07, 'reg_alpha': 2.8534151217644817e-06, 'subsample': 0.9858513693102584, 'colsample_bytree': 0.13939632232210095, 'max_depth': 5}. Best is trial 213 with value: 0.5136291814608991.\u001b[0m\n"
     ]
    },
    {
     "name": "stdout",
     "output_type": "stream",
     "text": [
      "[0]\tvalidation_0-rmse:7.30855\n",
      "[716]\tvalidation_0-rmse:0.71705\n"
     ]
    },
    {
     "name": "stderr",
     "output_type": "stream",
     "text": [
      "\u001b[32m[I 2021-08-25 20:41:17,524]\u001b[0m Trial 295 finished with value: 0.5141578352516928 and parameters: {'learning_rate': 0.06074277620027954, 'reg_lambda': 0.000514234659210814, 'reg_alpha': 0.00040837059353403444, 'subsample': 0.8896931076277143, 'colsample_bytree': 0.11601915530584463, 'max_depth': 5}. Best is trial 213 with value: 0.5136291814608991.\u001b[0m\n"
     ]
    },
    {
     "name": "stdout",
     "output_type": "stream",
     "text": [
      "[0]\tvalidation_0-rmse:7.45113\n",
      "[1000]\tvalidation_0-rmse:0.71837\n",
      "[1234]\tvalidation_0-rmse:0.71754\n"
     ]
    },
    {
     "name": "stderr",
     "output_type": "stream",
     "text": [
      "\u001b[32m[I 2021-08-25 20:41:22,356]\u001b[0m Trial 296 finished with value: 0.5148700282624895 and parameters: {'learning_rate': 0.042244485752901455, 'reg_lambda': 1.0229878538045701e-08, 'reg_alpha': 0.0019791436019351663, 'subsample': 0.6545445656016623, 'colsample_bytree': 0.1002809127338324, 'max_depth': 4}. Best is trial 213 with value: 0.5136291814608991.\u001b[0m\n"
     ]
    },
    {
     "name": "stdout",
     "output_type": "stream",
     "text": [
      "[0]\tvalidation_0-rmse:7.53834\n",
      "[1000]\tvalidation_0-rmse:0.71763\n",
      "[1202]\tvalidation_0-rmse:0.71716\n"
     ]
    },
    {
     "name": "stderr",
     "output_type": "stream",
     "text": [
      "\u001b[32m[I 2021-08-25 20:41:28,840]\u001b[0m Trial 297 finished with value: 0.5143151915922736 and parameters: {'learning_rate': 0.030913708212828395, 'reg_lambda': 3.5619120001573017e-07, 'reg_alpha': 6.380310763554365e-05, 'subsample': 0.9555624439926036, 'colsample_bytree': 0.16065552232141728, 'max_depth': 5}. Best is trial 213 with value: 0.5136291814608991.\u001b[0m\n"
     ]
    },
    {
     "name": "stdout",
     "output_type": "stream",
     "text": [
      "[0]\tvalidation_0-rmse:7.42705\n",
      "[702]\tvalidation_0-rmse:0.71777\n"
     ]
    },
    {
     "name": "stderr",
     "output_type": "stream",
     "text": [
      "\u001b[32m[I 2021-08-25 20:41:32,651]\u001b[0m Trial 298 finished with value: 0.5151831332007204 and parameters: {'learning_rate': 0.04535813365870544, 'reg_lambda': 4.81561905806456e-08, 'reg_alpha': 0.0009771479302738563, 'subsample': 0.8462976798346401, 'colsample_bytree': 0.12857740878791538, 'max_depth': 5}. Best is trial 213 with value: 0.5136291814608991.\u001b[0m\n"
     ]
    },
    {
     "name": "stdout",
     "output_type": "stream",
     "text": [
      "[0]\tvalidation_0-rmse:7.50986\n",
      "[1000]\tvalidation_0-rmse:0.71749\n",
      "[1040]\tvalidation_0-rmse:0.71736\n"
     ]
    },
    {
     "name": "stderr",
     "output_type": "stream",
     "text": [
      "\u001b[32m[I 2021-08-25 20:41:38,440]\u001b[0m Trial 299 finished with value: 0.514605795634356 and parameters: {'learning_rate': 0.034612414121484664, 'reg_lambda': 2.1117801343052933e-08, 'reg_alpha': 5.47898717881035e-08, 'subsample': 0.935173904419325, 'colsample_bytree': 0.11703263760052877, 'max_depth': 5}. Best is trial 213 with value: 0.5136291814608991.\u001b[0m\n"
     ]
    },
    {
     "name": "stdout",
     "output_type": "stream",
     "text": [
      "[0]\tvalidation_0-rmse:7.52286\n",
      "[1000]\tvalidation_0-rmse:0.71784\n",
      "[1040]\tvalidation_0-rmse:0.71769\n"
     ]
    },
    {
     "name": "stderr",
     "output_type": "stream",
     "text": [
      "\u001b[32m[I 2021-08-25 20:41:43,965]\u001b[0m Trial 300 finished with value: 0.51507994259517 and parameters: {'learning_rate': 0.032923843107902334, 'reg_lambda': 8.50640447407596e-08, 'reg_alpha': 0.0004095154496841276, 'subsample': 0.9070977258558803, 'colsample_bytree': 0.10088693596464429, 'max_depth': 5}. Best is trial 213 with value: 0.5136291814608991.\u001b[0m\n"
     ]
    },
    {
     "name": "stdout",
     "output_type": "stream",
     "text": [
      "[0]\tvalidation_0-rmse:7.55691\n",
      "[1000]\tvalidation_0-rmse:0.71813\n",
      "[1279]\tvalidation_0-rmse:0.71735\n"
     ]
    },
    {
     "name": "stderr",
     "output_type": "stream",
     "text": [
      "\u001b[32m[I 2021-08-25 20:41:50,903]\u001b[0m Trial 301 finished with value: 0.5145834163446418 and parameters: {'learning_rate': 0.028503582571780862, 'reg_lambda': 1.0044872862859385e-06, 'reg_alpha': 0.00028509298024574067, 'subsample': 0.9662403584027549, 'colsample_bytree': 0.13793682513584102, 'max_depth': 5}. Best is trial 213 with value: 0.5136291814608991.\u001b[0m\n"
     ]
    },
    {
     "name": "stdout",
     "output_type": "stream",
     "text": [
      "[0]\tvalidation_0-rmse:7.48999\n",
      "[575]\tvalidation_0-rmse:0.71826\n"
     ]
    },
    {
     "name": "stderr",
     "output_type": "stream",
     "text": [
      "\u001b[32m[I 2021-08-25 20:41:55,463]\u001b[0m Trial 302 finished with value: 0.5158936761128136 and parameters: {'learning_rate': 0.03718861213890175, 'reg_lambda': 3.67704943692943e-08, 'reg_alpha': 0.0014604769605740349, 'subsample': 0.9281557318151922, 'colsample_bytree': 0.14947104224980587, 'max_depth': 6}. Best is trial 213 with value: 0.5136291814608991.\u001b[0m\n"
     ]
    },
    {
     "name": "stdout",
     "output_type": "stream",
     "text": [
      "[0]\tvalidation_0-rmse:7.38620\n",
      "[879]\tvalidation_0-rmse:0.71684\n"
     ]
    },
    {
     "name": "stderr",
     "output_type": "stream",
     "text": [
      "\u001b[32m[I 2021-08-25 20:42:00,176]\u001b[0m Trial 303 finished with value: 0.5138583912882185 and parameters: {'learning_rate': 0.0506631540309382, 'reg_lambda': 4.521119124464025e-07, 'reg_alpha': 0.00015689418959291188, 'subsample': 0.8900809130595704, 'colsample_bytree': 0.11462314142023944, 'max_depth': 5}. Best is trial 213 with value: 0.5136291814608991.\u001b[0m\n"
     ]
    },
    {
     "name": "stdout",
     "output_type": "stream",
     "text": [
      "[0]\tvalidation_0-rmse:7.40116\n",
      "[903]\tvalidation_0-rmse:0.71690\n"
     ]
    },
    {
     "name": "stderr",
     "output_type": "stream",
     "text": [
      "\u001b[32m[I 2021-08-25 20:42:05,094]\u001b[0m Trial 304 finished with value: 0.5139326758306411 and parameters: {'learning_rate': 0.0487194598211032, 'reg_lambda': 4.5012161303239195e-07, 'reg_alpha': 0.00011464103059811042, 'subsample': 0.875774208125229, 'colsample_bytree': 0.1153244446448464, 'max_depth': 5}. Best is trial 213 with value: 0.5136291814608991.\u001b[0m\n"
     ]
    },
    {
     "name": "stdout",
     "output_type": "stream",
     "text": [
      "[0]\tvalidation_0-rmse:7.34275\n",
      "[791]\tvalidation_0-rmse:0.71705\n"
     ]
    },
    {
     "name": "stderr",
     "output_type": "stream",
     "text": [
      "\u001b[32m[I 2021-08-25 20:42:09,535]\u001b[0m Trial 305 finished with value: 0.5141403525987418 and parameters: {'learning_rate': 0.05630312903111423, 'reg_lambda': 5.412526081647916e-07, 'reg_alpha': 0.00020539290031492178, 'subsample': 0.8624471447566808, 'colsample_bytree': 0.10257211513727574, 'max_depth': 5}. Best is trial 213 with value: 0.5136291814608991.\u001b[0m\n"
     ]
    },
    {
     "name": "stdout",
     "output_type": "stream",
     "text": [
      "[0]\tvalidation_0-rmse:7.45942\n",
      "[769]\tvalidation_0-rmse:0.71772\n"
     ]
    },
    {
     "name": "stderr",
     "output_type": "stream",
     "text": [
      "\u001b[32m[I 2021-08-25 20:42:13,875]\u001b[0m Trial 306 finished with value: 0.5151224795330437 and parameters: {'learning_rate': 0.04115742503824039, 'reg_lambda': 2.4522119499403754e-07, 'reg_alpha': 0.00015697999395921324, 'subsample': 0.8915022793142603, 'colsample_bytree': 0.12580922340839454, 'max_depth': 5}. Best is trial 213 with value: 0.5136291814608991.\u001b[0m\n"
     ]
    },
    {
     "name": "stdout",
     "output_type": "stream",
     "text": [
      "[0]\tvalidation_0-rmse:7.39697\n",
      "[659]\tvalidation_0-rmse:0.71837\n"
     ]
    },
    {
     "name": "stderr",
     "output_type": "stream",
     "text": [
      "\u001b[32m[I 2021-08-25 20:42:17,471]\u001b[0m Trial 307 finished with value: 0.5160515759575354 and parameters: {'learning_rate': 0.04926103444695278, 'reg_lambda': 9.824164861925634e-07, 'reg_alpha': 3.716463137370472e-05, 'subsample': 0.9052180367953482, 'colsample_bytree': 0.42492162053747484, 'max_depth': 5}. Best is trial 213 with value: 0.5136291814608991.\u001b[0m\n"
     ]
    },
    {
     "name": "stdout",
     "output_type": "stream",
     "text": [
      "[0]\tvalidation_0-rmse:7.38629\n",
      "[770]\tvalidation_0-rmse:0.71731\n"
     ]
    },
    {
     "name": "stderr",
     "output_type": "stream",
     "text": [
      "\u001b[32m[I 2021-08-25 20:42:21,664]\u001b[0m Trial 308 finished with value: 0.5145326638234173 and parameters: {'learning_rate': 0.050649221202867856, 'reg_lambda': 1.6016217002729014e-07, 'reg_alpha': 2.34365282618748e-05, 'subsample': 0.878654752635614, 'colsample_bytree': 0.10091792965890306, 'max_depth': 5}. Best is trial 213 with value: 0.5136291814608991.\u001b[0m\n"
     ]
    },
    {
     "name": "stdout",
     "output_type": "stream",
     "text": [
      "[0]\tvalidation_0-rmse:7.42492\n",
      "[987]\tvalidation_0-rmse:0.71689\n"
     ]
    },
    {
     "name": "stderr",
     "output_type": "stream",
     "text": [
      "\u001b[32m[I 2021-08-25 20:42:27,058]\u001b[0m Trial 309 finished with value: 0.5139296119736765 and parameters: {'learning_rate': 0.045636815014161995, 'reg_lambda': 7.304438852510178e-07, 'reg_alpha': 0.0002534563055324269, 'subsample': 0.9152998372706967, 'colsample_bytree': 0.10108751777170327, 'max_depth': 5}. Best is trial 213 with value: 0.5136291814608991.\u001b[0m\n"
     ]
    },
    {
     "name": "stdout",
     "output_type": "stream",
     "text": [
      "[0]\tvalidation_0-rmse:7.50143\n",
      "[1000]\tvalidation_0-rmse:0.71750\n",
      "[1001]\tvalidation_0-rmse:0.71750\n"
     ]
    },
    {
     "name": "stderr",
     "output_type": "stream",
     "text": [
      "\u001b[32m[I 2021-08-25 20:42:32,386]\u001b[0m Trial 310 finished with value: 0.514805400700957 and parameters: {'learning_rate': 0.03570574747508608, 'reg_lambda': 2.757235351124902e-07, 'reg_alpha': 0.0006193978906943996, 'subsample': 0.8450740947148213, 'colsample_bytree': 0.11528802745555879, 'max_depth': 5}. Best is trial 213 with value: 0.5136291814608991.\u001b[0m\n"
     ]
    },
    {
     "name": "stdout",
     "output_type": "stream",
     "text": [
      "[0]\tvalidation_0-rmse:7.36322\n",
      "[676]\tvalidation_0-rmse:0.71736\n"
     ]
    },
    {
     "name": "stderr",
     "output_type": "stream",
     "text": [
      "\u001b[32m[I 2021-08-25 20:42:36,097]\u001b[0m Trial 311 finished with value: 0.5145916049963525 and parameters: {'learning_rate': 0.05364286707624457, 'reg_lambda': 4.1135082994616707e-07, 'reg_alpha': 9.348521775126812e-05, 'subsample': 0.8979391869544384, 'colsample_bytree': 0.1362069690208311, 'max_depth': 5}. Best is trial 213 with value: 0.5136291814608991.\u001b[0m\n"
     ]
    },
    {
     "name": "stdout",
     "output_type": "stream",
     "text": [
      "[0]\tvalidation_0-rmse:7.53562\n",
      "[1000]\tvalidation_0-rmse:0.71791\n",
      "[1088]\tvalidation_0-rmse:0.71771\n"
     ]
    },
    {
     "name": "stderr",
     "output_type": "stream",
     "text": [
      "\u001b[32m[I 2021-08-25 20:42:42,154]\u001b[0m Trial 312 finished with value: 0.5150931289657376 and parameters: {'learning_rate': 0.031268324680363516, 'reg_lambda': 1.3169327961058332e-07, 'reg_alpha': 0.00035545708929504797, 'subsample': 0.9984397639164612, 'colsample_bytree': 0.1671760243317424, 'max_depth': 5}. Best is trial 213 with value: 0.5136291814608991.\u001b[0m\n"
     ]
    },
    {
     "name": "stdout",
     "output_type": "stream",
     "text": [
      "[0]\tvalidation_0-rmse:7.47472\n",
      "[938]\tvalidation_0-rmse:0.71724\n"
     ]
    },
    {
     "name": "stderr",
     "output_type": "stream",
     "text": [
      "\u001b[32m[I 2021-08-25 20:42:47,147]\u001b[0m Trial 313 finished with value: 0.5144258304044288 and parameters: {'learning_rate': 0.03917334301706511, 'reg_lambda': 0.00016974985543117868, 'reg_alpha': 5.848023392504963e-05, 'subsample': 0.800830256422236, 'colsample_bytree': 0.12747958439102686, 'max_depth': 5}. Best is trial 213 with value: 0.5136291814608991.\u001b[0m\n"
     ]
    },
    {
     "name": "stdout",
     "output_type": "stream",
     "text": [
      "[0]\tvalidation_0-rmse:7.43960\n",
      "[769]\tvalidation_0-rmse:0.71747\n"
     ]
    },
    {
     "name": "stderr",
     "output_type": "stream",
     "text": [
      "\u001b[32m[I 2021-08-25 20:42:51,292]\u001b[0m Trial 314 finished with value: 0.5147667573490553 and parameters: {'learning_rate': 0.04372707460044181, 'reg_lambda': 1.889835562453414e-05, 'reg_alpha': 0.0001939324862808406, 'subsample': 0.873052628767354, 'colsample_bytree': 0.1468866057901066, 'max_depth': 5}. Best is trial 213 with value: 0.5136291814608991.\u001b[0m\n"
     ]
    },
    {
     "name": "stdout",
     "output_type": "stream",
     "text": [
      "[0]\tvalidation_0-rmse:7.51250\n",
      "[1000]\tvalidation_0-rmse:0.71936\n",
      "[1039]\tvalidation_0-rmse:0.71919\n"
     ]
    },
    {
     "name": "stderr",
     "output_type": "stream",
     "text": [
      "\u001b[32m[I 2021-08-25 20:42:55,830]\u001b[0m Trial 315 finished with value: 0.5172359839318255 and parameters: {'learning_rate': 0.03426957623532071, 'reg_lambda': 1.4392008914272302e-08, 'reg_alpha': 1.3148596370428385e-08, 'subsample': 0.9226654076438408, 'colsample_bytree': 0.11438805586644102, 'max_depth': 4}. Best is trial 213 with value: 0.5136291814608991.\u001b[0m\n"
     ]
    },
    {
     "name": "stdout",
     "output_type": "stream",
     "text": [
      "[0]\tvalidation_0-rmse:7.48143\n",
      "[1000]\tvalidation_0-rmse:0.71699\n",
      "[1076]\tvalidation_0-rmse:0.71685\n"
     ]
    },
    {
     "name": "stderr",
     "output_type": "stream",
     "text": [
      "\u001b[32m[I 2021-08-25 20:43:01,689]\u001b[0m Trial 316 finished with value: 0.5138685952592642 and parameters: {'learning_rate': 0.03829867220055091, 'reg_lambda': 6.037410460395227e-08, 'reg_alpha': 5.238875810736576e-07, 'subsample': 0.9508039426795509, 'colsample_bytree': 0.1535529758812863, 'max_depth': 5}. Best is trial 213 with value: 0.5136291814608991.\u001b[0m\n"
     ]
    },
    {
     "name": "stdout",
     "output_type": "stream",
     "text": [
      "[0]\tvalidation_0-rmse:7.48753\n",
      "[1000]\tvalidation_0-rmse:0.71734\n",
      "[1103]\tvalidation_0-rmse:0.71713\n"
     ]
    },
    {
     "name": "stderr",
     "output_type": "stream",
     "text": [
      "\u001b[32m[I 2021-08-25 20:43:07,583]\u001b[0m Trial 317 finished with value: 0.5142703308688017 and parameters: {'learning_rate': 0.03750978072281573, 'reg_lambda': 1.0761100024992003e-07, 'reg_alpha': 2.975309927066568e-08, 'subsample': 0.9422207045987171, 'colsample_bytree': 0.18893672286106566, 'max_depth': 5}. Best is trial 213 with value: 0.5136291814608991.\u001b[0m\n"
     ]
    },
    {
     "name": "stdout",
     "output_type": "stream",
     "text": [
      "[0]\tvalidation_0-rmse:7.52533\n",
      "[1000]\tvalidation_0-rmse:0.71762\n",
      "[1083]\tvalidation_0-rmse:0.71746\n"
     ]
    },
    {
     "name": "stderr",
     "output_type": "stream",
     "text": [
      "\u001b[32m[I 2021-08-25 20:43:13,450]\u001b[0m Trial 318 finished with value: 0.5147382599537232 and parameters: {'learning_rate': 0.03260283410083885, 'reg_lambda': 1.870585708766389e-07, 'reg_alpha': 7.067398622665542e-08, 'subsample': 0.90764078820263, 'colsample_bytree': 0.1726088958545765, 'max_depth': 5}. Best is trial 213 with value: 0.5136291814608991.\u001b[0m\n"
     ]
    },
    {
     "name": "stdout",
     "output_type": "stream",
     "text": [
      "[0]\tvalidation_0-rmse:7.50432\n",
      "[1000]\tvalidation_0-rmse:0.71732\n",
      "[1132]\tvalidation_0-rmse:0.71701\n"
     ]
    },
    {
     "name": "stderr",
     "output_type": "stream",
     "text": [
      "\u001b[32m[I 2021-08-25 20:43:19,432]\u001b[0m Trial 319 finished with value: 0.5141053568748586 and parameters: {'learning_rate': 0.03532916812124072, 'reg_lambda': 1.044082997115288e-08, 'reg_alpha': 8.775097849208279e-07, 'subsample': 0.8873125864741944, 'colsample_bytree': 0.15651120720704192, 'max_depth': 5}. Best is trial 213 with value: 0.5136291814608991.\u001b[0m\n"
     ]
    },
    {
     "name": "stdout",
     "output_type": "stream",
     "text": [
      "[0]\tvalidation_0-rmse:7.47312\n",
      "[1000]\tvalidation_0-rmse:0.71699\n",
      "[1005]\tvalidation_0-rmse:0.71699\n"
     ]
    },
    {
     "name": "stderr",
     "output_type": "stream",
     "text": [
      "\u001b[32m[I 2021-08-25 20:43:24,818]\u001b[0m Trial 320 finished with value: 0.514067314575501 and parameters: {'learning_rate': 0.039377541403857, 'reg_lambda': 7.489956638995101e-08, 'reg_alpha': 3.0879653826898527e-07, 'subsample': 0.9524545281145873, 'colsample_bytree': 0.14490987619013296, 'max_depth': 5}. Best is trial 213 with value: 0.5136291814608991.\u001b[0m\n"
     ]
    },
    {
     "name": "stdout",
     "output_type": "stream",
     "text": [
      "[0]\tvalidation_0-rmse:7.54624\n",
      "[1000]\tvalidation_0-rmse:0.71822\n",
      "[1363]\tvalidation_0-rmse:0.71696\n"
     ]
    },
    {
     "name": "stderr",
     "output_type": "stream",
     "text": [
      "\u001b[32m[I 2021-08-25 20:43:32,208]\u001b[0m Trial 321 finished with value: 0.5140333621713712 and parameters: {'learning_rate': 0.029890121318738617, 'reg_lambda': 1.6409265584472218e-06, 'reg_alpha': 1.4620729020151324e-07, 'subsample': 0.9248938214442262, 'colsample_bytree': 0.10051257676793143, 'max_depth': 5}. Best is trial 213 with value: 0.5136291814608991.\u001b[0m\n"
     ]
    },
    {
     "name": "stdout",
     "output_type": "stream",
     "text": [
      "[0]\tvalidation_0-rmse:7.52169\n",
      "[1000]\tvalidation_0-rmse:0.71761\n",
      "[1011]\tvalidation_0-rmse:0.71760\n"
     ]
    },
    {
     "name": "stderr",
     "output_type": "stream",
     "text": [
      "\u001b[32m[I 2021-08-25 20:43:37,715]\u001b[0m Trial 322 finished with value: 0.5149401617820367 and parameters: {'learning_rate': 0.03307499905452886, 'reg_lambda': 6.005170224576512e-07, 'reg_alpha': 5.361830280507093e-07, 'subsample': 0.8620057420319813, 'colsample_bytree': 0.13555917177870344, 'max_depth': 5}. Best is trial 213 with value: 0.5136291814608991.\u001b[0m\n"
     ]
    },
    {
     "name": "stdout",
     "output_type": "stream",
     "text": [
      "[0]\tvalidation_0-rmse:7.49224\n",
      "[768]\tvalidation_0-rmse:0.71801\n"
     ]
    },
    {
     "name": "stderr",
     "output_type": "stream",
     "text": [
      "\u001b[32m[I 2021-08-25 20:43:41,760]\u001b[0m Trial 323 finished with value: 0.515535803587602 and parameters: {'learning_rate': 0.03690523703870524, 'reg_lambda': 3.4510552569559205e-07, 'reg_alpha': 0.0007756798443048238, 'subsample': 0.6828361930828482, 'colsample_bytree': 0.1626892992014326, 'max_depth': 5}. Best is trial 213 with value: 0.5136291814608991.\u001b[0m\n"
     ]
    },
    {
     "name": "stdout",
     "output_type": "stream",
     "text": [
      "[0]\tvalidation_0-rmse:7.50962\n",
      "[1000]\tvalidation_0-rmse:0.71760\n",
      "[1404]\tvalidation_0-rmse:0.71665\n"
     ]
    },
    {
     "name": "stderr",
     "output_type": "stream",
     "text": [
      "\u001b[32m[I 2021-08-25 20:43:49,256]\u001b[0m Trial 324 finished with value: 0.5135820602479149 and parameters: {'learning_rate': 0.03464273475836112, 'reg_lambda': 2.1867197971944605e-08, 'reg_alpha': 2.1202133055419565e-07, 'subsample': 0.9453588495303459, 'colsample_bytree': 0.10108205683120638, 'max_depth': 5}. Best is trial 324 with value: 0.5135820602479149.\u001b[0m\n"
     ]
    },
    {
     "name": "stdout",
     "output_type": "stream",
     "text": [
      "[0]\tvalidation_0-rmse:7.53745\n",
      "[1000]\tvalidation_0-rmse:0.71804\n",
      "[1040]\tvalidation_0-rmse:0.71789\n"
     ]
    },
    {
     "name": "stderr",
     "output_type": "stream",
     "text": [
      "\u001b[32m[I 2021-08-25 20:43:54,868]\u001b[0m Trial 325 finished with value: 0.5153633705847548 and parameters: {'learning_rate': 0.031031003551950667, 'reg_lambda': 2.568114098906044e-08, 'reg_alpha': 2.2095601076741325e-07, 'subsample': 0.936928139928128, 'colsample_bytree': 0.10024150284361628, 'max_depth': 5}. Best is trial 324 with value: 0.5135820602479149.\u001b[0m\n"
     ]
    },
    {
     "name": "stdout",
     "output_type": "stream",
     "text": [
      "[0]\tvalidation_0-rmse:7.51025\n",
      "[1000]\tvalidation_0-rmse:0.71750\n",
      "[1089]\tvalidation_0-rmse:0.71724\n"
     ]
    },
    {
     "name": "stderr",
     "output_type": "stream",
     "text": [
      "\u001b[32m[I 2021-08-25 20:44:00,455]\u001b[0m Trial 326 finished with value: 0.5144197889207565 and parameters: {'learning_rate': 0.03456726061674901, 'reg_lambda': 4.449615988626506e-08, 'reg_alpha': 1.4336342804293033e-07, 'subsample': 0.7148629489113845, 'colsample_bytree': 0.12529592174642432, 'max_depth': 5}. Best is trial 324 with value: 0.5135820602479149.\u001b[0m\n"
     ]
    },
    {
     "name": "stdout",
     "output_type": "stream",
     "text": [
      "[0]\tvalidation_0-rmse:7.52404\n",
      "[1000]\tvalidation_0-rmse:0.71762\n",
      "[1120]\tvalidation_0-rmse:0.71729\n"
     ]
    },
    {
     "name": "stderr",
     "output_type": "stream",
     "text": [
      "\u001b[32m[I 2021-08-25 20:44:06,428]\u001b[0m Trial 327 finished with value: 0.5145103698313502 and parameters: {'learning_rate': 0.03277012841367056, 'reg_lambda': 1.8454875074194013e-08, 'reg_alpha': 4.1132411153807415e-08, 'subsample': 0.9122481369998919, 'colsample_bytree': 0.18389191540253436, 'max_depth': 5}. Best is trial 324 with value: 0.5135820602479149.\u001b[0m\n"
     ]
    },
    {
     "name": "stdout",
     "output_type": "stream",
     "text": [
      "[0]\tvalidation_0-rmse:7.55754\n",
      "[769]\tvalidation_0-rmse:0.71931\n"
     ]
    },
    {
     "name": "stderr",
     "output_type": "stream",
     "text": [
      "\u001b[32m[I 2021-08-25 20:44:10,228]\u001b[0m Trial 328 finished with value: 0.517401273682068 and parameters: {'learning_rate': 0.02843715837038746, 'reg_lambda': 1.9678933858027097e-07, 'reg_alpha': 4.004657843089646e-07, 'subsample': 0.4599007026720323, 'colsample_bytree': 0.15004301277578805, 'max_depth': 5}. Best is trial 324 with value: 0.5135820602479149.\u001b[0m\n"
     ]
    },
    {
     "name": "stdout",
     "output_type": "stream",
     "text": [
      "[0]\tvalidation_0-rmse:7.32621\n",
      "[650]\tvalidation_0-rmse:0.71731\n"
     ]
    },
    {
     "name": "stderr",
     "output_type": "stream",
     "text": [
      "\u001b[32m[I 2021-08-25 20:44:13,925]\u001b[0m Trial 329 finished with value: 0.5145353177514684 and parameters: {'learning_rate': 0.05844699901680309, 'reg_lambda': 1.0297355300795551e-08, 'reg_alpha': 2.2075618129363246e-07, 'subsample': 0.8946560069960379, 'colsample_bytree': 0.12908895984139515, 'max_depth': 5}. Best is trial 324 with value: 0.5135820602479149.\u001b[0m\n"
     ]
    },
    {
     "name": "stdout",
     "output_type": "stream",
     "text": [
      "[0]\tvalidation_0-rmse:7.50603\n",
      "[1000]\tvalidation_0-rmse:0.71763\n",
      "[1040]\tvalidation_0-rmse:0.71747\n"
     ]
    },
    {
     "name": "stderr",
     "output_type": "stream",
     "text": [
      "\u001b[32m[I 2021-08-25 20:44:19,469]\u001b[0m Trial 330 finished with value: 0.5147554902179816 and parameters: {'learning_rate': 0.03511132316351223, 'reg_lambda': 4.481896826375459, 'reg_alpha': 9.324308203064326e-08, 'subsample': 0.9314931245860371, 'colsample_bytree': 0.1183436429267073, 'max_depth': 5}. Best is trial 324 with value: 0.5135820602479149.\u001b[0m\n"
     ]
    },
    {
     "name": "stdout",
     "output_type": "stream",
     "text": [
      "[0]\tvalidation_0-rmse:7.54214\n",
      "[852]\tvalidation_0-rmse:0.71748\n"
     ]
    },
    {
     "name": "stderr",
     "output_type": "stream",
     "text": [
      "\u001b[32m[I 2021-08-25 20:44:28,180]\u001b[0m Trial 331 finished with value: 0.514775847256589 and parameters: {'learning_rate': 0.030421777039050194, 'reg_lambda': 1.0013842861836456e-07, 'reg_alpha': 9.266561119491585e-06, 'subsample': 0.9167795914271937, 'colsample_bytree': 0.10036427982707172, 'max_depth': 7}. Best is trial 324 with value: 0.5135820602479149.\u001b[0m\n"
     ]
    },
    {
     "name": "stdout",
     "output_type": "stream",
     "text": [
      "[0]\tvalidation_0-rmse:7.56916\n",
      "[1000]\tvalidation_0-rmse:0.71805\n",
      "[1322]\tvalidation_0-rmse:0.71717\n"
     ]
    },
    {
     "name": "stderr",
     "output_type": "stream",
     "text": [
      "\u001b[32m[I 2021-08-25 20:44:35,280]\u001b[0m Trial 332 finished with value: 0.5143220405769886 and parameters: {'learning_rate': 0.026914030008185645, 'reg_lambda': 1.00228043897103e-08, 'reg_alpha': 2.978486135614924e-07, 'subsample': 0.9496949552424022, 'colsample_bytree': 0.14576641345309993, 'max_depth': 5}. Best is trial 324 with value: 0.5135820602479149.\u001b[0m\n"
     ]
    },
    {
     "name": "stdout",
     "output_type": "stream",
     "text": [
      "[0]\tvalidation_0-rmse:7.48261\n",
      "[1000]\tvalidation_0-rmse:0.71723\n",
      "[1040]\tvalidation_0-rmse:0.71712\n"
     ]
    },
    {
     "name": "stderr",
     "output_type": "stream",
     "text": [
      "\u001b[32m[I 2021-08-25 20:44:41,003]\u001b[0m Trial 333 finished with value: 0.5142587574847228 and parameters: {'learning_rate': 0.03814851479657146, 'reg_lambda': 2.8831146415596767e-08, 'reg_alpha': 0.0010873406777428436, 'subsample': 0.9613944187789014, 'colsample_bytree': 0.1003587309882159, 'max_depth': 5}. Best is trial 324 with value: 0.5135820602479149.\u001b[0m\n"
     ]
    },
    {
     "name": "stdout",
     "output_type": "stream",
     "text": [
      "[0]\tvalidation_0-rmse:7.61547\n",
      "[1000]\tvalidation_0-rmse:0.71921\n",
      "[1710]\tvalidation_0-rmse:0.71724\n"
     ]
    },
    {
     "name": "stderr",
     "output_type": "stream",
     "text": [
      "\u001b[32m[I 2021-08-25 20:44:49,752]\u001b[0m Trial 334 finished with value: 0.5144329928134412 and parameters: {'learning_rate': 0.020903746247543115, 'reg_lambda': 5.8983620554434215e-08, 'reg_alpha': 0.0005193501780809403, 'subsample': 0.8274539350473913, 'colsample_bytree': 0.16895303397592723, 'max_depth': 5}. Best is trial 324 with value: 0.5135820602479149.\u001b[0m\n"
     ]
    },
    {
     "name": "stdout",
     "output_type": "stream",
     "text": [
      "[0]\tvalidation_0-rmse:7.52921\n",
      "[875]\tvalidation_0-rmse:0.71853\n"
     ]
    },
    {
     "name": "stderr",
     "output_type": "stream",
     "text": [
      "\u001b[32m[I 2021-08-25 20:44:54,712]\u001b[0m Trial 335 finished with value: 0.5162828678380912 and parameters: {'learning_rate': 0.03209705760835406, 'reg_lambda': 1.1294728759798214e-06, 'reg_alpha': 1.5068141694293768e-06, 'subsample': 0.8973951906008623, 'colsample_bytree': 0.308529225874159, 'max_depth': 5}. Best is trial 324 with value: 0.5135820602479149.\u001b[0m\n"
     ]
    },
    {
     "name": "stdout",
     "output_type": "stream",
     "text": [
      "[0]\tvalidation_0-rmse:7.49925\n",
      "[770]\tvalidation_0-rmse:0.71827\n"
     ]
    },
    {
     "name": "stderr",
     "output_type": "stream",
     "text": [
      "\u001b[32m[I 2021-08-25 20:44:58,823]\u001b[0m Trial 336 finished with value: 0.5159060233411418 and parameters: {'learning_rate': 0.0359917463643744, 'reg_lambda': 1.581914034007592e-08, 'reg_alpha': 4.647250301281059e-06, 'subsample': 0.7539604817955463, 'colsample_bytree': 0.13058070986892964, 'max_depth': 5}. Best is trial 324 with value: 0.5135820602479149.\u001b[0m\n"
     ]
    },
    {
     "name": "stdout",
     "output_type": "stream",
     "text": [
      "[0]\tvalidation_0-rmse:7.51898\n",
      "[1000]\tvalidation_0-rmse:0.71770\n",
      "[1234]\tvalidation_0-rmse:0.71699\n"
     ]
    },
    {
     "name": "stderr",
     "output_type": "stream",
     "text": [
      "\u001b[32m[I 2021-08-25 20:45:05,375]\u001b[0m Trial 337 finished with value: 0.5140772605774739 and parameters: {'learning_rate': 0.033428355074302654, 'reg_lambda': 2.7735475990876866e-07, 'reg_alpha': 4.5173247930322443e-07, 'subsample': 0.9382921301867877, 'colsample_bytree': 0.11476902484682064, 'max_depth': 5}. Best is trial 324 with value: 0.5135820602479149.\u001b[0m\n"
     ]
    },
    {
     "name": "stdout",
     "output_type": "stream",
     "text": [
      "[0]\tvalidation_0-rmse:7.37619\n",
      "[592]\tvalidation_0-rmse:0.71795\n"
     ]
    },
    {
     "name": "stderr",
     "output_type": "stream",
     "text": [
      "\u001b[32m[I 2021-08-25 20:45:08,798]\u001b[0m Trial 338 finished with value: 0.5154469188798164 and parameters: {'learning_rate': 0.051958916363363396, 'reg_lambda': 3.1059558259938906e-08, 'reg_alpha': 0.0007449029543457766, 'subsample': 0.8755407110171379, 'colsample_bytree': 0.15067060989284803, 'max_depth': 5}. Best is trial 324 with value: 0.5135820602479149.\u001b[0m\n"
     ]
    },
    {
     "name": "stdout",
     "output_type": "stream",
     "text": [
      "[0]\tvalidation_0-rmse:7.46038\n",
      "[1000]\tvalidation_0-rmse:0.71847\n",
      "[1040]\tvalidation_0-rmse:0.71832\n"
     ]
    },
    {
     "name": "stderr",
     "output_type": "stream",
     "text": [
      "\u001b[32m[I 2021-08-25 20:45:13,334]\u001b[0m Trial 339 finished with value: 0.5159795335761314 and parameters: {'learning_rate': 0.041033374121316045, 'reg_lambda': 5.828046805097461e-07, 'reg_alpha': 1.4344488333396288e-05, 'subsample': 0.9194341294149431, 'colsample_bytree': 0.1009670011686779, 'max_depth': 4}. Best is trial 324 with value: 0.5135820602479149.\u001b[0m\n"
     ]
    },
    {
     "name": "stdout",
     "output_type": "stream",
     "text": [
      "[0]\tvalidation_0-rmse:7.54759\n",
      "[839]\tvalidation_0-rmse:0.71872\n"
     ]
    },
    {
     "name": "stderr",
     "output_type": "stream",
     "text": [
      "\u001b[32m[I 2021-08-25 20:45:17,625]\u001b[0m Trial 340 finished with value: 0.5165618661590058 and parameters: {'learning_rate': 0.029726139956524473, 'reg_lambda': 6.758699301600965e-08, 'reg_alpha': 0.0014651574141787416, 'subsample': 0.5653172439299831, 'colsample_bytree': 0.12791285958553972, 'max_depth': 5}. Best is trial 324 with value: 0.5135820602479149.\u001b[0m\n"
     ]
    },
    {
     "name": "stdout",
     "output_type": "stream",
     "text": [
      "[0]\tvalidation_0-rmse:7.47979\n",
      "[944]\tvalidation_0-rmse:0.71746\n"
     ]
    },
    {
     "name": "stderr",
     "output_type": "stream",
     "text": [
      "\u001b[32m[I 2021-08-25 20:45:22,729]\u001b[0m Trial 341 finished with value: 0.5147411575447991 and parameters: {'learning_rate': 0.03851328576459687, 'reg_lambda': 1.5616837067956743e-07, 'reg_alpha': 0.0005039541799955386, 'subsample': 0.9564808941697435, 'colsample_bytree': 0.11448456159847999, 'max_depth': 5}. Best is trial 324 with value: 0.5135820602479149.\u001b[0m\n"
     ]
    },
    {
     "name": "stdout",
     "output_type": "stream",
     "text": [
      "[0]\tvalidation_0-rmse:7.49681\n",
      "[971]\tvalidation_0-rmse:0.71762\n"
     ]
    },
    {
     "name": "stderr",
     "output_type": "stream",
     "text": [
      "\u001b[32m[I 2021-08-25 20:45:28,066]\u001b[0m Trial 342 finished with value: 0.5149776471718419 and parameters: {'learning_rate': 0.03630442178996365, 'reg_lambda': 2.1690267013639682e-08, 'reg_alpha': 0.0008918084481483645, 'subsample': 0.8882894694364627, 'colsample_bytree': 0.19732184356521026, 'max_depth': 5}. Best is trial 324 with value: 0.5135820602479149.\u001b[0m\n"
     ]
    },
    {
     "name": "stdout",
     "output_type": "stream",
     "text": [
      "[0]\tvalidation_0-rmse:7.41252\n",
      "[749]\tvalidation_0-rmse:0.71752\n"
     ]
    },
    {
     "name": "stderr",
     "output_type": "stream",
     "text": [
      "\u001b[32m[I 2021-08-25 20:45:32,101]\u001b[0m Trial 343 finished with value: 0.5148244994501667 and parameters: {'learning_rate': 0.047244587882303596, 'reg_lambda': 4.384550002440045e-08, 'reg_alpha': 2.0020134262528745e-07, 'subsample': 0.8528795864789378, 'colsample_bytree': 0.14050981457129758, 'max_depth': 5}. Best is trial 324 with value: 0.5135820602479149.\u001b[0m\n"
     ]
    },
    {
     "name": "stdout",
     "output_type": "stream",
     "text": [
      "[0]\tvalidation_0-rmse:6.63650\n",
      "[278]\tvalidation_0-rmse:0.71768\n"
     ]
    },
    {
     "name": "stderr",
     "output_type": "stream",
     "text": [
      "\u001b[32m[I 2021-08-25 20:45:33,805]\u001b[0m Trial 344 finished with value: 0.5150458437163957 and parameters: {'learning_rate': 0.14803624310232233, 'reg_lambda': 1.0707613731868175e-07, 'reg_alpha': 0.0003937733306912416, 'subsample': 0.9298313768942219, 'colsample_bytree': 0.15830606665561284, 'max_depth': 5}. Best is trial 324 with value: 0.5135820602479149.\u001b[0m\n"
     ]
    },
    {
     "name": "stdout",
     "output_type": "stream",
     "text": [
      "[0]\tvalidation_0-rmse:7.52978\n",
      "[1000]\tvalidation_0-rmse:0.71785\n",
      "[1206]\tvalidation_0-rmse:0.71718\n"
     ]
    },
    {
     "name": "stderr",
     "output_type": "stream",
     "text": [
      "\u001b[32m[I 2021-08-25 20:45:40,335]\u001b[0m Trial 345 finished with value: 0.5143405057250141 and parameters: {'learning_rate': 0.032024901720147284, 'reg_lambda': 1.036912150415882e-08, 'reg_alpha': 9.370351899405313e-08, 'subsample': 0.9718705615410423, 'colsample_bytree': 0.11519205970458814, 'max_depth': 5}. Best is trial 324 with value: 0.5135820602479149.\u001b[0m\n"
     ]
    },
    {
     "name": "stdout",
     "output_type": "stream",
     "text": [
      "[0]\tvalidation_0-rmse:7.51200\n",
      "[1000]\tvalidation_0-rmse:0.71744\n",
      "[1042]\tvalidation_0-rmse:0.71736\n"
     ]
    },
    {
     "name": "stderr",
     "output_type": "stream",
     "text": [
      "\u001b[32m[I 2021-08-25 20:45:46,036]\u001b[0m Trial 346 finished with value: 0.5146015197457381 and parameters: {'learning_rate': 0.034331675577090465, 'reg_lambda': 0.0011442810539855433, 'reg_alpha': 0.0005550532634214927, 'subsample': 0.9061726485929377, 'colsample_bytree': 0.13344714754026074, 'max_depth': 5}. Best is trial 324 with value: 0.5135820602479149.\u001b[0m\n"
     ]
    },
    {
     "name": "stdout",
     "output_type": "stream",
     "text": [
      "[0]\tvalidation_0-rmse:7.44083\n",
      "[987]\tvalidation_0-rmse:0.71685\n"
     ]
    },
    {
     "name": "stderr",
     "output_type": "stream",
     "text": [
      "\u001b[32m[I 2021-08-25 20:45:51,362]\u001b[0m Trial 347 finished with value: 0.5138596712017589 and parameters: {'learning_rate': 0.04357218594808019, 'reg_lambda': 3.999693697346672e-07, 'reg_alpha': 1.104609312870202e-06, 'subsample': 0.9414186294493619, 'colsample_bytree': 0.10123141968420758, 'max_depth': 5}. Best is trial 324 with value: 0.5135820602479149.\u001b[0m\n"
     ]
    },
    {
     "name": "stdout",
     "output_type": "stream",
     "text": [
      "[0]\tvalidation_0-rmse:7.41943\n",
      "[994]\tvalidation_0-rmse:0.71670\n"
     ]
    },
    {
     "name": "stderr",
     "output_type": "stream",
     "text": [
      "\u001b[32m[I 2021-08-25 20:45:56,850]\u001b[0m Trial 348 finished with value: 0.5136601546683042 and parameters: {'learning_rate': 0.046349559674236596, 'reg_lambda': 4.7506241848703426e-07, 'reg_alpha': 1.5540415782148329e-06, 'subsample': 0.9453720768374944, 'colsample_bytree': 0.10114250596267943, 'max_depth': 5}. Best is trial 324 with value: 0.5135820602479149.\u001b[0m\n"
     ]
    },
    {
     "name": "stdout",
     "output_type": "stream",
     "text": [
      "[0]\tvalidation_0-rmse:7.43049\n",
      "[1000]\tvalidation_0-rmse:0.71671\n",
      "[1013]\tvalidation_0-rmse:0.71670\n"
     ]
    },
    {
     "name": "stderr",
     "output_type": "stream",
     "text": [
      "\u001b[32m[I 2021-08-25 20:46:02,300]\u001b[0m Trial 349 finished with value: 0.5136494047649051 and parameters: {'learning_rate': 0.0449129717677654, 'reg_lambda': 5.888254067961186e-07, 'reg_alpha': 1.026571475339535e-06, 'subsample': 0.9502579883295031, 'colsample_bytree': 0.10070255230160233, 'max_depth': 5}. Best is trial 324 with value: 0.5135820602479149.\u001b[0m\n"
     ]
    },
    {
     "name": "stdout",
     "output_type": "stream",
     "text": [
      "[0]\tvalidation_0-rmse:7.40911\n",
      "[998]\tvalidation_0-rmse:0.71660\n"
     ]
    },
    {
     "name": "stderr",
     "output_type": "stream",
     "text": [
      "\u001b[32m[I 2021-08-25 20:46:07,588]\u001b[0m Trial 350 finished with value: 0.5135104737952604 and parameters: {'learning_rate': 0.04768804841498261, 'reg_lambda': 8.491356496300984e-07, 'reg_alpha': 1.3647418317657483e-06, 'subsample': 0.9478319548594484, 'colsample_bytree': 0.10206742164913729, 'max_depth': 5}. Best is trial 350 with value: 0.5135104737952604.\u001b[0m\n"
     ]
    },
    {
     "name": "stdout",
     "output_type": "stream",
     "text": [
      "[0]\tvalidation_0-rmse:7.41462\n",
      "[852]\tvalidation_0-rmse:0.71709\n"
     ]
    },
    {
     "name": "stderr",
     "output_type": "stream",
     "text": [
      "\u001b[32m[I 2021-08-25 20:46:12,261]\u001b[0m Trial 351 finished with value: 0.514221304133428 and parameters: {'learning_rate': 0.04697412083000689, 'reg_lambda': 8.400223035043487e-07, 'reg_alpha': 1.350668543304717e-06, 'subsample': 0.941881571051555, 'colsample_bytree': 0.10040593695072743, 'max_depth': 5}. Best is trial 350 with value: 0.5135104737952604.\u001b[0m\n"
     ]
    },
    {
     "name": "stdout",
     "output_type": "stream",
     "text": [
      "[0]\tvalidation_0-rmse:7.39744\n",
      "[810]\tvalidation_0-rmse:0.71714\n"
     ]
    },
    {
     "name": "stderr",
     "output_type": "stream",
     "text": [
      "\u001b[32m[I 2021-08-25 20:46:16,795]\u001b[0m Trial 352 finished with value: 0.5142914431982806 and parameters: {'learning_rate': 0.04920199632427758, 'reg_lambda': 4.738570013747671e-07, 'reg_alpha': 1.7920862280430513e-06, 'subsample': 0.9573835645101327, 'colsample_bytree': 0.1007750364101478, 'max_depth': 5}. Best is trial 350 with value: 0.5135104737952604.\u001b[0m\n"
     ]
    },
    {
     "name": "stdout",
     "output_type": "stream",
     "text": [
      "[0]\tvalidation_0-rmse:7.43744\n",
      "[809]\tvalidation_0-rmse:0.71754\n"
     ]
    },
    {
     "name": "stderr",
     "output_type": "stream",
     "text": [
      "\u001b[32m[I 2021-08-25 20:46:21,336]\u001b[0m Trial 353 finished with value: 0.5148585385900104 and parameters: {'learning_rate': 0.04401076719600667, 'reg_lambda': 8.330825423395537e-07, 'reg_alpha': 7.674328435503225e-07, 'subsample': 0.9711334830533996, 'colsample_bytree': 0.11169796706621404, 'max_depth': 5}. Best is trial 350 with value: 0.5135104737952604.\u001b[0m\n"
     ]
    },
    {
     "name": "stdout",
     "output_type": "stream",
     "text": [
      "[0]\tvalidation_0-rmse:7.41878\n",
      "[876]\tvalidation_0-rmse:0.71706\n"
     ]
    },
    {
     "name": "stderr",
     "output_type": "stream",
     "text": [
      "\u001b[32m[I 2021-08-25 20:46:26,114]\u001b[0m Trial 354 finished with value: 0.5141708804153395 and parameters: {'learning_rate': 0.046432322048566704, 'reg_lambda': 1.3150216466787282e-06, 'reg_alpha': 7.521666381948628e-07, 'subsample': 0.9488563822946561, 'colsample_bytree': 0.10154448919511273, 'max_depth': 5}. Best is trial 350 with value: 0.5135104737952604.\u001b[0m\n"
     ]
    },
    {
     "name": "stdout",
     "output_type": "stream",
     "text": [
      "[0]\tvalidation_0-rmse:7.39512\n",
      "[910]\tvalidation_0-rmse:0.71691\n"
     ]
    },
    {
     "name": "stderr",
     "output_type": "stream",
     "text": [
      "\u001b[32m[I 2021-08-25 20:46:31,063]\u001b[0m Trial 355 finished with value: 0.513946891132375 and parameters: {'learning_rate': 0.04950577124484923, 'reg_lambda': 4.909212597328041e-07, 'reg_alpha': 1.1755445344437379e-06, 'subsample': 0.9246752090251815, 'colsample_bytree': 0.10077356296465712, 'max_depth': 5}. Best is trial 350 with value: 0.5135104737952604.\u001b[0m\n"
     ]
    },
    {
     "name": "stdout",
     "output_type": "stream",
     "text": [
      "[0]\tvalidation_0-rmse:7.36053\n",
      "[808]\tvalidation_0-rmse:0.71698\n"
     ]
    },
    {
     "name": "stderr",
     "output_type": "stream",
     "text": [
      "\u001b[32m[I 2021-08-25 20:46:35,476]\u001b[0m Trial 356 finished with value: 0.514064938363437 and parameters: {'learning_rate': 0.053994199877261354, 'reg_lambda': 7.27778365493853e-07, 'reg_alpha': 2.720758614659316e-06, 'subsample': 0.9243945810560287, 'colsample_bytree': 0.10236604543658462, 'max_depth': 5}. Best is trial 350 with value: 0.5135104737952604.\u001b[0m\n"
     ]
    },
    {
     "name": "stdout",
     "output_type": "stream",
     "text": [
      "[0]\tvalidation_0-rmse:7.38464\n",
      "[768]\tvalidation_0-rmse:0.71720\n"
     ]
    },
    {
     "name": "stderr",
     "output_type": "stream",
     "text": [
      "\u001b[32m[I 2021-08-25 20:46:39,698]\u001b[0m Trial 357 finished with value: 0.5143818150243347 and parameters: {'learning_rate': 0.050864429180909686, 'reg_lambda': 3.867173603638913e-07, 'reg_alpha': 7.823594244750263e-07, 'subsample': 0.9640891604666793, 'colsample_bytree': 0.10147483133387937, 'max_depth': 5}. Best is trial 350 with value: 0.5135104737952604.\u001b[0m\n"
     ]
    },
    {
     "name": "stdout",
     "output_type": "stream",
     "text": [
      "[0]\tvalidation_0-rmse:7.42342\n",
      "[994]\tvalidation_0-rmse:0.71682\n"
     ]
    },
    {
     "name": "stderr",
     "output_type": "stream",
     "text": [
      "\u001b[32m[I 2021-08-25 20:46:45,066]\u001b[0m Trial 358 finished with value: 0.5138244551609378 and parameters: {'learning_rate': 0.0458321461414665, 'reg_lambda': 1.47963456664538e-06, 'reg_alpha': 1.1068195650780298e-06, 'subsample': 0.9429430058522411, 'colsample_bytree': 0.11808197460292001, 'max_depth': 5}. Best is trial 350 with value: 0.5135104737952604.\u001b[0m\n"
     ]
    },
    {
     "name": "stdout",
     "output_type": "stream",
     "text": [
      "[0]\tvalidation_0-rmse:7.43448\n",
      "[987]\tvalidation_0-rmse:0.71691\n"
     ]
    },
    {
     "name": "stderr",
     "output_type": "stream",
     "text": [
      "\u001b[32m[I 2021-08-25 20:46:50,465]\u001b[0m Trial 359 finished with value: 0.5139580907535175 and parameters: {'learning_rate': 0.04439569394007919, 'reg_lambda': 4.537882697226838e-06, 'reg_alpha': 2.9697380071153198e-06, 'subsample': 0.9127389183789203, 'colsample_bytree': 0.10052524716501851, 'max_depth': 5}. Best is trial 350 with value: 0.5135104737952604.\u001b[0m\n"
     ]
    },
    {
     "name": "stdout",
     "output_type": "stream",
     "text": [
      "[0]\tvalidation_0-rmse:7.41875\n",
      "[809]\tvalidation_0-rmse:0.71743\n"
     ]
    },
    {
     "name": "stderr",
     "output_type": "stream",
     "text": [
      "\u001b[32m[I 2021-08-25 20:46:54,878]\u001b[0m Trial 360 finished with value: 0.5147057184867813 and parameters: {'learning_rate': 0.04643830074395152, 'reg_lambda': 2.484518209785619e-06, 'reg_alpha': 1.7003900761679483e-06, 'subsample': 0.9383995252591925, 'colsample_bytree': 0.11723975886415623, 'max_depth': 5}. Best is trial 350 with value: 0.5135104737952604.\u001b[0m\n"
     ]
    },
    {
     "name": "stdout",
     "output_type": "stream",
     "text": [
      "[0]\tvalidation_0-rmse:7.44922\n",
      "[987]\tvalidation_0-rmse:0.71702\n"
     ]
    },
    {
     "name": "stderr",
     "output_type": "stream",
     "text": [
      "\u001b[32m[I 2021-08-25 20:47:00,151]\u001b[0m Trial 361 finished with value: 0.5141153880886264 and parameters: {'learning_rate': 0.042482110051525655, 'reg_lambda': 1.6444062905747146e-06, 'reg_alpha': 1.048925884713616e-06, 'subsample': 0.902684863874017, 'colsample_bytree': 0.10063709924573752, 'max_depth': 5}. Best is trial 350 with value: 0.5135104737952604.\u001b[0m\n"
     ]
    },
    {
     "name": "stdout",
     "output_type": "stream",
     "text": [
      "[0]\tvalidation_0-rmse:7.38792\n",
      "[790]\tvalidation_0-rmse:0.71712\n"
     ]
    },
    {
     "name": "stderr",
     "output_type": "stream",
     "text": [
      "\u001b[32m[I 2021-08-25 20:47:04,586]\u001b[0m Trial 362 finished with value: 0.5142474105863452 and parameters: {'learning_rate': 0.050438939032559645, 'reg_lambda': 5.824171793996678e-07, 'reg_alpha': 3.1316183215749847e-06, 'subsample': 0.929939456676679, 'colsample_bytree': 0.1230565371615562, 'max_depth': 5}. Best is trial 350 with value: 0.5135104737952604.\u001b[0m\n"
     ]
    },
    {
     "name": "stdout",
     "output_type": "stream",
     "text": [
      "[0]\tvalidation_0-rmse:7.43842\n",
      "[770]\tvalidation_0-rmse:0.71756\n"
     ]
    },
    {
     "name": "stderr",
     "output_type": "stream",
     "text": [
      "\u001b[32m[I 2021-08-25 20:47:08,814]\u001b[0m Trial 363 finished with value: 0.5148917992192745 and parameters: {'learning_rate': 0.04388153316846613, 'reg_lambda': 1.6375240142662219e-06, 'reg_alpha': 1.9493670022286738e-06, 'subsample': 0.8804825781758724, 'colsample_bytree': 0.11925827160970034, 'max_depth': 5}. Best is trial 350 with value: 0.5135104737952604.\u001b[0m\n"
     ]
    },
    {
     "name": "stdout",
     "output_type": "stream",
     "text": [
      "[0]\tvalidation_0-rmse:7.36873\n",
      "[735]\tvalidation_0-rmse:0.71730\n"
     ]
    },
    {
     "name": "stderr",
     "output_type": "stream",
     "text": [
      "\u001b[32m[I 2021-08-25 20:47:12,797]\u001b[0m Trial 364 finished with value: 0.5145099160048814 and parameters: {'learning_rate': 0.05293073450043222, 'reg_lambda': 9.91898477253327e-07, 'reg_alpha': 4.1796138122952455e-06, 'subsample': 0.9127089204056817, 'colsample_bytree': 0.1168754615677138, 'max_depth': 5}. Best is trial 350 with value: 0.5135104737952604.\u001b[0m\n"
     ]
    },
    {
     "name": "stdout",
     "output_type": "stream",
     "text": [
      "[0]\tvalidation_0-rmse:7.41372\n",
      "[1000]\tvalidation_0-rmse:0.71678\n",
      "[1035]\tvalidation_0-rmse:0.71670\n"
     ]
    },
    {
     "name": "stderr",
     "output_type": "stream",
     "text": [
      "\u001b[32m[I 2021-08-25 20:47:18,409]\u001b[0m Trial 365 finished with value: 0.5136476716004816 and parameters: {'learning_rate': 0.04709029193033022, 'reg_lambda': 9.706252117548876e-07, 'reg_alpha': 1.491095161526014e-06, 'subsample': 0.9779302859224323, 'colsample_bytree': 0.10026063299805481, 'max_depth': 5}. Best is trial 350 with value: 0.5135104737952604.\u001b[0m\n"
     ]
    },
    {
     "name": "stdout",
     "output_type": "stream",
     "text": [
      "[0]\tvalidation_0-rmse:7.40645\n",
      "[920]\tvalidation_0-rmse:0.71689\n"
     ]
    },
    {
     "name": "stderr",
     "output_type": "stream",
     "text": [
      "\u001b[32m[I 2021-08-25 20:47:23,552]\u001b[0m Trial 366 finished with value: 0.5139300902926829 and parameters: {'learning_rate': 0.048034558252394284, 'reg_lambda': 1.358992660288389e-06, 'reg_alpha': 1.1322944211848441e-06, 'subsample': 0.9821743734812391, 'colsample_bytree': 0.10176903262132417, 'max_depth': 5}. Best is trial 350 with value: 0.5135104737952604.\u001b[0m\n"
     ]
    },
    {
     "name": "stdout",
     "output_type": "stream",
     "text": [
      "[0]\tvalidation_0-rmse:7.42330\n",
      "[809]\tvalidation_0-rmse:0.71734\n"
     ]
    },
    {
     "name": "stderr",
     "output_type": "stream",
     "text": [
      "\u001b[32m[I 2021-08-25 20:47:28,042]\u001b[0m Trial 367 finished with value: 0.5145700863439269 and parameters: {'learning_rate': 0.04584723945777632, 'reg_lambda': 1.0130733538213855e-06, 'reg_alpha': 1.386337201013012e-06, 'subsample': 0.9776135772772293, 'colsample_bytree': 0.10265655278869115, 'max_depth': 5}. Best is trial 350 with value: 0.5135104737952604.\u001b[0m\n"
     ]
    },
    {
     "name": "stdout",
     "output_type": "stream",
     "text": [
      "[0]\tvalidation_0-rmse:7.38258\n",
      "[716]\tvalidation_0-rmse:0.71744\n"
     ]
    },
    {
     "name": "stderr",
     "output_type": "stream",
     "text": [
      "\u001b[32m[I 2021-08-25 20:47:32,107]\u001b[0m Trial 368 finished with value: 0.5147134720563001 and parameters: {'learning_rate': 0.051132798136226024, 'reg_lambda': 7.470983281589407e-07, 'reg_alpha': 2.1199363004728254e-06, 'subsample': 0.9989941152045456, 'colsample_bytree': 0.11661506523523418, 'max_depth': 5}. Best is trial 350 with value: 0.5135104737952604.\u001b[0m\n"
     ]
    },
    {
     "name": "stdout",
     "output_type": "stream",
     "text": [
      "[0]\tvalidation_0-rmse:7.33746\n",
      "[756]\tvalidation_0-rmse:0.71689\n"
     ]
    },
    {
     "name": "stderr",
     "output_type": "stream",
     "text": [
      "\u001b[32m[I 2021-08-25 20:47:36,421]\u001b[0m Trial 369 finished with value: 0.5139361930181959 and parameters: {'learning_rate': 0.05698882330217191, 'reg_lambda': 5.536475693276474e-07, 'reg_alpha': 5.501936645111648e-07, 'subsample': 0.9645186282155782, 'colsample_bytree': 0.10277181830035782, 'max_depth': 5}. Best is trial 350 with value: 0.5135104737952604.\u001b[0m\n"
     ]
    },
    {
     "name": "stdout",
     "output_type": "stream",
     "text": [
      "[0]\tvalidation_0-rmse:7.40869\n",
      "[719]\tvalidation_0-rmse:0.71749\n"
     ]
    },
    {
     "name": "stderr",
     "output_type": "stream",
     "text": [
      "\u001b[32m[I 2021-08-25 20:47:40,510]\u001b[0m Trial 370 finished with value: 0.514793368127848 and parameters: {'learning_rate': 0.04774160859697212, 'reg_lambda': 3.7776446794615853e-07, 'reg_alpha': 2.382303642092607e-06, 'subsample': 0.949088728595697, 'colsample_bytree': 0.12587381609551987, 'max_depth': 5}. Best is trial 350 with value: 0.5135104737952604.\u001b[0m\n"
     ]
    },
    {
     "name": "stdout",
     "output_type": "stream",
     "text": [
      "[0]\tvalidation_0-rmse:7.44362\n",
      "[943]\tvalidation_0-rmse:0.71705\n"
     ]
    },
    {
     "name": "stderr",
     "output_type": "stream",
     "text": [
      "\u001b[32m[I 2021-08-25 20:47:45,633]\u001b[0m Trial 371 finished with value: 0.5141517682435219 and parameters: {'learning_rate': 0.04320848439033486, 'reg_lambda': 2.587535930329145e-06, 'reg_alpha': 9.458956687952354e-07, 'subsample': 0.9811302587877374, 'colsample_bytree': 0.10086786937175889, 'max_depth': 5}. Best is trial 350 with value: 0.5135104737952604.\u001b[0m\n"
     ]
    },
    {
     "name": "stdout",
     "output_type": "stream",
     "text": [
      "[0]\tvalidation_0-rmse:7.43685\n",
      "[938]\tvalidation_0-rmse:0.71696\n"
     ]
    },
    {
     "name": "stderr",
     "output_type": "stream",
     "text": [
      "\u001b[32m[I 2021-08-25 20:47:50,864]\u001b[0m Trial 372 finished with value: 0.5140229981226544 and parameters: {'learning_rate': 0.04408801337404678, 'reg_lambda': 1.2366012835015242e-06, 'reg_alpha': 6.378422998962688e-07, 'subsample': 0.9612192794953934, 'colsample_bytree': 0.11897269425708165, 'max_depth': 5}. Best is trial 350 with value: 0.5135104737952604.\u001b[0m\n"
     ]
    },
    {
     "name": "stdout",
     "output_type": "stream",
     "text": [
      "[0]\tvalidation_0-rmse:7.41795\n",
      "[900]\tvalidation_0-rmse:0.71718\n"
     ]
    },
    {
     "name": "stderr",
     "output_type": "stream",
     "text": [
      "\u001b[32m[I 2021-08-25 20:47:55,687]\u001b[0m Trial 373 finished with value: 0.5143399017606123 and parameters: {'learning_rate': 0.04654310180838123, 'reg_lambda': 7.313175314668768e-07, 'reg_alpha': 4.802607869694307e-06, 'subsample': 0.7868718957761792, 'colsample_bytree': 0.10041868422791897, 'max_depth': 5}. Best is trial 350 with value: 0.5135104737952604.\u001b[0m\n"
     ]
    },
    {
     "name": "stdout",
     "output_type": "stream",
     "text": [
      "[0]\tvalidation_0-rmse:7.46188\n",
      "[1000]\tvalidation_0-rmse:0.71700\n",
      "[1070]\tvalidation_0-rmse:0.71682\n"
     ]
    },
    {
     "name": "stderr",
     "output_type": "stream",
     "text": [
      "\u001b[32m[I 2021-08-25 20:48:01,518]\u001b[0m Trial 374 finished with value: 0.51382969206798 and parameters: {'learning_rate': 0.04083922987529084, 'reg_lambda': 3.6701347007645975e-07, 'reg_alpha': 1.34895253043722e-06, 'subsample': 0.9442752885328929, 'colsample_bytree': 0.10094136912865836, 'max_depth': 5}. Best is trial 350 with value: 0.5135104737952604.\u001b[0m\n"
     ]
    },
    {
     "name": "stdout",
     "output_type": "stream",
     "text": [
      "[0]\tvalidation_0-rmse:7.46179\n",
      "[944]\tvalidation_0-rmse:0.71729\n"
     ]
    },
    {
     "name": "stderr",
     "output_type": "stream",
     "text": [
      "\u001b[32m[I 2021-08-25 20:48:06,802]\u001b[0m Trial 375 finished with value: 0.5144980368278527 and parameters: {'learning_rate': 0.04085135830108482, 'reg_lambda': 0.011783824392287139, 'reg_alpha': 2.085288715403506e-06, 'subsample': 0.9999963271078951, 'colsample_bytree': 0.10006535360993765, 'max_depth': 5}. Best is trial 350 with value: 0.5135104737952604.\u001b[0m\n"
     ]
    },
    {
     "name": "stdout",
     "output_type": "stream",
     "text": [
      "[0]\tvalidation_0-rmse:7.46021\n",
      "[1000]\tvalidation_0-rmse:0.72506\n",
      "[1855]\tvalidation_0-rmse:0.72164\n"
     ]
    },
    {
     "name": "stderr",
     "output_type": "stream",
     "text": [
      "\u001b[32m[I 2021-08-25 20:48:12,177]\u001b[0m Trial 376 finished with value: 0.5207572389246139 and parameters: {'learning_rate': 0.04107024983602864, 'reg_lambda': 9.96386217832104e-06, 'reg_alpha': 1.3807029113091211e-06, 'subsample': 0.6222810082236885, 'colsample_bytree': 0.13028285801504041, 'max_depth': 2}. Best is trial 350 with value: 0.5135104737952604.\u001b[0m\n"
     ]
    },
    {
     "name": "stdout",
     "output_type": "stream",
     "text": [
      "[0]\tvalidation_0-rmse:7.41426\n",
      "[938]\tvalidation_0-rmse:0.71693\n"
     ]
    },
    {
     "name": "stderr",
     "output_type": "stream",
     "text": [
      "\u001b[32m[I 2021-08-25 20:48:17,271]\u001b[0m Trial 377 finished with value: 0.5139764003591889 and parameters: {'learning_rate': 0.04702122210152103, 'reg_lambda': 2.067885006810067e-06, 'reg_alpha': 4.394192719453228e-07, 'subsample': 0.8604725631299007, 'colsample_bytree': 0.1000366321668355, 'max_depth': 5}. Best is trial 350 with value: 0.5135104737952604.\u001b[0m\n"
     ]
    },
    {
     "name": "stdout",
     "output_type": "stream",
     "text": [
      "[0]\tvalidation_0-rmse:7.36184\n",
      "[819]\tvalidation_0-rmse:0.71696\n"
     ]
    },
    {
     "name": "stderr",
     "output_type": "stream",
     "text": [
      "\u001b[32m[I 2021-08-25 20:48:21,659]\u001b[0m Trial 378 finished with value: 0.5140160224413057 and parameters: {'learning_rate': 0.053823237751022136, 'reg_lambda': 2.8708687165127547e-07, 'reg_alpha': 3.447901456958927e-06, 'subsample': 0.8956210924311384, 'colsample_bytree': 0.12933170950682651, 'max_depth': 5}. Best is trial 350 with value: 0.5135104737952604.\u001b[0m\n"
     ]
    },
    {
     "name": "stdout",
     "output_type": "stream",
     "text": [
      "[0]\tvalidation_0-rmse:7.38934\n",
      "[717]\tvalidation_0-rmse:0.71801\n"
     ]
    },
    {
     "name": "stderr",
     "output_type": "stream",
     "text": [
      "\u001b[32m[I 2021-08-25 20:48:25,125]\u001b[0m Trial 379 finished with value: 0.5155154415680522 and parameters: {'learning_rate': 0.05027732403296748, 'reg_lambda': 9.96102054921697e-07, 'reg_alpha': 6.459945926220436e-06, 'subsample': 0.3614516407962059, 'colsample_bytree': 0.11760857759934655, 'max_depth': 5}. Best is trial 350 with value: 0.5135104737952604.\u001b[0m\n"
     ]
    },
    {
     "name": "stdout",
     "output_type": "stream",
     "text": [
      "[0]\tvalidation_0-rmse:7.45703\n",
      "[769]\tvalidation_0-rmse:0.71766\n"
     ]
    },
    {
     "name": "stderr",
     "output_type": "stream",
     "text": [
      "\u001b[32m[I 2021-08-25 20:48:29,554]\u001b[0m Trial 380 finished with value: 0.5150274950831615 and parameters: {'learning_rate': 0.04146598202601363, 'reg_lambda': 6.286300049181998e-07, 'reg_alpha': 2.3288120294613796e-06, 'subsample': 0.9714373843518213, 'colsample_bytree': 0.13574711445325582, 'max_depth': 5}. Best is trial 350 with value: 0.5135104737952604.\u001b[0m\n"
     ]
    },
    {
     "name": "stdout",
     "output_type": "stream",
     "text": [
      "[0]\tvalidation_0-rmse:7.43107\n",
      "[1000]\tvalidation_0-rmse:0.71676\n",
      "[1066]\tvalidation_0-rmse:0.71663\n"
     ]
    },
    {
     "name": "stderr",
     "output_type": "stream",
     "text": [
      "\u001b[32m[I 2021-08-25 20:48:35,360]\u001b[0m Trial 381 finished with value: 0.5135636200166932 and parameters: {'learning_rate': 0.04483931452352936, 'reg_lambda': 4.841878238528039e-07, 'reg_alpha': 8.560830826021769e-07, 'subsample': 0.9453351189952193, 'colsample_bytree': 0.10007197429560623, 'max_depth': 5}. Best is trial 350 with value: 0.5135104737952604.\u001b[0m\n"
     ]
    },
    {
     "name": "stdout",
     "output_type": "stream",
     "text": [
      "[0]\tvalidation_0-rmse:7.43738\n",
      "[1000]\tvalidation_0-rmse:0.71671\n",
      "[1040]\tvalidation_0-rmse:0.71662\n"
     ]
    },
    {
     "name": "stderr",
     "output_type": "stream",
     "text": [
      "\u001b[32m[I 2021-08-25 20:48:41,002]\u001b[0m Trial 382 finished with value: 0.5135365086787942 and parameters: {'learning_rate': 0.04401809686656162, 'reg_lambda': 2.78219914697255e-07, 'reg_alpha': 7.092585426414886e-07, 'subsample': 0.951001629253601, 'colsample_bytree': 0.11302948175403882, 'max_depth': 5}. Best is trial 350 with value: 0.5135104737952604.\u001b[0m\n"
     ]
    },
    {
     "name": "stdout",
     "output_type": "stream",
     "text": [
      "[0]\tvalidation_0-rmse:7.43973\n",
      "[938]\tvalidation_0-rmse:0.71691\n"
     ]
    },
    {
     "name": "stderr",
     "output_type": "stream",
     "text": [
      "\u001b[32m[I 2021-08-25 20:48:46,120]\u001b[0m Trial 383 finished with value: 0.5139557073852429 and parameters: {'learning_rate': 0.04371229181498104, 'reg_lambda': 2.877156611298189e-07, 'reg_alpha': 7.12942091157431e-07, 'subsample': 0.9514060670227237, 'colsample_bytree': 0.11392187564868482, 'max_depth': 5}. Best is trial 350 with value: 0.5135104737952604.\u001b[0m\n"
     ]
    },
    {
     "name": "stdout",
     "output_type": "stream",
     "text": [
      "[0]\tvalidation_0-rmse:7.46274\n",
      "[1000]\tvalidation_0-rmse:0.71698\n",
      "[1035]\tvalidation_0-rmse:0.71691\n"
     ]
    },
    {
     "name": "stderr",
     "output_type": "stream",
     "text": [
      "\u001b[32m[I 2021-08-25 20:48:51,702]\u001b[0m Trial 384 finished with value: 0.513949875643747 and parameters: {'learning_rate': 0.04072772087831851, 'reg_lambda': 3.9811616925713744e-07, 'reg_alpha': 1.0435174758926808e-06, 'subsample': 0.9823192448209441, 'colsample_bytree': 0.10019595345740957, 'max_depth': 5}. Best is trial 350 with value: 0.5135104737952604.\u001b[0m\n"
     ]
    },
    {
     "name": "stdout",
     "output_type": "stream",
     "text": [
      "[0]\tvalidation_0-rmse:7.42842\n",
      "[810]\tvalidation_0-rmse:0.71745\n"
     ]
    },
    {
     "name": "stderr",
     "output_type": "stream",
     "text": [
      "\u001b[32m[I 2021-08-25 20:48:56,137]\u001b[0m Trial 385 finished with value: 0.5147367035575975 and parameters: {'learning_rate': 0.04518130091641204, 'reg_lambda': 7.738618623896845e-07, 'reg_alpha': 3.6163957891136203e-07, 'subsample': 0.9601597647538134, 'colsample_bytree': 0.10111988757623641, 'max_depth': 5}. Best is trial 350 with value: 0.5135104737952604.\u001b[0m\n"
     ]
    },
    {
     "name": "stdout",
     "output_type": "stream",
     "text": [
      "[0]\tvalidation_0-rmse:7.46901\n",
      "[1000]\tvalidation_0-rmse:0.71711\n",
      "[1062]\tvalidation_0-rmse:0.71696\n"
     ]
    },
    {
     "name": "stderr",
     "output_type": "stream",
     "text": [
      "\u001b[32m[I 2021-08-25 20:49:02,053]\u001b[0m Trial 386 finished with value: 0.5140359871110989 and parameters: {'learning_rate': 0.039914515376755326, 'reg_lambda': 1.6858325079378341e-06, 'reg_alpha': 1.451371838464659e-06, 'subsample': 0.943476113690917, 'colsample_bytree': 0.10138898503106067, 'max_depth': 5}. Best is trial 350 with value: 0.5135104737952604.\u001b[0m\n"
     ]
    },
    {
     "name": "stdout",
     "output_type": "stream",
     "text": [
      "[0]\tvalidation_0-rmse:7.46228\n",
      "[1000]\tvalidation_0-rmse:0.71705\n",
      "[1069]\tvalidation_0-rmse:0.71693\n"
     ]
    },
    {
     "name": "stderr",
     "output_type": "stream",
     "text": [
      "\u001b[32m[I 2021-08-25 20:49:07,933]\u001b[0m Trial 387 finished with value: 0.5139789346844134 and parameters: {'learning_rate': 0.04078480179272529, 'reg_lambda': 2.6333434757565816e-07, 'reg_alpha': 8.939959215162548e-07, 'subsample': 0.9708870613653608, 'colsample_bytree': 0.12057363989945985, 'max_depth': 5}. Best is trial 350 with value: 0.5135104737952604.\u001b[0m\n"
     ]
    },
    {
     "name": "stdout",
     "output_type": "stream",
     "text": [
      "[0]\tvalidation_0-rmse:7.44401\n",
      "[769]\tvalidation_0-rmse:0.71752\n"
     ]
    },
    {
     "name": "stderr",
     "output_type": "stream",
     "text": [
      "\u001b[32m[I 2021-08-25 20:49:12,282]\u001b[0m Trial 388 finished with value: 0.5148250086378053 and parameters: {'learning_rate': 0.0431580957028838, 'reg_lambda': 5.362632642984131e-07, 'reg_alpha': 6.0936452618428e-07, 'subsample': 0.933084665191267, 'colsample_bytree': 0.13352190194210992, 'max_depth': 5}. Best is trial 350 with value: 0.5135104737952604.\u001b[0m\n"
     ]
    },
    {
     "name": "stdout",
     "output_type": "stream",
     "text": [
      "[0]\tvalidation_0-rmse:7.42593\n",
      "[1000]\tvalidation_0-rmse:0.71672\n",
      "[1041]\tvalidation_0-rmse:0.71664\n"
     ]
    },
    {
     "name": "stderr",
     "output_type": "stream",
     "text": [
      "\u001b[32m[I 2021-08-25 20:49:17,817]\u001b[0m Trial 389 finished with value: 0.5135700944767394 and parameters: {'learning_rate': 0.04550532044749766, 'reg_lambda': 1.0147826450475718e-06, 'reg_alpha': 1.3635661770381008e-06, 'subsample': 0.9553704123395809, 'colsample_bytree': 0.10020801940915924, 'max_depth': 5}. Best is trial 350 with value: 0.5135104737952604.\u001b[0m\n"
     ]
    },
    {
     "name": "stdout",
     "output_type": "stream",
     "text": [
      "[0]\tvalidation_0-rmse:7.42479\n",
      "[944]\tvalidation_0-rmse:0.71698\n"
     ]
    },
    {
     "name": "stderr",
     "output_type": "stream",
     "text": [
      "\u001b[32m[I 2021-08-25 20:49:23,022]\u001b[0m Trial 390 finished with value: 0.5140646764614034 and parameters: {'learning_rate': 0.04565396294231169, 'reg_lambda': 1.3918437978510956e-06, 'reg_alpha': 2.3802693963832683e-06, 'subsample': 0.994676916784826, 'colsample_bytree': 0.10149901411410439, 'max_depth': 5}. Best is trial 350 with value: 0.5135104737952604.\u001b[0m\n"
     ]
    },
    {
     "name": "stdout",
     "output_type": "stream",
     "text": [
      "[0]\tvalidation_0-rmse:7.41227\n",
      "[809]\tvalidation_0-rmse:0.71725\n"
     ]
    },
    {
     "name": "stderr",
     "output_type": "stream",
     "text": [
      "\u001b[32m[I 2021-08-25 20:49:27,440]\u001b[0m Trial 391 finished with value: 0.5144510174376582 and parameters: {'learning_rate': 0.047275314602222764, 'reg_lambda': 2.8028994450742364e-06, 'reg_alpha': 1.5849464574359153e-06, 'subsample': 0.9538050355545791, 'colsample_bytree': 0.11700243565406128, 'max_depth': 5}. Best is trial 350 with value: 0.5135104737952604.\u001b[0m\n"
     ]
    },
    {
     "name": "stdout",
     "output_type": "stream",
     "text": [
      "[0]\tvalidation_0-rmse:7.44080\n",
      "[860]\tvalidation_0-rmse:0.71875\n"
     ]
    },
    {
     "name": "stderr",
     "output_type": "stream",
     "text": [
      "\u001b[32m[I 2021-08-25 20:49:32,189]\u001b[0m Trial 392 finished with value: 0.5165915801615345 and parameters: {'learning_rate': 0.04357279105033869, 'reg_lambda': 7.424224347696401e-07, 'reg_alpha': 6.912689659455589e-07, 'subsample': 0.9834981555577283, 'colsample_bytree': 0.6688240938452045, 'max_depth': 5}. Best is trial 350 with value: 0.5135104737952604.\u001b[0m\n"
     ]
    },
    {
     "name": "stdout",
     "output_type": "stream",
     "text": [
      "[0]\tvalidation_0-rmse:7.42626\n",
      "[769]\tvalidation_0-rmse:0.71745\n"
     ]
    },
    {
     "name": "stderr",
     "output_type": "stream",
     "text": [
      "\u001b[32m[I 2021-08-25 20:49:36,618]\u001b[0m Trial 393 finished with value: 0.5147318408078065 and parameters: {'learning_rate': 0.04546052124308274, 'reg_lambda': 4.3610387910497065e-06, 'reg_alpha': 4.153612214820712e-07, 'subsample': 0.9675398477562946, 'colsample_bytree': 0.1341332797631076, 'max_depth': 5}. Best is trial 350 with value: 0.5135104737952604.\u001b[0m\n"
     ]
    },
    {
     "name": "stdout",
     "output_type": "stream",
     "text": [
      "[0]\tvalidation_0-rmse:7.45472\n",
      "[737]\tvalidation_0-rmse:0.71843\n"
     ]
    },
    {
     "name": "stderr",
     "output_type": "stream",
     "text": [
      "\u001b[32m[I 2021-08-25 20:49:40,122]\u001b[0m Trial 394 finished with value: 0.5161411028026622 and parameters: {'learning_rate': 0.041791558653523735, 'reg_lambda': 1.1413725685481809e-06, 'reg_alpha': 1.4557587086580629e-06, 'subsample': 0.3961455678716956, 'colsample_bytree': 0.11462260627970887, 'max_depth': 5}. Best is trial 350 with value: 0.5135104737952604.\u001b[0m\n"
     ]
    },
    {
     "name": "stdout",
     "output_type": "stream",
     "text": [
      "[0]\tvalidation_0-rmse:7.47250\n",
      "[1000]\tvalidation_0-rmse:0.71712\n",
      "[1088]\tvalidation_0-rmse:0.71692\n"
     ]
    },
    {
     "name": "stderr",
     "output_type": "stream",
     "text": [
      "\u001b[32m[I 2021-08-25 20:49:46,110]\u001b[0m Trial 395 finished with value: 0.5139736294123111 and parameters: {'learning_rate': 0.039459575915289695, 'reg_lambda': 2.108559251942723e-06, 'reg_alpha': 1.018828200050263e-06, 'subsample': 0.945645222464129, 'colsample_bytree': 0.10189301593630992, 'max_depth': 5}. Best is trial 350 with value: 0.5135104737952604.\u001b[0m\n"
     ]
    },
    {
     "name": "stdout",
     "output_type": "stream",
     "text": [
      "[0]\tvalidation_0-rmse:7.41616\n",
      "[654]\tvalidation_0-rmse:0.71831\n"
     ]
    },
    {
     "name": "stderr",
     "output_type": "stream",
     "text": [
      "\u001b[32m[I 2021-08-25 20:49:49,331]\u001b[0m Trial 396 finished with value: 0.515966750152622 and parameters: {'learning_rate': 0.04679565618212141, 'reg_lambda': 8.638228919335416e-07, 'reg_alpha': 3.5712069837133714e-06, 'subsample': 0.4875875960260322, 'colsample_bytree': 0.100383417163347, 'max_depth': 5}. Best is trial 350 with value: 0.5135104737952604.\u001b[0m\n"
     ]
    },
    {
     "name": "stdout",
     "output_type": "stream",
     "text": [
      "[0]\tvalidation_0-rmse:7.45243\n",
      "[939]\tvalidation_0-rmse:0.71712\n"
     ]
    },
    {
     "name": "stderr",
     "output_type": "stream",
     "text": [
      "\u001b[32m[I 2021-08-25 20:49:54,417]\u001b[0m Trial 397 finished with value: 0.5142575998453159 and parameters: {'learning_rate': 0.04206706624343811, 'reg_lambda': 3.4007365476075763e-07, 'reg_alpha': 2.792478536787655e-07, 'subsample': 0.9335349476786521, 'colsample_bytree': 0.1003040165671023, 'max_depth': 5}. Best is trial 350 with value: 0.5135104737952604.\u001b[0m\n"
     ]
    },
    {
     "name": "stdout",
     "output_type": "stream",
     "text": [
      "[0]\tvalidation_0-rmse:7.40373\n",
      "[944]\tvalidation_0-rmse:0.71683\n"
     ]
    },
    {
     "name": "stderr",
     "output_type": "stream",
     "text": [
      "\u001b[32m[I 2021-08-25 20:49:59,510]\u001b[0m Trial 398 finished with value: 0.5138371394233455 and parameters: {'learning_rate': 0.04838507946489696, 'reg_lambda': 1.3147631213111214e-06, 'reg_alpha': 1.8606246375185599e-06, 'subsample': 0.9602740175234455, 'colsample_bytree': 0.13504904939230444, 'max_depth': 5}. Best is trial 350 with value: 0.5135104737952604.\u001b[0m\n"
     ]
    },
    {
     "name": "stdout",
     "output_type": "stream",
     "text": [
      "[0]\tvalidation_0-rmse:7.40317\n",
      "[704]\tvalidation_0-rmse:0.71744\n"
     ]
    },
    {
     "name": "stderr",
     "output_type": "stream",
     "text": [
      "\u001b[32m[I 2021-08-25 20:50:03,700]\u001b[0m Trial 399 finished with value: 0.514706863326159 and parameters: {'learning_rate': 0.048460116178601804, 'reg_lambda': 2.0733102026464997e-06, 'reg_alpha': 2.0342861572983587e-06, 'subsample': 0.9961087277341644, 'colsample_bytree': 0.1409492577582236, 'max_depth': 5}. Best is trial 350 with value: 0.5135104737952604.\u001b[0m\n"
     ]
    },
    {
     "name": "stdout",
     "output_type": "stream",
     "text": [
      "[0]\tvalidation_0-rmse:7.41108\n",
      "[630]\tvalidation_0-rmse:0.71805\n"
     ]
    },
    {
     "name": "stderr",
     "output_type": "stream",
     "text": [
      "\u001b[32m[I 2021-08-25 20:50:07,496]\u001b[0m Trial 400 finished with value: 0.5156014673938132 and parameters: {'learning_rate': 0.04743087309927297, 'reg_lambda': 1.2273607090538205e-06, 'reg_alpha': 1.221175331701647e-06, 'subsample': 0.9709475546209274, 'colsample_bytree': 0.1282696157941105, 'max_depth': 5}. Best is trial 350 with value: 0.5135104737952604.\u001b[0m\n"
     ]
    },
    {
     "name": "stdout",
     "output_type": "stream",
     "text": [
      "[0]\tvalidation_0-rmse:7.39479\n",
      "[969]\tvalidation_0-rmse:0.71663\n"
     ]
    },
    {
     "name": "stderr",
     "output_type": "stream",
     "text": [
      "\u001b[32m[I 2021-08-25 20:50:12,683]\u001b[0m Trial 401 finished with value: 0.5135542571727274 and parameters: {'learning_rate': 0.04954669558423806, 'reg_lambda': 1.4023954456356351e-06, 'reg_alpha': 4.051065584500139e-06, 'subsample': 0.9586762572438021, 'colsample_bytree': 0.10004265947690741, 'max_depth': 5}. Best is trial 350 with value: 0.5135104737952604.\u001b[0m\n"
     ]
    },
    {
     "name": "stdout",
     "output_type": "stream",
     "text": [
      "[0]\tvalidation_0-rmse:7.38502\n",
      "[791]\tvalidation_0-rmse:0.71707\n"
     ]
    },
    {
     "name": "stderr",
     "output_type": "stream",
     "text": [
      "\u001b[32m[I 2021-08-25 20:50:17,246]\u001b[0m Trial 402 finished with value: 0.5141841774677977 and parameters: {'learning_rate': 0.05081425027677855, 'reg_lambda': 4.109123143527261e-06, 'reg_alpha': 5.540170556668319e-06, 'subsample': 0.9578137741537276, 'colsample_bytree': 0.10028144170539272, 'max_depth': 5}. Best is trial 350 with value: 0.5135104737952604.\u001b[0m\n"
     ]
    },
    {
     "name": "stdout",
     "output_type": "stream",
     "text": [
      "[0]\tvalidation_0-rmse:7.36253\n",
      "[809]\tvalidation_0-rmse:0.71700\n"
     ]
    },
    {
     "name": "stderr",
     "output_type": "stream",
     "text": [
      "\u001b[32m[I 2021-08-25 20:50:21,821]\u001b[0m Trial 403 finished with value: 0.5140774762738172 and parameters: {'learning_rate': 0.053735900626455765, 'reg_lambda': 1.5746320811639116e-06, 'reg_alpha': 3.1876271927575805e-06, 'subsample': 0.9824089587940915, 'colsample_bytree': 0.10105726634291601, 'max_depth': 5}. Best is trial 350 with value: 0.5135104737952604.\u001b[0m\n"
     ]
    },
    {
     "name": "stdout",
     "output_type": "stream",
     "text": [
      "[0]\tvalidation_0-rmse:7.39780\n",
      "[768]\tvalidation_0-rmse:0.71731\n"
     ]
    },
    {
     "name": "stderr",
     "output_type": "stream",
     "text": [
      "\u001b[32m[I 2021-08-25 20:50:26,114]\u001b[0m Trial 404 finished with value: 0.5145325797845105 and parameters: {'learning_rate': 0.04915358668453981, 'reg_lambda': 1.0847369587718223e-06, 'reg_alpha': 4.036062094383063e-06, 'subsample': 0.9573659649370524, 'colsample_bytree': 0.14200559876134838, 'max_depth': 5}. Best is trial 350 with value: 0.5135104737952604.\u001b[0m\n"
     ]
    },
    {
     "name": "stdout",
     "output_type": "stream",
     "text": [
      "[0]\tvalidation_0-rmse:7.42604\n",
      "[809]\tvalidation_0-rmse:0.71745\n"
     ]
    },
    {
     "name": "stderr",
     "output_type": "stream",
     "text": [
      "\u001b[32m[I 2021-08-25 20:50:30,566]\u001b[0m Trial 405 finished with value: 0.5147373282253473 and parameters: {'learning_rate': 0.045491188119225895, 'reg_lambda': 5.512130774557821e-06, 'reg_alpha': 2.05487963447779e-06, 'subsample': 0.9826654700944264, 'colsample_bytree': 0.11741228916282948, 'max_depth': 5}. Best is trial 350 with value: 0.5135104737952604.\u001b[0m\n"
     ]
    },
    {
     "name": "stdout",
     "output_type": "stream",
     "text": [
      "[0]\tvalidation_0-rmse:7.38455\n",
      "[939]\tvalidation_0-rmse:0.71666\n"
     ]
    },
    {
     "name": "stderr",
     "output_type": "stream",
     "text": [
      "\u001b[32m[I 2021-08-25 20:50:35,827]\u001b[0m Trial 406 finished with value: 0.5135954090789062 and parameters: {'learning_rate': 0.050876262485947954, 'reg_lambda': 3.1458095042252745e-06, 'reg_alpha': 2.666524525995149e-06, 'subsample': 0.9496039051049476, 'colsample_bytree': 0.11810458884066627, 'max_depth': 5}. Best is trial 350 with value: 0.5135104737952604.\u001b[0m\n"
     ]
    },
    {
     "name": "stdout",
     "output_type": "stream",
     "text": [
      "[0]\tvalidation_0-rmse:7.36560\n",
      "[768]\tvalidation_0-rmse:0.71704\n"
     ]
    },
    {
     "name": "stderr",
     "output_type": "stream",
     "text": [
      "\u001b[32m[I 2021-08-25 20:50:40,309]\u001b[0m Trial 407 finished with value: 0.5141484905718867 and parameters: {'learning_rate': 0.053335713899032695, 'reg_lambda': 3.702129701355061e-06, 'reg_alpha': 2.758952550991474e-06, 'subsample': 0.9678973470286205, 'colsample_bytree': 0.11666082445046191, 'max_depth': 5}. Best is trial 350 with value: 0.5135104737952604.\u001b[0m\n"
     ]
    },
    {
     "name": "stdout",
     "output_type": "stream",
     "text": [
      "[0]\tvalidation_0-rmse:7.31963\n",
      "[781]\tvalidation_0-rmse:0.71680\n"
     ]
    },
    {
     "name": "stderr",
     "output_type": "stream",
     "text": [
      "\u001b[32m[I 2021-08-25 20:50:44,551]\u001b[0m Trial 408 finished with value: 0.5137963186940541 and parameters: {'learning_rate': 0.05930317503509293, 'reg_lambda': 2.8363152387992987e-06, 'reg_alpha': 6.8427571635935385e-06, 'subsample': 0.9511070138485214, 'colsample_bytree': 0.10013169967082539, 'max_depth': 5}. Best is trial 350 with value: 0.5135104737952604.\u001b[0m\n"
     ]
    },
    {
     "name": "stdout",
     "output_type": "stream",
     "text": [
      "[0]\tvalidation_0-rmse:7.34110\n",
      "[807]\tvalidation_0-rmse:0.71680\n"
     ]
    },
    {
     "name": "stderr",
     "output_type": "stream",
     "text": [
      "\u001b[32m[I 2021-08-25 20:50:48,961]\u001b[0m Trial 409 finished with value: 0.5138027574488638 and parameters: {'learning_rate': 0.056518882681332046, 'reg_lambda': 2.8071588347452983e-06, 'reg_alpha': 1.0211209888382029e-05, 'subsample': 0.9447831003006075, 'colsample_bytree': 0.10279854797574751, 'max_depth': 5}. Best is trial 350 with value: 0.5135104737952604.\u001b[0m\n"
     ]
    },
    {
     "name": "stdout",
     "output_type": "stream",
     "text": [
      "[0]\tvalidation_0-rmse:7.31825\n",
      "[456]\tvalidation_0-rmse:0.72008\n"
     ]
    },
    {
     "name": "stderr",
     "output_type": "stream",
     "text": [
      "\u001b[32m[I 2021-08-25 20:50:51,812]\u001b[0m Trial 410 finished with value: 0.5184929342837106 and parameters: {'learning_rate': 0.059476391660538565, 'reg_lambda': 6.032505659292957e-06, 'reg_alpha': 9.829282808342922e-06, 'subsample': 0.9964579215990016, 'colsample_bytree': 0.8886164829072902, 'max_depth': 5}. Best is trial 350 with value: 0.5135104737952604.\u001b[0m\n"
     ]
    },
    {
     "name": "stdout",
     "output_type": "stream",
     "text": [
      "[0]\tvalidation_0-rmse:7.27919\n",
      "[716]\tvalidation_0-rmse:0.71682\n"
     ]
    },
    {
     "name": "stderr",
     "output_type": "stream",
     "text": [
      "\u001b[32m[I 2021-08-25 20:50:55,720]\u001b[0m Trial 411 finished with value: 0.5138177482310898 and parameters: {'learning_rate': 0.06455278617023272, 'reg_lambda': 8.863984119055303e-06, 'reg_alpha': 8.073466717661204e-06, 'subsample': 0.9527243544416518, 'colsample_bytree': 0.1019019925759947, 'max_depth': 5}. Best is trial 350 with value: 0.5135104737952604.\u001b[0m\n"
     ]
    },
    {
     "name": "stdout",
     "output_type": "stream",
     "text": [
      "[0]\tvalidation_0-rmse:7.29755\n",
      "[716]\tvalidation_0-rmse:0.71697\n"
     ]
    },
    {
     "name": "stderr",
     "output_type": "stream",
     "text": [
      "\u001b[32m[I 2021-08-25 20:50:59,731]\u001b[0m Trial 412 finished with value: 0.5140379418870622 and parameters: {'learning_rate': 0.0621714674850521, 'reg_lambda': 3.9373744984588464e-06, 'reg_alpha': 6.1389784271599035e-06, 'subsample': 0.9752720796095756, 'colsample_bytree': 0.10053371079108742, 'max_depth': 5}. Best is trial 350 with value: 0.5135104737952604.\u001b[0m\n"
     ]
    },
    {
     "name": "stdout",
     "output_type": "stream",
     "text": [
      "[0]\tvalidation_0-rmse:7.27617\n",
      "[720]\tvalidation_0-rmse:0.71674\n"
     ]
    },
    {
     "name": "stderr",
     "output_type": "stream",
     "text": [
      "\u001b[32m[I 2021-08-25 20:51:03,698]\u001b[0m Trial 413 finished with value: 0.5137097733980268 and parameters: {'learning_rate': 0.06494511720886872, 'reg_lambda': 1.2840844203442687e-05, 'reg_alpha': 6.670364769318785e-06, 'subsample': 0.9530868928578744, 'colsample_bytree': 0.10009076043367685, 'max_depth': 5}. Best is trial 350 with value: 0.5135104737952604.\u001b[0m\n"
     ]
    },
    {
     "name": "stdout",
     "output_type": "stream",
     "text": [
      "[0]\tvalidation_0-rmse:7.25469\n",
      "[700]\tvalidation_0-rmse:0.71683\n"
     ]
    },
    {
     "name": "stderr",
     "output_type": "stream",
     "text": [
      "\u001b[32m[I 2021-08-25 20:51:07,722]\u001b[0m Trial 414 finished with value: 0.5138262478393981 and parameters: {'learning_rate': 0.06773701137431976, 'reg_lambda': 6.395353457669198e-06, 'reg_alpha': 7.085798647111036e-06, 'subsample': 0.9993303514296547, 'colsample_bytree': 0.10208200079106027, 'max_depth': 5}. Best is trial 350 with value: 0.5135104737952604.\u001b[0m\n"
     ]
    },
    {
     "name": "stdout",
     "output_type": "stream",
     "text": [
      "[0]\tvalidation_0-rmse:7.20826\n",
      "[590]\tvalidation_0-rmse:0.71699\n"
     ]
    },
    {
     "name": "stderr",
     "output_type": "stream",
     "text": [
      "\u001b[32m[I 2021-08-25 20:51:11,170]\u001b[0m Trial 415 finished with value: 0.514075967318455 and parameters: {'learning_rate': 0.0737634363469172, 'reg_lambda': 2.4823042690769176e-05, 'reg_alpha': 1.1911679312328623e-05, 'subsample': 0.9605960819746798, 'colsample_bytree': 0.10025639069136622, 'max_depth': 5}. Best is trial 350 with value: 0.5135104737952604.\u001b[0m\n"
     ]
    },
    {
     "name": "stdout",
     "output_type": "stream",
     "text": [
      "[0]\tvalidation_0-rmse:7.30097\n",
      "[716]\tvalidation_0-rmse:0.71702\n"
     ]
    },
    {
     "name": "stderr",
     "output_type": "stream",
     "text": [
      "\u001b[32m[I 2021-08-25 20:51:15,136]\u001b[0m Trial 416 finished with value: 0.5140976073274722 and parameters: {'learning_rate': 0.061729196566201766, 'reg_lambda': 1.3501648033806058e-05, 'reg_alpha': 1.880216320102216e-05, 'subsample': 0.9999636686171475, 'colsample_bytree': 0.10028551653792732, 'max_depth': 5}. Best is trial 350 with value: 0.5135104737952604.\u001b[0m\n"
     ]
    },
    {
     "name": "stdout",
     "output_type": "stream",
     "text": [
      "[0]\tvalidation_0-rmse:7.26591\n",
      "[659]\tvalidation_0-rmse:0.71697\n"
     ]
    },
    {
     "name": "stderr",
     "output_type": "stream",
     "text": [
      "\u001b[32m[I 2021-08-25 20:51:18,758]\u001b[0m Trial 417 finished with value: 0.5140393508818842 and parameters: {'learning_rate': 0.06627782159003923, 'reg_lambda': 1.4816935683834548e-05, 'reg_alpha': 8.278867185515978e-06, 'subsample': 0.9483708761679378, 'colsample_bytree': 0.1004237886713081, 'max_depth': 5}. Best is trial 350 with value: 0.5135104737952604.\u001b[0m\n"
     ]
    },
    {
     "name": "stdout",
     "output_type": "stream",
     "text": [
      "[0]\tvalidation_0-rmse:7.23205\n",
      "[810]\tvalidation_0-rmse:0.71730\n"
     ]
    },
    {
     "name": "stderr",
     "output_type": "stream",
     "text": [
      "\u001b[32m[I 2021-08-25 20:51:22,321]\u001b[0m Trial 418 finished with value: 0.5145224497804807 and parameters: {'learning_rate': 0.07067506078421647, 'reg_lambda': 2.793852899532865e-06, 'reg_alpha': 5.028598171265025e-06, 'subsample': 0.9808825681183009, 'colsample_bytree': 0.10084881067193573, 'max_depth': 4}. Best is trial 350 with value: 0.5135104737952604.\u001b[0m\n"
     ]
    },
    {
     "name": "stdout",
     "output_type": "stream",
     "text": [
      "[0]\tvalidation_0-rmse:7.27731\n",
      "[669]\tvalidation_0-rmse:0.71704\n"
     ]
    },
    {
     "name": "stderr",
     "output_type": "stream",
     "text": [
      "\u001b[32m[I 2021-08-25 20:51:26,241]\u001b[0m Trial 419 finished with value: 0.5141377946371489 and parameters: {'learning_rate': 0.0647976122397142, 'reg_lambda': 8.952550165030595e-06, 'reg_alpha': 7.322961607885821e-06, 'subsample': 0.9684862673438883, 'colsample_bytree': 0.11754784905405552, 'max_depth': 5}. Best is trial 350 with value: 0.5135104737952604.\u001b[0m\n"
     ]
    },
    {
     "name": "stdout",
     "output_type": "stream",
     "text": [
      "[0]\tvalidation_0-rmse:7.31561\n",
      "[719]\tvalidation_0-rmse:0.71693\n"
     ]
    },
    {
     "name": "stderr",
     "output_type": "stream",
     "text": [
      "\u001b[32m[I 2021-08-25 20:51:30,177]\u001b[0m Trial 420 finished with value: 0.5139713050056456 and parameters: {'learning_rate': 0.05982668146555635, 'reg_lambda': 1.0000298992861568e-05, 'reg_alpha': 1.2266147141208042e-05, 'subsample': 0.9481364293490031, 'colsample_bytree': 0.10012245460168703, 'max_depth': 5}. Best is trial 350 with value: 0.5135104737952604.\u001b[0m\n"
     ]
    },
    {
     "name": "stdout",
     "output_type": "stream",
     "text": [
      "[0]\tvalidation_0-rmse:7.33082\n",
      "[659]\tvalidation_0-rmse:0.71733\n"
     ]
    },
    {
     "name": "stderr",
     "output_type": "stream",
     "text": [
      "\u001b[32m[I 2021-08-25 20:51:33,994]\u001b[0m Trial 421 finished with value: 0.5145585197577736 and parameters: {'learning_rate': 0.0578519404524946, 'reg_lambda': 4.599630493959345e-05, 'reg_alpha': 4.596278413135501e-06, 'subsample': 0.931830620545967, 'colsample_bytree': 0.1167294642239374, 'max_depth': 5}. Best is trial 350 with value: 0.5135104737952604.\u001b[0m\n"
     ]
    },
    {
     "name": "stdout",
     "output_type": "stream",
     "text": [
      "[0]\tvalidation_0-rmse:7.29371\n",
      "[770]\tvalidation_0-rmse:0.71662\n"
     ]
    },
    {
     "name": "stderr",
     "output_type": "stream",
     "text": [
      "\u001b[32m[I 2021-08-25 20:51:38,185]\u001b[0m Trial 422 finished with value: 0.513547522763061 and parameters: {'learning_rate': 0.06266840751081226, 'reg_lambda': 2.2741522898646282e-05, 'reg_alpha': 7.054844835629641e-06, 'subsample': 0.9570993030801601, 'colsample_bytree': 0.10107174176353849, 'max_depth': 5}. Best is trial 350 with value: 0.5135104737952604.\u001b[0m\n"
     ]
    },
    {
     "name": "stdout",
     "output_type": "stream",
     "text": [
      "[0]\tvalidation_0-rmse:7.34214\n",
      "[650]\tvalidation_0-rmse:0.71898\n"
     ]
    },
    {
     "name": "stderr",
     "output_type": "stream",
     "text": [
      "\u001b[32m[I 2021-08-25 20:51:42,174]\u001b[0m Trial 423 finished with value: 0.5169336732930325 and parameters: {'learning_rate': 0.05637370938083668, 'reg_lambda': 5.502232129404992e-05, 'reg_alpha': 4.848850424325183e-06, 'subsample': 0.9767305600538371, 'colsample_bytree': 0.7678790098418626, 'max_depth': 5}. Best is trial 350 with value: 0.5135104737952604.\u001b[0m\n"
     ]
    },
    {
     "name": "stdout",
     "output_type": "stream",
     "text": [
      "[0]\tvalidation_0-rmse:7.28796\n",
      "[651]\tvalidation_0-rmse:0.71716\n"
     ]
    },
    {
     "name": "stderr",
     "output_type": "stream",
     "text": [
      "\u001b[32m[I 2021-08-25 20:51:45,749]\u001b[0m Trial 424 finished with value: 0.5143133874975361 and parameters: {'learning_rate': 0.06341700678948221, 'reg_lambda': 6.8050437884058305e-06, 'reg_alpha': 3.1068680412469388e-06, 'subsample': 0.9281632003670184, 'colsample_bytree': 0.11630324860713513, 'max_depth': 5}. Best is trial 350 with value: 0.5135104737952604.\u001b[0m\n"
     ]
    },
    {
     "name": "stdout",
     "output_type": "stream",
     "text": [
      "[0]\tvalidation_0-rmse:7.21170\n",
      "[458]\tvalidation_0-rmse:0.71827\n"
     ]
    },
    {
     "name": "stderr",
     "output_type": "stream",
     "text": [
      "\u001b[32m[I 2021-08-25 20:51:48,380]\u001b[0m Trial 425 finished with value: 0.5158902584500812 and parameters: {'learning_rate': 0.07331136106337764, 'reg_lambda': 2.4953028106401874e-06, 'reg_alpha': 9.371351230825932e-06, 'subsample': 0.9634310765224939, 'colsample_bytree': 0.27525705866141637, 'max_depth': 5}. Best is trial 350 with value: 0.5135104737952604.\u001b[0m\n"
     ]
    },
    {
     "name": "stdout",
     "output_type": "stream",
     "text": [
      "[0]\tvalidation_0-rmse:7.33871\n",
      "[716]\tvalidation_0-rmse:0.71722\n"
     ]
    },
    {
     "name": "stderr",
     "output_type": "stream",
     "text": [
      "\u001b[32m[I 2021-08-25 20:51:52,392]\u001b[0m Trial 426 finished with value: 0.514397355384408 and parameters: {'learning_rate': 0.05682786735612773, 'reg_lambda': 1.7256168994223504e-05, 'reg_alpha': 1.9590857467737707e-05, 'subsample': 0.9823520825807809, 'colsample_bytree': 0.11884736183205505, 'max_depth': 5}. Best is trial 350 with value: 0.5135104737952604.\u001b[0m\n"
     ]
    },
    {
     "name": "stdout",
     "output_type": "stream",
     "text": [
      "[0]\tvalidation_0-rmse:7.26109\n",
      "[676]\tvalidation_0-rmse:0.71678\n"
     ]
    },
    {
     "name": "stderr",
     "output_type": "stream",
     "text": [
      "\u001b[32m[I 2021-08-25 20:51:56,543]\u001b[0m Trial 427 finished with value: 0.5137640845788873 and parameters: {'learning_rate': 0.06690370381722244, 'reg_lambda': 3.9095613897955006e-06, 'reg_alpha': 3.650831508359183e-06, 'subsample': 0.9523634871125503, 'colsample_bytree': 0.10008036170933461, 'max_depth': 5}. Best is trial 350 with value: 0.5135104737952604.\u001b[0m\n"
     ]
    },
    {
     "name": "stdout",
     "output_type": "stream",
     "text": [
      "[0]\tvalidation_0-rmse:7.19275\n",
      "[447]\tvalidation_0-rmse:0.71888\n"
     ]
    },
    {
     "name": "stderr",
     "output_type": "stream",
     "text": [
      "\u001b[32m[I 2021-08-25 20:51:59,119]\u001b[0m Trial 428 finished with value: 0.5167609473638202 and parameters: {'learning_rate': 0.0757724420812338, 'reg_lambda': 2.845720625766039e-05, 'reg_alpha': 3.7737570688400164e-06, 'subsample': 0.9441327745629249, 'colsample_bytree': 0.5456021549999512, 'max_depth': 5}. Best is trial 350 with value: 0.5135104737952604.\u001b[0m\n"
     ]
    },
    {
     "name": "stdout",
     "output_type": "stream",
     "text": [
      "[0]\tvalidation_0-rmse:7.30947\n",
      "[605]\tvalidation_0-rmse:0.71744\n"
     ]
    },
    {
     "name": "stderr",
     "output_type": "stream",
     "text": [
      "\u001b[32m[I 2021-08-25 20:52:02,527]\u001b[0m Trial 429 finished with value: 0.5147223950584425 and parameters: {'learning_rate': 0.06062350665808329, 'reg_lambda': 0.00011554850359981925, 'reg_alpha': 6.1761287416010825e-06, 'subsample': 0.9656801511755381, 'colsample_bytree': 0.10064874182896258, 'max_depth': 5}. Best is trial 350 with value: 0.5135104737952604.\u001b[0m\n"
     ]
    },
    {
     "name": "stdout",
     "output_type": "stream",
     "text": [
      "[0]\tvalidation_0-rmse:7.23561\n",
      "[641]\tvalidation_0-rmse:0.71686\n"
     ]
    },
    {
     "name": "stderr",
     "output_type": "stream",
     "text": [
      "\u001b[32m[I 2021-08-25 20:52:06,172]\u001b[0m Trial 430 finished with value: 0.5138909528931416 and parameters: {'learning_rate': 0.07021437406426352, 'reg_lambda': 5.023598126515819e-06, 'reg_alpha': 1.2617414755075282e-05, 'subsample': 0.9981075799453188, 'colsample_bytree': 0.1260541041997542, 'max_depth': 5}. Best is trial 350 with value: 0.5135104737952604.\u001b[0m\n"
     ]
    },
    {
     "name": "stdout",
     "output_type": "stream",
     "text": [
      "[0]\tvalidation_0-rmse:7.15826\n",
      "[590]\tvalidation_0-rmse:0.71680\n"
     ]
    },
    {
     "name": "stderr",
     "output_type": "stream",
     "text": [
      "\u001b[32m[I 2021-08-25 20:52:09,533]\u001b[0m Trial 431 finished with value: 0.5137845934307743 and parameters: {'learning_rate': 0.08025907634871873, 'reg_lambda': 3.199552893756009e-06, 'reg_alpha': 2.7013330413805518e-06, 'subsample': 0.940141207118604, 'colsample_bytree': 0.10017841431681057, 'max_depth': 5}. Best is trial 350 with value: 0.5135104737952604.\u001b[0m\n"
     ]
    },
    {
     "name": "stdout",
     "output_type": "stream",
     "text": [
      "[0]\tvalidation_0-rmse:7.00752\n",
      "[421]\tvalidation_0-rmse:0.71735\n"
     ]
    },
    {
     "name": "stderr",
     "output_type": "stream",
     "text": [
      "\u001b[32m[I 2021-08-25 20:52:12,085]\u001b[0m Trial 432 finished with value: 0.5145841479910443 and parameters: {'learning_rate': 0.09983728359573432, 'reg_lambda': 2.051373071422848e-05, 'reg_alpha': 2.7366436657540818e-06, 'subsample': 0.9216066539491864, 'colsample_bytree': 0.10117073821093145, 'max_depth': 5}. Best is trial 350 with value: 0.5135104737952604.\u001b[0m\n"
     ]
    },
    {
     "name": "stdout",
     "output_type": "stream",
     "text": [
      "[0]\tvalidation_0-rmse:7.18312\n",
      "[590]\tvalidation_0-rmse:0.71699\n"
     ]
    },
    {
     "name": "stderr",
     "output_type": "stream",
     "text": [
      "\u001b[32m[I 2021-08-25 20:52:15,429]\u001b[0m Trial 433 finished with value: 0.5140608791439406 and parameters: {'learning_rate': 0.07702842465262746, 'reg_lambda': 3.9399730812833025e-06, 'reg_alpha': 2.9457659213291097e-06, 'subsample': 0.9595655553131458, 'colsample_bytree': 0.10006368794869132, 'max_depth': 5}. Best is trial 350 with value: 0.5135104737952604.\u001b[0m\n"
     ]
    },
    {
     "name": "stdout",
     "output_type": "stream",
     "text": [
      "[0]\tvalidation_0-rmse:7.16320\n",
      "[471]\tvalidation_0-rmse:0.71769\n"
     ]
    },
    {
     "name": "stderr",
     "output_type": "stream",
     "text": [
      "\u001b[32m[I 2021-08-25 20:52:18,158]\u001b[0m Trial 434 finished with value: 0.5150695098114925 and parameters: {'learning_rate': 0.07961706542062776, 'reg_lambda': 3.3942849130286382e-06, 'reg_alpha': 4.1793625664871635e-06, 'subsample': 0.9873455902340511, 'colsample_bytree': 0.10034427508810587, 'max_depth': 5}. Best is trial 350 with value: 0.5135104737952604.\u001b[0m\n"
     ]
    },
    {
     "name": "stdout",
     "output_type": "stream",
     "text": [
      "[0]\tvalidation_0-rmse:7.16030\n",
      "[703]\tvalidation_0-rmse:0.71731\n"
     ]
    },
    {
     "name": "stderr",
     "output_type": "stream",
     "text": [
      "\u001b[32m[I 2021-08-25 20:52:21,240]\u001b[0m Trial 435 finished with value: 0.5145171771316807 and parameters: {'learning_rate': 0.07999113696498529, 'reg_lambda': 1.8859178213805664e-06, 'reg_alpha': 2.3389864510040044e-06, 'subsample': 0.9370935636337143, 'colsample_bytree': 0.12915269797088702, 'max_depth': 4}. Best is trial 350 with value: 0.5135104737952604.\u001b[0m\n"
     ]
    },
    {
     "name": "stdout",
     "output_type": "stream",
     "text": [
      "[0]\tvalidation_0-rmse:7.22240\n",
      "[924]\tvalidation_0-rmse:0.71654\n"
     ]
    },
    {
     "name": "stderr",
     "output_type": "stream",
     "text": [
      "\u001b[32m[I 2021-08-25 20:52:25,959]\u001b[0m Trial 436 finished with value: 0.5134312486432003 and parameters: {'learning_rate': 0.07193008184744419, 'reg_lambda': 9.761521818337877e-06, 'reg_alpha': 34.07521063730134, 'subsample': 0.9729410535487059, 'colsample_bytree': 0.11790985161162786, 'max_depth': 5}. Best is trial 436 with value: 0.5134312486432003.\u001b[0m\n"
     ]
    },
    {
     "name": "stdout",
     "output_type": "stream",
     "text": [
      "[0]\tvalidation_0-rmse:7.16459\n",
      "[1000]\tvalidation_0-rmse:0.72849\n",
      "[1936]\tvalidation_0-rmse:0.72645\n"
     ]
    },
    {
     "name": "stderr",
     "output_type": "stream",
     "text": [
      "\u001b[32m[I 2021-08-25 20:52:31,088]\u001b[0m Trial 437 finished with value: 0.5277351888731943 and parameters: {'learning_rate': 0.0794351302838382, 'reg_lambda': 1.1231894818046613e-05, 'reg_alpha': 1.5469834321667184, 'subsample': 0.9855785291705352, 'colsample_bytree': 0.14316298764585295, 'max_depth': 1}. Best is trial 436 with value: 0.5134312486432003.\u001b[0m\n"
     ]
    },
    {
     "name": "stdout",
     "output_type": "stream",
     "text": [
      "[0]\tvalidation_0-rmse:7.24602\n",
      "[554]\tvalidation_0-rmse:0.71748\n"
     ]
    },
    {
     "name": "stderr",
     "output_type": "stream",
     "text": [
      "\u001b[32m[I 2021-08-25 20:52:34,257]\u001b[0m Trial 438 finished with value: 0.5147689846275619 and parameters: {'learning_rate': 0.06886285116521898, 'reg_lambda': 7.351007174300001e-06, 'reg_alpha': 3.057789222973323e-06, 'subsample': 0.9997048320350748, 'colsample_bytree': 0.1205555823265633, 'max_depth': 5}. Best is trial 436 with value: 0.5134312486432003.\u001b[0m\n"
     ]
    },
    {
     "name": "stdout",
     "output_type": "stream",
     "text": [
      "[0]\tvalidation_0-rmse:7.13823\n",
      "[490]\tvalidation_0-rmse:0.71724\n"
     ]
    },
    {
     "name": "stderr",
     "output_type": "stream",
     "text": [
      "\u001b[32m[I 2021-08-25 20:52:37,111]\u001b[0m Trial 439 finished with value: 0.5144248134707102 and parameters: {'learning_rate': 0.08285287396189286, 'reg_lambda': 3.0257788573293448e-05, 'reg_alpha': 0.27971102829555805, 'subsample': 0.9693739664303941, 'colsample_bytree': 0.1333913914375228, 'max_depth': 5}. Best is trial 436 with value: 0.5134312486432003.\u001b[0m\n"
     ]
    },
    {
     "name": "stdout",
     "output_type": "stream",
     "text": [
      "[0]\tvalidation_0-rmse:7.25948\n",
      "[892]\tvalidation_0-rmse:0.71633\n"
     ]
    },
    {
     "name": "stderr",
     "output_type": "stream",
     "text": [
      "\u001b[32m[I 2021-08-25 20:52:41,850]\u001b[0m Trial 440 finished with value: 0.513121106379894 and parameters: {'learning_rate': 0.06711297821065439, 'reg_lambda': 1.3084599313329766e-05, 'reg_alpha': 14.958869442161594, 'subsample': 0.9600568381728084, 'colsample_bytree': 0.12232519040845179, 'max_depth': 5}. Best is trial 440 with value: 0.513121106379894.\u001b[0m\n"
     ]
    },
    {
     "name": "stdout",
     "output_type": "stream",
     "text": [
      "[0]\tvalidation_0-rmse:7.09625\n",
      "[641]\tvalidation_0-rmse:0.71646\n"
     ]
    },
    {
     "name": "stderr",
     "output_type": "stream",
     "text": [
      "\u001b[32m[I 2021-08-25 20:52:45,390]\u001b[0m Trial 441 finished with value: 0.5133010819941879 and parameters: {'learning_rate': 0.08830924818335406, 'reg_lambda': 1.1761457157876194e-05, 'reg_alpha': 17.88157060839707, 'subsample': 0.9752372086528746, 'colsample_bytree': 0.14574440679531214, 'max_depth': 5}. Best is trial 440 with value: 0.513121106379894.\u001b[0m\n"
     ]
    },
    {
     "name": "stdout",
     "output_type": "stream",
     "text": [
      "[0]\tvalidation_0-rmse:7.12436\n",
      "[804]\tvalidation_0-rmse:0.71661\n"
     ]
    },
    {
     "name": "stderr",
     "output_type": "stream",
     "text": [
      "\u001b[32m[I 2021-08-25 20:52:49,594]\u001b[0m Trial 442 finished with value: 0.5135245594279864 and parameters: {'learning_rate': 0.08466568128559017, 'reg_lambda': 1.6412931733194167e-05, 'reg_alpha': 47.91097348109142, 'subsample': 0.9866348036302045, 'colsample_bytree': 0.14847930998153913, 'max_depth': 5}. Best is trial 440 with value: 0.513121106379894.\u001b[0m\n"
     ]
    },
    {
     "name": "stdout",
     "output_type": "stream",
     "text": [
      "[0]\tvalidation_0-rmse:7.25400\n",
      "[1000]\tvalidation_0-rmse:0.71643\n",
      "[1030]\tvalidation_0-rmse:0.71639\n"
     ]
    },
    {
     "name": "stderr",
     "output_type": "stream",
     "text": [
      "\u001b[32m[I 2021-08-25 20:52:54,847]\u001b[0m Trial 443 finished with value: 0.513210879461793 and parameters: {'learning_rate': 0.06783051171291121, 'reg_lambda': 1.8286650444972332e-05, 'reg_alpha': 42.92348556350956, 'subsample': 0.9893369024876839, 'colsample_bytree': 0.15549270890737407, 'max_depth': 5}. Best is trial 440 with value: 0.513121106379894.\u001b[0m\n"
     ]
    },
    {
     "name": "stdout",
     "output_type": "stream",
     "text": [
      "[0]\tvalidation_0-rmse:7.09465\n",
      "[711]\tvalidation_0-rmse:0.71644\n"
     ]
    },
    {
     "name": "stderr",
     "output_type": "stream",
     "text": [
      "\u001b[32m[I 2021-08-25 20:52:58,776]\u001b[0m Trial 444 finished with value: 0.5132732904594537 and parameters: {'learning_rate': 0.08852392337153225, 'reg_lambda': 1.613248861734638e-05, 'reg_alpha': 22.365201222989587, 'subsample': 0.9985481561374016, 'colsample_bytree': 0.1693996077833269, 'max_depth': 5}. Best is trial 440 with value: 0.513121106379894.\u001b[0m\n"
     ]
    },
    {
     "name": "stdout",
     "output_type": "stream",
     "text": [
      "[0]\tvalidation_0-rmse:7.02636\n",
      "[699]\tvalidation_0-rmse:0.71627\n"
     ]
    },
    {
     "name": "stderr",
     "output_type": "stream",
     "text": [
      "\u001b[32m[I 2021-08-25 20:53:02,739]\u001b[0m Trial 445 finished with value: 0.5130462470767222 and parameters: {'learning_rate': 0.09739156815144875, 'reg_lambda': 1.9383336479859923e-05, 'reg_alpha': 24.134445292436887, 'subsample': 0.9936134241222736, 'colsample_bytree': 0.16484879725660215, 'max_depth': 5}. Best is trial 445 with value: 0.5130462470767222.\u001b[0m\n"
     ]
    },
    {
     "name": "stdout",
     "output_type": "stream",
     "text": [
      "[0]\tvalidation_0-rmse:7.06037\n",
      "[614]\tvalidation_0-rmse:0.71694\n"
     ]
    },
    {
     "name": "stderr",
     "output_type": "stream",
     "text": [
      "\u001b[32m[I 2021-08-25 20:53:06,191]\u001b[0m Trial 446 finished with value: 0.5140043521485466 and parameters: {'learning_rate': 0.09297660006637459, 'reg_lambda': 2.1390922517745893e-05, 'reg_alpha': 27.852527205604776, 'subsample': 0.996627284320101, 'colsample_bytree': 0.20858527077195216, 'max_depth': 5}. Best is trial 445 with value: 0.5130462470767222.\u001b[0m\n"
     ]
    },
    {
     "name": "stdout",
     "output_type": "stream",
     "text": [
      "[0]\tvalidation_0-rmse:7.11383\n",
      "[901]\tvalidation_0-rmse:0.71658\n"
     ]
    },
    {
     "name": "stderr",
     "output_type": "stream",
     "text": [
      "\u001b[32m[I 2021-08-25 20:53:10,855]\u001b[0m Trial 447 finished with value: 0.5134888411086398 and parameters: {'learning_rate': 0.08603331394794801, 'reg_lambda': 3.907451558278977e-05, 'reg_alpha': 65.66984684931222, 'subsample': 0.9857232105842668, 'colsample_bytree': 0.1691732258481856, 'max_depth': 5}. Best is trial 445 with value: 0.5130462470767222.\u001b[0m\n"
     ]
    },
    {
     "name": "stdout",
     "output_type": "stream",
     "text": [
      "[0]\tvalidation_0-rmse:6.91609\n",
      "[672]\tvalidation_0-rmse:0.71683\n"
     ]
    },
    {
     "name": "stderr",
     "output_type": "stream",
     "text": [
      "\u001b[32m[I 2021-08-25 20:53:14,480]\u001b[0m Trial 448 finished with value: 0.513843938960343 and parameters: {'learning_rate': 0.11172155306916233, 'reg_lambda': 3.669902015726263e-05, 'reg_alpha': 69.46139418881268, 'subsample': 0.9969052321170053, 'colsample_bytree': 0.20219907304537768, 'max_depth': 5}. Best is trial 445 with value: 0.5130462470767222.\u001b[0m\n"
     ]
    },
    {
     "name": "stdout",
     "output_type": "stream",
     "text": [
      "[0]\tvalidation_0-rmse:7.10385\n",
      "[631]\tvalidation_0-rmse:0.71693\n"
     ]
    },
    {
     "name": "stderr",
     "output_type": "stream",
     "text": [
      "\u001b[32m[I 2021-08-25 20:53:17,949]\u001b[0m Trial 449 finished with value: 0.5139883937512248 and parameters: {'learning_rate': 0.08732865897721538, 'reg_lambda': 2.000785685702521e-05, 'reg_alpha': 42.050024709740924, 'subsample': 0.986480017404271, 'colsample_bytree': 0.1778607101676996, 'max_depth': 5}. Best is trial 445 with value: 0.5130462470767222.\u001b[0m\n"
     ]
    },
    {
     "name": "stdout",
     "output_type": "stream",
     "text": [
      "[0]\tvalidation_0-rmse:7.03480\n",
      "[550]\tvalidation_0-rmse:0.71677\n"
     ]
    },
    {
     "name": "stderr",
     "output_type": "stream",
     "text": [
      "\u001b[32m[I 2021-08-25 20:53:21,047]\u001b[0m Trial 450 finished with value: 0.5137558388071382 and parameters: {'learning_rate': 0.09629663727833013, 'reg_lambda': 1.373018950339058e-05, 'reg_alpha': 20.569768611925532, 'subsample': 0.9942880423215933, 'colsample_bytree': 0.18049321193975365, 'max_depth': 5}. Best is trial 445 with value: 0.5130462470767222.\u001b[0m\n"
     ]
    },
    {
     "name": "stdout",
     "output_type": "stream",
     "text": [
      "[0]\tvalidation_0-rmse:7.05464\n",
      "[655]\tvalidation_0-rmse:0.71669\n"
     ]
    },
    {
     "name": "stderr",
     "output_type": "stream",
     "text": [
      "\u001b[32m[I 2021-08-25 20:53:24,609]\u001b[0m Trial 451 finished with value: 0.5136388585516151 and parameters: {'learning_rate': 0.09372103177309471, 'reg_lambda': 4.813494453133405e-05, 'reg_alpha': 19.65898999605775, 'subsample': 0.9998155882214192, 'colsample_bytree': 0.23255696751961585, 'max_depth': 5}. Best is trial 445 with value: 0.5130462470767222.\u001b[0m\n"
     ]
    },
    {
     "name": "stdout",
     "output_type": "stream",
     "text": [
      "[0]\tvalidation_0-rmse:7.10135\n",
      "[663]\tvalidation_0-rmse:0.71660\n"
     ]
    },
    {
     "name": "stderr",
     "output_type": "stream",
     "text": [
      "\u001b[32m[I 2021-08-25 20:53:28,212]\u001b[0m Trial 452 finished with value: 0.5134931053060209 and parameters: {'learning_rate': 0.08764884984517307, 'reg_lambda': 4.4463821322965426e-05, 'reg_alpha': 9.829944655907491, 'subsample': 0.9855807840082209, 'colsample_bytree': 0.22024436323570426, 'max_depth': 5}. Best is trial 445 with value: 0.5130462470767222.\u001b[0m\n"
     ]
    },
    {
     "name": "stdout",
     "output_type": "stream",
     "text": [
      "[0]\tvalidation_0-rmse:6.94719\n",
      "[448]\tvalidation_0-rmse:0.71706\n"
     ]
    },
    {
     "name": "stderr",
     "output_type": "stream",
     "text": [
      "\u001b[32m[I 2021-08-25 20:53:30,777]\u001b[0m Trial 453 finished with value: 0.5141787331566867 and parameters: {'learning_rate': 0.10767418904513132, 'reg_lambda': 7.329094931524734e-05, 'reg_alpha': 11.862912990217948, 'subsample': 0.9965558111302991, 'colsample_bytree': 0.2348970388279205, 'max_depth': 5}. Best is trial 445 with value: 0.5130462470767222.\u001b[0m\n"
     ]
    },
    {
     "name": "stdout",
     "output_type": "stream",
     "text": [
      "[0]\tvalidation_0-rmse:7.08595\n",
      "[497]\tvalidation_0-rmse:0.71741\n"
     ]
    },
    {
     "name": "stderr",
     "output_type": "stream",
     "text": [
      "\u001b[32m[I 2021-08-25 20:53:33,622]\u001b[0m Trial 454 finished with value: 0.5146789849579408 and parameters: {'learning_rate': 0.08964900453594808, 'reg_lambda': 3.9131357821096946e-05, 'reg_alpha': 6.417560279898968, 'subsample': 0.996337349195902, 'colsample_bytree': 0.23902090653917285, 'max_depth': 5}. Best is trial 445 with value: 0.5130462470767222.\u001b[0m\n"
     ]
    },
    {
     "name": "stdout",
     "output_type": "stream",
     "text": [
      "[0]\tvalidation_0-rmse:7.11123\n",
      "[801]\tvalidation_0-rmse:0.71656\n"
     ]
    },
    {
     "name": "stderr",
     "output_type": "stream",
     "text": [
      "\u001b[32m[I 2021-08-25 20:53:37,936]\u001b[0m Trial 455 finished with value: 0.5134414160455629 and parameters: {'learning_rate': 0.0863688813660866, 'reg_lambda': 4.76303479295742e-05, 'reg_alpha': 39.054903612322306, 'subsample': 0.9825499744749377, 'colsample_bytree': 0.200942435971157, 'max_depth': 5}. Best is trial 445 with value: 0.5130462470767222.\u001b[0m\n"
     ]
    },
    {
     "name": "stdout",
     "output_type": "stream",
     "text": [
      "[0]\tvalidation_0-rmse:7.10274\n",
      "[658]\tvalidation_0-rmse:0.71691\n"
     ]
    },
    {
     "name": "stderr",
     "output_type": "stream",
     "text": [
      "\u001b[32m[I 2021-08-25 20:53:41,444]\u001b[0m Trial 456 finished with value: 0.51396334293223 and parameters: {'learning_rate': 0.0874708150696744, 'reg_lambda': 9.9701570923998e-05, 'reg_alpha': 40.02509172494461, 'subsample': 0.9831926486676839, 'colsample_bytree': 0.2603532018019778, 'max_depth': 5}. Best is trial 445 with value: 0.5130462470767222.\u001b[0m\n"
     ]
    },
    {
     "name": "stdout",
     "output_type": "stream",
     "text": [
      "[0]\tvalidation_0-rmse:6.98556\n",
      "[673]\tvalidation_0-rmse:0.71750\n"
     ]
    },
    {
     "name": "stderr",
     "output_type": "stream",
     "text": [
      "\u001b[32m[I 2021-08-25 20:53:45,023]\u001b[0m Trial 457 finished with value: 0.5148111977818524 and parameters: {'learning_rate': 0.10269380856714849, 'reg_lambda': 5.2617459792066794e-05, 'reg_alpha': 96.7839924306407, 'subsample': 0.9782919112303211, 'colsample_bytree': 0.22991028552172585, 'max_depth': 5}. Best is trial 445 with value: 0.5130462470767222.\u001b[0m\n"
     ]
    },
    {
     "name": "stdout",
     "output_type": "stream",
     "text": [
      "[0]\tvalidation_0-rmse:7.06482\n",
      "[614]\tvalidation_0-rmse:0.71685\n"
     ]
    },
    {
     "name": "stderr",
     "output_type": "stream",
     "text": [
      "\u001b[32m[I 2021-08-25 20:53:48,512]\u001b[0m Trial 458 finished with value: 0.5138717897619649 and parameters: {'learning_rate': 0.09239908375458306, 'reg_lambda': 2.7879301797889822e-05, 'reg_alpha': 20.37992464065966, 'subsample': 0.9987764561560999, 'colsample_bytree': 0.20663590632692969, 'max_depth': 5}. Best is trial 445 with value: 0.5130462470767222.\u001b[0m\n"
     ]
    },
    {
     "name": "stdout",
     "output_type": "stream",
     "text": [
      "[0]\tvalidation_0-rmse:7.10563\n",
      "[609]\tvalidation_0-rmse:0.71668\n"
     ]
    },
    {
     "name": "stderr",
     "output_type": "stream",
     "text": [
      "\u001b[32m[I 2021-08-25 20:53:51,833]\u001b[0m Trial 459 finished with value: 0.5136189677756771 and parameters: {'learning_rate': 0.08709091928576569, 'reg_lambda': 3.734870127049697e-05, 'reg_alpha': 8.082445393167305, 'subsample': 0.9799616763658405, 'colsample_bytree': 0.185859643864555, 'max_depth': 5}. Best is trial 445 with value: 0.5130462470767222.\u001b[0m\n"
     ]
    },
    {
     "name": "stdout",
     "output_type": "stream",
     "text": [
      "[0]\tvalidation_0-rmse:7.12615\n",
      "[570]\tvalidation_0-rmse:0.71721\n"
     ]
    },
    {
     "name": "stderr",
     "output_type": "stream",
     "text": [
      "\u001b[32m[I 2021-08-25 20:53:55,054]\u001b[0m Trial 460 finished with value: 0.5143880153837666 and parameters: {'learning_rate': 0.0844286347999109, 'reg_lambda': 8.070253066909854e-05, 'reg_alpha': 5.921654859402137, 'subsample': 0.9972131018071333, 'colsample_bytree': 0.19871155330220613, 'max_depth': 5}. Best is trial 445 with value: 0.5130462470767222.\u001b[0m\n"
     ]
    },
    {
     "name": "stdout",
     "output_type": "stream",
     "text": [
      "[0]\tvalidation_0-rmse:7.05441\n",
      "[613]\tvalidation_0-rmse:0.71652\n"
     ]
    },
    {
     "name": "stderr",
     "output_type": "stream",
     "text": [
      "\u001b[32m[I 2021-08-25 20:53:58,420]\u001b[0m Trial 461 finished with value: 0.5134013262894075 and parameters: {'learning_rate': 0.09375026304716812, 'reg_lambda': 4.582428762778338e-05, 'reg_alpha': 21.278942904347083, 'subsample': 0.9978933085103642, 'colsample_bytree': 0.19012444872536327, 'max_depth': 5}. Best is trial 445 with value: 0.5130462470767222.\u001b[0m\n"
     ]
    },
    {
     "name": "stdout",
     "output_type": "stream",
     "text": [
      "[0]\tvalidation_0-rmse:7.02820\n",
      "[531]\tvalidation_0-rmse:0.71715\n"
     ]
    },
    {
     "name": "stderr",
     "output_type": "stream",
     "text": [
      "\u001b[32m[I 2021-08-25 20:54:01,337]\u001b[0m Trial 462 finished with value: 0.5143004846058332 and parameters: {'learning_rate': 0.09715528620882219, 'reg_lambda': 3.040993962325179e-05, 'reg_alpha': 18.95558257680317, 'subsample': 0.9989027911060533, 'colsample_bytree': 0.19516567024816803, 'max_depth': 5}. Best is trial 445 with value: 0.5130462470767222.\u001b[0m\n"
     ]
    },
    {
     "name": "stdout",
     "output_type": "stream",
     "text": [
      "[0]\tvalidation_0-rmse:7.06863\n",
      "[677]\tvalidation_0-rmse:0.71665\n"
     ]
    },
    {
     "name": "stderr",
     "output_type": "stream",
     "text": [
      "\u001b[32m[I 2021-08-25 20:54:05,016]\u001b[0m Trial 463 finished with value: 0.5135877927469007 and parameters: {'learning_rate': 0.09190095957868907, 'reg_lambda': 3.695030426166124e-05, 'reg_alpha': 28.961085228992477, 'subsample': 0.9827891730959337, 'colsample_bytree': 0.2301866906735562, 'max_depth': 5}. Best is trial 445 with value: 0.5130462470767222.\u001b[0m\n"
     ]
    },
    {
     "name": "stdout",
     "output_type": "stream",
     "text": [
      "[0]\tvalidation_0-rmse:7.07774\n",
      "[682]\tvalidation_0-rmse:0.71665\n"
     ]
    },
    {
     "name": "stderr",
     "output_type": "stream",
     "text": [
      "\u001b[32m[I 2021-08-25 20:54:08,777]\u001b[0m Trial 464 finished with value: 0.5135799712745345 and parameters: {'learning_rate': 0.09071813488832133, 'reg_lambda': 3.393851229324074e-05, 'reg_alpha': 34.585129806014834, 'subsample': 0.9843377431629293, 'colsample_bytree': 0.219204550083041, 'max_depth': 5}. Best is trial 445 with value: 0.5130462470767222.\u001b[0m\n"
     ]
    },
    {
     "name": "stdout",
     "output_type": "stream",
     "text": [
      "[0]\tvalidation_0-rmse:6.97353\n",
      "[567]\tvalidation_0-rmse:0.71723\n"
     ]
    },
    {
     "name": "stderr",
     "output_type": "stream",
     "text": [
      "\u001b[32m[I 2021-08-25 20:54:11,854]\u001b[0m Trial 465 finished with value: 0.514406410187423 and parameters: {'learning_rate': 0.10425815813364975, 'reg_lambda': 5.882582814323232e-05, 'reg_alpha': 61.088345278274645, 'subsample': 0.9962378540247453, 'colsample_bytree': 0.22134362407868424, 'max_depth': 5}. Best is trial 445 with value: 0.5130462470767222.\u001b[0m\n"
     ]
    },
    {
     "name": "stdout",
     "output_type": "stream",
     "text": [
      "[0]\tvalidation_0-rmse:7.05552\n",
      "[581]\tvalidation_0-rmse:0.71697\n"
     ]
    },
    {
     "name": "stderr",
     "output_type": "stream",
     "text": [
      "\u001b[32m[I 2021-08-25 20:54:15,039]\u001b[0m Trial 466 finished with value: 0.5140352234296413 and parameters: {'learning_rate': 0.09360727519933551, 'reg_lambda': 5.0130982431205665e-05, 'reg_alpha': 34.10460552158528, 'subsample': 0.9997161170523294, 'colsample_bytree': 0.24810554133629503, 'max_depth': 5}. Best is trial 445 with value: 0.5130462470767222.\u001b[0m\n"
     ]
    },
    {
     "name": "stdout",
     "output_type": "stream",
     "text": [
      "[0]\tvalidation_0-rmse:7.12070\n",
      "[538]\tvalidation_0-rmse:0.71710\n"
     ]
    },
    {
     "name": "stderr",
     "output_type": "stream",
     "text": [
      "\u001b[32m[I 2021-08-25 20:54:18,162]\u001b[0m Trial 467 finished with value: 0.5142243579671957 and parameters: {'learning_rate': 0.08513445147413103, 'reg_lambda': 0.00014719244118166386, 'reg_alpha': 9.542452902325607, 'subsample': 0.9798242198477791, 'colsample_bytree': 0.22042729125819882, 'max_depth': 5}. Best is trial 445 with value: 0.5130462470767222.\u001b[0m\n"
     ]
    },
    {
     "name": "stdout",
     "output_type": "stream",
     "text": [
      "[0]\tvalidation_0-rmse:7.09962\n",
      "[572]\tvalidation_0-rmse:0.71680\n"
     ]
    },
    {
     "name": "stderr",
     "output_type": "stream",
     "text": [
      "\u001b[32m[I 2021-08-25 20:54:21,454]\u001b[0m Trial 468 finished with value: 0.5137970133681685 and parameters: {'learning_rate': 0.08787296008544096, 'reg_lambda': 0.0002555881855531554, 'reg_alpha': 17.877199761105388, 'subsample': 0.9801384981231788, 'colsample_bytree': 0.23396374611488907, 'max_depth': 5}. Best is trial 445 with value: 0.5130462470767222.\u001b[0m\n"
     ]
    },
    {
     "name": "stdout",
     "output_type": "stream",
     "text": [
      "[0]\tvalidation_0-rmse:7.07551\n",
      "[579]\tvalidation_0-rmse:0.71695\n"
     ]
    },
    {
     "name": "stderr",
     "output_type": "stream",
     "text": [
      "\u001b[32m[I 2021-08-25 20:54:24,621]\u001b[0m Trial 469 finished with value: 0.5140112930615337 and parameters: {'learning_rate': 0.09101048261979287, 'reg_lambda': 2.4373706383470853e-05, 'reg_alpha': 25.534344229726685, 'subsample': 0.9998960480915883, 'colsample_bytree': 0.2227735128074388, 'max_depth': 5}. Best is trial 445 with value: 0.5130462470767222.\u001b[0m\n"
     ]
    },
    {
     "name": "stdout",
     "output_type": "stream",
     "text": [
      "[0]\tvalidation_0-rmse:7.02438\n",
      "[631]\tvalidation_0-rmse:0.71690\n"
     ]
    },
    {
     "name": "stderr",
     "output_type": "stream",
     "text": [
      "\u001b[32m[I 2021-08-25 20:54:28,035]\u001b[0m Trial 470 finished with value: 0.5139435474843245 and parameters: {'learning_rate': 0.09764921528180041, 'reg_lambda': 3.897661444719933e-05, 'reg_alpha': 52.95732840313634, 'subsample': 0.978751807320245, 'colsample_bytree': 0.2019897463886825, 'max_depth': 5}. Best is trial 445 with value: 0.5130462470767222.\u001b[0m\n"
     ]
    },
    {
     "name": "stdout",
     "output_type": "stream",
     "text": [
      "[0]\tvalidation_0-rmse:7.12491\n",
      "[616]\tvalidation_0-rmse:0.71703\n"
     ]
    },
    {
     "name": "stderr",
     "output_type": "stream",
     "text": [
      "\u001b[32m[I 2021-08-25 20:54:31,393]\u001b[0m Trial 471 finished with value: 0.5141349243587663 and parameters: {'learning_rate': 0.08458798013305222, 'reg_lambda': 3.557498228579092e-05, 'reg_alpha': 10.51081558949218, 'subsample': 0.9777139544720076, 'colsample_bytree': 0.21315179107107612, 'max_depth': 5}. Best is trial 445 with value: 0.5130462470767222.\u001b[0m\n"
     ]
    },
    {
     "name": "stdout",
     "output_type": "stream",
     "text": [
      "[0]\tvalidation_0-rmse:7.07253\n",
      "[538]\tvalidation_0-rmse:0.71715\n"
     ]
    },
    {
     "name": "stderr",
     "output_type": "stream",
     "text": [
      "\u001b[32m[I 2021-08-25 20:54:34,384]\u001b[0m Trial 472 finished with value: 0.5142860577415165 and parameters: {'learning_rate': 0.09139312944327847, 'reg_lambda': 8.728434807533764e-05, 'reg_alpha': 13.880649500794544, 'subsample': 0.9952166704787125, 'colsample_bytree': 0.25808774981538357, 'max_depth': 5}. Best is trial 445 with value: 0.5130462470767222.\u001b[0m\n"
     ]
    },
    {
     "name": "stdout",
     "output_type": "stream",
     "text": [
      "[0]\tvalidation_0-rmse:7.02326\n",
      "[734]\tvalidation_0-rmse:0.71724\n"
     ]
    },
    {
     "name": "stderr",
     "output_type": "stream",
     "text": [
      "\u001b[32m[I 2021-08-25 20:54:38,242]\u001b[0m Trial 473 finished with value: 0.514426882425018 and parameters: {'learning_rate': 0.09780132268485647, 'reg_lambda': 1.969707385194495e-05, 'reg_alpha': 91.17311929645402, 'subsample': 0.9994554449734422, 'colsample_bytree': 0.18816291323527398, 'max_depth': 5}. Best is trial 445 with value: 0.5130462470767222.\u001b[0m\n"
     ]
    },
    {
     "name": "stdout",
     "output_type": "stream",
     "text": [
      "[0]\tvalidation_0-rmse:7.13766\n",
      "[579]\tvalidation_0-rmse:0.71796\n"
     ]
    },
    {
     "name": "stderr",
     "output_type": "stream",
     "text": [
      "\u001b[32m[I 2021-08-25 20:54:41,053]\u001b[0m Trial 474 finished with value: 0.5154627896511941 and parameters: {'learning_rate': 0.08292869669781112, 'reg_lambda': 6.855947586731867e-05, 'reg_alpha': 3.2085173288183317, 'subsample': 0.9709945680407026, 'colsample_bytree': 0.24431468525267694, 'max_depth': 4}. Best is trial 445 with value: 0.5130462470767222.\u001b[0m\n"
     ]
    },
    {
     "name": "stdout",
     "output_type": "stream",
     "text": [
      "[0]\tvalidation_0-rmse:7.19756\n",
      "[656]\tvalidation_0-rmse:0.71700\n"
     ]
    },
    {
     "name": "stderr",
     "output_type": "stream",
     "text": [
      "\u001b[32m[I 2021-08-25 20:54:44,565]\u001b[0m Trial 475 finished with value: 0.5140851404710947 and parameters: {'learning_rate': 0.07515676492064761, 'reg_lambda': 1.5899265107128095e-05, 'reg_alpha': 32.26915313345499, 'subsample': 0.9794870455295211, 'colsample_bytree': 0.2160388050449473, 'max_depth': 5}. Best is trial 445 with value: 0.5130462470767222.\u001b[0m\n"
     ]
    },
    {
     "name": "stdout",
     "output_type": "stream",
     "text": [
      "[0]\tvalidation_0-rmse:6.94299\n",
      "[614]\tvalidation_0-rmse:0.71675\n"
     ]
    },
    {
     "name": "stderr",
     "output_type": "stream",
     "text": [
      "\u001b[32m[I 2021-08-25 20:54:47,851]\u001b[0m Trial 476 finished with value: 0.5137348541213366 and parameters: {'learning_rate': 0.10822650149275735, 'reg_lambda': 3.397912883208142e-05, 'reg_alpha': 51.40194647950965, 'subsample': 0.9999209726795851, 'colsample_bytree': 0.18938215912823714, 'max_depth': 5}. Best is trial 445 with value: 0.5130462470767222.\u001b[0m\n"
     ]
    },
    {
     "name": "stdout",
     "output_type": "stream",
     "text": [
      "[0]\tvalidation_0-rmse:6.87061\n",
      "[437]\tvalidation_0-rmse:0.71699\n"
     ]
    },
    {
     "name": "stderr",
     "output_type": "stream",
     "text": [
      "\u001b[32m[I 2021-08-25 20:54:50,481]\u001b[0m Trial 477 finished with value: 0.5140636679075545 and parameters: {'learning_rate': 0.11762273937486376, 'reg_lambda': 4.9436611411819135e-05, 'reg_alpha': 7.944203361256728, 'subsample': 0.9994921021422658, 'colsample_bytree': 0.20778388814938714, 'max_depth': 5}. Best is trial 445 with value: 0.5130462470767222.\u001b[0m\n"
     ]
    },
    {
     "name": "stdout",
     "output_type": "stream",
     "text": [
      "[0]\tvalidation_0-rmse:7.09944\n",
      "[700]\tvalidation_0-rmse:0.71669\n"
     ]
    },
    {
     "name": "stderr",
     "output_type": "stream",
     "text": [
      "\u001b[32m[I 2021-08-25 20:54:54,340]\u001b[0m Trial 478 finished with value: 0.513641767960214 and parameters: {'learning_rate': 0.08789641032073668, 'reg_lambda': 2.3387303543591404e-05, 'reg_alpha': 28.53716105367588, 'subsample': 0.9717659328048788, 'colsample_bytree': 0.19538628658803095, 'max_depth': 5}. Best is trial 445 with value: 0.5130462470767222.\u001b[0m\n"
     ]
    },
    {
     "name": "stdout",
     "output_type": "stream",
     "text": [
      "[0]\tvalidation_0-rmse:7.10101\n",
      "[511]\tvalidation_0-rmse:0.71779\n"
     ]
    },
    {
     "name": "stderr",
     "output_type": "stream",
     "text": [
      "\u001b[32m[I 2021-08-25 20:54:56,779]\u001b[0m Trial 479 finished with value: 0.5151919679053969 and parameters: {'learning_rate': 0.08773076672657819, 'reg_lambda': 2.2289552863156392e-05, 'reg_alpha': 15.794868464683946, 'subsample': 0.32918696398847624, 'colsample_bytree': 0.18740972665367395, 'max_depth': 5}. Best is trial 445 with value: 0.5130462470767222.\u001b[0m\n"
     ]
    },
    {
     "name": "stdout",
     "output_type": "stream",
     "text": [
      "[0]\tvalidation_0-rmse:6.99248\n",
      "[574]\tvalidation_0-rmse:0.71677\n"
     ]
    },
    {
     "name": "stderr",
     "output_type": "stream",
     "text": [
      "\u001b[32m[I 2021-08-25 20:54:59,959]\u001b[0m Trial 480 finished with value: 0.513749780395805 and parameters: {'learning_rate': 0.10178988242418313, 'reg_lambda': 9.990312771728722e-06, 'reg_alpha': 31.372051412110995, 'subsample': 0.9732449983814683, 'colsample_bytree': 0.2248920993899356, 'max_depth': 5}. Best is trial 445 with value: 0.5130462470767222.\u001b[0m\n"
     ]
    },
    {
     "name": "stdout",
     "output_type": "stream",
     "text": [
      "[0]\tvalidation_0-rmse:7.06014\n",
      "[312]\tvalidation_0-rmse:0.71837\n"
     ]
    },
    {
     "name": "stderr",
     "output_type": "stream",
     "text": [
      "\u001b[32m[I 2021-08-25 20:55:01,862]\u001b[0m Trial 481 finished with value: 0.5160541545231819 and parameters: {'learning_rate': 0.09299549982511242, 'reg_lambda': 2.2169611226541735e-05, 'reg_alpha': 3.8188350528547987, 'subsample': 0.9720099796016023, 'colsample_bytree': 0.18196236366816834, 'max_depth': 5}. Best is trial 445 with value: 0.5130462470767222.\u001b[0m\n"
     ]
    },
    {
     "name": "stdout",
     "output_type": "stream",
     "text": [
      "[0]\tvalidation_0-rmse:7.12410\n",
      "[1000]\tvalidation_0-rmse:0.71673\n",
      "[1052]\tvalidation_0-rmse:0.71667\n"
     ]
    },
    {
     "name": "stderr",
     "output_type": "stream",
     "text": [
      "\u001b[32m[I 2021-08-25 20:55:07,255]\u001b[0m Trial 482 finished with value: 0.5136018606028733 and parameters: {'learning_rate': 0.08470132024524117, 'reg_lambda': 1.3518462550557381e-05, 'reg_alpha': 74.15904590132551, 'subsample': 0.9984000491610496, 'colsample_bytree': 0.209114455122499, 'max_depth': 5}. Best is trial 445 with value: 0.5130462470767222.\u001b[0m\n"
     ]
    },
    {
     "name": "stdout",
     "output_type": "stream",
     "text": [
      "[0]\tvalidation_0-rmse:7.16647\n",
      "[919]\tvalidation_0-rmse:0.71704\n"
     ]
    },
    {
     "name": "stderr",
     "output_type": "stream",
     "text": [
      "\u001b[32m[I 2021-08-25 20:55:12,116]\u001b[0m Trial 483 finished with value: 0.5141481385433212 and parameters: {'learning_rate': 0.07919938318984024, 'reg_lambda': 1.3605765548232504e-05, 'reg_alpha': 78.2278997170341, 'subsample': 0.9998543064125384, 'colsample_bytree': 0.21046684029196627, 'max_depth': 5}. Best is trial 445 with value: 0.5130462470767222.\u001b[0m\n"
     ]
    },
    {
     "name": "stdout",
     "output_type": "stream",
     "text": [
      "[0]\tvalidation_0-rmse:7.14027\n",
      "[785]\tvalidation_0-rmse:0.71690\n"
     ]
    },
    {
     "name": "stderr",
     "output_type": "stream",
     "text": [
      "\u001b[32m[I 2021-08-25 20:55:16,422]\u001b[0m Trial 484 finished with value: 0.5139353808690018 and parameters: {'learning_rate': 0.08260030296521365, 'reg_lambda': 4.105544135388823e-05, 'reg_alpha': 48.771214019842596, 'subsample': 0.989858823137791, 'colsample_bytree': 0.24032421729605363, 'max_depth': 5}. Best is trial 445 with value: 0.5130462470767222.\u001b[0m\n"
     ]
    },
    {
     "name": "stdout",
     "output_type": "stream",
     "text": [
      "[0]\tvalidation_0-rmse:7.01766\n",
      "[450]\tvalidation_0-rmse:0.71712\n"
     ]
    },
    {
     "name": "stderr",
     "output_type": "stream",
     "text": [
      "\u001b[32m[I 2021-08-25 20:55:18,957]\u001b[0m Trial 485 finished with value: 0.5142556246197896 and parameters: {'learning_rate': 0.09851776956950606, 'reg_lambda': 6.215154235943293e-05, 'reg_alpha': 14.209637107052155, 'subsample': 0.984816374064533, 'colsample_bytree': 0.17794834680583013, 'max_depth': 5}. Best is trial 445 with value: 0.5130462470767222.\u001b[0m\n"
     ]
    },
    {
     "name": "stdout",
     "output_type": "stream",
     "text": [
      "[0]\tvalidation_0-rmse:6.87000\n",
      "[427]\tvalidation_0-rmse:0.71715\n"
     ]
    },
    {
     "name": "stderr",
     "output_type": "stream",
     "text": [
      "\u001b[32m[I 2021-08-25 20:55:21,519]\u001b[0m Trial 486 finished with value: 0.5142849052358185 and parameters: {'learning_rate': 0.11769487920683887, 'reg_lambda': 1.4103191596823336e-05, 'reg_alpha': 25.455663391961412, 'subsample': 0.9691891975443451, 'colsample_bytree': 0.28109382170205943, 'max_depth': 5}. Best is trial 445 with value: 0.5130462470767222.\u001b[0m\n"
     ]
    },
    {
     "name": "stdout",
     "output_type": "stream",
     "text": [
      "[0]\tvalidation_0-rmse:7.19773\n",
      "[1000]\tvalidation_0-rmse:0.71710\n",
      "[1018]\tvalidation_0-rmse:0.71708\n"
     ]
    },
    {
     "name": "stderr",
     "output_type": "stream",
     "text": [
      "\u001b[32m[I 2021-08-25 20:55:27,056]\u001b[0m Trial 487 finished with value: 0.5141974477734698 and parameters: {'learning_rate': 0.0751399899486383, 'reg_lambda': 0.0001119061103743159, 'reg_alpha': 84.05707530334709, 'subsample': 0.9999662900735867, 'colsample_bytree': 0.19600305108500216, 'max_depth': 5}. Best is trial 445 with value: 0.5130462470767222.\u001b[0m\n"
     ]
    },
    {
     "name": "stdout",
     "output_type": "stream",
     "text": [
      "[0]\tvalidation_0-rmse:7.05287\n",
      "[718]\tvalidation_0-rmse:0.71666\n"
     ]
    },
    {
     "name": "stderr",
     "output_type": "stream",
     "text": [
      "\u001b[32m[I 2021-08-25 20:55:30,889]\u001b[0m Trial 488 finished with value: 0.5136035744378005 and parameters: {'learning_rate': 0.09395185075774336, 'reg_lambda': 9.739677572977202e-06, 'reg_alpha': 41.18900505066585, 'subsample': 0.998866650660244, 'colsample_bytree': 0.22529420781375664, 'max_depth': 5}. Best is trial 445 with value: 0.5130462470767222.\u001b[0m\n"
     ]
    },
    {
     "name": "stdout",
     "output_type": "stream",
     "text": [
      "[0]\tvalidation_0-rmse:7.13282\n",
      "[685]\tvalidation_0-rmse:0.71688\n"
     ]
    },
    {
     "name": "stderr",
     "output_type": "stream",
     "text": [
      "\u001b[32m[I 2021-08-25 20:55:34,570]\u001b[0m Trial 489 finished with value: 0.5139074697187556 and parameters: {'learning_rate': 0.08356507880607525, 'reg_lambda': 9.177835547160795e-06, 'reg_alpha': 43.37912880309042, 'subsample': 0.9825588999640815, 'colsample_bytree': 0.21102132254371556, 'max_depth': 5}. Best is trial 445 with value: 0.5130462470767222.\u001b[0m\n"
     ]
    },
    {
     "name": "stdout",
     "output_type": "stream",
     "text": [
      "[0]\tvalidation_0-rmse:7.11360\n",
      "[643]\tvalidation_0-rmse:0.71739\n"
     ]
    },
    {
     "name": "stderr",
     "output_type": "stream",
     "text": [
      "\u001b[32m[I 2021-08-25 20:55:37,961]\u001b[0m Trial 490 finished with value: 0.5146456616819937 and parameters: {'learning_rate': 0.08606558845663884, 'reg_lambda': 1.428834222784978e-05, 'reg_alpha': 63.53122550404516, 'subsample': 0.999446762091095, 'colsample_bytree': 0.17623577885374497, 'max_depth': 5}. Best is trial 445 with value: 0.5130462470767222.\u001b[0m\n"
     ]
    },
    {
     "name": "stdout",
     "output_type": "stream",
     "text": [
      "[0]\tvalidation_0-rmse:7.21692\n",
      "[988]\tvalidation_0-rmse:0.71644\n"
     ]
    },
    {
     "name": "stderr",
     "output_type": "stream",
     "text": [
      "\u001b[32m[I 2021-08-25 20:55:43,077]\u001b[0m Trial 491 finished with value: 0.5132866396206712 and parameters: {'learning_rate': 0.07264174807116493, 'reg_lambda': 8.395028374695839e-06, 'reg_alpha': 40.797775470327544, 'subsample': 0.9677623358630827, 'colsample_bytree': 0.24936981725465815, 'max_depth': 5}. Best is trial 445 with value: 0.5130462470767222.\u001b[0m\n"
     ]
    },
    {
     "name": "stdout",
     "output_type": "stream",
     "text": [
      "[0]\tvalidation_0-rmse:7.20840\n",
      "[989]\tvalidation_0-rmse:0.71757\n"
     ]
    },
    {
     "name": "stderr",
     "output_type": "stream",
     "text": [
      "\u001b[32m[I 2021-08-25 20:55:48,434]\u001b[0m Trial 492 finished with value: 0.5149116564394712 and parameters: {'learning_rate': 0.07375091741683414, 'reg_lambda': 7.67937992278938e-06, 'reg_alpha': 97.95824071330938, 'subsample': 0.9679494151853979, 'colsample_bytree': 0.25132038288554853, 'max_depth': 5}. Best is trial 445 with value: 0.5130462470767222.\u001b[0m\n"
     ]
    },
    {
     "name": "stdout",
     "output_type": "stream",
     "text": [
      "[0]\tvalidation_0-rmse:7.16502\n",
      "[699]\tvalidation_0-rmse:0.71700\n"
     ]
    },
    {
     "name": "stderr",
     "output_type": "stream",
     "text": [
      "\u001b[32m[I 2021-08-25 20:55:52,138]\u001b[0m Trial 493 finished with value: 0.5140836478644943 and parameters: {'learning_rate': 0.07938240244208923, 'reg_lambda': 1.1248112516825084e-05, 'reg_alpha': 34.83117719964527, 'subsample': 0.9850141771488674, 'colsample_bytree': 0.223976556215297, 'max_depth': 5}. Best is trial 445 with value: 0.5130462470767222.\u001b[0m\n"
     ]
    },
    {
     "name": "stdout",
     "output_type": "stream",
     "text": [
      "[0]\tvalidation_0-rmse:7.22757\n",
      "[438]\tvalidation_0-rmse:0.71973\n"
     ]
    },
    {
     "name": "stderr",
     "output_type": "stream",
     "text": [
      "\u001b[32m[I 2021-08-25 20:55:54,353]\u001b[0m Trial 494 finished with value: 0.5179693939496046 and parameters: {'learning_rate': 0.07128582073891755, 'reg_lambda': 2.0148826681083733e-05, 'reg_alpha': 10.548717511038342, 'subsample': 0.19552360617573827, 'colsample_bytree': 0.22172799503555177, 'max_depth': 5}. Best is trial 445 with value: 0.5130462470767222.\u001b[0m\n"
     ]
    },
    {
     "name": "stdout",
     "output_type": "stream",
     "text": [
      "[0]\tvalidation_0-rmse:7.07552\n",
      "[576]\tvalidation_0-rmse:0.71729\n"
     ]
    },
    {
     "name": "stderr",
     "output_type": "stream",
     "text": [
      "\u001b[32m[I 2021-08-25 20:55:57,639]\u001b[0m Trial 495 finished with value: 0.5145017874747739 and parameters: {'learning_rate': 0.09100488607946201, 'reg_lambda': 2.721460915262532e-05, 'reg_alpha': 50.800744476228466, 'subsample': 0.9706790769593601, 'colsample_bytree': 0.20488783770924723, 'max_depth': 5}. Best is trial 445 with value: 0.5130462470767222.\u001b[0m\n"
     ]
    },
    {
     "name": "stdout",
     "output_type": "stream",
     "text": [
      "[0]\tvalidation_0-rmse:6.99070\n",
      "[510]\tvalidation_0-rmse:0.71705\n"
     ]
    },
    {
     "name": "stderr",
     "output_type": "stream",
     "text": [
      "\u001b[32m[I 2021-08-25 20:56:00,511]\u001b[0m Trial 496 finished with value: 0.5141331776119352 and parameters: {'learning_rate': 0.10201938077646643, 'reg_lambda': 1.0606321730979716e-05, 'reg_alpha': 21.607692214142556, 'subsample': 0.9850739105662701, 'colsample_bytree': 0.2624223447110233, 'max_depth': 5}. Best is trial 445 with value: 0.5130462470767222.\u001b[0m\n"
     ]
    },
    {
     "name": "stdout",
     "output_type": "stream",
     "text": [
      "[0]\tvalidation_0-rmse:7.03780\n",
      "[580]\tvalidation_0-rmse:0.71703\n"
     ]
    },
    {
     "name": "stderr",
     "output_type": "stream",
     "text": [
      "\u001b[32m[I 2021-08-25 20:56:03,631]\u001b[0m Trial 497 finished with value: 0.5141281032935037 and parameters: {'learning_rate': 0.09590482562913358, 'reg_lambda': 6.297864958598139e-06, 'reg_alpha': 41.36082665095755, 'subsample': 0.9614981363897572, 'colsample_bytree': 0.2420613694375489, 'max_depth': 5}. Best is trial 445 with value: 0.5130462470767222.\u001b[0m\n"
     ]
    },
    {
     "name": "stdout",
     "output_type": "stream",
     "text": [
      "[0]\tvalidation_0-rmse:7.14750\n",
      "[769]\tvalidation_0-rmse:0.71642\n"
     ]
    },
    {
     "name": "stderr",
     "output_type": "stream",
     "text": [
      "\u001b[32m[I 2021-08-25 20:56:07,757]\u001b[0m Trial 498 finished with value: 0.5132512075675807 and parameters: {'learning_rate': 0.08165617388720212, 'reg_lambda': 3.1413443878923315e-05, 'reg_alpha': 27.794200873922406, 'subsample': 0.9657630230561375, 'colsample_bytree': 0.1760438260766778, 'max_depth': 5}. Best is trial 445 with value: 0.5130462470767222.\u001b[0m\n"
     ]
    },
    {
     "name": "stdout",
     "output_type": "stream",
     "text": [
      "[0]\tvalidation_0-rmse:7.17904\n",
      "[756]\tvalidation_0-rmse:0.71680\n"
     ]
    },
    {
     "name": "stderr",
     "output_type": "stream",
     "text": [
      "\u001b[32m[I 2021-08-25 20:56:11,739]\u001b[0m Trial 499 finished with value: 0.513800268144175 and parameters: {'learning_rate': 0.07756037325689734, 'reg_lambda': 1.9111366383486403e-05, 'reg_alpha': 27.890169870497107, 'subsample': 0.9635192901519983, 'colsample_bytree': 0.19194437919120627, 'max_depth': 5}. Best is trial 445 with value: 0.5130462470767222.\u001b[0m\n"
     ]
    }
   ],
   "source": [
    "study = optuna.create_study(direction=\"minimize\")\n",
    "study.optimize(tune, n_trials=500)"
   ]
  },
  {
   "cell_type": "code",
   "execution_count": 14,
   "id": "9caf0f0b",
   "metadata": {
    "execution": {
     "iopub.execute_input": "2021-08-25T20:56:12.667004Z",
     "iopub.status.busy": "2021-08-25T20:56:12.666427Z",
     "iopub.status.idle": "2021-08-25T20:56:12.670343Z",
     "shell.execute_reply": "2021-08-25T20:56:12.671013Z",
     "shell.execute_reply.started": "2021-08-25T20:10:01.009784Z"
    },
    "papermill": {
     "duration": 0.468249,
     "end_time": "2021-08-25T20:56:12.671232",
     "exception": false,
     "start_time": "2021-08-25T20:56:12.202983",
     "status": "completed"
    },
    "tags": []
   },
   "outputs": [
    {
     "name": "stdout",
     "output_type": "stream",
     "text": [
      "{'learning_rate': 0.09739156815144875, 'reg_lambda': 1.9383336479859923e-05, 'reg_alpha': 24.134445292436887, 'subsample': 0.9936134241222736, 'colsample_bytree': 0.16484879725660215, 'max_depth': 5}\n"
     ]
    }
   ],
   "source": [
    "best_para = study.best_params\n",
    "print(best_para)"
   ]
  },
  {
   "cell_type": "markdown",
   "id": "23bf7ec3",
   "metadata": {
    "papermill": {
     "duration": 0.455845,
     "end_time": "2021-08-25T20:56:13.582802",
     "exception": false,
     "start_time": "2021-08-25T20:56:13.126957",
     "status": "completed"
    },
    "tags": []
   },
   "source": [
    "# Train"
   ]
  },
  {
   "cell_type": "code",
   "execution_count": 15,
   "id": "d8938e0d",
   "metadata": {
    "execution": {
     "iopub.execute_input": "2021-08-25T20:56:14.538993Z",
     "iopub.status.busy": "2021-08-25T20:56:14.538111Z",
     "iopub.status.idle": "2021-08-25T20:56:14.540162Z",
     "shell.execute_reply": "2021-08-25T20:56:14.540559Z"
    },
    "papermill": {
     "duration": 0.463648,
     "end_time": "2021-08-25T20:56:14.540704",
     "exception": false,
     "start_time": "2021-08-25T20:56:14.077056",
     "status": "completed"
    },
    "tags": []
   },
   "outputs": [],
   "source": [
    "# # Define the model\n",
    "# model = XGBRegressor(random_state = 10, n_estimators = 5000, n_jobs =4)#,**best_para)\n",
    "\n",
    "# # Fit the model\n",
    "# model.fit(X_train, y_train, early_stopping_rounds = 10, eval_set=[(X_valid, y_valid)], verbose = 100)\n"
   ]
  },
  {
   "cell_type": "markdown",
   "id": "a420749d",
   "metadata": {
    "papermill": {
     "duration": 0.461532,
     "end_time": "2021-08-25T20:56:15.455645",
     "exception": false,
     "start_time": "2021-08-25T20:56:14.994113",
     "status": "completed"
    },
    "tags": []
   },
   "source": [
    "# validation\n"
   ]
  },
  {
   "cell_type": "code",
   "execution_count": 16,
   "id": "4702c3ff",
   "metadata": {
    "execution": {
     "iopub.execute_input": "2021-08-25T20:56:16.441559Z",
     "iopub.status.busy": "2021-08-25T20:56:16.440712Z",
     "iopub.status.idle": "2021-08-25T20:56:16.445786Z",
     "shell.execute_reply": "2021-08-25T20:56:16.442553Z"
    },
    "papermill": {
     "duration": 0.536826,
     "end_time": "2021-08-25T20:56:16.446163",
     "exception": false,
     "start_time": "2021-08-25T20:56:15.909337",
     "status": "completed"
    },
    "tags": []
   },
   "outputs": [],
   "source": [
    "# # RMSE-based(no validatio n)\n",
    "# y_pred = model.predict(X_valid)\n",
    "# rmse = mean_squared_error(y_pred, y_valid)\n",
    "# print(rmse)"
   ]
  },
  {
   "cell_type": "markdown",
   "id": "51727dc1",
   "metadata": {
    "papermill": {
     "duration": 0.54307,
     "end_time": "2021-08-25T20:56:18.019723",
     "exception": false,
     "start_time": "2021-08-25T20:56:17.476653",
     "status": "completed"
    },
    "tags": []
   },
   "source": [
    "# Another train: Kfolding"
   ]
  },
  {
   "cell_type": "code",
   "execution_count": null,
   "id": "fd539100",
   "metadata": {
    "papermill": {
     "duration": 0.454419,
     "end_time": "2021-08-25T20:56:18.938395",
     "exception": false,
     "start_time": "2021-08-25T20:56:18.483976",
     "status": "completed"
    },
    "tags": []
   },
   "outputs": [],
   "source": [
    "\n"
   ]
  },
  {
   "cell_type": "markdown",
   "id": "17f9f2fe",
   "metadata": {
    "papermill": {
     "duration": 0.490013,
     "end_time": "2021-08-25T20:56:19.901002",
     "exception": false,
     "start_time": "2021-08-25T20:56:19.410989",
     "status": "completed"
    },
    "tags": []
   },
   "source": [
    "# predictions "
   ]
  },
  {
   "cell_type": "code",
   "execution_count": 17,
   "id": "46fc6890",
   "metadata": {
    "execution": {
     "iopub.execute_input": "2021-08-25T20:56:20.815223Z",
     "iopub.status.busy": "2021-08-25T20:56:20.814355Z",
     "iopub.status.idle": "2021-08-25T20:56:20.816876Z",
     "shell.execute_reply": "2021-08-25T20:56:20.816473Z"
    },
    "papermill": {
     "duration": 0.460516,
     "end_time": "2021-08-25T20:56:20.817018",
     "exception": false,
     "start_time": "2021-08-25T20:56:20.356502",
     "status": "completed"
    },
    "tags": []
   },
   "outputs": [],
   "source": [
    "# model.fit(X, y, early_stopping_rounds = 10, eval_set=[(X_valid, y_valid)], verbose = False)\n",
    "# predictions = model.predict(X_test)"
   ]
  },
  {
   "cell_type": "markdown",
   "id": "2eaa0f16",
   "metadata": {
    "papermill": {
     "duration": 0.452699,
     "end_time": "2021-08-25T20:56:21.728209",
     "exception": false,
     "start_time": "2021-08-25T20:56:21.275510",
     "status": "completed"
    },
    "tags": []
   },
   "source": [
    "# Submit"
   ]
  },
  {
   "cell_type": "code",
   "execution_count": 18,
   "id": "2d49b7d1",
   "metadata": {
    "execution": {
     "iopub.execute_input": "2021-08-25T20:56:22.641205Z",
     "iopub.status.busy": "2021-08-25T20:56:22.640272Z",
     "iopub.status.idle": "2021-08-25T20:56:22.642495Z",
     "shell.execute_reply": "2021-08-25T20:56:22.643001Z"
    },
    "papermill": {
     "duration": 0.461088,
     "end_time": "2021-08-25T20:56:22.643160",
     "exception": false,
     "start_time": "2021-08-25T20:56:22.182072",
     "status": "completed"
    },
    "tags": []
   },
   "outputs": [],
   "source": [
    "\n",
    "# # Save the predictions to a CSV file\n",
    "# output = pd.DataFrame({'Id': X_test.index,\n",
    "#                        'target': predictions})\n",
    "# output.to_csv('submission.csv', index=False)"
   ]
  }
 ],
 "metadata": {
  "kernelspec": {
   "display_name": "Python 3",
   "language": "python",
   "name": "python3"
  },
  "language_info": {
   "codemirror_mode": {
    "name": "ipython",
    "version": 3
   },
   "file_extension": ".py",
   "mimetype": "text/x-python",
   "name": "python",
   "nbconvert_exporter": "python",
   "pygments_lexer": "ipython3",
   "version": "3.7.10"
  },
  "papermill": {
   "default_parameters": {},
   "duration": 2723.587976,
   "end_time": "2021-08-25T20:56:24.489005",
   "environment_variables": {},
   "exception": null,
   "input_path": "__notebook__.ipynb",
   "output_path": "__notebook__.ipynb",
   "parameters": {},
   "start_time": "2021-08-25T20:11:00.901029",
   "version": "2.3.3"
  }
 },
 "nbformat": 4,
 "nbformat_minor": 5
}

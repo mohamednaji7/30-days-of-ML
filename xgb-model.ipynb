{
 "cells": [
  {
   "cell_type": "markdown",
   "id": "5e24c112",
   "metadata": {
    "papermill": {
     "duration": 0.020112,
     "end_time": "2021-08-24T05:09:34.100497",
     "exception": false,
     "start_time": "2021-08-24T05:09:34.080385",
     "status": "completed"
    },
    "tags": []
   },
   "source": [
    "# XGB(one of the GLM family with Gradient Imp.): "
   ]
  },
  {
   "cell_type": "markdown",
   "id": "56ace337",
   "metadata": {
    "papermill": {
     "duration": 0.019039,
     "end_time": "2021-08-24T05:09:34.141281",
     "exception": false,
     "start_time": "2021-08-24T05:09:34.122242",
     "status": "completed"
    },
    "tags": []
   },
   "source": [
    "# Prepare the environment "
   ]
  },
  {
   "cell_type": "code",
   "execution_count": 1,
   "id": "9d8bacc0",
   "metadata": {
    "_cell_guid": "b1076dfc-b9ad-4769-8c92-a6c4dae69d19",
    "_uuid": "8f2839f25d086af736a60e9eeb907d3b93b6e0e5",
    "execution": {
     "iopub.execute_input": "2021-08-24T05:09:34.197906Z",
     "iopub.status.busy": "2021-08-24T05:09:34.197228Z",
     "iopub.status.idle": "2021-08-24T05:09:35.232110Z",
     "shell.execute_reply": "2021-08-24T05:09:35.232974Z",
     "shell.execute_reply.started": "2021-08-24T04:49:18.819909Z"
    },
    "papermill": {
     "duration": 1.072834,
     "end_time": "2021-08-24T05:09:35.233395",
     "exception": false,
     "start_time": "2021-08-24T05:09:34.160561",
     "status": "completed"
    },
    "tags": []
   },
   "outputs": [
    {
     "name": "stdout",
     "output_type": "stream",
     "text": [
      "/kaggle/input/30-days-of-ml/sample_submission.csv\n",
      "/kaggle/input/30-days-of-ml/train.csv\n",
      "/kaggle/input/30-days-of-ml/test.csv\n"
     ]
    }
   ],
   "source": [
    "import numpy as np # linear algebra\n",
    "import pandas as pd # data processing, CSV file I/O (e.g. pd.read_csv)\n",
    "\n",
    "from sklearn.metrics import mean_squared_error\n",
    "from sklearn.model_selection import train_test_split\n",
    "from sklearn.preprocessing import OrdinalEncoder\n",
    "from sklearn.preprocessing import OneHotEncoder\n",
    "from xgboost import XGBRegressor\n",
    "\n",
    "\n",
    "# Input data files are available in the read-only \"../input/\" directory\n",
    "# For example, running this (by clicking run or pressing Shift+Enter) will list all files under the input directory\n",
    "\n",
    "import os\n",
    "for dirname, _, filenames in os.walk('/kaggle/input'):\n",
    "    for filename in filenames:\n",
    "        print(os.path.join(dirname, filename))\n",
    "\n",
    "# You can write up to 20GB to the current directory (/kaggle/working/) that gets preserved as output when you create a version using \"Save & Run All\" \n",
    "# You can also write temporary files to /kaggle/temp/, but they won't be saved outside of the current session"
   ]
  },
  {
   "cell_type": "markdown",
   "id": "21441ea0",
   "metadata": {
    "papermill": {
     "duration": 0.026387,
     "end_time": "2021-08-24T05:09:35.286723",
     "exception": false,
     "start_time": "2021-08-24T05:09:35.260336",
     "status": "completed"
    },
    "tags": []
   },
   "source": [
    "# Prepare the data\n",
    "data as X_train, X_valid, y_train, y_valid, **X, y, X_test**"
   ]
  },
  {
   "cell_type": "code",
   "execution_count": 2,
   "id": "969fd099",
   "metadata": {
    "execution": {
     "iopub.execute_input": "2021-08-24T05:09:35.332337Z",
     "iopub.status.busy": "2021-08-24T05:09:35.331642Z",
     "iopub.status.idle": "2021-08-24T05:09:39.468878Z",
     "shell.execute_reply": "2021-08-24T05:09:39.469324Z",
     "shell.execute_reply.started": "2021-08-24T04:49:21.233424Z"
    },
    "papermill": {
     "duration": 4.162751,
     "end_time": "2021-08-24T05:09:39.469491",
     "exception": false,
     "start_time": "2021-08-24T05:09:35.306740",
     "status": "completed"
    },
    "tags": []
   },
   "outputs": [
    {
     "data": {
      "text/html": [
       "<div>\n",
       "<style scoped>\n",
       "    .dataframe tbody tr th:only-of-type {\n",
       "        vertical-align: middle;\n",
       "    }\n",
       "\n",
       "    .dataframe tbody tr th {\n",
       "        vertical-align: top;\n",
       "    }\n",
       "\n",
       "    .dataframe thead th {\n",
       "        text-align: right;\n",
       "    }\n",
       "</style>\n",
       "<table border=\"1\" class=\"dataframe\">\n",
       "  <thead>\n",
       "    <tr style=\"text-align: right;\">\n",
       "      <th></th>\n",
       "      <th>cat0</th>\n",
       "      <th>cat1</th>\n",
       "      <th>cat2</th>\n",
       "      <th>cat3</th>\n",
       "      <th>cat4</th>\n",
       "      <th>cat5</th>\n",
       "      <th>cat6</th>\n",
       "      <th>cat7</th>\n",
       "      <th>cat8</th>\n",
       "      <th>cat9</th>\n",
       "      <th>...</th>\n",
       "      <th>cont5</th>\n",
       "      <th>cont6</th>\n",
       "      <th>cont7</th>\n",
       "      <th>cont8</th>\n",
       "      <th>cont9</th>\n",
       "      <th>cont10</th>\n",
       "      <th>cont11</th>\n",
       "      <th>cont12</th>\n",
       "      <th>cont13</th>\n",
       "      <th>target</th>\n",
       "    </tr>\n",
       "    <tr>\n",
       "      <th>id</th>\n",
       "      <th></th>\n",
       "      <th></th>\n",
       "      <th></th>\n",
       "      <th></th>\n",
       "      <th></th>\n",
       "      <th></th>\n",
       "      <th></th>\n",
       "      <th></th>\n",
       "      <th></th>\n",
       "      <th></th>\n",
       "      <th></th>\n",
       "      <th></th>\n",
       "      <th></th>\n",
       "      <th></th>\n",
       "      <th></th>\n",
       "      <th></th>\n",
       "      <th></th>\n",
       "      <th></th>\n",
       "      <th></th>\n",
       "      <th></th>\n",
       "      <th></th>\n",
       "    </tr>\n",
       "  </thead>\n",
       "  <tbody>\n",
       "    <tr>\n",
       "      <th>1</th>\n",
       "      <td>B</td>\n",
       "      <td>B</td>\n",
       "      <td>B</td>\n",
       "      <td>C</td>\n",
       "      <td>B</td>\n",
       "      <td>B</td>\n",
       "      <td>A</td>\n",
       "      <td>E</td>\n",
       "      <td>C</td>\n",
       "      <td>N</td>\n",
       "      <td>...</td>\n",
       "      <td>0.400361</td>\n",
       "      <td>0.160266</td>\n",
       "      <td>0.310921</td>\n",
       "      <td>0.389470</td>\n",
       "      <td>0.267559</td>\n",
       "      <td>0.237281</td>\n",
       "      <td>0.377873</td>\n",
       "      <td>0.322401</td>\n",
       "      <td>0.869850</td>\n",
       "      <td>8.113634</td>\n",
       "    </tr>\n",
       "    <tr>\n",
       "      <th>2</th>\n",
       "      <td>B</td>\n",
       "      <td>B</td>\n",
       "      <td>A</td>\n",
       "      <td>A</td>\n",
       "      <td>B</td>\n",
       "      <td>D</td>\n",
       "      <td>A</td>\n",
       "      <td>F</td>\n",
       "      <td>A</td>\n",
       "      <td>O</td>\n",
       "      <td>...</td>\n",
       "      <td>0.533087</td>\n",
       "      <td>0.558922</td>\n",
       "      <td>0.516294</td>\n",
       "      <td>0.594928</td>\n",
       "      <td>0.341439</td>\n",
       "      <td>0.906013</td>\n",
       "      <td>0.921701</td>\n",
       "      <td>0.261975</td>\n",
       "      <td>0.465083</td>\n",
       "      <td>8.481233</td>\n",
       "    </tr>\n",
       "    <tr>\n",
       "      <th>3</th>\n",
       "      <td>A</td>\n",
       "      <td>A</td>\n",
       "      <td>A</td>\n",
       "      <td>C</td>\n",
       "      <td>B</td>\n",
       "      <td>D</td>\n",
       "      <td>A</td>\n",
       "      <td>D</td>\n",
       "      <td>A</td>\n",
       "      <td>F</td>\n",
       "      <td>...</td>\n",
       "      <td>0.650609</td>\n",
       "      <td>0.375348</td>\n",
       "      <td>0.902567</td>\n",
       "      <td>0.555205</td>\n",
       "      <td>0.843531</td>\n",
       "      <td>0.748809</td>\n",
       "      <td>0.620126</td>\n",
       "      <td>0.541474</td>\n",
       "      <td>0.763846</td>\n",
       "      <td>8.364351</td>\n",
       "    </tr>\n",
       "    <tr>\n",
       "      <th>4</th>\n",
       "      <td>B</td>\n",
       "      <td>B</td>\n",
       "      <td>A</td>\n",
       "      <td>C</td>\n",
       "      <td>B</td>\n",
       "      <td>D</td>\n",
       "      <td>A</td>\n",
       "      <td>E</td>\n",
       "      <td>C</td>\n",
       "      <td>K</td>\n",
       "      <td>...</td>\n",
       "      <td>0.668980</td>\n",
       "      <td>0.239061</td>\n",
       "      <td>0.732948</td>\n",
       "      <td>0.679618</td>\n",
       "      <td>0.574844</td>\n",
       "      <td>0.346010</td>\n",
       "      <td>0.714610</td>\n",
       "      <td>0.540150</td>\n",
       "      <td>0.280682</td>\n",
       "      <td>8.049253</td>\n",
       "    </tr>\n",
       "    <tr>\n",
       "      <th>6</th>\n",
       "      <td>A</td>\n",
       "      <td>A</td>\n",
       "      <td>A</td>\n",
       "      <td>C</td>\n",
       "      <td>B</td>\n",
       "      <td>D</td>\n",
       "      <td>A</td>\n",
       "      <td>E</td>\n",
       "      <td>A</td>\n",
       "      <td>N</td>\n",
       "      <td>...</td>\n",
       "      <td>0.686964</td>\n",
       "      <td>0.420667</td>\n",
       "      <td>0.648182</td>\n",
       "      <td>0.684501</td>\n",
       "      <td>0.956692</td>\n",
       "      <td>1.000773</td>\n",
       "      <td>0.776742</td>\n",
       "      <td>0.625849</td>\n",
       "      <td>0.250823</td>\n",
       "      <td>7.972260</td>\n",
       "    </tr>\n",
       "  </tbody>\n",
       "</table>\n",
       "<p>5 rows × 25 columns</p>\n",
       "</div>"
      ],
      "text/plain": [
       "   cat0 cat1 cat2 cat3 cat4 cat5 cat6 cat7 cat8 cat9  ...     cont5     cont6  \\\n",
       "id                                                    ...                       \n",
       "1     B    B    B    C    B    B    A    E    C    N  ...  0.400361  0.160266   \n",
       "2     B    B    A    A    B    D    A    F    A    O  ...  0.533087  0.558922   \n",
       "3     A    A    A    C    B    D    A    D    A    F  ...  0.650609  0.375348   \n",
       "4     B    B    A    C    B    D    A    E    C    K  ...  0.668980  0.239061   \n",
       "6     A    A    A    C    B    D    A    E    A    N  ...  0.686964  0.420667   \n",
       "\n",
       "       cont7     cont8     cont9    cont10    cont11    cont12    cont13  \\\n",
       "id                                                                         \n",
       "1   0.310921  0.389470  0.267559  0.237281  0.377873  0.322401  0.869850   \n",
       "2   0.516294  0.594928  0.341439  0.906013  0.921701  0.261975  0.465083   \n",
       "3   0.902567  0.555205  0.843531  0.748809  0.620126  0.541474  0.763846   \n",
       "4   0.732948  0.679618  0.574844  0.346010  0.714610  0.540150  0.280682   \n",
       "6   0.648182  0.684501  0.956692  1.000773  0.776742  0.625849  0.250823   \n",
       "\n",
       "      target  \n",
       "id            \n",
       "1   8.113634  \n",
       "2   8.481233  \n",
       "3   8.364351  \n",
       "4   8.049253  \n",
       "6   7.972260  \n",
       "\n",
       "[5 rows x 25 columns]"
      ]
     },
     "execution_count": 2,
     "metadata": {},
     "output_type": "execute_result"
    }
   ],
   "source": [
    "train = pd.read_csv(\"../input/30-days-of-ml/train.csv\", index_col=0)\n",
    "test = pd.read_csv(\"../input/30-days-of-ml/test.csv\", index_col=0)\n",
    "\n",
    "train.head()"
   ]
  },
  {
   "cell_type": "code",
   "execution_count": 3,
   "id": "df38e466",
   "metadata": {
    "execution": {
     "iopub.execute_input": "2021-08-24T05:09:39.514973Z",
     "iopub.status.busy": "2021-08-24T05:09:39.514261Z",
     "iopub.status.idle": "2021-08-24T05:09:39.650377Z",
     "shell.execute_reply": "2021-08-24T05:09:39.649789Z",
     "shell.execute_reply.started": "2021-08-24T04:50:04.462931Z"
    },
    "papermill": {
     "duration": 0.160636,
     "end_time": "2021-08-24T05:09:39.650533",
     "exception": false,
     "start_time": "2021-08-24T05:09:39.489897",
     "status": "completed"
    },
    "tags": []
   },
   "outputs": [],
   "source": [
    "X_test = test.copy()\n",
    "y = train['target']\n",
    "X =  train.drop(['target'], axis=1).copy()"
   ]
  },
  {
   "cell_type": "markdown",
   "id": "97057e33",
   "metadata": {
    "papermill": {
     "duration": 0.019859,
     "end_time": "2021-08-24T05:09:39.690660",
     "exception": false,
     "start_time": "2021-08-24T05:09:39.670801",
     "status": "completed"
    },
    "tags": []
   },
   "source": [
    "**Continuos Features Normlization**"
   ]
  },
  {
   "cell_type": "code",
   "execution_count": 4,
   "id": "130a4f0d",
   "metadata": {
    "execution": {
     "iopub.execute_input": "2021-08-24T05:09:39.736055Z",
     "iopub.status.busy": "2021-08-24T05:09:39.735053Z",
     "iopub.status.idle": "2021-08-24T05:09:39.737459Z",
     "shell.execute_reply": "2021-08-24T05:09:39.737946Z",
     "shell.execute_reply.started": "2021-08-24T04:43:50.783197Z"
    },
    "papermill": {
     "duration": 0.027189,
     "end_time": "2021-08-24T05:09:39.738112",
     "exception": false,
     "start_time": "2021-08-24T05:09:39.710923",
     "status": "completed"
    },
    "tags": []
   },
   "outputs": [],
   "source": [
    "def feature_norm_count(X):\n",
    "    # mormlize the count X_data feature to learn faster\n",
    "    pass"
   ]
  },
  {
   "cell_type": "code",
   "execution_count": 5,
   "id": "951a12a8",
   "metadata": {
    "execution": {
     "iopub.execute_input": "2021-08-24T05:09:39.783316Z",
     "iopub.status.busy": "2021-08-24T05:09:39.782618Z",
     "iopub.status.idle": "2021-08-24T05:09:39.786187Z",
     "shell.execute_reply": "2021-08-24T05:09:39.785620Z",
     "shell.execute_reply.started": "2021-08-24T04:43:50.790335Z"
    },
    "papermill": {
     "duration": 0.02768,
     "end_time": "2021-08-24T05:09:39.786324",
     "exception": false,
     "start_time": "2021-08-24T05:09:39.758644",
     "status": "completed"
    },
    "tags": []
   },
   "outputs": [],
   "source": [
    "# feature_norm_count(X)"
   ]
  },
  {
   "cell_type": "markdown",
   "id": "de2935bc",
   "metadata": {
    "papermill": {
     "duration": 0.020254,
     "end_time": "2021-08-24T05:09:39.827113",
     "exception": false,
     "start_time": "2021-08-24T05:09:39.806859",
     "status": "completed"
    },
    "tags": []
   },
   "source": [
    "**1 - droping the bad labels data**"
   ]
  },
  {
   "cell_type": "code",
   "execution_count": 6,
   "id": "a91e1538",
   "metadata": {
    "execution": {
     "iopub.execute_input": "2021-08-24T05:09:40.102118Z",
     "iopub.status.busy": "2021-08-24T05:09:40.012004Z",
     "iopub.status.idle": "2021-08-24T05:09:40.526724Z",
     "shell.execute_reply": "2021-08-24T05:09:40.526023Z",
     "shell.execute_reply.started": "2021-08-24T04:52:36.767895Z"
    },
    "papermill": {
     "duration": 0.679574,
     "end_time": "2021-08-24T05:09:40.526878",
     "exception": false,
     "start_time": "2021-08-24T05:09:39.847304",
     "status": "completed"
    },
    "tags": []
   },
   "outputs": [],
   "source": [
    "\n",
    "cat_cols = [col for col in X.columns if X[col].dtype == 'object']\n",
    "    \n",
    "good_cat_cols = [col for col in cat_cols if set(X_test[col]).issubset(set(X[col]))]\n",
    "bad_cat_cols = list( set(cat_cols) - set(good_cat_cols) )\n",
    "\n",
    "X = X.drop(bad_cat_cols, axis=1)\n",
    "X_test = X_test.drop(bad_cat_cols, axis=1)"
   ]
  },
  {
   "cell_type": "markdown",
   "id": "b9f10eba",
   "metadata": {
    "papermill": {
     "duration": 0.01994,
     "end_time": "2021-08-24T05:09:40.567314",
     "exception": false,
     "start_time": "2021-08-24T05:09:40.547374",
     "status": "completed"
    },
    "tags": []
   },
   "source": [
    "**2 - 1-hot encoding for the low cardinality data**"
   ]
  },
  {
   "cell_type": "code",
   "execution_count": 7,
   "id": "1444b71f",
   "metadata": {
    "execution": {
     "iopub.execute_input": "2021-08-24T05:09:40.644389Z",
     "iopub.status.busy": "2021-08-24T05:09:40.642595Z",
     "iopub.status.idle": "2021-08-24T05:09:41.129964Z",
     "shell.execute_reply": "2021-08-24T05:09:41.130422Z",
     "shell.execute_reply.started": "2021-08-24T04:52:38.520710Z"
    },
    "papermill": {
     "duration": 0.54301,
     "end_time": "2021-08-24T05:09:41.130594",
     "exception": false,
     "start_time": "2021-08-24T05:09:40.587584",
     "status": "completed"
    },
    "tags": []
   },
   "outputs": [
    {
     "name": "stdout",
     "output_type": "stream",
     "text": [
      "(300000, 24)\n"
     ]
    },
    {
     "data": {
      "text/plain": [
       "[('cat0', 2),\n",
       " ('cat1', 2),\n",
       " ('cat2', 2),\n",
       " ('cat3', 4),\n",
       " ('cat4', 4),\n",
       " ('cat5', 4),\n",
       " ('cat8', 7),\n",
       " ('cat6', 8),\n",
       " ('cat7', 8),\n",
       " ('cat9', 15)]"
      ]
     },
     "execution_count": 7,
     "metadata": {},
     "output_type": "execute_result"
    }
   ],
   "source": [
    "#Investing the training data\n",
    "# Get number of unique entries in each column with categorical data\n",
    "object_nunique = list(map(lambda col: X[col].nunique(), cat_cols))\n",
    "d = dict(zip(cat_cols, object_nunique))\n",
    "# print X shape\n",
    "print(X.shape)\n",
    "# Print number of unique entries by column, in ascending order\n",
    "sorted(d.items(), key=lambda x: x[1])\n"
   ]
  },
  {
   "cell_type": "code",
   "execution_count": 8,
   "id": "f1091f50",
   "metadata": {
    "execution": {
     "iopub.execute_input": "2021-08-24T05:09:41.178806Z",
     "iopub.status.busy": "2021-08-24T05:09:41.178141Z",
     "iopub.status.idle": "2021-08-24T05:09:41.181517Z",
     "shell.execute_reply": "2021-08-24T05:09:41.180901Z",
     "shell.execute_reply.started": "2021-08-24T04:52:42.013577Z"
    },
    "papermill": {
     "duration": 0.030197,
     "end_time": "2021-08-24T05:09:41.181650",
     "exception": false,
     "start_time": "2021-08-24T05:09:41.151453",
     "status": "completed"
    },
    "tags": []
   },
   "outputs": [
    {
     "name": "stdout",
     "output_type": "stream",
     "text": [
      "new entries to add: 9.9 M\n"
     ]
    }
   ],
   "source": [
    "d.pop('cat9')\n",
    "d.pop('cat8')\n",
    "un = sum([item[1] for item in d.items() ])\n",
    "new = (un-1)*X.shape[0]  / 1000000\n",
    "print(\"new entries to add:\",new,\"M\")"
   ]
  },
  {
   "cell_type": "markdown",
   "id": "d658bb4e",
   "metadata": {
    "papermill": {
     "duration": 0.020853,
     "end_time": "2021-08-24T05:09:41.223709",
     "exception": false,
     "start_time": "2021-08-24T05:09:41.202856",
     "status": "completed"
    },
    "tags": []
   },
   "source": [
    "1-hot"
   ]
  },
  {
   "cell_type": "code",
   "execution_count": 9,
   "id": "288e6821",
   "metadata": {
    "execution": {
     "iopub.execute_input": "2021-08-24T05:09:41.270207Z",
     "iopub.status.busy": "2021-08-24T05:09:41.269544Z",
     "iopub.status.idle": "2021-08-24T05:09:43.748564Z",
     "shell.execute_reply": "2021-08-24T05:09:43.748004Z",
     "shell.execute_reply.started": "2021-08-24T04:52:43.665131Z"
    },
    "papermill": {
     "duration": 2.503604,
     "end_time": "2021-08-24T05:09:43.748713",
     "exception": false,
     "start_time": "2021-08-24T05:09:41.245109",
     "status": "completed"
    },
    "tags": []
   },
   "outputs": [],
   "source": [
    "cat_cols = [col for col in X.columns if X[col].dtype == 'object']\n",
    "low_cardinality_cols = [col for col in cat_cols if X[col].nunique() < 8]\n",
    "OH_encoder = OneHotEncoder(handle_unknown='ignore', sparse=False)\n",
    "\n",
    "OH_cols_X = pd.DataFrame(OH_encoder.fit_transform(X[low_cardinality_cols]))\n",
    "OH_cols_X_test = pd.DataFrame(OH_encoder.fit_transform(X_test[low_cardinality_cols]))\n",
    "\n",
    "# One-hot encoding removed index; put it back\n",
    "OH_cols_X.index = X.index\n",
    "OH_cols_X_test.index = X_test.index\n",
    "\n",
    "# Remove categorical columns (will replace with one-hot encoding)\n",
    "num_X = X.drop(low_cardinality_cols, axis=1)\n",
    "num_X_test = X_test.drop(low_cardinality_cols, axis=1)\n",
    "\n",
    "# Add one-hot encoded columns to numerical features\n",
    "X = pd.concat([num_X, OH_cols_X], axis=1)\n",
    "X_test = pd.concat([num_X_test, OH_cols_X_test], axis=1)"
   ]
  },
  {
   "cell_type": "markdown",
   "id": "9fca6df3",
   "metadata": {
    "papermill": {
     "duration": 0.021077,
     "end_time": "2021-08-24T05:09:43.792227",
     "exception": false,
     "start_time": "2021-08-24T05:09:43.771150",
     "status": "completed"
    },
    "tags": []
   },
   "source": [
    "**2 - oridnal encoding for the high cardinality data**"
   ]
  },
  {
   "cell_type": "code",
   "execution_count": 10,
   "id": "ccd618ba",
   "metadata": {
    "execution": {
     "iopub.execute_input": "2021-08-24T05:09:43.843016Z",
     "iopub.status.busy": "2021-08-24T05:09:43.842295Z",
     "iopub.status.idle": "2021-08-24T05:09:45.057232Z",
     "shell.execute_reply": "2021-08-24T05:09:45.057714Z",
     "shell.execute_reply.started": "2021-08-24T04:52:46.214344Z"
    },
    "papermill": {
     "duration": 1.244311,
     "end_time": "2021-08-24T05:09:45.057922",
     "exception": false,
     "start_time": "2021-08-24T05:09:43.813611",
     "status": "completed"
    },
    "tags": []
   },
   "outputs": [],
   "source": [
    "cat_cols = [col for col in X.columns if X[col].dtype == 'object']\n",
    "ord_encoder = OrdinalEncoder()\n",
    "X[cat_cols] = ord_encoder.fit_transform(X[cat_cols])\n",
    "X_test[cat_cols] = ord_encoder.fit_transform(X_test[cat_cols])"
   ]
  },
  {
   "cell_type": "markdown",
   "id": "2b8ea143",
   "metadata": {
    "papermill": {
     "duration": 0.021815,
     "end_time": "2021-08-24T05:09:45.102357",
     "exception": false,
     "start_time": "2021-08-24T05:09:45.080542",
     "status": "completed"
    },
    "tags": []
   },
   "source": [
    "**splitting the data**\n",
    "data as X_train, X_valid, y_train, y_valid, **X, y, X_test**"
   ]
  },
  {
   "cell_type": "code",
   "execution_count": 11,
   "id": "acc67bfd",
   "metadata": {
    "execution": {
     "iopub.execute_input": "2021-08-24T05:09:45.151645Z",
     "iopub.status.busy": "2021-08-24T05:09:45.150734Z",
     "iopub.status.idle": "2021-08-24T05:09:45.370999Z",
     "shell.execute_reply": "2021-08-24T05:09:45.370360Z",
     "shell.execute_reply.started": "2021-08-24T04:52:48.311615Z"
    },
    "papermill": {
     "duration": 0.246904,
     "end_time": "2021-08-24T05:09:45.371140",
     "exception": false,
     "start_time": "2021-08-24T05:09:45.124236",
     "status": "completed"
    },
    "tags": []
   },
   "outputs": [],
   "source": [
    "# splitting the data\n",
    "X_train, X_valid, y_train, y_valid = train_test_split(X, y, random_state=1) "
   ]
  },
  {
   "cell_type": "markdown",
   "id": "1830064e",
   "metadata": {
    "papermill": {
     "duration": 0.020891,
     "end_time": "2021-08-24T05:09:45.413428",
     "exception": false,
     "start_time": "2021-08-24T05:09:45.392537",
     "status": "completed"
    },
    "tags": []
   },
   "source": [
    "# Features Eng."
   ]
  },
  {
   "cell_type": "markdown",
   "id": "f675beef",
   "metadata": {
    "papermill": {
     "duration": 0.020884,
     "end_time": "2021-08-24T05:09:45.455498",
     "exception": false,
     "start_time": "2021-08-24T05:09:45.434614",
     "status": "completed"
    },
    "tags": []
   },
   "source": [
    "# Train"
   ]
  },
  {
   "cell_type": "code",
   "execution_count": 12,
   "id": "28345c15",
   "metadata": {
    "execution": {
     "iopub.execute_input": "2021-08-24T05:09:45.506077Z",
     "iopub.status.busy": "2021-08-24T05:09:45.505052Z",
     "iopub.status.idle": "2021-08-24T05:13:09.615408Z",
     "shell.execute_reply": "2021-08-24T05:13:09.615929Z",
     "shell.execute_reply.started": "2021-08-24T04:52:51.077511Z"
    },
    "papermill": {
     "duration": 204.139317,
     "end_time": "2021-08-24T05:13:09.616110",
     "exception": false,
     "start_time": "2021-08-24T05:09:45.476793",
     "status": "completed"
    },
    "tags": []
   },
   "outputs": [
    {
     "data": {
      "text/plain": [
       "XGBRegressor(base_score=0.5, booster='gbtree', colsample_bylevel=1,\n",
       "             colsample_bynode=1, colsample_bytree=1, gamma=0, gpu_id=-1,\n",
       "             importance_type='gain', interaction_constraints='',\n",
       "             learning_rate=0.05, max_delta_step=0, max_depth=6,\n",
       "             min_child_weight=1, missing=nan, monotone_constraints='()',\n",
       "             n_estimators=1000, n_jobs=4, num_parallel_tree=1, random_state=0,\n",
       "             reg_alpha=0, reg_lambda=1, scale_pos_weight=1, subsample=1,\n",
       "             tree_method='exact', validate_parameters=1, verbosity=None)"
      ]
     },
     "execution_count": 12,
     "metadata": {},
     "output_type": "execute_result"
    }
   ],
   "source": [
    "# Define the model\n",
    "model = XGBRegressor(random_state = 0, n_estimators = 1000, learning_rate = 0.05, n_jobs=4) # Your code here\n",
    "\n",
    "# Fit the model\n",
    "model.fit(X_train, y_train,\n",
    "                early_stopping_rounds = 5,\n",
    "                eval_set=[(X_valid, y_valid)],\n",
    "                verbose = False)"
   ]
  },
  {
   "cell_type": "markdown",
   "id": "e20fcf8a",
   "metadata": {
    "papermill": {
     "duration": 0.021355,
     "end_time": "2021-08-24T05:13:09.659157",
     "exception": false,
     "start_time": "2021-08-24T05:13:09.637802",
     "status": "completed"
    },
    "tags": []
   },
   "source": [
    "# validation\n"
   ]
  },
  {
   "cell_type": "code",
   "execution_count": 13,
   "id": "8cc04206",
   "metadata": {
    "execution": {
     "iopub.execute_input": "2021-08-24T05:13:09.711800Z",
     "iopub.status.busy": "2021-08-24T05:13:09.706719Z",
     "iopub.status.idle": "2021-08-24T05:13:10.016635Z",
     "shell.execute_reply": "2021-08-24T05:13:10.017791Z",
     "shell.execute_reply.started": "2021-08-24T04:56:19.751160Z"
    },
    "papermill": {
     "duration": 0.337449,
     "end_time": "2021-08-24T05:13:10.018047",
     "exception": false,
     "start_time": "2021-08-24T05:13:09.680598",
     "status": "completed"
    },
    "tags": []
   },
   "outputs": [
    {
     "name": "stdout",
     "output_type": "stream",
     "text": [
      "0.5184426927986195\n"
     ]
    }
   ],
   "source": [
    "# RMSE-based(no validatio n)\n",
    "y_pred = model.predict(X_valid)\n",
    "rmse = mean_squared_error(y_pred, y_valid)\n",
    "print(rmse)"
   ]
  },
  {
   "cell_type": "markdown",
   "id": "39fcfdc1",
   "metadata": {
    "papermill": {
     "duration": 0.021775,
     "end_time": "2021-08-24T05:13:10.062381",
     "exception": false,
     "start_time": "2021-08-24T05:13:10.040606",
     "status": "completed"
    },
    "tags": []
   },
   "source": [
    "# predictions "
   ]
  },
  {
   "cell_type": "code",
   "execution_count": 14,
   "id": "43a9b8bb",
   "metadata": {
    "execution": {
     "iopub.execute_input": "2021-08-24T05:13:10.113435Z",
     "iopub.status.busy": "2021-08-24T05:13:10.112738Z",
     "iopub.status.idle": "2021-08-24T05:24:49.445440Z",
     "shell.execute_reply": "2021-08-24T05:24:49.446476Z",
     "shell.execute_reply.started": "2021-08-24T04:56:24.558762Z"
    },
    "papermill": {
     "duration": 699.362221,
     "end_time": "2021-08-24T05:24:49.446688",
     "exception": false,
     "start_time": "2021-08-24T05:13:10.084467",
     "status": "completed"
    },
    "tags": []
   },
   "outputs": [],
   "source": [
    "model.fit(X, y,\n",
    "          early_stopping_rounds = 5,\n",
    "          eval_set=[(X_valid, y_valid)],\n",
    "          verbose = False)\n",
    "predictions = model.predict(X_test)"
   ]
  },
  {
   "cell_type": "markdown",
   "id": "7fbdb51a",
   "metadata": {
    "papermill": {
     "duration": 0.021644,
     "end_time": "2021-08-24T05:24:49.492149",
     "exception": false,
     "start_time": "2021-08-24T05:24:49.470505",
     "status": "completed"
    },
    "tags": []
   },
   "source": [
    "# Submit"
   ]
  },
  {
   "cell_type": "code",
   "execution_count": 15,
   "id": "3913e642",
   "metadata": {
    "execution": {
     "iopub.execute_input": "2021-08-24T05:24:49.541792Z",
     "iopub.status.busy": "2021-08-24T05:24:49.541134Z",
     "iopub.status.idle": "2021-08-24T05:24:50.129360Z",
     "shell.execute_reply": "2021-08-24T05:24:50.128658Z",
     "shell.execute_reply.started": "2021-08-24T04:56:26.849483Z"
    },
    "papermill": {
     "duration": 0.615207,
     "end_time": "2021-08-24T05:24:50.129495",
     "exception": false,
     "start_time": "2021-08-24T05:24:49.514288",
     "status": "completed"
    },
    "tags": []
   },
   "outputs": [],
   "source": [
    "\n",
    "# Save the predictions to a CSV file\n",
    "output = pd.DataFrame({'Id': X_test.index,\n",
    "                       'target': predictions})\n",
    "output.to_csv('submission.csv', index=False)"
   ]
  }
 ],
 "metadata": {
  "kernelspec": {
   "display_name": "Python 3",
   "language": "python",
   "name": "python3"
  },
  "language_info": {
   "codemirror_mode": {
    "name": "ipython",
    "version": 3
   },
   "file_extension": ".py",
   "mimetype": "text/x-python",
   "name": "python",
   "nbconvert_exporter": "python",
   "pygments_lexer": "ipython3",
   "version": "3.7.10"
  },
  "papermill": {
   "default_parameters": {},
   "duration": 926.05751,
   "end_time": "2021-08-24T05:24:51.589091",
   "environment_variables": {},
   "exception": null,
   "input_path": "__notebook__.ipynb",
   "output_path": "__notebook__.ipynb",
   "parameters": {},
   "start_time": "2021-08-24T05:09:25.531581",
   "version": "2.3.3"
  }
 },
 "nbformat": 4,
 "nbformat_minor": 5
}

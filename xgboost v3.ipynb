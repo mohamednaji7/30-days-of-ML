{
 "cells": [
  {
   "cell_type": "markdown",
   "id": "f335d2c0",
   "metadata": {
    "papermill": {
     "duration": 0.008972,
     "end_time": "2021-08-31T22:19:23.495660",
     "exception": false,
     "start_time": "2021-08-31T22:19:23.486688",
     "status": "completed"
    },
    "tags": []
   },
   "source": [
    "# XGB(one of the GLM family with Gradient Imp.): "
   ]
  },
  {
   "cell_type": "markdown",
   "id": "426d18e9",
   "metadata": {
    "papermill": {
     "duration": 0.007842,
     "end_time": "2021-08-31T22:19:23.511992",
     "exception": false,
     "start_time": "2021-08-31T22:19:23.504150",
     "status": "completed"
    },
    "tags": []
   },
   "source": [
    "# Prepare the environment "
   ]
  },
  {
   "cell_type": "code",
   "execution_count": 1,
   "id": "2a154db3",
   "metadata": {
    "_cell_guid": "b1076dfc-b9ad-4769-8c92-a6c4dae69d19",
    "_uuid": "8f2839f25d086af736a60e9eeb907d3b93b6e0e5",
    "execution": {
     "iopub.execute_input": "2021-08-31T22:19:23.532039Z",
     "iopub.status.busy": "2021-08-31T22:19:23.530934Z",
     "iopub.status.idle": "2021-08-31T22:19:26.370624Z",
     "shell.execute_reply": "2021-08-31T22:19:26.369994Z",
     "shell.execute_reply.started": "2021-08-31T21:32:45.927091Z"
    },
    "papermill": {
     "duration": 2.850891,
     "end_time": "2021-08-31T22:19:26.370784",
     "exception": false,
     "start_time": "2021-08-31T22:19:23.519893",
     "status": "completed"
    },
    "tags": []
   },
   "outputs": [
    {
     "data": {
      "text/html": [
       "<style type='text/css'>\n",
       ".datatable table.frame { margin-bottom: 0; }\n",
       ".datatable table.frame thead { border-bottom: none; }\n",
       ".datatable table.frame tr.coltypes td {  color: #FFFFFF;  line-height: 6px;  padding: 0 0.5em;}\n",
       ".datatable .bool    { background: #DDDD99; }\n",
       ".datatable .object  { background: #565656; }\n",
       ".datatable .int     { background: #5D9E5D; }\n",
       ".datatable .float   { background: #4040CC; }\n",
       ".datatable .str     { background: #CC4040; }\n",
       ".datatable .time    { background: #40CC40; }\n",
       ".datatable .row_index {  background: var(--jp-border-color3);  border-right: 1px solid var(--jp-border-color0);  color: var(--jp-ui-font-color3);  font-size: 9px;}\n",
       ".datatable .frame tbody td { text-align: left; }\n",
       ".datatable .frame tr.coltypes .row_index {  background: var(--jp-border-color0);}\n",
       ".datatable th:nth-child(2) { padding-left: 12px; }\n",
       ".datatable .hellipsis {  color: var(--jp-cell-editor-border-color);}\n",
       ".datatable .vellipsis {  background: var(--jp-layout-color0);  color: var(--jp-cell-editor-border-color);}\n",
       ".datatable .na {  color: var(--jp-cell-editor-border-color);  font-size: 80%;}\n",
       ".datatable .sp {  opacity: 0.25;}\n",
       ".datatable .footer { font-size: 9px; }\n",
       ".datatable .frame_dimensions {  background: var(--jp-border-color3);  border-top: 1px solid var(--jp-border-color0);  color: var(--jp-ui-font-color3);  display: inline-block;  opacity: 0.6;  padding: 1px 10px 1px 5px;}\n",
       "</style>\n"
      ],
      "text/plain": [
       "<IPython.core.display.HTML object>"
      ]
     },
     "metadata": {},
     "output_type": "display_data"
    },
    {
     "name": "stdout",
     "output_type": "stream",
     "text": [
      "/kaggle/input/30-days-of-ml/sample_submission.csv\n",
      "/kaggle/input/30-days-of-ml/train.csv\n",
      "/kaggle/input/30-days-of-ml/test.csv\n"
     ]
    }
   ],
   "source": [
    "import numpy as np # linear algebra\n",
    "import pandas as pd # data processing, CSV file I/O (e.g. pd.read_csv)\n",
    "\n",
    "from sklearn.cluster import KMeans\n",
    "from sklearn.experimental import enable_hist_gradient_boosting\n",
    "from category_encoders import MEstimateEncoder\n",
    "from sklearn.decomposition import PCA\n",
    "from sklearn.metrics import mean_squared_error\n",
    "from sklearn.model_selection import train_test_split\n",
    "from sklearn.preprocessing import OrdinalEncoder\n",
    "from sklearn.cluster import KMeans\n",
    "from sklearn.preprocessing import LabelEncoder\n",
    "from sklearn.model_selection import KFold\n",
    "from sklearn.preprocessing import OneHotEncoder\n",
    "from xgboost import XGBRegressor\n",
    "import matplotlib.pyplot as plt\n",
    "from mlxtend.regressor import StackingCVRegressor\n",
    "from sklearn.linear_model import ElasticNetCV, LassoCV, RidgeCV\n",
    "from sklearn.ensemble import RandomForestRegressor, GradientBoostingRegressor\n",
    "from sklearn import preprocessing\n",
    "from sklearn.linear_model import LinearRegression\n",
    "import lightgbm as lgbm\n",
    "import seaborn as sns\n",
    "from sklearn.model_selection import cross_val_score\n",
    "from sklearn.model_selection import StratifiedKFold\n",
    "\n",
    "\n",
    "import os\n",
    "for dirname, _, filenames in os.walk('/kaggle/input'):\n",
    "    for filename in filenames:\n",
    "        print(os.path.join(dirname, filename))\n"
   ]
  },
  {
   "cell_type": "code",
   "execution_count": 2,
   "id": "b2471130",
   "metadata": {
    "execution": {
     "iopub.execute_input": "2021-08-31T22:19:26.397061Z",
     "iopub.status.busy": "2021-08-31T22:19:26.396448Z",
     "iopub.status.idle": "2021-08-31T22:19:54.284787Z",
     "shell.execute_reply": "2021-08-31T22:19:54.285371Z",
     "shell.execute_reply.started": "2021-08-31T21:32:49.290101Z"
    },
    "papermill": {
     "duration": 27.9053,
     "end_time": "2021-08-31T22:19:54.285578",
     "exception": false,
     "start_time": "2021-08-31T22:19:26.380278",
     "status": "completed"
    },
    "tags": []
   },
   "outputs": [
    {
     "name": "stderr",
     "output_type": "stream",
     "text": [
      "/opt/conda/lib/python3.7/site-packages/category_encoders/utils.py:21: FutureWarning: is_categorical is deprecated and will be removed in a future version.  Use is_categorical_dtype instead\n",
      "  elif pd.api.types.is_categorical(cols):\n"
     ]
    }
   ],
   "source": [
    "train = pd.read_csv(\"../input/30-days-of-ml/train.csv\", index_col=0)\n",
    "test = pd.read_csv(\"../input/30-days-of-ml/test.csv\", index_col=0)\n",
    "X_test = test.copy()\n",
    "y = train['target']\n",
    "X =  train.drop(['target'], axis=1).copy()\n",
    "\n",
    "\n",
    "\n",
    "cat_cols = [col for col in X.columns if X[col].dtype == 'object']\n",
    "encoder = MEstimateEncoder(cols=cat_cols, m=5)\n",
    "X = encoder.fit_transform(X, y)\n",
    "X_test = encoder.transform(X_test)\n",
    "\n",
    "kmeans = KMeans(n_clusters=7)\n",
    "Cluster = kmeans.fit_predict(X)\n",
    "testCluster = kmeans.fit_predict(X_test)\n",
    "X[\"Cluster\"] = Cluster\n",
    "X_test[\"Cluster\"] = testCluster\n",
    "\n",
    "\n",
    "X_data = X; \n",
    "X_test_data  = X_test;\n",
    "y_data = y; \n",
    "del X\n",
    "del y\n",
    "del X_test"
   ]
  },
  {
   "cell_type": "code",
   "execution_count": 3,
   "id": "bd973b51",
   "metadata": {
    "execution": {
     "iopub.execute_input": "2021-08-31T22:19:54.316983Z",
     "iopub.status.busy": "2021-08-31T22:19:54.316298Z",
     "iopub.status.idle": "2021-08-31T22:19:54.320838Z",
     "shell.execute_reply": "2021-08-31T22:19:54.321301Z",
     "shell.execute_reply.started": "2021-08-31T21:33:17.068809Z"
    },
    "papermill": {
     "duration": 0.024825,
     "end_time": "2021-08-31T22:19:54.321498",
     "exception": false,
     "start_time": "2021-08-31T22:19:54.296673",
     "status": "completed"
    },
    "tags": []
   },
   "outputs": [
    {
     "data": {
      "text/plain": [
       "id\n",
       "1         1\n",
       "2         5\n",
       "3         2\n",
       "4         5\n",
       "6         2\n",
       "         ..\n",
       "499993    2\n",
       "499996    1\n",
       "499997    5\n",
       "499998    4\n",
       "499999    2\n",
       "Name: Cluster, Length: 300000, dtype: int32"
      ]
     },
     "execution_count": 3,
     "metadata": {},
     "output_type": "execute_result"
    }
   ],
   "source": [
    "X_data[\"Cluster\"]"
   ]
  },
  {
   "cell_type": "markdown",
   "id": "ec19f589",
   "metadata": {
    "papermill": {
     "duration": 0.011207,
     "end_time": "2021-08-31T22:19:54.343896",
     "exception": false,
     "start_time": "2021-08-31T22:19:54.332689",
     "status": "completed"
    },
    "tags": []
   },
   "source": [
    "# Train"
   ]
  },
  {
   "cell_type": "code",
   "execution_count": 4,
   "id": "8439b05f",
   "metadata": {
    "execution": {
     "iopub.execute_input": "2021-08-31T22:19:54.379996Z",
     "iopub.status.busy": "2021-08-31T22:19:54.379278Z",
     "iopub.status.idle": "2021-08-31T22:39:04.775377Z",
     "shell.execute_reply": "2021-08-31T22:39:04.775950Z",
     "shell.execute_reply.started": "2021-08-31T21:35:22.624785Z"
    },
    "papermill": {
     "duration": 1150.421069,
     "end_time": "2021-08-31T22:39:04.776284",
     "exception": false,
     "start_time": "2021-08-31T22:19:54.355215",
     "status": "completed"
    },
    "tags": []
   },
   "outputs": [
    {
     "name": "stdout",
     "output_type": "stream",
     "text": [
      "[0.4857849424540662, 0.4823896693172689, 0.4889433600199643, 0.4792971117613113, 0.4878991111132257, 0.48873476725460063, 0.49033053381754943]\n",
      "[0.5142150575459338, 0.5176103306827311, 0.5110566399800357, 0.5207028882386887, 0.5121008888867743, 0.5112652327453994, 0.5096694661824506]\n",
      "validation rmse: 0.5138029291802876 STD: 0.0037079076903382387\n"
     ]
    }
   ],
   "source": [
    "X = X_data.copy()\n",
    "y = y_data.copy()\n",
    "X_test = X_test_data.copy()\n",
    "\n",
    "best_para = {'learning_rate': 0.09739156815144875, 'reg_lambda': 1.9383336479859923e-05,\n",
    "             'reg_alpha': 24.134445292436887, 'subsample': 0.9936134241222736,\n",
    "             'colsample_bytree': 0.16484879725660215, 'max_depth': 5}\n",
    "\n",
    "# Define the model\n",
    "model = XGBRegressor(random_state = 0, n_estimators = 1500, n_jobs =4, **best_para)\n",
    "\n",
    "rmses = []\n",
    "model1_pred = np.zeros(train.shape[0])\n",
    "pred_kf = []\n",
    "n_folding = 7\n",
    "\n",
    "kf = KFold(n_splits = n_folding, random_state=0, shuffle=True)\n",
    "\n",
    "for ids in kf.split(X, y):\n",
    "    train_ids, valid_ids = ids[0], ids[1]\n",
    "    \n",
    "    X_train = X.iloc[train_ids]\n",
    "    y_train = y.iloc[train_ids]\n",
    "    X_valid = X.iloc[valid_ids]\n",
    "    y_valid = y.iloc[valid_ids]\n",
    " \n",
    "    # Fit the model\n",
    "    model.fit(X_train, y_train, early_stopping_rounds = 200, eval_set=[(X_valid, y_valid)], verbose = False)\n",
    "    \n",
    "    #validation\n",
    "    model1_pred[valid_ids] = model.predict(X_valid)\n",
    "    \n",
    "    y_pred = model1_pred[valid_ids]\n",
    "    \n",
    "    rmse = mean_squared_error(y_pred, y_valid)\n",
    "    \n",
    "    rmses.append(rmse)\n",
    "    \n",
    "    #predictions\n",
    "    pred = model.predict(X_test)\n",
    "    pred_kf.append(pred)   \n",
    "\n",
    "    \n",
    "\n",
    "scores = [1 - rmse for rmse in rmses] \n",
    "print(scores)\n",
    "model1_test_pred = [pred_kf[i]*scores[i]/sum(scores) for i in range(n_folding)]\n",
    "model1_test_pred = np.sum(model1_test_pred, axis=0)\n",
    "\n",
    "print(rmses)\n",
    "print(\"validation rmse:\", np.mean(rmses), \"STD:\", np.std(rmses))\n",
    "\n"
   ]
  },
  {
   "cell_type": "code",
   "execution_count": 5,
   "id": "9e6ebd8f",
   "metadata": {
    "execution": {
     "iopub.execute_input": "2021-08-31T22:39:04.801486Z",
     "iopub.status.busy": "2021-08-31T22:39:04.800840Z",
     "iopub.status.idle": "2021-08-31T22:39:04.803220Z",
     "shell.execute_reply": "2021-08-31T22:39:04.803744Z"
    },
    "papermill": {
     "duration": 0.017562,
     "end_time": "2021-08-31T22:39:04.803911",
     "exception": false,
     "start_time": "2021-08-31T22:39:04.786349",
     "status": "completed"
    },
    "tags": []
   },
   "outputs": [],
   "source": [
    "predictions = model1_test_pred"
   ]
  },
  {
   "cell_type": "markdown",
   "id": "d8cca9b3",
   "metadata": {
    "papermill": {
     "duration": 0.009652,
     "end_time": "2021-08-31T22:39:04.823542",
     "exception": false,
     "start_time": "2021-08-31T22:39:04.813890",
     "status": "completed"
    },
    "tags": []
   },
   "source": [
    "# Submit"
   ]
  },
  {
   "cell_type": "code",
   "execution_count": 6,
   "id": "cacc5dad",
   "metadata": {
    "execution": {
     "iopub.execute_input": "2021-08-31T22:39:04.848945Z",
     "iopub.status.busy": "2021-08-31T22:39:04.848330Z",
     "iopub.status.idle": "2021-08-31T22:39:05.442241Z",
     "shell.execute_reply": "2021-08-31T22:39:05.442780Z"
    },
    "papermill": {
     "duration": 0.609719,
     "end_time": "2021-08-31T22:39:05.442971",
     "exception": false,
     "start_time": "2021-08-31T22:39:04.833252",
     "status": "completed"
    },
    "tags": []
   },
   "outputs": [
    {
     "data": {
      "text/html": [
       "<div>\n",
       "<style scoped>\n",
       "    .dataframe tbody tr th:only-of-type {\n",
       "        vertical-align: middle;\n",
       "    }\n",
       "\n",
       "    .dataframe tbody tr th {\n",
       "        vertical-align: top;\n",
       "    }\n",
       "\n",
       "    .dataframe thead th {\n",
       "        text-align: right;\n",
       "    }\n",
       "</style>\n",
       "<table border=\"1\" class=\"dataframe\">\n",
       "  <thead>\n",
       "    <tr style=\"text-align: right;\">\n",
       "      <th></th>\n",
       "      <th>Id</th>\n",
       "      <th>target</th>\n",
       "    </tr>\n",
       "  </thead>\n",
       "  <tbody>\n",
       "    <tr>\n",
       "      <th>0</th>\n",
       "      <td>0</td>\n",
       "      <td>8.083234</td>\n",
       "    </tr>\n",
       "    <tr>\n",
       "      <th>1</th>\n",
       "      <td>5</td>\n",
       "      <td>8.391595</td>\n",
       "    </tr>\n",
       "    <tr>\n",
       "      <th>2</th>\n",
       "      <td>15</td>\n",
       "      <td>8.419264</td>\n",
       "    </tr>\n",
       "    <tr>\n",
       "      <th>3</th>\n",
       "      <td>16</td>\n",
       "      <td>8.507890</td>\n",
       "    </tr>\n",
       "    <tr>\n",
       "      <th>4</th>\n",
       "      <td>17</td>\n",
       "      <td>8.110280</td>\n",
       "    </tr>\n",
       "    <tr>\n",
       "      <th>...</th>\n",
       "      <td>...</td>\n",
       "      <td>...</td>\n",
       "    </tr>\n",
       "    <tr>\n",
       "      <th>199995</th>\n",
       "      <td>499987</td>\n",
       "      <td>8.062738</td>\n",
       "    </tr>\n",
       "    <tr>\n",
       "      <th>199996</th>\n",
       "      <td>499990</td>\n",
       "      <td>8.439714</td>\n",
       "    </tr>\n",
       "    <tr>\n",
       "      <th>199997</th>\n",
       "      <td>499991</td>\n",
       "      <td>8.520163</td>\n",
       "    </tr>\n",
       "    <tr>\n",
       "      <th>199998</th>\n",
       "      <td>499994</td>\n",
       "      <td>8.160011</td>\n",
       "    </tr>\n",
       "    <tr>\n",
       "      <th>199999</th>\n",
       "      <td>499995</td>\n",
       "      <td>7.934675</td>\n",
       "    </tr>\n",
       "  </tbody>\n",
       "</table>\n",
       "<p>200000 rows × 2 columns</p>\n",
       "</div>"
      ],
      "text/plain": [
       "            Id    target\n",
       "0            0  8.083234\n",
       "1            5  8.391595\n",
       "2           15  8.419264\n",
       "3           16  8.507890\n",
       "4           17  8.110280\n",
       "...        ...       ...\n",
       "199995  499987  8.062738\n",
       "199996  499990  8.439714\n",
       "199997  499991  8.520163\n",
       "199998  499994  8.160011\n",
       "199999  499995  7.934675\n",
       "\n",
       "[200000 rows x 2 columns]"
      ]
     },
     "execution_count": 6,
     "metadata": {},
     "output_type": "execute_result"
    }
   ],
   "source": [
    "# Save the predictions to a CSV file\n",
    "output = pd.DataFrame({'Id': X_test.index,\n",
    "                       'target': predictions})\n",
    "output.to_csv('submission.csv', index=False)\n",
    "output"
   ]
  }
 ],
 "metadata": {
  "kernelspec": {
   "display_name": "Python 3",
   "language": "python",
   "name": "python3"
  },
  "language_info": {
   "codemirror_mode": {
    "name": "ipython",
    "version": 3
   },
   "file_extension": ".py",
   "mimetype": "text/x-python",
   "name": "python",
   "nbconvert_exporter": "python",
   "pygments_lexer": "ipython3",
   "version": "3.7.10"
  },
  "papermill": {
   "default_parameters": {},
   "duration": 1190.843027,
   "end_time": "2021-08-31T22:39:06.365667",
   "environment_variables": {},
   "exception": null,
   "input_path": "__notebook__.ipynb",
   "output_path": "__notebook__.ipynb",
   "parameters": {},
   "start_time": "2021-08-31T22:19:15.522640",
   "version": "2.3.3"
  }
 },
 "nbformat": 4,
 "nbformat_minor": 5
}
